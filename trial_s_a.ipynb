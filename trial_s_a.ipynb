{
 "cells": [
  {
   "cell_type": "code",
   "execution_count": 1,
   "metadata": {},
   "outputs": [
    {
     "name": "stderr",
     "output_type": "stream",
     "text": [
      "[nltk_data] Downloading package vader_lexicon to\n",
      "[nltk_data]     C:\\Users\\scpalmer\\AppData\\Roaming\\nltk_data...\n",
      "[nltk_data]   Package vader_lexicon is already up-to-date!\n"
     ]
    },
    {
     "data": {
      "text/plain": [
       "True"
      ]
     },
     "execution_count": 1,
     "metadata": {},
     "output_type": "execute_result"
    }
   ],
   "source": [
    "import nltk\n",
    "from nltk import classify\n",
    "from nltk.sentiment.vader import SentimentIntensityAnalyzer as SIA\n",
    "import re, numpy, textwrap\n",
    "import pandas as pd\n",
    "nltk.download('vader_lexicon')"
   ]
  },
  {
   "cell_type": "code",
   "execution_count": 2,
   "metadata": {},
   "outputs": [],
   "source": [
    "results = []\n",
    "texts = []"
   ]
  },
  {
   "cell_type": "code",
   "execution_count": 3,
   "metadata": {},
   "outputs": [],
   "source": [
    "with open('User_reviews.txt','r',encoding ='utf8') as rf:\n",
    "    User_reviews = rf.read()\n",
    "    \n",
    "User_ratings_df = pd.read_csv('User_ratings_dataframe.txt')   \n",
    "User_ratings_df = User_ratings_df.drop(columns = 'Unnamed: 0')"
   ]
  },
  {
   "cell_type": "code",
   "execution_count": 4,
   "metadata": {},
   "outputs": [],
   "source": [
    "All_user_reviews_for_movie = re.split(r\"'(tt\\d{7})':\", User_reviews)[1:]\n",
    "\n",
    "for i in range(0, len(All_user_reviews_for_movie), 2):\n",
    "    Ind_user_reviews = re.split(r\"\\W\\W(\\d+):\\s\\W\",All_user_reviews_for_movie[i+1])[1:]\n",
    "    if Ind_user_reviews != []:\n",
    "        for j in range(0,len(Ind_user_reviews),2):\n",
    "            review_contents = Ind_user_reviews[j+1]\n",
    "            texts.append(textwrap.fill(review_contents))"
   ]
  },
  {
   "cell_type": "code",
   "execution_count": 5,
   "metadata": {},
   "outputs": [],
   "source": [
    "for i in range(len(texts)):\n",
    "    pol_score = SIA().polarity_scores(texts[i]) \n",
    "    pol_score['headline'] = User_ratings_df.at[i,'Id']\n",
    "    results.append(pol_score)"
   ]
  },
  {
   "cell_type": "code",
   "execution_count": 6,
   "metadata": {},
   "outputs": [],
   "source": [
    "pos_scores = []\n",
    "neu_scores = []\n",
    "neg_scores = []\n",
    "com_scores = []\n",
    "\n",
    "for i in range(len(results)):\n",
    "    pos_scores.append(results[i]['pos'])\n",
    "    neu_scores.append(results[i]['neu'])\n",
    "    neg_scores.append(results[i]['neg'])\n",
    "    com_scores.append(results[i]['compound'])"
   ]
  },
  {
   "cell_type": "code",
   "execution_count": 7,
   "metadata": {},
   "outputs": [],
   "source": [
    "User_ratings_df.insert(4,'Negativity_Score',neg_scores)\n",
    "User_ratings_df.insert(5,'Neutrality_Score',neu_scores)\n",
    "User_ratings_df.insert(6,'Positivity_Score',pos_scores)\n",
    "User_ratings_df.insert(7,'Compound_Score',com_scores)"
   ]
  },
  {
   "cell_type": "code",
   "execution_count": 8,
   "metadata": {},
   "outputs": [],
   "source": [
    "errors = []\n",
    "ratings_eval = []\n",
    "for i in range(len(User_ratings_df.index)):\n",
    "    if pd.isnull(User_ratings_df.at[i,'Rating']) is False:\n",
    "        calculated_rating = User_ratings_df.at[i,'Compound_Score'] * .5 + .5\n",
    "        actual_rating = eval(User_ratings_df.at[i,'Rating']) \n",
    "        ratings_eval.append(actual_rating)\n",
    "        error = ((calculated_rating - actual_rating ) / actual_rating ) *100\n",
    "        errors.append(error)\n",
    "    if pd.isnull(User_ratings_df.at[i,'Rating']) is True:\n",
    "        errors.append(numpy.nan)\n",
    "        ratings_eval.append(numpy.nan)\n",
    "        \n",
    "User_ratings_df.insert(8,'Error',errors)\n",
    "User_ratings_df.insert(9,'Evaluated_User_Rating',ratings_eval)\n",
    "User_ratings_df.to_csv('User_ratings_df_with_SA_scores.txt')"
   ]
  },
  {
   "cell_type": "code",
   "execution_count": null,
   "metadata": {},
   "outputs": [],
   "source": []
  },
  {
   "cell_type": "code",
   "execution_count": 107,
   "metadata": {},
   "outputs": [],
   "source": [
    "Score_sample = User_ratings_df.sample(800,axis='index',random_state=1)\n",
    "Score_sample.to_csv('Sample_user_ratings_df_with_SA_scores.txt')"
   ]
  },
  {
   "cell_type": "code",
   "execution_count": 48,
   "metadata": {},
   "outputs": [
    {
     "name": "stdout",
     "output_type": "stream",
     "text": [
      "Collecting chart_studio\n",
      "  Downloading chart_studio-1.1.0-py3-none-any.whl (64 kB)\n",
      "Requirement already satisfied: six in c:\\anaconda3\\lib\\site-packages (from chart_studio) (1.15.0)\n",
      "Requirement already satisfied: plotly in c:\\anaconda3\\lib\\site-packages (from chart_studio) (4.14.3)\n",
      "Requirement already satisfied: requests in c:\\anaconda3\\lib\\site-packages (from chart_studio) (2.24.0)\n",
      "Requirement already satisfied: retrying>=1.3.3 in c:\\anaconda3\\lib\\site-packages (from chart_studio) (1.3.3)\n",
      "Requirement already satisfied: chardet<4,>=3.0.2 in c:\\anaconda3\\lib\\site-packages (from requests->chart_studio) (3.0.4)\n",
      "Requirement already satisfied: certifi>=2017.4.17 in c:\\anaconda3\\lib\\site-packages (from requests->chart_studio) (2020.6.20)\n",
      "Requirement already satisfied: urllib3!=1.25.0,!=1.25.1,<1.26,>=1.21.1 in c:\\anaconda3\\lib\\site-packages (from requests->chart_studio) (1.25.9)\n",
      "Requirement already satisfied: idna<3,>=2.5 in c:\\anaconda3\\lib\\site-packages (from requests->chart_studio) (2.10)\n",
      "Installing collected packages: chart-studio\n",
      "Successfully installed chart-studio-1.1.0\n",
      "Note: you may need to restart the kernel to use updated packages.\n"
     ]
    }
   ],
   "source": [
    "pip install chart_studio"
   ]
  },
  {
   "cell_type": "code",
   "execution_count": null,
   "metadata": {},
   "outputs": [],
   "source": [
    "pip install chart_studio"
   ]
  },
  {
   "cell_type": "code",
   "execution_count": 49,
   "metadata": {},
   "outputs": [],
   "source": [
    "import chart_studio.tools as tls"
   ]
  },
  {
   "cell_type": "code",
   "execution_count": null,
   "metadata": {},
   "outputs": [],
   "source": [
    "tls.get_embed('https://chart-studio.plotly.com/~StephCPalmer/1')"
   ]
  },
  {
   "cell_type": "code",
   "execution_count": null,
   "metadata": {},
   "outputs": [],
   "source": [
    "pip install plotly"
   ]
  },
  {
   "cell_type": "code",
   "execution_count": 10,
   "metadata": {},
   "outputs": [],
   "source": [
    "import plotly.express as px"
   ]
  },
  {
   "cell_type": "code",
   "execution_count": null,
   "metadata": {},
   "outputs": [],
   "source": [
    "\n"
   ]
  },
  {
   "cell_type": "code",
   "execution_count": 12,
   "metadata": {
    "scrolled": true
   },
   "outputs": [
    {
     "data": {
      "application/vnd.plotly.v1+json": {
       "config": {
        "plotlyServerURL": "https://plot.ly"
       },
       "data": [
        {
         "alignmentgroup": "True",
         "hovertemplate": "Evaluated_User_Rating=%{x}<br>index=%{y}<extra></extra>",
         "legendgroup": "",
         "marker": {
          "color": "#636efa"
         },
         "name": "",
         "offsetgroup": "",
         "orientation": "h",
         "showlegend": false,
         "textposition": "auto",
         "type": "bar",
         "x": [
          0.9,
          null,
          0.7,
          0.6,
          0.3,
          null,
          0.7,
          0.4,
          0.1,
          0.7,
          1,
          null,
          null,
          0.1,
          1,
          0.9,
          0.1,
          0.6,
          0.2,
          0.4,
          0.1,
          0.6,
          null,
          0.9,
          null,
          1,
          1,
          1,
          0.6,
          0.5,
          1,
          0.8,
          0.3,
          1,
          1,
          0.9,
          1,
          0.8,
          0.9,
          0.1,
          0.7,
          null,
          null,
          null,
          0.8,
          1,
          0.1,
          0.6,
          0.6,
          0.7,
          0.8,
          0.9,
          null,
          1,
          0.7,
          null,
          0.8,
          0.5,
          0.7,
          0.6,
          0.5,
          0.4,
          0.9,
          1,
          null,
          0.4,
          1,
          0.7,
          0.7,
          0.7,
          0.8,
          0.5,
          1,
          0.7,
          0.6,
          0.1,
          0.5,
          0.5,
          1,
          0.3,
          0.8,
          0.8,
          0.8,
          1,
          null,
          0.8,
          null,
          0.3,
          0.6,
          1,
          0.1,
          0.9,
          0.6,
          null,
          0.9,
          1,
          0.6,
          1,
          null,
          0.3,
          0.7,
          0.7,
          0.8,
          0.9,
          1,
          1,
          0.4,
          0.6,
          0.9,
          0.8,
          0.2,
          0.3,
          0.8,
          0.7,
          null,
          0.1,
          null,
          1,
          0.8,
          0.9,
          null,
          0.5,
          0.7,
          0.9,
          0.1,
          0.5,
          0.6,
          0.1,
          0.5,
          0.6,
          0.5,
          0.7,
          0.7,
          0.6,
          1,
          0.7,
          0.3,
          0.8,
          0.7,
          0.4,
          0.7,
          null,
          0.1,
          0.2,
          0.9,
          1,
          0.8,
          0.2,
          null,
          0.9,
          0.6,
          0.1,
          1,
          0.2,
          0.6,
          0.7,
          0.9,
          0.8,
          null,
          null,
          0.9,
          0.2,
          0.7,
          0.5,
          0.1,
          0.9,
          1,
          0.6,
          0.9,
          0.7,
          0.1,
          0.9,
          null,
          0.1,
          1,
          0.3,
          0.8,
          0.7,
          1,
          0.9,
          0.1,
          0.4,
          null,
          0.7,
          0.7,
          0.7,
          null,
          0.3,
          null,
          0.7,
          0.8,
          0.9,
          0.2,
          1,
          0.7,
          0.7,
          0.1,
          0.6,
          0.5,
          0.8,
          1,
          0.5,
          0.7,
          1,
          1,
          0.8,
          0.8,
          0.8,
          0.9,
          0.7,
          0.7,
          1,
          0.9,
          0.9,
          1,
          0.8,
          0.8,
          0.8,
          0.2,
          0.9,
          0.8,
          0.3,
          0.7,
          0.3,
          1,
          1,
          0.7,
          null,
          0.7,
          0.9,
          0.7,
          0.9,
          null,
          0.3,
          0.3,
          0.7,
          1,
          0.2,
          0.8,
          1,
          0.6,
          0.6,
          null,
          1,
          1,
          0.5,
          0.9,
          0.1,
          0.7,
          0.8,
          1,
          0.9,
          0.8,
          0.7,
          0.6,
          null,
          1,
          1,
          0.6,
          null,
          0.1,
          0.7,
          0.6,
          0.8,
          1,
          0.5,
          0.4,
          0.8,
          0.6,
          1,
          0.9,
          0.3,
          null,
          0.8,
          0.2,
          0.7,
          0.1,
          0.1,
          1,
          0.7,
          0.8,
          null,
          0.9,
          0.5,
          0.6,
          0.7,
          0.8,
          0.9,
          0.5,
          null,
          0.8,
          0.3,
          1,
          0.5,
          0.6,
          1,
          1,
          1,
          0.5,
          0.6,
          0.5,
          0.7,
          0.7,
          0.7,
          0.8,
          1,
          0.9,
          0.1,
          0.5,
          0.6,
          0.6,
          0.7,
          1,
          1,
          1,
          0.8,
          1,
          0.7,
          0.8,
          1,
          0.8,
          0.8,
          1,
          0.9,
          0.7,
          0.2,
          0.1,
          0.8,
          0.3,
          0.8,
          null,
          0.6,
          0.3,
          0.2,
          0.1,
          0.5,
          0.6,
          0.5,
          0.8,
          null,
          0.5,
          0.9,
          null,
          0.5,
          0.7,
          1,
          0.4,
          1,
          0.7,
          0.4,
          0.7,
          1,
          0.9,
          1,
          0.7,
          0.9,
          0.1,
          0.1,
          0.7,
          0.8,
          1,
          1,
          0.7,
          0.5,
          0.6,
          0.9,
          0.5,
          1,
          0.3,
          0.8,
          0.7,
          0.9,
          0.7,
          0.7,
          0.8,
          0.6,
          null,
          0.8,
          1,
          0.8,
          0.5,
          0.5,
          0.9,
          0.3,
          0.9,
          0.8,
          0.9,
          null,
          0.8,
          null,
          1,
          0.4,
          0.7,
          0.8,
          0.2,
          1,
          0.8,
          0.9,
          0.9,
          0.8,
          null,
          0.1,
          1,
          0.7,
          1,
          0.5,
          1,
          0.8,
          null,
          0.1,
          0.9,
          0.7,
          0.6,
          1,
          0.8,
          0.6,
          0.8,
          0.8,
          1,
          1,
          0.7,
          0.8,
          1,
          0.8,
          0.8,
          0.8,
          0.7,
          null,
          0.6,
          0.1,
          0.6,
          0.1,
          0.8,
          0.7,
          0.6,
          0.4,
          0.9,
          0.5,
          0.9,
          0.7,
          0.3,
          0.6,
          0.5,
          null,
          0.4,
          0.7,
          0.9,
          null,
          0.9,
          0.1,
          0.2,
          0.8,
          null,
          0.9,
          0.9,
          null,
          0.9,
          0.6,
          null,
          0.1,
          1,
          0.6,
          0.4,
          0.2,
          0.8,
          0.8,
          0.7,
          0.7,
          1,
          0.8,
          0.5,
          0.5,
          0.8,
          0.7,
          0.4,
          0.1,
          0.3,
          0.7,
          0.7,
          1,
          0.4,
          0.4,
          0.1,
          null,
          0.9,
          1,
          null,
          null,
          1,
          0.4,
          0.1,
          0.6,
          0.1,
          0.2,
          1,
          0.8,
          1,
          null,
          0.7,
          0.8,
          0.8,
          0.7,
          0.7,
          null,
          0.8,
          0.9,
          0.6,
          0.9,
          1,
          0.5,
          0.4,
          1,
          0.7,
          0.8,
          0.6,
          1,
          0.7,
          0.8,
          0.8,
          0.7,
          0.8,
          0.8,
          0.3,
          0.9,
          0.6,
          0.6,
          0.7,
          0.5,
          0.6,
          0.7,
          1,
          1,
          0.9,
          0.7,
          0.1,
          0.9,
          1,
          0.5,
          0.9,
          0.1,
          0.1,
          null,
          0.8,
          null,
          0.8,
          1,
          0.7,
          0.7,
          0.8,
          0.8,
          0.6,
          1,
          0.3,
          null,
          0.9,
          0.9,
          0.7,
          0.6,
          0.8,
          0.9,
          0.6,
          0.5,
          0.8,
          0.1,
          1,
          0.5,
          0.5,
          1,
          0.9,
          1,
          0.1,
          0.6,
          0.6,
          0.4,
          0.3,
          0.5,
          0.6,
          0.9,
          0.7,
          0.7,
          0.6,
          1,
          0.5,
          1,
          0.5,
          1,
          0.6,
          0.7,
          null,
          0.8,
          0.9,
          0.8,
          0.3,
          null,
          0.1,
          0.1,
          null,
          0.3,
          0.7,
          0.3,
          0.7,
          0.7,
          1,
          0.7,
          0.6,
          0.7,
          0.8,
          0.9,
          null,
          1,
          0.6,
          null,
          0.8,
          0.8,
          0.8,
          0.9,
          0.9,
          1,
          0.9,
          1,
          1,
          null,
          0.2,
          0.1,
          0.9,
          0.1,
          0.6,
          0.8,
          0.6,
          0.8,
          0.8,
          0.9,
          0.9,
          0.2,
          0.9,
          0.5,
          0.7,
          0.1,
          0.9,
          0.9,
          null,
          0.1,
          0.4,
          0.5,
          0.1,
          0.9,
          1,
          1,
          0.3,
          0.8,
          0.6,
          0.8,
          0.5,
          0.4,
          0.7,
          0.7,
          0.9,
          0.4,
          0.7,
          0.8,
          0.5,
          0.1,
          0.6,
          0.8,
          1,
          0.9,
          null,
          0.4,
          1,
          0.4,
          0.1,
          0.8,
          null,
          0.9,
          0.6,
          null,
          0.6,
          0.6,
          0.1,
          0.8,
          0.6,
          0.7,
          0.7,
          0.1,
          0.1,
          0.9,
          0.9,
          0.7,
          0.7,
          0.1,
          0.7,
          null,
          0.7,
          1,
          1,
          0.9,
          1,
          0.4,
          0.3,
          0.2,
          0.4,
          0.2,
          null,
          1,
          0.1,
          1,
          0.5,
          0.7,
          1,
          0.9,
          null,
          0.1,
          null,
          0.2,
          0.6,
          1,
          0.6,
          1,
          0.9,
          null,
          1,
          0.6,
          1,
          0.1,
          0.9,
          null,
          0.3,
          0.8,
          0.6,
          1,
          0.8,
          0.3,
          0.1,
          0.8,
          0.7,
          0.9,
          1,
          1,
          1,
          0.5,
          0.8,
          0.7,
          0.1,
          1,
          1,
          0.4,
          0.4,
          0.3,
          1,
          1,
          0.6,
          0.7,
          0.9,
          0.8,
          0.4,
          1,
          null,
          0.5,
          1,
          0.8,
          0.6,
          0.4,
          0.4,
          1,
          1,
          1,
          0.7,
          1,
          0.6,
          0.8,
          0.9,
          0.9,
          0.3,
          1,
          0.4,
          0.9,
          1,
          1,
          1,
          0.7,
          0.8,
          null,
          0.7,
          0.9,
          1,
          0.9,
          0.6,
          0.1,
          0.5,
          0.1,
          0.7,
          0.8,
          1,
          0.1,
          0.1,
          0.9,
          0.9,
          0.7,
          0.6,
          0.1
         ],
         "xaxis": "x",
         "y": [
          311,
          3925,
          7895,
          2421,
          4593,
          39,
          2394,
          5177,
          3630,
          4339,
          1947,
          2363,
          2407,
          3426,
          1624,
          3385,
          8132,
          4856,
          5706,
          161,
          3628,
          3500,
          2701,
          1060,
          1989,
          7136,
          1873,
          473,
          4880,
          2666,
          7345,
          2874,
          5000,
          8129,
          4467,
          5029,
          561,
          6240,
          946,
          6967,
          6842,
          900,
          307,
          444,
          569,
          3854,
          4941,
          5727,
          6603,
          324,
          1740,
          627,
          1299,
          2584,
          5036,
          4637,
          5432,
          2512,
          6107,
          7070,
          4883,
          5797,
          1159,
          7664,
          4002,
          3941,
          4455,
          6856,
          4442,
          2909,
          6638,
          5194,
          5467,
          2064,
          2695,
          7434,
          3239,
          4063,
          5318,
          5018,
          5922,
          6914,
          7044,
          2257,
          605,
          7537,
          536,
          7822,
          1156,
          6519,
          3809,
          5259,
          3696,
          218,
          7941,
          3027,
          6593,
          1953,
          2938,
          4307,
          1554,
          3784,
          2229,
          2712,
          8006,
          103,
          7332,
          3553,
          4558,
          509,
          5862,
          3740,
          7199,
          2253,
          74,
          4591,
          433,
          1748,
          7731,
          6446,
          1380,
          4544,
          1064,
          4736,
          6155,
          4141,
          6822,
          5689,
          3570,
          4879,
          5263,
          7109,
          4893,
          1570,
          5492,
          6924,
          6989,
          813,
          5309,
          325,
          3127,
          1857,
          7980,
          8097,
          1198,
          7560,
          6526,
          2243,
          2800,
          5621,
          5329,
          5244,
          4421,
          1038,
          4696,
          3290,
          5308,
          941,
          608,
          1447,
          6178,
          4241,
          7439,
          1986,
          6249,
          3871,
          943,
          2403,
          8016,
          1508,
          7482,
          420,
          130,
          4623,
          259,
          6273,
          2539,
          6766,
          4958,
          3370,
          6679,
          3588,
          496,
          5296,
          3906,
          5062,
          2285,
          4444,
          368,
          1773,
          4751,
          2746,
          7878,
          7143,
          7631,
          3044,
          5892,
          4999,
          5524,
          288,
          7801,
          8036,
          2093,
          3667,
          4337,
          4168,
          3016,
          4190,
          3858,
          5402,
          3909,
          2917,
          1233,
          592,
          3162,
          6893,
          6841,
          5446,
          7103,
          1381,
          7386,
          3358,
          7856,
          6990,
          7590,
          4600,
          5220,
          1555,
          1825,
          2019,
          4694,
          3767,
          2505,
          863,
          7587,
          2656,
          3268,
          3866,
          6582,
          1332,
          6498,
          7169,
          4250,
          2916,
          2038,
          3741,
          7761,
          6606,
          1956,
          7131,
          7665,
          6144,
          6396,
          5735,
          2389,
          5994,
          5510,
          2252,
          4530,
          6798,
          1063,
          7624,
          3059,
          4405,
          1206,
          7550,
          1041,
          2262,
          2000,
          3165,
          6484,
          5971,
          1463,
          6262,
          7408,
          3353,
          4930,
          6882,
          1090,
          6234,
          3157,
          3291,
          1720,
          3840,
          4078,
          4451,
          2355,
          5272,
          7276,
          1287,
          6775,
          6339,
          5817,
          4186,
          7787,
          1993,
          5749,
          4106,
          5960,
          5408,
          5738,
          4523,
          45,
          2544,
          7522,
          513,
          5962,
          6983,
          90,
          6346,
          2119,
          3491,
          6154,
          6152,
          186,
          5947,
          6507,
          2934,
          3205,
          8047,
          6751,
          751,
          6070,
          2624,
          6926,
          4447,
          2785,
          3881,
          5397,
          5260,
          3745,
          5481,
          4702,
          8098,
          6360,
          7390,
          6286,
          4726,
          6864,
          108,
          5082,
          5459,
          6366,
          6023,
          4545,
          2993,
          4463,
          6785,
          7573,
          6297,
          3369,
          925,
          5576,
          7025,
          2689,
          2827,
          3493,
          6209,
          1536,
          1817,
          1185,
          7591,
          3272,
          6561,
          4704,
          1684,
          2456,
          834,
          3467,
          3942,
          1071,
          2641,
          4563,
          4228,
          787,
          7003,
          558,
          7052,
          1971,
          4612,
          1409,
          6441,
          6334,
          5910,
          234,
          2379,
          5795,
          239,
          6005,
          276,
          351,
          6116,
          858,
          7845,
          3396,
          2688,
          3248,
          7652,
          6349,
          7784,
          1049,
          5164,
          7179,
          7355,
          5756,
          4227,
          2677,
          537,
          1392,
          1653,
          1924,
          6651,
          4411,
          6660,
          7543,
          4762,
          3786,
          1683,
          7153,
          219,
          5132,
          5630,
          963,
          3201,
          3231,
          1814,
          6623,
          1271,
          7243,
          4320,
          2772,
          3802,
          4554,
          7216,
          1736,
          6337,
          7512,
          6270,
          3015,
          1758,
          6123,
          6404,
          2488,
          1050,
          3504,
          4989,
          642,
          6555,
          99,
          5283,
          1785,
          1217,
          4785,
          1070,
          6539,
          1102,
          3986,
          2514,
          394,
          7257,
          7864,
          1990,
          5311,
          7401,
          5594,
          2854,
          7577,
          3461,
          6517,
          2120,
          4898,
          4156,
          763,
          5130,
          634,
          5483,
          6644,
          4072,
          6305,
          2168,
          5823,
          4079,
          5754,
          2718,
          2089,
          7928,
          2198,
          7803,
          299,
          1525,
          4315,
          4446,
          3343,
          6964,
          4195,
          1917,
          6414,
          6743,
          8003,
          7375,
          4848,
          3516,
          5166,
          3473,
          6148,
          1098,
          4857,
          1537,
          3903,
          3455,
          4257,
          3862,
          5232,
          4506,
          5999,
          5974,
          3032,
          159,
          1540,
          5429,
          553,
          3712,
          4278,
          1216,
          3847,
          1938,
          4799,
          2065,
          859,
          2796,
          7381,
          718,
          3851,
          1328,
          8120,
          7262,
          1454,
          6854,
          7656,
          5937,
          6207,
          1165,
          6837,
          442,
          7896,
          5443,
          2116,
          5843,
          2597,
          3680,
          3587,
          2353,
          7026,
          5117,
          119,
          2441,
          2358,
          7972,
          4023,
          2341,
          3276,
          2842,
          4434,
          7425,
          7724,
          7632,
          5316,
          3186,
          3731,
          587,
          5685,
          2831,
          3603,
          6198,
          2179,
          6938,
          3875,
          5213,
          3300,
          3514,
          3327,
          3135,
          7411,
          555,
          6741,
          3701,
          1145,
          4579,
          3123,
          867,
          2296,
          695,
          6231,
          784,
          6302,
          2776,
          4744,
          5577,
          4789,
          6125,
          1652,
          3733,
          6907,
          4674,
          5382,
          4015,
          6254,
          254,
          7230,
          4360,
          1475,
          6680,
          6347,
          6799,
          3938,
          1162,
          1122,
          4741,
          3465,
          573,
          2497,
          7038,
          7527,
          1600,
          6019,
          5461,
          4167,
          3904,
          5498,
          1690,
          644,
          1075,
          5773,
          6011,
          7304,
          2667,
          6929,
          6681,
          3794,
          783,
          6253,
          1494,
          1225,
          2779,
          5743,
          7150,
          691,
          6204,
          4148,
          3577,
          4258,
          1954,
          4285,
          2345,
          2271,
          3384,
          3187,
          2411,
          2083,
          574,
          2293,
          3315,
          5440,
          5068,
          958,
          4502,
          4239,
          6715,
          2054,
          7658,
          951,
          1717,
          6831,
          5505,
          1506,
          5659,
          4246,
          4388,
          5369,
          729,
          5055,
          3977,
          1988,
          7891,
          5703,
          6483,
          588,
          2311,
          2098,
          4521,
          5614,
          231,
          4909,
          6991,
          5135,
          2907,
          3957,
          5692,
          7074,
          3448,
          1224,
          5721,
          5339,
          5442,
          3076,
          2657,
          7729,
          1104,
          1998,
          6122,
          1289,
          6671,
          3511,
          7011,
          5564,
          6697,
          200,
          1936,
          169,
          82,
          1144,
          4352,
          6571,
          4281,
          4136,
          1503,
          1221,
          994,
          3928,
          5033,
          5182,
          2443,
          4977,
          3773,
          4296,
          664,
          7112,
          2351,
          4115,
          3216,
          5267,
          4354,
          7422,
          7835,
          5612,
          5584,
          1692,
          6367,
          1322,
          4365,
          6313,
          5558,
          2031,
          6429,
          3901,
          354,
          2886,
          4244,
          2567,
          5620,
          3916,
          6550,
          5239,
          389,
          5340,
          1681,
          5042,
          5497,
          2694,
          3382,
          1768,
          503,
          3657,
          7670,
          3521,
          1657,
          3371,
          802,
          4189,
          5562,
          7468,
          5089,
          115,
          1961,
          1921,
          1732,
          7959,
          7481,
          1297,
          3724,
          5208,
          248,
          4477,
          5832,
          3092,
          7934,
          2333,
          4302,
          5287,
          3618
         ],
         "yaxis": "y"
        }
       ],
       "layout": {
        "barmode": "relative",
        "legend": {
         "tracegroupgap": 0
        },
        "margin": {
         "t": 60
        },
        "template": {
         "data": {
          "bar": [
           {
            "error_x": {
             "color": "#2a3f5f"
            },
            "error_y": {
             "color": "#2a3f5f"
            },
            "marker": {
             "line": {
              "color": "#E5ECF6",
              "width": 0.5
             }
            },
            "type": "bar"
           }
          ],
          "barpolar": [
           {
            "marker": {
             "line": {
              "color": "#E5ECF6",
              "width": 0.5
             }
            },
            "type": "barpolar"
           }
          ],
          "carpet": [
           {
            "aaxis": {
             "endlinecolor": "#2a3f5f",
             "gridcolor": "white",
             "linecolor": "white",
             "minorgridcolor": "white",
             "startlinecolor": "#2a3f5f"
            },
            "baxis": {
             "endlinecolor": "#2a3f5f",
             "gridcolor": "white",
             "linecolor": "white",
             "minorgridcolor": "white",
             "startlinecolor": "#2a3f5f"
            },
            "type": "carpet"
           }
          ],
          "choropleth": [
           {
            "colorbar": {
             "outlinewidth": 0,
             "ticks": ""
            },
            "type": "choropleth"
           }
          ],
          "contour": [
           {
            "colorbar": {
             "outlinewidth": 0,
             "ticks": ""
            },
            "colorscale": [
             [
              0,
              "#0d0887"
             ],
             [
              0.1111111111111111,
              "#46039f"
             ],
             [
              0.2222222222222222,
              "#7201a8"
             ],
             [
              0.3333333333333333,
              "#9c179e"
             ],
             [
              0.4444444444444444,
              "#bd3786"
             ],
             [
              0.5555555555555556,
              "#d8576b"
             ],
             [
              0.6666666666666666,
              "#ed7953"
             ],
             [
              0.7777777777777778,
              "#fb9f3a"
             ],
             [
              0.8888888888888888,
              "#fdca26"
             ],
             [
              1,
              "#f0f921"
             ]
            ],
            "type": "contour"
           }
          ],
          "contourcarpet": [
           {
            "colorbar": {
             "outlinewidth": 0,
             "ticks": ""
            },
            "type": "contourcarpet"
           }
          ],
          "heatmap": [
           {
            "colorbar": {
             "outlinewidth": 0,
             "ticks": ""
            },
            "colorscale": [
             [
              0,
              "#0d0887"
             ],
             [
              0.1111111111111111,
              "#46039f"
             ],
             [
              0.2222222222222222,
              "#7201a8"
             ],
             [
              0.3333333333333333,
              "#9c179e"
             ],
             [
              0.4444444444444444,
              "#bd3786"
             ],
             [
              0.5555555555555556,
              "#d8576b"
             ],
             [
              0.6666666666666666,
              "#ed7953"
             ],
             [
              0.7777777777777778,
              "#fb9f3a"
             ],
             [
              0.8888888888888888,
              "#fdca26"
             ],
             [
              1,
              "#f0f921"
             ]
            ],
            "type": "heatmap"
           }
          ],
          "heatmapgl": [
           {
            "colorbar": {
             "outlinewidth": 0,
             "ticks": ""
            },
            "colorscale": [
             [
              0,
              "#0d0887"
             ],
             [
              0.1111111111111111,
              "#46039f"
             ],
             [
              0.2222222222222222,
              "#7201a8"
             ],
             [
              0.3333333333333333,
              "#9c179e"
             ],
             [
              0.4444444444444444,
              "#bd3786"
             ],
             [
              0.5555555555555556,
              "#d8576b"
             ],
             [
              0.6666666666666666,
              "#ed7953"
             ],
             [
              0.7777777777777778,
              "#fb9f3a"
             ],
             [
              0.8888888888888888,
              "#fdca26"
             ],
             [
              1,
              "#f0f921"
             ]
            ],
            "type": "heatmapgl"
           }
          ],
          "histogram": [
           {
            "marker": {
             "colorbar": {
              "outlinewidth": 0,
              "ticks": ""
             }
            },
            "type": "histogram"
           }
          ],
          "histogram2d": [
           {
            "colorbar": {
             "outlinewidth": 0,
             "ticks": ""
            },
            "colorscale": [
             [
              0,
              "#0d0887"
             ],
             [
              0.1111111111111111,
              "#46039f"
             ],
             [
              0.2222222222222222,
              "#7201a8"
             ],
             [
              0.3333333333333333,
              "#9c179e"
             ],
             [
              0.4444444444444444,
              "#bd3786"
             ],
             [
              0.5555555555555556,
              "#d8576b"
             ],
             [
              0.6666666666666666,
              "#ed7953"
             ],
             [
              0.7777777777777778,
              "#fb9f3a"
             ],
             [
              0.8888888888888888,
              "#fdca26"
             ],
             [
              1,
              "#f0f921"
             ]
            ],
            "type": "histogram2d"
           }
          ],
          "histogram2dcontour": [
           {
            "colorbar": {
             "outlinewidth": 0,
             "ticks": ""
            },
            "colorscale": [
             [
              0,
              "#0d0887"
             ],
             [
              0.1111111111111111,
              "#46039f"
             ],
             [
              0.2222222222222222,
              "#7201a8"
             ],
             [
              0.3333333333333333,
              "#9c179e"
             ],
             [
              0.4444444444444444,
              "#bd3786"
             ],
             [
              0.5555555555555556,
              "#d8576b"
             ],
             [
              0.6666666666666666,
              "#ed7953"
             ],
             [
              0.7777777777777778,
              "#fb9f3a"
             ],
             [
              0.8888888888888888,
              "#fdca26"
             ],
             [
              1,
              "#f0f921"
             ]
            ],
            "type": "histogram2dcontour"
           }
          ],
          "mesh3d": [
           {
            "colorbar": {
             "outlinewidth": 0,
             "ticks": ""
            },
            "type": "mesh3d"
           }
          ],
          "parcoords": [
           {
            "line": {
             "colorbar": {
              "outlinewidth": 0,
              "ticks": ""
             }
            },
            "type": "parcoords"
           }
          ],
          "pie": [
           {
            "automargin": true,
            "type": "pie"
           }
          ],
          "scatter": [
           {
            "marker": {
             "colorbar": {
              "outlinewidth": 0,
              "ticks": ""
             }
            },
            "type": "scatter"
           }
          ],
          "scatter3d": [
           {
            "line": {
             "colorbar": {
              "outlinewidth": 0,
              "ticks": ""
             }
            },
            "marker": {
             "colorbar": {
              "outlinewidth": 0,
              "ticks": ""
             }
            },
            "type": "scatter3d"
           }
          ],
          "scattercarpet": [
           {
            "marker": {
             "colorbar": {
              "outlinewidth": 0,
              "ticks": ""
             }
            },
            "type": "scattercarpet"
           }
          ],
          "scattergeo": [
           {
            "marker": {
             "colorbar": {
              "outlinewidth": 0,
              "ticks": ""
             }
            },
            "type": "scattergeo"
           }
          ],
          "scattergl": [
           {
            "marker": {
             "colorbar": {
              "outlinewidth": 0,
              "ticks": ""
             }
            },
            "type": "scattergl"
           }
          ],
          "scattermapbox": [
           {
            "marker": {
             "colorbar": {
              "outlinewidth": 0,
              "ticks": ""
             }
            },
            "type": "scattermapbox"
           }
          ],
          "scatterpolar": [
           {
            "marker": {
             "colorbar": {
              "outlinewidth": 0,
              "ticks": ""
             }
            },
            "type": "scatterpolar"
           }
          ],
          "scatterpolargl": [
           {
            "marker": {
             "colorbar": {
              "outlinewidth": 0,
              "ticks": ""
             }
            },
            "type": "scatterpolargl"
           }
          ],
          "scatterternary": [
           {
            "marker": {
             "colorbar": {
              "outlinewidth": 0,
              "ticks": ""
             }
            },
            "type": "scatterternary"
           }
          ],
          "surface": [
           {
            "colorbar": {
             "outlinewidth": 0,
             "ticks": ""
            },
            "colorscale": [
             [
              0,
              "#0d0887"
             ],
             [
              0.1111111111111111,
              "#46039f"
             ],
             [
              0.2222222222222222,
              "#7201a8"
             ],
             [
              0.3333333333333333,
              "#9c179e"
             ],
             [
              0.4444444444444444,
              "#bd3786"
             ],
             [
              0.5555555555555556,
              "#d8576b"
             ],
             [
              0.6666666666666666,
              "#ed7953"
             ],
             [
              0.7777777777777778,
              "#fb9f3a"
             ],
             [
              0.8888888888888888,
              "#fdca26"
             ],
             [
              1,
              "#f0f921"
             ]
            ],
            "type": "surface"
           }
          ],
          "table": [
           {
            "cells": {
             "fill": {
              "color": "#EBF0F8"
             },
             "line": {
              "color": "white"
             }
            },
            "header": {
             "fill": {
              "color": "#C8D4E3"
             },
             "line": {
              "color": "white"
             }
            },
            "type": "table"
           }
          ]
         },
         "layout": {
          "annotationdefaults": {
           "arrowcolor": "#2a3f5f",
           "arrowhead": 0,
           "arrowwidth": 1
          },
          "autotypenumbers": "strict",
          "coloraxis": {
           "colorbar": {
            "outlinewidth": 0,
            "ticks": ""
           }
          },
          "colorscale": {
           "diverging": [
            [
             0,
             "#8e0152"
            ],
            [
             0.1,
             "#c51b7d"
            ],
            [
             0.2,
             "#de77ae"
            ],
            [
             0.3,
             "#f1b6da"
            ],
            [
             0.4,
             "#fde0ef"
            ],
            [
             0.5,
             "#f7f7f7"
            ],
            [
             0.6,
             "#e6f5d0"
            ],
            [
             0.7,
             "#b8e186"
            ],
            [
             0.8,
             "#7fbc41"
            ],
            [
             0.9,
             "#4d9221"
            ],
            [
             1,
             "#276419"
            ]
           ],
           "sequential": [
            [
             0,
             "#0d0887"
            ],
            [
             0.1111111111111111,
             "#46039f"
            ],
            [
             0.2222222222222222,
             "#7201a8"
            ],
            [
             0.3333333333333333,
             "#9c179e"
            ],
            [
             0.4444444444444444,
             "#bd3786"
            ],
            [
             0.5555555555555556,
             "#d8576b"
            ],
            [
             0.6666666666666666,
             "#ed7953"
            ],
            [
             0.7777777777777778,
             "#fb9f3a"
            ],
            [
             0.8888888888888888,
             "#fdca26"
            ],
            [
             1,
             "#f0f921"
            ]
           ],
           "sequentialminus": [
            [
             0,
             "#0d0887"
            ],
            [
             0.1111111111111111,
             "#46039f"
            ],
            [
             0.2222222222222222,
             "#7201a8"
            ],
            [
             0.3333333333333333,
             "#9c179e"
            ],
            [
             0.4444444444444444,
             "#bd3786"
            ],
            [
             0.5555555555555556,
             "#d8576b"
            ],
            [
             0.6666666666666666,
             "#ed7953"
            ],
            [
             0.7777777777777778,
             "#fb9f3a"
            ],
            [
             0.8888888888888888,
             "#fdca26"
            ],
            [
             1,
             "#f0f921"
            ]
           ]
          },
          "colorway": [
           "#636efa",
           "#EF553B",
           "#00cc96",
           "#ab63fa",
           "#FFA15A",
           "#19d3f3",
           "#FF6692",
           "#B6E880",
           "#FF97FF",
           "#FECB52"
          ],
          "font": {
           "color": "#2a3f5f"
          },
          "geo": {
           "bgcolor": "white",
           "lakecolor": "white",
           "landcolor": "#E5ECF6",
           "showlakes": true,
           "showland": true,
           "subunitcolor": "white"
          },
          "hoverlabel": {
           "align": "left"
          },
          "hovermode": "closest",
          "mapbox": {
           "style": "light"
          },
          "paper_bgcolor": "white",
          "plot_bgcolor": "#E5ECF6",
          "polar": {
           "angularaxis": {
            "gridcolor": "white",
            "linecolor": "white",
            "ticks": ""
           },
           "bgcolor": "#E5ECF6",
           "radialaxis": {
            "gridcolor": "white",
            "linecolor": "white",
            "ticks": ""
           }
          },
          "scene": {
           "xaxis": {
            "backgroundcolor": "#E5ECF6",
            "gridcolor": "white",
            "gridwidth": 2,
            "linecolor": "white",
            "showbackground": true,
            "ticks": "",
            "zerolinecolor": "white"
           },
           "yaxis": {
            "backgroundcolor": "#E5ECF6",
            "gridcolor": "white",
            "gridwidth": 2,
            "linecolor": "white",
            "showbackground": true,
            "ticks": "",
            "zerolinecolor": "white"
           },
           "zaxis": {
            "backgroundcolor": "#E5ECF6",
            "gridcolor": "white",
            "gridwidth": 2,
            "linecolor": "white",
            "showbackground": true,
            "ticks": "",
            "zerolinecolor": "white"
           }
          },
          "shapedefaults": {
           "line": {
            "color": "#2a3f5f"
           }
          },
          "ternary": {
           "aaxis": {
            "gridcolor": "white",
            "linecolor": "white",
            "ticks": ""
           },
           "baxis": {
            "gridcolor": "white",
            "linecolor": "white",
            "ticks": ""
           },
           "bgcolor": "#E5ECF6",
           "caxis": {
            "gridcolor": "white",
            "linecolor": "white",
            "ticks": ""
           }
          },
          "title": {
           "x": 0.05
          },
          "xaxis": {
           "automargin": true,
           "gridcolor": "white",
           "linecolor": "white",
           "ticks": "",
           "title": {
            "standoff": 15
           },
           "zerolinecolor": "white",
           "zerolinewidth": 2
          },
          "yaxis": {
           "automargin": true,
           "gridcolor": "white",
           "linecolor": "white",
           "ticks": "",
           "title": {
            "standoff": 15
           },
           "zerolinecolor": "white",
           "zerolinewidth": 2
          }
         }
        },
        "xaxis": {
         "anchor": "y",
         "domain": [
          0,
          1
         ],
         "title": {
          "text": "Evaluated_User_Rating"
         }
        },
        "yaxis": {
         "anchor": "x",
         "domain": [
          0,
          1
         ],
         "title": {
          "text": "index"
         }
        }
       }
      },
      "text/html": [
       "<div>                            <div id=\"6e3c9e35-da86-4aea-a027-4cd5ea776313\" class=\"plotly-graph-div\" style=\"height:525px; width:100%;\"></div>            <script type=\"text/javascript\">                require([\"plotly\"], function(Plotly) {                    window.PLOTLYENV=window.PLOTLYENV || {};                                    if (document.getElementById(\"6e3c9e35-da86-4aea-a027-4cd5ea776313\")) {                    Plotly.newPlot(                        \"6e3c9e35-da86-4aea-a027-4cd5ea776313\",                        [{\"alignmentgroup\": \"True\", \"hovertemplate\": \"Evaluated_User_Rating=%{x}<br>index=%{y}<extra></extra>\", \"legendgroup\": \"\", \"marker\": {\"color\": \"#636efa\"}, \"name\": \"\", \"offsetgroup\": \"\", \"orientation\": \"h\", \"showlegend\": false, \"textposition\": \"auto\", \"type\": \"bar\", \"x\": [0.9, null, 0.7, 0.6, 0.3, null, 0.7, 0.4, 0.1, 0.7, 1.0, null, null, 0.1, 1.0, 0.9, 0.1, 0.6, 0.2, 0.4, 0.1, 0.6, null, 0.9, null, 1.0, 1.0, 1.0, 0.6, 0.5, 1.0, 0.8, 0.3, 1.0, 1.0, 0.9, 1.0, 0.8, 0.9, 0.1, 0.7, null, null, null, 0.8, 1.0, 0.1, 0.6, 0.6, 0.7, 0.8, 0.9, null, 1.0, 0.7, null, 0.8, 0.5, 0.7, 0.6, 0.5, 0.4, 0.9, 1.0, null, 0.4, 1.0, 0.7, 0.7, 0.7, 0.8, 0.5, 1.0, 0.7, 0.6, 0.1, 0.5, 0.5, 1.0, 0.3, 0.8, 0.8, 0.8, 1.0, null, 0.8, null, 0.3, 0.6, 1.0, 0.1, 0.9, 0.6, null, 0.9, 1.0, 0.6, 1.0, null, 0.3, 0.7, 0.7, 0.8, 0.9, 1.0, 1.0, 0.4, 0.6, 0.9, 0.8, 0.2, 0.3, 0.8, 0.7, null, 0.1, null, 1.0, 0.8, 0.9, null, 0.5, 0.7, 0.9, 0.1, 0.5, 0.6, 0.1, 0.5, 0.6, 0.5, 0.7, 0.7, 0.6, 1.0, 0.7, 0.3, 0.8, 0.7, 0.4, 0.7, null, 0.1, 0.2, 0.9, 1.0, 0.8, 0.2, null, 0.9, 0.6, 0.1, 1.0, 0.2, 0.6, 0.7, 0.9, 0.8, null, null, 0.9, 0.2, 0.7, 0.5, 0.1, 0.9, 1.0, 0.6, 0.9, 0.7, 0.1, 0.9, null, 0.1, 1.0, 0.3, 0.8, 0.7, 1.0, 0.9, 0.1, 0.4, null, 0.7, 0.7, 0.7, null, 0.3, null, 0.7, 0.8, 0.9, 0.2, 1.0, 0.7, 0.7, 0.1, 0.6, 0.5, 0.8, 1.0, 0.5, 0.7, 1.0, 1.0, 0.8, 0.8, 0.8, 0.9, 0.7, 0.7, 1.0, 0.9, 0.9, 1.0, 0.8, 0.8, 0.8, 0.2, 0.9, 0.8, 0.3, 0.7, 0.3, 1.0, 1.0, 0.7, null, 0.7, 0.9, 0.7, 0.9, null, 0.3, 0.3, 0.7, 1.0, 0.2, 0.8, 1.0, 0.6, 0.6, null, 1.0, 1.0, 0.5, 0.9, 0.1, 0.7, 0.8, 1.0, 0.9, 0.8, 0.7, 0.6, null, 1.0, 1.0, 0.6, null, 0.1, 0.7, 0.6, 0.8, 1.0, 0.5, 0.4, 0.8, 0.6, 1.0, 0.9, 0.3, null, 0.8, 0.2, 0.7, 0.1, 0.1, 1.0, 0.7, 0.8, null, 0.9, 0.5, 0.6, 0.7, 0.8, 0.9, 0.5, null, 0.8, 0.3, 1.0, 0.5, 0.6, 1.0, 1.0, 1.0, 0.5, 0.6, 0.5, 0.7, 0.7, 0.7, 0.8, 1.0, 0.9, 0.1, 0.5, 0.6, 0.6, 0.7, 1.0, 1.0, 1.0, 0.8, 1.0, 0.7, 0.8, 1.0, 0.8, 0.8, 1.0, 0.9, 0.7, 0.2, 0.1, 0.8, 0.3, 0.8, null, 0.6, 0.3, 0.2, 0.1, 0.5, 0.6, 0.5, 0.8, null, 0.5, 0.9, null, 0.5, 0.7, 1.0, 0.4, 1.0, 0.7, 0.4, 0.7, 1.0, 0.9, 1.0, 0.7, 0.9, 0.1, 0.1, 0.7, 0.8, 1.0, 1.0, 0.7, 0.5, 0.6, 0.9, 0.5, 1.0, 0.3, 0.8, 0.7, 0.9, 0.7, 0.7, 0.8, 0.6, null, 0.8, 1.0, 0.8, 0.5, 0.5, 0.9, 0.3, 0.9, 0.8, 0.9, null, 0.8, null, 1.0, 0.4, 0.7, 0.8, 0.2, 1.0, 0.8, 0.9, 0.9, 0.8, null, 0.1, 1.0, 0.7, 1.0, 0.5, 1.0, 0.8, null, 0.1, 0.9, 0.7, 0.6, 1.0, 0.8, 0.6, 0.8, 0.8, 1.0, 1.0, 0.7, 0.8, 1.0, 0.8, 0.8, 0.8, 0.7, null, 0.6, 0.1, 0.6, 0.1, 0.8, 0.7, 0.6, 0.4, 0.9, 0.5, 0.9, 0.7, 0.3, 0.6, 0.5, null, 0.4, 0.7, 0.9, null, 0.9, 0.1, 0.2, 0.8, null, 0.9, 0.9, null, 0.9, 0.6, null, 0.1, 1.0, 0.6, 0.4, 0.2, 0.8, 0.8, 0.7, 0.7, 1.0, 0.8, 0.5, 0.5, 0.8, 0.7, 0.4, 0.1, 0.3, 0.7, 0.7, 1.0, 0.4, 0.4, 0.1, null, 0.9, 1.0, null, null, 1.0, 0.4, 0.1, 0.6, 0.1, 0.2, 1.0, 0.8, 1.0, null, 0.7, 0.8, 0.8, 0.7, 0.7, null, 0.8, 0.9, 0.6, 0.9, 1.0, 0.5, 0.4, 1.0, 0.7, 0.8, 0.6, 1.0, 0.7, 0.8, 0.8, 0.7, 0.8, 0.8, 0.3, 0.9, 0.6, 0.6, 0.7, 0.5, 0.6, 0.7, 1.0, 1.0, 0.9, 0.7, 0.1, 0.9, 1.0, 0.5, 0.9, 0.1, 0.1, null, 0.8, null, 0.8, 1.0, 0.7, 0.7, 0.8, 0.8, 0.6, 1.0, 0.3, null, 0.9, 0.9, 0.7, 0.6, 0.8, 0.9, 0.6, 0.5, 0.8, 0.1, 1.0, 0.5, 0.5, 1.0, 0.9, 1.0, 0.1, 0.6, 0.6, 0.4, 0.3, 0.5, 0.6, 0.9, 0.7, 0.7, 0.6, 1.0, 0.5, 1.0, 0.5, 1.0, 0.6, 0.7, null, 0.8, 0.9, 0.8, 0.3, null, 0.1, 0.1, null, 0.3, 0.7, 0.3, 0.7, 0.7, 1.0, 0.7, 0.6, 0.7, 0.8, 0.9, null, 1.0, 0.6, null, 0.8, 0.8, 0.8, 0.9, 0.9, 1.0, 0.9, 1.0, 1.0, null, 0.2, 0.1, 0.9, 0.1, 0.6, 0.8, 0.6, 0.8, 0.8, 0.9, 0.9, 0.2, 0.9, 0.5, 0.7, 0.1, 0.9, 0.9, null, 0.1, 0.4, 0.5, 0.1, 0.9, 1.0, 1.0, 0.3, 0.8, 0.6, 0.8, 0.5, 0.4, 0.7, 0.7, 0.9, 0.4, 0.7, 0.8, 0.5, 0.1, 0.6, 0.8, 1.0, 0.9, null, 0.4, 1.0, 0.4, 0.1, 0.8, null, 0.9, 0.6, null, 0.6, 0.6, 0.1, 0.8, 0.6, 0.7, 0.7, 0.1, 0.1, 0.9, 0.9, 0.7, 0.7, 0.1, 0.7, null, 0.7, 1.0, 1.0, 0.9, 1.0, 0.4, 0.3, 0.2, 0.4, 0.2, null, 1.0, 0.1, 1.0, 0.5, 0.7, 1.0, 0.9, null, 0.1, null, 0.2, 0.6, 1.0, 0.6, 1.0, 0.9, null, 1.0, 0.6, 1.0, 0.1, 0.9, null, 0.3, 0.8, 0.6, 1.0, 0.8, 0.3, 0.1, 0.8, 0.7, 0.9, 1.0, 1.0, 1.0, 0.5, 0.8, 0.7, 0.1, 1.0, 1.0, 0.4, 0.4, 0.3, 1.0, 1.0, 0.6, 0.7, 0.9, 0.8, 0.4, 1.0, null, 0.5, 1.0, 0.8, 0.6, 0.4, 0.4, 1.0, 1.0, 1.0, 0.7, 1.0, 0.6, 0.8, 0.9, 0.9, 0.3, 1.0, 0.4, 0.9, 1.0, 1.0, 1.0, 0.7, 0.8, null, 0.7, 0.9, 1.0, 0.9, 0.6, 0.1, 0.5, 0.1, 0.7, 0.8, 1.0, 0.1, 0.1, 0.9, 0.9, 0.7, 0.6, 0.1], \"xaxis\": \"x\", \"y\": [311, 3925, 7895, 2421, 4593, 39, 2394, 5177, 3630, 4339, 1947, 2363, 2407, 3426, 1624, 3385, 8132, 4856, 5706, 161, 3628, 3500, 2701, 1060, 1989, 7136, 1873, 473, 4880, 2666, 7345, 2874, 5000, 8129, 4467, 5029, 561, 6240, 946, 6967, 6842, 900, 307, 444, 569, 3854, 4941, 5727, 6603, 324, 1740, 627, 1299, 2584, 5036, 4637, 5432, 2512, 6107, 7070, 4883, 5797, 1159, 7664, 4002, 3941, 4455, 6856, 4442, 2909, 6638, 5194, 5467, 2064, 2695, 7434, 3239, 4063, 5318, 5018, 5922, 6914, 7044, 2257, 605, 7537, 536, 7822, 1156, 6519, 3809, 5259, 3696, 218, 7941, 3027, 6593, 1953, 2938, 4307, 1554, 3784, 2229, 2712, 8006, 103, 7332, 3553, 4558, 509, 5862, 3740, 7199, 2253, 74, 4591, 433, 1748, 7731, 6446, 1380, 4544, 1064, 4736, 6155, 4141, 6822, 5689, 3570, 4879, 5263, 7109, 4893, 1570, 5492, 6924, 6989, 813, 5309, 325, 3127, 1857, 7980, 8097, 1198, 7560, 6526, 2243, 2800, 5621, 5329, 5244, 4421, 1038, 4696, 3290, 5308, 941, 608, 1447, 6178, 4241, 7439, 1986, 6249, 3871, 943, 2403, 8016, 1508, 7482, 420, 130, 4623, 259, 6273, 2539, 6766, 4958, 3370, 6679, 3588, 496, 5296, 3906, 5062, 2285, 4444, 368, 1773, 4751, 2746, 7878, 7143, 7631, 3044, 5892, 4999, 5524, 288, 7801, 8036, 2093, 3667, 4337, 4168, 3016, 4190, 3858, 5402, 3909, 2917, 1233, 592, 3162, 6893, 6841, 5446, 7103, 1381, 7386, 3358, 7856, 6990, 7590, 4600, 5220, 1555, 1825, 2019, 4694, 3767, 2505, 863, 7587, 2656, 3268, 3866, 6582, 1332, 6498, 7169, 4250, 2916, 2038, 3741, 7761, 6606, 1956, 7131, 7665, 6144, 6396, 5735, 2389, 5994, 5510, 2252, 4530, 6798, 1063, 7624, 3059, 4405, 1206, 7550, 1041, 2262, 2000, 3165, 6484, 5971, 1463, 6262, 7408, 3353, 4930, 6882, 1090, 6234, 3157, 3291, 1720, 3840, 4078, 4451, 2355, 5272, 7276, 1287, 6775, 6339, 5817, 4186, 7787, 1993, 5749, 4106, 5960, 5408, 5738, 4523, 45, 2544, 7522, 513, 5962, 6983, 90, 6346, 2119, 3491, 6154, 6152, 186, 5947, 6507, 2934, 3205, 8047, 6751, 751, 6070, 2624, 6926, 4447, 2785, 3881, 5397, 5260, 3745, 5481, 4702, 8098, 6360, 7390, 6286, 4726, 6864, 108, 5082, 5459, 6366, 6023, 4545, 2993, 4463, 6785, 7573, 6297, 3369, 925, 5576, 7025, 2689, 2827, 3493, 6209, 1536, 1817, 1185, 7591, 3272, 6561, 4704, 1684, 2456, 834, 3467, 3942, 1071, 2641, 4563, 4228, 787, 7003, 558, 7052, 1971, 4612, 1409, 6441, 6334, 5910, 234, 2379, 5795, 239, 6005, 276, 351, 6116, 858, 7845, 3396, 2688, 3248, 7652, 6349, 7784, 1049, 5164, 7179, 7355, 5756, 4227, 2677, 537, 1392, 1653, 1924, 6651, 4411, 6660, 7543, 4762, 3786, 1683, 7153, 219, 5132, 5630, 963, 3201, 3231, 1814, 6623, 1271, 7243, 4320, 2772, 3802, 4554, 7216, 1736, 6337, 7512, 6270, 3015, 1758, 6123, 6404, 2488, 1050, 3504, 4989, 642, 6555, 99, 5283, 1785, 1217, 4785, 1070, 6539, 1102, 3986, 2514, 394, 7257, 7864, 1990, 5311, 7401, 5594, 2854, 7577, 3461, 6517, 2120, 4898, 4156, 763, 5130, 634, 5483, 6644, 4072, 6305, 2168, 5823, 4079, 5754, 2718, 2089, 7928, 2198, 7803, 299, 1525, 4315, 4446, 3343, 6964, 4195, 1917, 6414, 6743, 8003, 7375, 4848, 3516, 5166, 3473, 6148, 1098, 4857, 1537, 3903, 3455, 4257, 3862, 5232, 4506, 5999, 5974, 3032, 159, 1540, 5429, 553, 3712, 4278, 1216, 3847, 1938, 4799, 2065, 859, 2796, 7381, 718, 3851, 1328, 8120, 7262, 1454, 6854, 7656, 5937, 6207, 1165, 6837, 442, 7896, 5443, 2116, 5843, 2597, 3680, 3587, 2353, 7026, 5117, 119, 2441, 2358, 7972, 4023, 2341, 3276, 2842, 4434, 7425, 7724, 7632, 5316, 3186, 3731, 587, 5685, 2831, 3603, 6198, 2179, 6938, 3875, 5213, 3300, 3514, 3327, 3135, 7411, 555, 6741, 3701, 1145, 4579, 3123, 867, 2296, 695, 6231, 784, 6302, 2776, 4744, 5577, 4789, 6125, 1652, 3733, 6907, 4674, 5382, 4015, 6254, 254, 7230, 4360, 1475, 6680, 6347, 6799, 3938, 1162, 1122, 4741, 3465, 573, 2497, 7038, 7527, 1600, 6019, 5461, 4167, 3904, 5498, 1690, 644, 1075, 5773, 6011, 7304, 2667, 6929, 6681, 3794, 783, 6253, 1494, 1225, 2779, 5743, 7150, 691, 6204, 4148, 3577, 4258, 1954, 4285, 2345, 2271, 3384, 3187, 2411, 2083, 574, 2293, 3315, 5440, 5068, 958, 4502, 4239, 6715, 2054, 7658, 951, 1717, 6831, 5505, 1506, 5659, 4246, 4388, 5369, 729, 5055, 3977, 1988, 7891, 5703, 6483, 588, 2311, 2098, 4521, 5614, 231, 4909, 6991, 5135, 2907, 3957, 5692, 7074, 3448, 1224, 5721, 5339, 5442, 3076, 2657, 7729, 1104, 1998, 6122, 1289, 6671, 3511, 7011, 5564, 6697, 200, 1936, 169, 82, 1144, 4352, 6571, 4281, 4136, 1503, 1221, 994, 3928, 5033, 5182, 2443, 4977, 3773, 4296, 664, 7112, 2351, 4115, 3216, 5267, 4354, 7422, 7835, 5612, 5584, 1692, 6367, 1322, 4365, 6313, 5558, 2031, 6429, 3901, 354, 2886, 4244, 2567, 5620, 3916, 6550, 5239, 389, 5340, 1681, 5042, 5497, 2694, 3382, 1768, 503, 3657, 7670, 3521, 1657, 3371, 802, 4189, 5562, 7468, 5089, 115, 1961, 1921, 1732, 7959, 7481, 1297, 3724, 5208, 248, 4477, 5832, 3092, 7934, 2333, 4302, 5287, 3618], \"yaxis\": \"y\"}],                        {\"barmode\": \"relative\", \"legend\": {\"tracegroupgap\": 0}, \"margin\": {\"t\": 60}, \"template\": {\"data\": {\"bar\": [{\"error_x\": {\"color\": \"#2a3f5f\"}, \"error_y\": {\"color\": \"#2a3f5f\"}, \"marker\": {\"line\": {\"color\": \"#E5ECF6\", \"width\": 0.5}}, \"type\": \"bar\"}], \"barpolar\": [{\"marker\": {\"line\": {\"color\": \"#E5ECF6\", \"width\": 0.5}}, \"type\": \"barpolar\"}], \"carpet\": [{\"aaxis\": {\"endlinecolor\": \"#2a3f5f\", \"gridcolor\": \"white\", \"linecolor\": \"white\", \"minorgridcolor\": \"white\", \"startlinecolor\": \"#2a3f5f\"}, \"baxis\": {\"endlinecolor\": \"#2a3f5f\", \"gridcolor\": \"white\", \"linecolor\": \"white\", \"minorgridcolor\": \"white\", \"startlinecolor\": \"#2a3f5f\"}, \"type\": \"carpet\"}], \"choropleth\": [{\"colorbar\": {\"outlinewidth\": 0, \"ticks\": \"\"}, \"type\": \"choropleth\"}], \"contour\": [{\"colorbar\": {\"outlinewidth\": 0, \"ticks\": \"\"}, \"colorscale\": [[0.0, \"#0d0887\"], [0.1111111111111111, \"#46039f\"], [0.2222222222222222, \"#7201a8\"], [0.3333333333333333, \"#9c179e\"], [0.4444444444444444, \"#bd3786\"], [0.5555555555555556, \"#d8576b\"], [0.6666666666666666, \"#ed7953\"], [0.7777777777777778, \"#fb9f3a\"], [0.8888888888888888, \"#fdca26\"], [1.0, \"#f0f921\"]], \"type\": \"contour\"}], \"contourcarpet\": [{\"colorbar\": {\"outlinewidth\": 0, \"ticks\": \"\"}, \"type\": \"contourcarpet\"}], \"heatmap\": [{\"colorbar\": {\"outlinewidth\": 0, \"ticks\": \"\"}, \"colorscale\": [[0.0, \"#0d0887\"], [0.1111111111111111, \"#46039f\"], [0.2222222222222222, \"#7201a8\"], [0.3333333333333333, \"#9c179e\"], [0.4444444444444444, \"#bd3786\"], [0.5555555555555556, \"#d8576b\"], [0.6666666666666666, \"#ed7953\"], [0.7777777777777778, \"#fb9f3a\"], [0.8888888888888888, \"#fdca26\"], [1.0, \"#f0f921\"]], \"type\": \"heatmap\"}], \"heatmapgl\": [{\"colorbar\": {\"outlinewidth\": 0, \"ticks\": \"\"}, \"colorscale\": [[0.0, \"#0d0887\"], [0.1111111111111111, \"#46039f\"], [0.2222222222222222, \"#7201a8\"], [0.3333333333333333, \"#9c179e\"], [0.4444444444444444, \"#bd3786\"], [0.5555555555555556, \"#d8576b\"], [0.6666666666666666, \"#ed7953\"], [0.7777777777777778, \"#fb9f3a\"], [0.8888888888888888, \"#fdca26\"], [1.0, \"#f0f921\"]], \"type\": \"heatmapgl\"}], \"histogram\": [{\"marker\": {\"colorbar\": {\"outlinewidth\": 0, \"ticks\": \"\"}}, \"type\": \"histogram\"}], \"histogram2d\": [{\"colorbar\": {\"outlinewidth\": 0, \"ticks\": \"\"}, \"colorscale\": [[0.0, \"#0d0887\"], [0.1111111111111111, \"#46039f\"], [0.2222222222222222, \"#7201a8\"], [0.3333333333333333, \"#9c179e\"], [0.4444444444444444, \"#bd3786\"], [0.5555555555555556, \"#d8576b\"], [0.6666666666666666, \"#ed7953\"], [0.7777777777777778, \"#fb9f3a\"], [0.8888888888888888, \"#fdca26\"], [1.0, \"#f0f921\"]], \"type\": \"histogram2d\"}], \"histogram2dcontour\": [{\"colorbar\": {\"outlinewidth\": 0, \"ticks\": \"\"}, \"colorscale\": [[0.0, \"#0d0887\"], [0.1111111111111111, \"#46039f\"], [0.2222222222222222, \"#7201a8\"], [0.3333333333333333, \"#9c179e\"], [0.4444444444444444, \"#bd3786\"], [0.5555555555555556, \"#d8576b\"], [0.6666666666666666, \"#ed7953\"], [0.7777777777777778, \"#fb9f3a\"], [0.8888888888888888, \"#fdca26\"], [1.0, \"#f0f921\"]], \"type\": \"histogram2dcontour\"}], \"mesh3d\": [{\"colorbar\": {\"outlinewidth\": 0, \"ticks\": \"\"}, \"type\": \"mesh3d\"}], \"parcoords\": [{\"line\": {\"colorbar\": {\"outlinewidth\": 0, \"ticks\": \"\"}}, \"type\": \"parcoords\"}], \"pie\": [{\"automargin\": true, \"type\": \"pie\"}], \"scatter\": [{\"marker\": {\"colorbar\": {\"outlinewidth\": 0, \"ticks\": \"\"}}, \"type\": \"scatter\"}], \"scatter3d\": [{\"line\": {\"colorbar\": {\"outlinewidth\": 0, \"ticks\": \"\"}}, \"marker\": {\"colorbar\": {\"outlinewidth\": 0, \"ticks\": \"\"}}, \"type\": \"scatter3d\"}], \"scattercarpet\": [{\"marker\": {\"colorbar\": {\"outlinewidth\": 0, \"ticks\": \"\"}}, \"type\": \"scattercarpet\"}], \"scattergeo\": [{\"marker\": {\"colorbar\": {\"outlinewidth\": 0, \"ticks\": \"\"}}, \"type\": \"scattergeo\"}], \"scattergl\": [{\"marker\": {\"colorbar\": {\"outlinewidth\": 0, \"ticks\": \"\"}}, \"type\": \"scattergl\"}], \"scattermapbox\": [{\"marker\": {\"colorbar\": {\"outlinewidth\": 0, \"ticks\": \"\"}}, \"type\": \"scattermapbox\"}], \"scatterpolar\": [{\"marker\": {\"colorbar\": {\"outlinewidth\": 0, \"ticks\": \"\"}}, \"type\": \"scatterpolar\"}], \"scatterpolargl\": [{\"marker\": {\"colorbar\": {\"outlinewidth\": 0, \"ticks\": \"\"}}, \"type\": \"scatterpolargl\"}], \"scatterternary\": [{\"marker\": {\"colorbar\": {\"outlinewidth\": 0, \"ticks\": \"\"}}, \"type\": \"scatterternary\"}], \"surface\": [{\"colorbar\": {\"outlinewidth\": 0, \"ticks\": \"\"}, \"colorscale\": [[0.0, \"#0d0887\"], [0.1111111111111111, \"#46039f\"], [0.2222222222222222, \"#7201a8\"], [0.3333333333333333, \"#9c179e\"], [0.4444444444444444, \"#bd3786\"], [0.5555555555555556, \"#d8576b\"], [0.6666666666666666, \"#ed7953\"], [0.7777777777777778, \"#fb9f3a\"], [0.8888888888888888, \"#fdca26\"], [1.0, \"#f0f921\"]], \"type\": \"surface\"}], \"table\": [{\"cells\": {\"fill\": {\"color\": \"#EBF0F8\"}, \"line\": {\"color\": \"white\"}}, \"header\": {\"fill\": {\"color\": \"#C8D4E3\"}, \"line\": {\"color\": \"white\"}}, \"type\": \"table\"}]}, \"layout\": {\"annotationdefaults\": {\"arrowcolor\": \"#2a3f5f\", \"arrowhead\": 0, \"arrowwidth\": 1}, \"autotypenumbers\": \"strict\", \"coloraxis\": {\"colorbar\": {\"outlinewidth\": 0, \"ticks\": \"\"}}, \"colorscale\": {\"diverging\": [[0, \"#8e0152\"], [0.1, \"#c51b7d\"], [0.2, \"#de77ae\"], [0.3, \"#f1b6da\"], [0.4, \"#fde0ef\"], [0.5, \"#f7f7f7\"], [0.6, \"#e6f5d0\"], [0.7, \"#b8e186\"], [0.8, \"#7fbc41\"], [0.9, \"#4d9221\"], [1, \"#276419\"]], \"sequential\": [[0.0, \"#0d0887\"], [0.1111111111111111, \"#46039f\"], [0.2222222222222222, \"#7201a8\"], [0.3333333333333333, \"#9c179e\"], [0.4444444444444444, \"#bd3786\"], [0.5555555555555556, \"#d8576b\"], [0.6666666666666666, \"#ed7953\"], [0.7777777777777778, \"#fb9f3a\"], [0.8888888888888888, \"#fdca26\"], [1.0, \"#f0f921\"]], \"sequentialminus\": [[0.0, \"#0d0887\"], [0.1111111111111111, \"#46039f\"], [0.2222222222222222, \"#7201a8\"], [0.3333333333333333, \"#9c179e\"], [0.4444444444444444, \"#bd3786\"], [0.5555555555555556, \"#d8576b\"], [0.6666666666666666, \"#ed7953\"], [0.7777777777777778, \"#fb9f3a\"], [0.8888888888888888, \"#fdca26\"], [1.0, \"#f0f921\"]]}, \"colorway\": [\"#636efa\", \"#EF553B\", \"#00cc96\", \"#ab63fa\", \"#FFA15A\", \"#19d3f3\", \"#FF6692\", \"#B6E880\", \"#FF97FF\", \"#FECB52\"], \"font\": {\"color\": \"#2a3f5f\"}, \"geo\": {\"bgcolor\": \"white\", \"lakecolor\": \"white\", \"landcolor\": \"#E5ECF6\", \"showlakes\": true, \"showland\": true, \"subunitcolor\": \"white\"}, \"hoverlabel\": {\"align\": \"left\"}, \"hovermode\": \"closest\", \"mapbox\": {\"style\": \"light\"}, \"paper_bgcolor\": \"white\", \"plot_bgcolor\": \"#E5ECF6\", \"polar\": {\"angularaxis\": {\"gridcolor\": \"white\", \"linecolor\": \"white\", \"ticks\": \"\"}, \"bgcolor\": \"#E5ECF6\", \"radialaxis\": {\"gridcolor\": \"white\", \"linecolor\": \"white\", \"ticks\": \"\"}}, \"scene\": {\"xaxis\": {\"backgroundcolor\": \"#E5ECF6\", \"gridcolor\": \"white\", \"gridwidth\": 2, \"linecolor\": \"white\", \"showbackground\": true, \"ticks\": \"\", \"zerolinecolor\": \"white\"}, \"yaxis\": {\"backgroundcolor\": \"#E5ECF6\", \"gridcolor\": \"white\", \"gridwidth\": 2, \"linecolor\": \"white\", \"showbackground\": true, \"ticks\": \"\", \"zerolinecolor\": \"white\"}, \"zaxis\": {\"backgroundcolor\": \"#E5ECF6\", \"gridcolor\": \"white\", \"gridwidth\": 2, \"linecolor\": \"white\", \"showbackground\": true, \"ticks\": \"\", \"zerolinecolor\": \"white\"}}, \"shapedefaults\": {\"line\": {\"color\": \"#2a3f5f\"}}, \"ternary\": {\"aaxis\": {\"gridcolor\": \"white\", \"linecolor\": \"white\", \"ticks\": \"\"}, \"baxis\": {\"gridcolor\": \"white\", \"linecolor\": \"white\", \"ticks\": \"\"}, \"bgcolor\": \"#E5ECF6\", \"caxis\": {\"gridcolor\": \"white\", \"linecolor\": \"white\", \"ticks\": \"\"}}, \"title\": {\"x\": 0.05}, \"xaxis\": {\"automargin\": true, \"gridcolor\": \"white\", \"linecolor\": \"white\", \"ticks\": \"\", \"title\": {\"standoff\": 15}, \"zerolinecolor\": \"white\", \"zerolinewidth\": 2}, \"yaxis\": {\"automargin\": true, \"gridcolor\": \"white\", \"linecolor\": \"white\", \"ticks\": \"\", \"title\": {\"standoff\": 15}, \"zerolinecolor\": \"white\", \"zerolinewidth\": 2}}}, \"xaxis\": {\"anchor\": \"y\", \"domain\": [0.0, 1.0], \"title\": {\"text\": \"Evaluated_User_Rating\"}}, \"yaxis\": {\"anchor\": \"x\", \"domain\": [0.0, 1.0], \"title\": {\"text\": \"index\"}}},                        {\"responsive\": true}                    ).then(function(){\n",
       "                            \n",
       "var gd = document.getElementById('6e3c9e35-da86-4aea-a027-4cd5ea776313');\n",
       "var x = new MutationObserver(function (mutations, observer) {{\n",
       "        var display = window.getComputedStyle(gd).display;\n",
       "        if (!display || display === 'none') {{\n",
       "            console.log([gd, 'removed!']);\n",
       "            Plotly.purge(gd);\n",
       "            observer.disconnect();\n",
       "        }}\n",
       "}});\n",
       "\n",
       "// Listen for the removal of the full notebook cells\n",
       "var notebookContainer = gd.closest('#notebook-container');\n",
       "if (notebookContainer) {{\n",
       "    x.observe(notebookContainer, {childList: true});\n",
       "}}\n",
       "\n",
       "// Listen for the clearing of the current output cell\n",
       "var outputEl = gd.closest('.output');\n",
       "if (outputEl) {{\n",
       "    x.observe(outputEl, {childList: true});\n",
       "}}\n",
       "\n",
       "                        })                };                });            </script>        </div>"
      ]
     },
     "metadata": {},
     "output_type": "display_data"
    }
   ],
   "source": [
    "fig = px.bar(Score_sample, x=\"Evaluated_User_Rating\")\n",
    "fig.show()"
   ]
  },
  {
   "cell_type": "code",
   "execution_count": null,
   "metadata": {},
   "outputs": [],
   "source": []
  },
  {
   "cell_type": "code",
   "execution_count": 37,
   "metadata": {},
   "outputs": [
    {
     "data": {
      "text/plain": [
       "[65, 21, 33, 33, 51, 75, 111, 107, 95, 134]"
      ]
     },
     "execution_count": 37,
     "metadata": {},
     "output_type": "execute_result"
    }
   ],
   "source": [
    "counts = []\n",
    "counts.append(Score_sample.loc[Score_sample.Evaluated_User_Rating==0.1,'Evaluated_User_Rating'].count())\n",
    "counts.append(Score_sample.loc[Score_sample.Evaluated_User_Rating==0.2,'Evaluated_User_Rating'].count())\n",
    "counts.append(Score_sample.loc[Score_sample.Evaluated_User_Rating==0.3,'Evaluated_User_Rating'].count())\n",
    "counts.append(Score_sample.loc[Score_sample.Evaluated_User_Rating==0.4,'Evaluated_User_Rating'].count())\n",
    "counts.append(Score_sample.loc[Score_sample.Evaluated_User_Rating==0.5,'Evaluated_User_Rating'].count())\n",
    "counts.append(Score_sample.loc[Score_sample.Evaluated_User_Rating==0.6,'Evaluated_User_Rating'].count())\n",
    "counts.append(Score_sample.loc[Score_sample.Evaluated_User_Rating==0.7,'Evaluated_User_Rating'].count())\n",
    "counts.append(Score_sample.loc[Score_sample.Evaluated_User_Rating==0.8,'Evaluated_User_Rating'].count())\n",
    "counts.append(Score_sample.loc[Score_sample.Evaluated_User_Rating==0.9,'Evaluated_User_Rating'].count())\n",
    "counts.append(Score_sample.loc[Score_sample.Evaluated_User_Rating==1.0,'Evaluated_User_Rating'].count())\n",
    "counts"
   ]
  },
  {
   "cell_type": "code",
   "execution_count": 43,
   "metadata": {},
   "outputs": [],
   "source": [
    "Bar_df = pd.DataFrame(data=\n",
    "                      [(0.1,counts[0]),(0.2,counts[1]),(0.3,counts[2]),(0.4,counts[3]),(0.5,counts[4]),(0.6,counts[5]),\n",
    "                       (0.7,counts[6]),(0.8,counts[7]),(0.9,counts[8]),(1.0,counts[9])\n",
    "                      ],columns=['Evaluated_User_Rating','Count'])"
   ]
  },
  {
   "cell_type": "code",
   "execution_count": 173,
   "metadata": {},
   "outputs": [
    {
     "data": {
      "application/vnd.plotly.v1+json": {
       "config": {
        "plotlyServerURL": "https://plotly.com"
       },
       "data": [
        {
         "alignmentgroup": "True",
         "hovertemplate": "Evaluated_User_Rating=%{x}<br>Count=%{y}<extra></extra>",
         "legendgroup": "",
         "marker": {
          "color": "#636efa"
         },
         "name": "",
         "offsetgroup": "",
         "orientation": "v",
         "showlegend": false,
         "textposition": "auto",
         "type": "bar",
         "x": [
          0.1,
          0.2,
          0.3,
          0.4,
          0.5,
          0.6,
          0.7,
          0.8,
          0.9,
          1
         ],
         "xaxis": "x",
         "y": [
          65,
          21,
          33,
          33,
          51,
          75,
          111,
          107,
          95,
          134
         ],
         "yaxis": "y"
        }
       ],
       "layout": {
        "barmode": "relative",
        "legend": {
         "tracegroupgap": 0
        },
        "template": {
         "data": {
          "bar": [
           {
            "error_x": {
             "color": "#2a3f5f"
            },
            "error_y": {
             "color": "#2a3f5f"
            },
            "marker": {
             "line": {
              "color": "#E5ECF6",
              "width": 0.5
             }
            },
            "type": "bar"
           }
          ],
          "barpolar": [
           {
            "marker": {
             "line": {
              "color": "#E5ECF6",
              "width": 0.5
             }
            },
            "type": "barpolar"
           }
          ],
          "carpet": [
           {
            "aaxis": {
             "endlinecolor": "#2a3f5f",
             "gridcolor": "white",
             "linecolor": "white",
             "minorgridcolor": "white",
             "startlinecolor": "#2a3f5f"
            },
            "baxis": {
             "endlinecolor": "#2a3f5f",
             "gridcolor": "white",
             "linecolor": "white",
             "minorgridcolor": "white",
             "startlinecolor": "#2a3f5f"
            },
            "type": "carpet"
           }
          ],
          "choropleth": [
           {
            "colorbar": {
             "outlinewidth": 0,
             "ticks": ""
            },
            "type": "choropleth"
           }
          ],
          "contour": [
           {
            "colorbar": {
             "outlinewidth": 0,
             "ticks": ""
            },
            "colorscale": [
             [
              0,
              "#0d0887"
             ],
             [
              0.1111111111111111,
              "#46039f"
             ],
             [
              0.2222222222222222,
              "#7201a8"
             ],
             [
              0.3333333333333333,
              "#9c179e"
             ],
             [
              0.4444444444444444,
              "#bd3786"
             ],
             [
              0.5555555555555556,
              "#d8576b"
             ],
             [
              0.6666666666666666,
              "#ed7953"
             ],
             [
              0.7777777777777778,
              "#fb9f3a"
             ],
             [
              0.8888888888888888,
              "#fdca26"
             ],
             [
              1,
              "#f0f921"
             ]
            ],
            "type": "contour"
           }
          ],
          "contourcarpet": [
           {
            "colorbar": {
             "outlinewidth": 0,
             "ticks": ""
            },
            "type": "contourcarpet"
           }
          ],
          "heatmap": [
           {
            "colorbar": {
             "outlinewidth": 0,
             "ticks": ""
            },
            "colorscale": [
             [
              0,
              "#0d0887"
             ],
             [
              0.1111111111111111,
              "#46039f"
             ],
             [
              0.2222222222222222,
              "#7201a8"
             ],
             [
              0.3333333333333333,
              "#9c179e"
             ],
             [
              0.4444444444444444,
              "#bd3786"
             ],
             [
              0.5555555555555556,
              "#d8576b"
             ],
             [
              0.6666666666666666,
              "#ed7953"
             ],
             [
              0.7777777777777778,
              "#fb9f3a"
             ],
             [
              0.8888888888888888,
              "#fdca26"
             ],
             [
              1,
              "#f0f921"
             ]
            ],
            "type": "heatmap"
           }
          ],
          "heatmapgl": [
           {
            "colorbar": {
             "outlinewidth": 0,
             "ticks": ""
            },
            "colorscale": [
             [
              0,
              "#0d0887"
             ],
             [
              0.1111111111111111,
              "#46039f"
             ],
             [
              0.2222222222222222,
              "#7201a8"
             ],
             [
              0.3333333333333333,
              "#9c179e"
             ],
             [
              0.4444444444444444,
              "#bd3786"
             ],
             [
              0.5555555555555556,
              "#d8576b"
             ],
             [
              0.6666666666666666,
              "#ed7953"
             ],
             [
              0.7777777777777778,
              "#fb9f3a"
             ],
             [
              0.8888888888888888,
              "#fdca26"
             ],
             [
              1,
              "#f0f921"
             ]
            ],
            "type": "heatmapgl"
           }
          ],
          "histogram": [
           {
            "marker": {
             "colorbar": {
              "outlinewidth": 0,
              "ticks": ""
             }
            },
            "type": "histogram"
           }
          ],
          "histogram2d": [
           {
            "colorbar": {
             "outlinewidth": 0,
             "ticks": ""
            },
            "colorscale": [
             [
              0,
              "#0d0887"
             ],
             [
              0.1111111111111111,
              "#46039f"
             ],
             [
              0.2222222222222222,
              "#7201a8"
             ],
             [
              0.3333333333333333,
              "#9c179e"
             ],
             [
              0.4444444444444444,
              "#bd3786"
             ],
             [
              0.5555555555555556,
              "#d8576b"
             ],
             [
              0.6666666666666666,
              "#ed7953"
             ],
             [
              0.7777777777777778,
              "#fb9f3a"
             ],
             [
              0.8888888888888888,
              "#fdca26"
             ],
             [
              1,
              "#f0f921"
             ]
            ],
            "type": "histogram2d"
           }
          ],
          "histogram2dcontour": [
           {
            "colorbar": {
             "outlinewidth": 0,
             "ticks": ""
            },
            "colorscale": [
             [
              0,
              "#0d0887"
             ],
             [
              0.1111111111111111,
              "#46039f"
             ],
             [
              0.2222222222222222,
              "#7201a8"
             ],
             [
              0.3333333333333333,
              "#9c179e"
             ],
             [
              0.4444444444444444,
              "#bd3786"
             ],
             [
              0.5555555555555556,
              "#d8576b"
             ],
             [
              0.6666666666666666,
              "#ed7953"
             ],
             [
              0.7777777777777778,
              "#fb9f3a"
             ],
             [
              0.8888888888888888,
              "#fdca26"
             ],
             [
              1,
              "#f0f921"
             ]
            ],
            "type": "histogram2dcontour"
           }
          ],
          "mesh3d": [
           {
            "colorbar": {
             "outlinewidth": 0,
             "ticks": ""
            },
            "type": "mesh3d"
           }
          ],
          "parcoords": [
           {
            "line": {
             "colorbar": {
              "outlinewidth": 0,
              "ticks": ""
             }
            },
            "type": "parcoords"
           }
          ],
          "pie": [
           {
            "automargin": true,
            "type": "pie"
           }
          ],
          "scatter": [
           {
            "marker": {
             "colorbar": {
              "outlinewidth": 0,
              "ticks": ""
             }
            },
            "type": "scatter"
           }
          ],
          "scatter3d": [
           {
            "line": {
             "colorbar": {
              "outlinewidth": 0,
              "ticks": ""
             }
            },
            "marker": {
             "colorbar": {
              "outlinewidth": 0,
              "ticks": ""
             }
            },
            "type": "scatter3d"
           }
          ],
          "scattercarpet": [
           {
            "marker": {
             "colorbar": {
              "outlinewidth": 0,
              "ticks": ""
             }
            },
            "type": "scattercarpet"
           }
          ],
          "scattergeo": [
           {
            "marker": {
             "colorbar": {
              "outlinewidth": 0,
              "ticks": ""
             }
            },
            "type": "scattergeo"
           }
          ],
          "scattergl": [
           {
            "marker": {
             "colorbar": {
              "outlinewidth": 0,
              "ticks": ""
             }
            },
            "type": "scattergl"
           }
          ],
          "scattermapbox": [
           {
            "marker": {
             "colorbar": {
              "outlinewidth": 0,
              "ticks": ""
             }
            },
            "type": "scattermapbox"
           }
          ],
          "scatterpolar": [
           {
            "marker": {
             "colorbar": {
              "outlinewidth": 0,
              "ticks": ""
             }
            },
            "type": "scatterpolar"
           }
          ],
          "scatterpolargl": [
           {
            "marker": {
             "colorbar": {
              "outlinewidth": 0,
              "ticks": ""
             }
            },
            "type": "scatterpolargl"
           }
          ],
          "scatterternary": [
           {
            "marker": {
             "colorbar": {
              "outlinewidth": 0,
              "ticks": ""
             }
            },
            "type": "scatterternary"
           }
          ],
          "surface": [
           {
            "colorbar": {
             "outlinewidth": 0,
             "ticks": ""
            },
            "colorscale": [
             [
              0,
              "#0d0887"
             ],
             [
              0.1111111111111111,
              "#46039f"
             ],
             [
              0.2222222222222222,
              "#7201a8"
             ],
             [
              0.3333333333333333,
              "#9c179e"
             ],
             [
              0.4444444444444444,
              "#bd3786"
             ],
             [
              0.5555555555555556,
              "#d8576b"
             ],
             [
              0.6666666666666666,
              "#ed7953"
             ],
             [
              0.7777777777777778,
              "#fb9f3a"
             ],
             [
              0.8888888888888888,
              "#fdca26"
             ],
             [
              1,
              "#f0f921"
             ]
            ],
            "type": "surface"
           }
          ],
          "table": [
           {
            "cells": {
             "fill": {
              "color": "#EBF0F8"
             },
             "line": {
              "color": "white"
             }
            },
            "header": {
             "fill": {
              "color": "#C8D4E3"
             },
             "line": {
              "color": "white"
             }
            },
            "type": "table"
           }
          ]
         },
         "layout": {
          "annotationdefaults": {
           "arrowcolor": "#2a3f5f",
           "arrowhead": 0,
           "arrowwidth": 1
          },
          "autotypenumbers": "strict",
          "coloraxis": {
           "colorbar": {
            "outlinewidth": 0,
            "ticks": ""
           }
          },
          "colorscale": {
           "diverging": [
            [
             0,
             "#8e0152"
            ],
            [
             0.1,
             "#c51b7d"
            ],
            [
             0.2,
             "#de77ae"
            ],
            [
             0.3,
             "#f1b6da"
            ],
            [
             0.4,
             "#fde0ef"
            ],
            [
             0.5,
             "#f7f7f7"
            ],
            [
             0.6,
             "#e6f5d0"
            ],
            [
             0.7,
             "#b8e186"
            ],
            [
             0.8,
             "#7fbc41"
            ],
            [
             0.9,
             "#4d9221"
            ],
            [
             1,
             "#276419"
            ]
           ],
           "sequential": [
            [
             0,
             "#0d0887"
            ],
            [
             0.1111111111111111,
             "#46039f"
            ],
            [
             0.2222222222222222,
             "#7201a8"
            ],
            [
             0.3333333333333333,
             "#9c179e"
            ],
            [
             0.4444444444444444,
             "#bd3786"
            ],
            [
             0.5555555555555556,
             "#d8576b"
            ],
            [
             0.6666666666666666,
             "#ed7953"
            ],
            [
             0.7777777777777778,
             "#fb9f3a"
            ],
            [
             0.8888888888888888,
             "#fdca26"
            ],
            [
             1,
             "#f0f921"
            ]
           ],
           "sequentialminus": [
            [
             0,
             "#0d0887"
            ],
            [
             0.1111111111111111,
             "#46039f"
            ],
            [
             0.2222222222222222,
             "#7201a8"
            ],
            [
             0.3333333333333333,
             "#9c179e"
            ],
            [
             0.4444444444444444,
             "#bd3786"
            ],
            [
             0.5555555555555556,
             "#d8576b"
            ],
            [
             0.6666666666666666,
             "#ed7953"
            ],
            [
             0.7777777777777778,
             "#fb9f3a"
            ],
            [
             0.8888888888888888,
             "#fdca26"
            ],
            [
             1,
             "#f0f921"
            ]
           ]
          },
          "colorway": [
           "#636efa",
           "#EF553B",
           "#00cc96",
           "#ab63fa",
           "#FFA15A",
           "#19d3f3",
           "#FF6692",
           "#B6E880",
           "#FF97FF",
           "#FECB52"
          ],
          "font": {
           "color": "#2a3f5f"
          },
          "geo": {
           "bgcolor": "white",
           "lakecolor": "white",
           "landcolor": "#E5ECF6",
           "showlakes": true,
           "showland": true,
           "subunitcolor": "white"
          },
          "hoverlabel": {
           "align": "left"
          },
          "hovermode": "closest",
          "mapbox": {
           "style": "light"
          },
          "paper_bgcolor": "white",
          "plot_bgcolor": "#E5ECF6",
          "polar": {
           "angularaxis": {
            "gridcolor": "white",
            "linecolor": "white",
            "ticks": ""
           },
           "bgcolor": "#E5ECF6",
           "radialaxis": {
            "gridcolor": "white",
            "linecolor": "white",
            "ticks": ""
           }
          },
          "scene": {
           "xaxis": {
            "backgroundcolor": "#E5ECF6",
            "gridcolor": "white",
            "gridwidth": 2,
            "linecolor": "white",
            "showbackground": true,
            "ticks": "",
            "zerolinecolor": "white"
           },
           "yaxis": {
            "backgroundcolor": "#E5ECF6",
            "gridcolor": "white",
            "gridwidth": 2,
            "linecolor": "white",
            "showbackground": true,
            "ticks": "",
            "zerolinecolor": "white"
           },
           "zaxis": {
            "backgroundcolor": "#E5ECF6",
            "gridcolor": "white",
            "gridwidth": 2,
            "linecolor": "white",
            "showbackground": true,
            "ticks": "",
            "zerolinecolor": "white"
           }
          },
          "shapedefaults": {
           "line": {
            "color": "#2a3f5f"
           }
          },
          "ternary": {
           "aaxis": {
            "gridcolor": "white",
            "linecolor": "white",
            "ticks": ""
           },
           "baxis": {
            "gridcolor": "white",
            "linecolor": "white",
            "ticks": ""
           },
           "bgcolor": "#E5ECF6",
           "caxis": {
            "gridcolor": "white",
            "linecolor": "white",
            "ticks": ""
           }
          },
          "title": {
           "x": 0.05
          },
          "xaxis": {
           "automargin": true,
           "gridcolor": "white",
           "linecolor": "white",
           "ticks": "",
           "title": {
            "standoff": 15
           },
           "zerolinecolor": "white",
           "zerolinewidth": 2
          },
          "yaxis": {
           "automargin": true,
           "gridcolor": "white",
           "linecolor": "white",
           "ticks": "",
           "title": {
            "standoff": 15
           },
           "zerolinecolor": "white",
           "zerolinewidth": 2
          }
         }
        },
        "title": {
         "text": "User Rating Counts of Sample"
        },
        "xaxis": {
         "anchor": "y",
         "domain": [
          0,
          1
         ],
         "linecolor": "black",
         "nticks": 11,
         "showline": true,
         "showticklabels": true,
         "ticks": "outside",
         "title": {
          "text": "User Rating"
         }
        },
        "yaxis": {
         "anchor": "x",
         "domain": [
          0,
          1
         ],
         "linecolor": "black",
         "nticks": 12,
         "showline": true,
         "ticks": "outside",
         "title": {
          "text": "Count"
         }
        }
       }
      },
      "text/html": [
       "<div>                            <div id=\"7b033e50-ce59-4625-b0a3-8387bcf284cc\" class=\"plotly-graph-div\" style=\"height:525px; width:100%;\"></div>            <script type=\"text/javascript\">                require([\"plotly\"], function(Plotly) {                    window.PLOTLYENV=window.PLOTLYENV || {};                                    if (document.getElementById(\"7b033e50-ce59-4625-b0a3-8387bcf284cc\")) {                    Plotly.newPlot(                        \"7b033e50-ce59-4625-b0a3-8387bcf284cc\",                        [{\"alignmentgroup\": \"True\", \"hovertemplate\": \"Evaluated_User_Rating=%{x}<br>Count=%{y}<extra></extra>\", \"legendgroup\": \"\", \"marker\": {\"color\": \"#636efa\"}, \"name\": \"\", \"offsetgroup\": \"\", \"orientation\": \"v\", \"showlegend\": false, \"textposition\": \"auto\", \"type\": \"bar\", \"x\": [0.1, 0.2, 0.3, 0.4, 0.5, 0.6, 0.7, 0.8, 0.9, 1.0], \"xaxis\": \"x\", \"y\": [65, 21, 33, 33, 51, 75, 111, 107, 95, 134], \"yaxis\": \"y\"}],                        {\"barmode\": \"relative\", \"legend\": {\"tracegroupgap\": 0}, \"template\": {\"data\": {\"bar\": [{\"error_x\": {\"color\": \"#2a3f5f\"}, \"error_y\": {\"color\": \"#2a3f5f\"}, \"marker\": {\"line\": {\"color\": \"#E5ECF6\", \"width\": 0.5}}, \"type\": \"bar\"}], \"barpolar\": [{\"marker\": {\"line\": {\"color\": \"#E5ECF6\", \"width\": 0.5}}, \"type\": \"barpolar\"}], \"carpet\": [{\"aaxis\": {\"endlinecolor\": \"#2a3f5f\", \"gridcolor\": \"white\", \"linecolor\": \"white\", \"minorgridcolor\": \"white\", \"startlinecolor\": \"#2a3f5f\"}, \"baxis\": {\"endlinecolor\": \"#2a3f5f\", \"gridcolor\": \"white\", \"linecolor\": \"white\", \"minorgridcolor\": \"white\", \"startlinecolor\": \"#2a3f5f\"}, \"type\": \"carpet\"}], \"choropleth\": [{\"colorbar\": {\"outlinewidth\": 0, \"ticks\": \"\"}, \"type\": \"choropleth\"}], \"contour\": [{\"colorbar\": {\"outlinewidth\": 0, \"ticks\": \"\"}, \"colorscale\": [[0.0, \"#0d0887\"], [0.1111111111111111, \"#46039f\"], [0.2222222222222222, \"#7201a8\"], [0.3333333333333333, \"#9c179e\"], [0.4444444444444444, \"#bd3786\"], [0.5555555555555556, \"#d8576b\"], [0.6666666666666666, \"#ed7953\"], [0.7777777777777778, \"#fb9f3a\"], [0.8888888888888888, \"#fdca26\"], [1.0, \"#f0f921\"]], \"type\": \"contour\"}], \"contourcarpet\": [{\"colorbar\": {\"outlinewidth\": 0, \"ticks\": \"\"}, \"type\": \"contourcarpet\"}], \"heatmap\": [{\"colorbar\": {\"outlinewidth\": 0, \"ticks\": \"\"}, \"colorscale\": [[0.0, \"#0d0887\"], [0.1111111111111111, \"#46039f\"], [0.2222222222222222, \"#7201a8\"], [0.3333333333333333, \"#9c179e\"], [0.4444444444444444, \"#bd3786\"], [0.5555555555555556, \"#d8576b\"], [0.6666666666666666, \"#ed7953\"], [0.7777777777777778, \"#fb9f3a\"], [0.8888888888888888, \"#fdca26\"], [1.0, \"#f0f921\"]], \"type\": \"heatmap\"}], \"heatmapgl\": [{\"colorbar\": {\"outlinewidth\": 0, \"ticks\": \"\"}, \"colorscale\": [[0.0, \"#0d0887\"], [0.1111111111111111, \"#46039f\"], [0.2222222222222222, \"#7201a8\"], [0.3333333333333333, \"#9c179e\"], [0.4444444444444444, \"#bd3786\"], [0.5555555555555556, \"#d8576b\"], [0.6666666666666666, \"#ed7953\"], [0.7777777777777778, \"#fb9f3a\"], [0.8888888888888888, \"#fdca26\"], [1.0, \"#f0f921\"]], \"type\": \"heatmapgl\"}], \"histogram\": [{\"marker\": {\"colorbar\": {\"outlinewidth\": 0, \"ticks\": \"\"}}, \"type\": \"histogram\"}], \"histogram2d\": [{\"colorbar\": {\"outlinewidth\": 0, \"ticks\": \"\"}, \"colorscale\": [[0.0, \"#0d0887\"], [0.1111111111111111, \"#46039f\"], [0.2222222222222222, \"#7201a8\"], [0.3333333333333333, \"#9c179e\"], [0.4444444444444444, \"#bd3786\"], [0.5555555555555556, \"#d8576b\"], [0.6666666666666666, \"#ed7953\"], [0.7777777777777778, \"#fb9f3a\"], [0.8888888888888888, \"#fdca26\"], [1.0, \"#f0f921\"]], \"type\": \"histogram2d\"}], \"histogram2dcontour\": [{\"colorbar\": {\"outlinewidth\": 0, \"ticks\": \"\"}, \"colorscale\": [[0.0, \"#0d0887\"], [0.1111111111111111, \"#46039f\"], [0.2222222222222222, \"#7201a8\"], [0.3333333333333333, \"#9c179e\"], [0.4444444444444444, \"#bd3786\"], [0.5555555555555556, \"#d8576b\"], [0.6666666666666666, \"#ed7953\"], [0.7777777777777778, \"#fb9f3a\"], [0.8888888888888888, \"#fdca26\"], [1.0, \"#f0f921\"]], \"type\": \"histogram2dcontour\"}], \"mesh3d\": [{\"colorbar\": {\"outlinewidth\": 0, \"ticks\": \"\"}, \"type\": \"mesh3d\"}], \"parcoords\": [{\"line\": {\"colorbar\": {\"outlinewidth\": 0, \"ticks\": \"\"}}, \"type\": \"parcoords\"}], \"pie\": [{\"automargin\": true, \"type\": \"pie\"}], \"scatter\": [{\"marker\": {\"colorbar\": {\"outlinewidth\": 0, \"ticks\": \"\"}}, \"type\": \"scatter\"}], \"scatter3d\": [{\"line\": {\"colorbar\": {\"outlinewidth\": 0, \"ticks\": \"\"}}, \"marker\": {\"colorbar\": {\"outlinewidth\": 0, \"ticks\": \"\"}}, \"type\": \"scatter3d\"}], \"scattercarpet\": [{\"marker\": {\"colorbar\": {\"outlinewidth\": 0, \"ticks\": \"\"}}, \"type\": \"scattercarpet\"}], \"scattergeo\": [{\"marker\": {\"colorbar\": {\"outlinewidth\": 0, \"ticks\": \"\"}}, \"type\": \"scattergeo\"}], \"scattergl\": [{\"marker\": {\"colorbar\": {\"outlinewidth\": 0, \"ticks\": \"\"}}, \"type\": \"scattergl\"}], \"scattermapbox\": [{\"marker\": {\"colorbar\": {\"outlinewidth\": 0, \"ticks\": \"\"}}, \"type\": \"scattermapbox\"}], \"scatterpolar\": [{\"marker\": {\"colorbar\": {\"outlinewidth\": 0, \"ticks\": \"\"}}, \"type\": \"scatterpolar\"}], \"scatterpolargl\": [{\"marker\": {\"colorbar\": {\"outlinewidth\": 0, \"ticks\": \"\"}}, \"type\": \"scatterpolargl\"}], \"scatterternary\": [{\"marker\": {\"colorbar\": {\"outlinewidth\": 0, \"ticks\": \"\"}}, \"type\": \"scatterternary\"}], \"surface\": [{\"colorbar\": {\"outlinewidth\": 0, \"ticks\": \"\"}, \"colorscale\": [[0.0, \"#0d0887\"], [0.1111111111111111, \"#46039f\"], [0.2222222222222222, \"#7201a8\"], [0.3333333333333333, \"#9c179e\"], [0.4444444444444444, \"#bd3786\"], [0.5555555555555556, \"#d8576b\"], [0.6666666666666666, \"#ed7953\"], [0.7777777777777778, \"#fb9f3a\"], [0.8888888888888888, \"#fdca26\"], [1.0, \"#f0f921\"]], \"type\": \"surface\"}], \"table\": [{\"cells\": {\"fill\": {\"color\": \"#EBF0F8\"}, \"line\": {\"color\": \"white\"}}, \"header\": {\"fill\": {\"color\": \"#C8D4E3\"}, \"line\": {\"color\": \"white\"}}, \"type\": \"table\"}]}, \"layout\": {\"annotationdefaults\": {\"arrowcolor\": \"#2a3f5f\", \"arrowhead\": 0, \"arrowwidth\": 1}, \"autotypenumbers\": \"strict\", \"coloraxis\": {\"colorbar\": {\"outlinewidth\": 0, \"ticks\": \"\"}}, \"colorscale\": {\"diverging\": [[0, \"#8e0152\"], [0.1, \"#c51b7d\"], [0.2, \"#de77ae\"], [0.3, \"#f1b6da\"], [0.4, \"#fde0ef\"], [0.5, \"#f7f7f7\"], [0.6, \"#e6f5d0\"], [0.7, \"#b8e186\"], [0.8, \"#7fbc41\"], [0.9, \"#4d9221\"], [1, \"#276419\"]], \"sequential\": [[0.0, \"#0d0887\"], [0.1111111111111111, \"#46039f\"], [0.2222222222222222, \"#7201a8\"], [0.3333333333333333, \"#9c179e\"], [0.4444444444444444, \"#bd3786\"], [0.5555555555555556, \"#d8576b\"], [0.6666666666666666, \"#ed7953\"], [0.7777777777777778, \"#fb9f3a\"], [0.8888888888888888, \"#fdca26\"], [1.0, \"#f0f921\"]], \"sequentialminus\": [[0.0, \"#0d0887\"], [0.1111111111111111, \"#46039f\"], [0.2222222222222222, \"#7201a8\"], [0.3333333333333333, \"#9c179e\"], [0.4444444444444444, \"#bd3786\"], [0.5555555555555556, \"#d8576b\"], [0.6666666666666666, \"#ed7953\"], [0.7777777777777778, \"#fb9f3a\"], [0.8888888888888888, \"#fdca26\"], [1.0, \"#f0f921\"]]}, \"colorway\": [\"#636efa\", \"#EF553B\", \"#00cc96\", \"#ab63fa\", \"#FFA15A\", \"#19d3f3\", \"#FF6692\", \"#B6E880\", \"#FF97FF\", \"#FECB52\"], \"font\": {\"color\": \"#2a3f5f\"}, \"geo\": {\"bgcolor\": \"white\", \"lakecolor\": \"white\", \"landcolor\": \"#E5ECF6\", \"showlakes\": true, \"showland\": true, \"subunitcolor\": \"white\"}, \"hoverlabel\": {\"align\": \"left\"}, \"hovermode\": \"closest\", \"mapbox\": {\"style\": \"light\"}, \"paper_bgcolor\": \"white\", \"plot_bgcolor\": \"#E5ECF6\", \"polar\": {\"angularaxis\": {\"gridcolor\": \"white\", \"linecolor\": \"white\", \"ticks\": \"\"}, \"bgcolor\": \"#E5ECF6\", \"radialaxis\": {\"gridcolor\": \"white\", \"linecolor\": \"white\", \"ticks\": \"\"}}, \"scene\": {\"xaxis\": {\"backgroundcolor\": \"#E5ECF6\", \"gridcolor\": \"white\", \"gridwidth\": 2, \"linecolor\": \"white\", \"showbackground\": true, \"ticks\": \"\", \"zerolinecolor\": \"white\"}, \"yaxis\": {\"backgroundcolor\": \"#E5ECF6\", \"gridcolor\": \"white\", \"gridwidth\": 2, \"linecolor\": \"white\", \"showbackground\": true, \"ticks\": \"\", \"zerolinecolor\": \"white\"}, \"zaxis\": {\"backgroundcolor\": \"#E5ECF6\", \"gridcolor\": \"white\", \"gridwidth\": 2, \"linecolor\": \"white\", \"showbackground\": true, \"ticks\": \"\", \"zerolinecolor\": \"white\"}}, \"shapedefaults\": {\"line\": {\"color\": \"#2a3f5f\"}}, \"ternary\": {\"aaxis\": {\"gridcolor\": \"white\", \"linecolor\": \"white\", \"ticks\": \"\"}, \"baxis\": {\"gridcolor\": \"white\", \"linecolor\": \"white\", \"ticks\": \"\"}, \"bgcolor\": \"#E5ECF6\", \"caxis\": {\"gridcolor\": \"white\", \"linecolor\": \"white\", \"ticks\": \"\"}}, \"title\": {\"x\": 0.05}, \"xaxis\": {\"automargin\": true, \"gridcolor\": \"white\", \"linecolor\": \"white\", \"ticks\": \"\", \"title\": {\"standoff\": 15}, \"zerolinecolor\": \"white\", \"zerolinewidth\": 2}, \"yaxis\": {\"automargin\": true, \"gridcolor\": \"white\", \"linecolor\": \"white\", \"ticks\": \"\", \"title\": {\"standoff\": 15}, \"zerolinecolor\": \"white\", \"zerolinewidth\": 2}}}, \"title\": {\"text\": \"User Rating Counts of Sample\"}, \"xaxis\": {\"anchor\": \"y\", \"domain\": [0.0, 1.0], \"linecolor\": \"black\", \"nticks\": 11, \"showline\": true, \"showticklabels\": true, \"ticks\": \"outside\", \"title\": {\"text\": \"User Rating\"}}, \"yaxis\": {\"anchor\": \"x\", \"domain\": [0.0, 1.0], \"linecolor\": \"black\", \"nticks\": 12, \"showline\": true, \"ticks\": \"outside\", \"title\": {\"text\": \"Count\"}}},                        {\"responsive\": true}                    ).then(function(){\n",
       "                            \n",
       "var gd = document.getElementById('7b033e50-ce59-4625-b0a3-8387bcf284cc');\n",
       "var x = new MutationObserver(function (mutations, observer) {{\n",
       "        var display = window.getComputedStyle(gd).display;\n",
       "        if (!display || display === 'none') {{\n",
       "            console.log([gd, 'removed!']);\n",
       "            Plotly.purge(gd);\n",
       "            observer.disconnect();\n",
       "        }}\n",
       "}});\n",
       "\n",
       "// Listen for the removal of the full notebook cells\n",
       "var notebookContainer = gd.closest('#notebook-container');\n",
       "if (notebookContainer) {{\n",
       "    x.observe(notebookContainer, {childList: true});\n",
       "}}\n",
       "\n",
       "// Listen for the clearing of the current output cell\n",
       "var outputEl = gd.closest('.output');\n",
       "if (outputEl) {{\n",
       "    x.observe(outputEl, {childList: true});\n",
       "}}\n",
       "\n",
       "                        })                };                });            </script>        </div>"
      ]
     },
     "metadata": {},
     "output_type": "display_data"
    }
   ],
   "source": [
    "fig = px.bar(Bar_df, x='Evaluated_User_Rating',y='Count',title='User Rating Counts of Sample')\n",
    "fig.update_xaxes(showline=True, linecolor='black',showticklabels=True,nticks=11,ticks='outside',title_text='User Rating')\n",
    "fig.update_yaxes(showline=True, linecolor='black',nticks=12,ticks='outside')\n",
    "fig.show()"
   ]
  },
  {
   "cell_type": "code",
   "execution_count": 50,
   "metadata": {},
   "outputs": [],
   "source": [
    "import chart_studio.tools as tls\n",
    "username = 'StephCPalmer' # your username\n",
    "api_key = 'M8qEVu1mK0DQ8urtCkuk' # your api key - go to profile > settings > regenerate key\n",
    "tls.set_credentials_file(username=username, api_key=api_key)"
   ]
  },
  {
   "cell_type": "code",
   "execution_count": 174,
   "metadata": {},
   "outputs": [
    {
     "data": {
      "text/plain": [
       "'https://plotly.com/~StephCPalmer/9/'"
      ]
     },
     "execution_count": 174,
     "metadata": {},
     "output_type": "execute_result"
    }
   ],
   "source": [
    "import chart_studio.plotly as py\n",
    "py.plot(fig, filename = 'User_Rating_Counts_of_Sample', auto_open=True)"
   ]
  },
  {
   "cell_type": "code",
   "execution_count": 53,
   "metadata": {},
   "outputs": [
    {
     "data": {
      "application/vnd.plotly.v1+json": {
       "config": {
        "plotlyServerURL": "https://plotly.com"
       },
       "data": [
        {
         "hovertemplate": "Date Posted=%{x}<br>Compound_Score=%{y}<extra></extra>",
         "legendgroup": "",
         "marker": {
          "color": "#636efa",
          "symbol": "circle"
         },
         "mode": "markers",
         "name": "",
         "orientation": "v",
         "showlegend": false,
         "type": "scatter",
         "x": [
          "22 July 2013",
          "8 September 2018",
          "12 April 2021",
          "30 December 2017",
          "23 April 2018",
          "10 April 2014",
          "29 May 2010",
          "4 April 2015",
          "12 February 2017",
          "23 March 2020",
          "15 June 2018",
          "9 April 2014",
          "9 August 2018",
          "16 June 2018",
          "26 July 2013",
          "25 January 2017",
          "15 December 2006",
          "27 October 2020",
          "2 December 2018",
          "12 May 2020",
          "21 February 2021",
          "3 July 2015",
          "21 December 2020",
          "16 April 2018",
          "4 April 2011",
          "19 January 2017",
          "27 April 2018",
          "20 September 2020",
          "22 November 2018",
          "7 October 2018",
          "11 November 2020",
          "6 May 2017",
          "17 June 2020",
          "9 February 2016",
          "9 April 2011",
          "29 October 2014",
          "18 September 2016",
          "16 January 2005",
          "30 December 2017",
          "10 December 2015",
          "25 April 2017",
          "29 March 2020",
          "29 March 2020",
          "9 December 2015",
          "21 September 2016",
          "16 June 2018",
          "4 April 2004",
          "14 June 2003",
          "31 October 2020",
          "7 October 2016",
          "10 October 2020",
          "13 March 2020",
          "14 March 2017",
          "1 September 2017",
          "26 January 2021",
          "16 February 2017",
          "6 December 2020",
          "19 November 2020",
          "6 April 2018",
          "24 March 2019",
          "9 December 2020",
          "4 October 2012",
          "21 September 2019",
          "10 March 2018",
          "21 December 2018",
          "23 March 2019",
          "30 July 2006",
          "22 June 2014",
          "3 April 2018",
          "5 September 2015",
          "19 December 2017",
          "16 December 2016",
          "1 August 2019",
          "18 February 2007",
          "8 November 2018",
          "10 April 2021",
          "16 February 2021",
          "2 May 2021",
          "30 July 2017",
          "2 January 2016",
          "16 September 2015",
          "21 March 2019",
          "2 November 2019",
          "26 June 2011",
          "2 February 2021",
          "16 February 2016",
          "31 July 2014",
          "18 February 2019",
          "7 November 2020",
          "21 September 2020",
          "8 March 2014",
          "18 August 2013",
          "3 November 2018",
          "14 March 2020",
          "31 December 2015",
          "17 November 2020",
          "24 November 2019",
          "10 May 2019",
          "8 September 2018",
          "15 September 2018",
          "17 March 2014",
          "25 May 2018",
          "3 October 2018",
          "15 November 2019",
          "9 November 2019",
          "14 July 2019",
          "24 February 2018",
          "19 February 2019",
          "12 May 2020",
          "1 April 2014",
          "10 March 2007",
          "2 December 2017",
          "21 May 2007",
          "15 October 2000",
          "15 January 2016",
          "6 March 2018",
          "10 May 2018",
          "20 April 2005",
          "28 February 2017",
          "7 January 2020",
          "9 December 2011",
          "20 September 2019",
          "14 September 2003",
          "10 January 2016",
          "17 December 2008",
          "7 February 2014",
          "24 April 2017",
          "17 August 2015",
          "22 October 2018",
          "19 February 2019",
          "31 March 2016",
          "19 March 2011",
          "5 February 1999",
          "6 March 2021",
          "26 January 2018",
          "28 August 2010",
          "7 October 2017",
          "10 March 2021",
          "30 January 2020",
          "9 November 2016",
          "5 January 2004",
          "27 January 2014",
          "9 January 2020",
          "31 July 2019",
          "29 April 2012",
          "20 January 2019",
          "27 February 2019",
          "26 September 2008",
          "10 May 2006",
          "19 February 2019",
          "30 June 2014",
          "1 December 2009",
          "1 December 2017",
          "12 February 2018",
          "17 September 2017",
          "29 September 2018",
          "13 November 2013",
          "31 December 2016",
          "29 April 2019",
          "1 July 2014",
          "2 December 2003",
          "7 February 2010",
          "9 January 2015",
          "21 December 2011",
          "23 July 2009",
          "14 August 2018",
          "31 March 2020",
          "10 December 2014",
          "11 October 2018",
          "13 June 2009",
          "11 March 2018",
          "18 February 2019",
          "14 November 2014",
          "24 September 2018",
          "17 February 2021",
          "26 February 2016",
          "4 April 2020",
          "31 December 2006",
          "2 January 2004",
          "18 January 2020",
          "11 August 2017",
          "2 August 2020",
          "18 February 2019",
          "23 November 2019",
          "3 September 2017",
          "25 August 2013",
          "5 February 2018",
          "29 May 2009",
          "15 March 2001",
          "4 June 2015",
          "7 May 2018",
          "17 December 2020",
          "14 January 2014",
          "30 December 2014",
          "2 October 2010",
          "17 July 2020",
          "22 August 2020",
          "18 August 2016",
          "31 March 2011",
          "17 February 2014",
          "26 November 2020",
          "15 September 2015",
          "19 February 2019",
          "19 February 2019",
          "29 March 2014",
          "14 June 2009",
          "13 January 2017",
          "22 January 2016",
          "20 December 2011",
          "13 May 2019",
          "4 May 2021",
          "11 March 2009",
          "18 December 2016",
          "24 December 2015",
          "12 February 2012",
          "10 April 2020",
          "27 November 2019",
          "25 November 2019",
          "23 September 2015",
          "16 February 2017",
          "4 May 2020",
          "17 November 2012",
          "11 February 2013",
          "18 February 2019",
          "8 January 2010",
          "7 June 2013",
          "2 November 2019",
          "7 June 2017",
          "1 June 2019",
          "18 September 2006",
          "4 October 2016",
          "18 November 2013",
          "1 October 2011",
          "11 September 2007",
          "26 February 2007",
          "1 January 2019",
          "29 November 2018",
          "26 January 2008",
          "15 March 2018",
          "17 March 2016",
          "25 June 2020",
          "22 November 2011",
          "8 March 2013",
          "15 February 2016",
          "20 November 2018",
          "6 January 2019",
          "7 October 2014",
          "26 January 2012",
          "15 January 2015",
          "12 February 2003",
          "17 February 2016",
          "6 May 2017",
          "17 September 2012",
          "18 February 2019",
          "24 February 2019",
          "3 April 2020",
          "16 June 2008",
          "14 October 2017",
          "23 December 2001",
          "22 October 2016",
          "15 December 2020",
          "12 February 2016",
          "13 April 2014",
          "13 October 2014",
          "19 June 2003",
          "14 February 2014",
          "21 September 2016",
          "15 September 2008",
          "8 January 2019",
          "2 December 2006",
          "10 June 2020",
          "11 February 2017",
          "10 February 2016",
          "1 December 2019",
          "7 March 2020",
          "16 November 2009",
          "29 August 2009",
          "19 December 2020",
          "4 March 2018",
          "13 January 2016",
          "16 September 2014",
          "14 May 2018",
          "27 November 2019",
          "17 February 2016",
          "20 October 2019",
          "4 March 2004",
          "11 January 2004",
          "9 December 2012",
          "16 September 2016",
          "7 May 2018",
          "29 February 2016",
          "6 June 2014",
          "17 December 2008",
          "4 September 2018",
          "7 June 2018",
          "3 August 2008",
          "28 June 2015",
          "5 January 2007",
          "5 October 2013",
          "7 March 2018",
          "24 May 2016",
          "21 December 2006",
          "24 June 2011",
          "20 October 2006",
          "25 June 2014",
          "10 August 2020",
          "31 August 2020",
          "29 February 2020",
          "8 March 2015",
          "2 July 2018",
          "28 January 2017",
          "17 July 2010",
          "7 July 2016",
          "4 September 2018",
          "16 May 2015",
          "16 May 2013",
          "7 January 2010",
          "13 August 2008",
          "12 May 2019",
          "27 May 2017",
          "29 July 2008",
          "21 October 2017",
          "25 July 2015",
          "15 December 2013",
          "28 December 2014",
          "7 June 2018",
          "21 December 2019",
          "29 November 2018",
          "23 May 2020",
          "18 November 2019",
          "2 August 2014",
          "25 October 2020",
          "5 November 2005",
          "13 February 2015",
          "15 June 2019",
          "13 December 2015",
          "21 October 2018",
          "16 September 2020",
          "12 October 2019",
          "15 May 2006",
          "12 July 2008",
          "16 September 2018",
          "5 February 2021",
          "9 March 2013",
          "11 August 2018",
          "11 August 2019",
          "30 October 2011",
          "10 May 2019",
          "10 January 2021",
          "27 April 2010",
          "27 November 2018",
          "7 February 2020",
          "3 September 2010",
          "22 March 2016",
          "24 July 2010",
          "18 August 2017",
          "11 December 2017",
          "14 August 2012",
          "14 October 2018",
          "13 November 2012",
          "30 July 2020",
          "9 April 2015",
          "5 December 2005",
          "18 May 2020",
          "3 January 2016",
          "5 March 2019",
          "8 May 2006",
          "12 January 2020",
          "11 March 2020",
          "30 August 2019",
          "12 October 2012",
          "4 January 2015",
          "30 November 2018",
          "3 June 2019",
          "12 June 2013",
          "17 January 2011",
          "19 January 2019",
          "22 August 2012",
          "6 September 2019",
          "28 December 2015",
          "16 November 2011",
          "3 October 2017",
          "14 December 2004",
          "30 June 2008",
          "28 April 2014",
          "9 May 2009",
          "11 July 2018",
          "24 December 2004",
          "29 September 2017",
          "10 May 2020",
          "3 May 2019",
          "29 November 2020",
          "12 January 2016",
          "24 January 2018",
          "5 August 2020",
          "10 December 2017",
          "4 February 2006",
          "17 March 2008",
          "25 June 2017",
          "28 August 2005",
          "26 June 2002",
          "4 May 2021",
          "28 February 2016",
          "27 August 2018",
          "7 October 2017",
          "20 October 2009",
          "4 October 2017",
          "31 July 2018",
          "25 November 2020",
          "13 January 2016",
          "27 July 2020",
          "10 June 2020",
          "26 March 2019",
          "12 May 2019",
          "23 September 2008",
          "20 April 2013",
          "14 February 2018",
          "2 January 2019",
          "27 February 2017",
          "12 March 2010",
          "20 August 2017",
          "1 December 2019",
          "8 July 2006",
          "22 August 2013",
          "29 April 2018",
          "13 March 2001",
          "25 February 2013",
          "18 December 2010",
          "28 March 2012",
          "16 April 2015",
          "27 June 2017",
          "12 June 2018",
          "29 November 2013",
          "16 July 2014",
          "7 October 2017",
          "6 July 2017",
          "13 January 2011",
          "11 April 2008",
          "27 June 2017",
          "9 January 2012",
          "3 March 2018",
          "16 April 2020",
          "5 April 2021",
          "24 February 2007",
          "14 September 2007",
          "18 August 1999",
          "9 February 2019",
          "3 December 2018",
          "28 May 2002",
          "30 March 2005",
          "3 July 2016",
          "28 March 2018",
          "8 February 2012",
          "6 November 2006",
          "19 March 2012",
          "8 December 2018",
          "23 June 2005",
          "17 November 2015",
          "16 July 2012",
          "7 August 2020",
          "4 March 2018",
          "6 July 2015",
          "30 March 2020",
          "25 November 2005",
          "21 May 2016",
          "2 December 2019",
          "20 April 2013",
          "20 November 2017",
          "7 August 2006",
          "15 March 2012",
          "8 June 2019",
          "1 March 2017",
          "28 July 2018",
          "21 August 2013",
          "18 February 2012",
          "20 October 2019",
          "23 November 2017",
          "10 February 2016",
          "7 March 2013",
          "2 February 2005",
          "18 February 2008",
          "20 June 2010",
          "24 May 1999",
          "16 January 2013",
          "6 June 2020",
          "9 May 2012",
          "21 October 2002",
          "20 April 2018",
          "3 October 2003",
          "18 October 2019",
          "7 January 2007",
          "9 August 2019",
          "23 March 2020",
          "28 March 2001",
          "14 October 2007",
          "24 February 2008",
          "25 July 2013",
          "23 April 2011",
          "19 December 2018",
          "12 June 2017",
          "10 September 2013",
          "5 October 2013",
          "2 February 2018",
          "19 August 2006",
          "28 October 2008",
          "27 April 2013",
          "21 November 2011",
          "10 October 2008",
          "11 January 2019",
          "20 September 2000",
          "25 March 2020",
          "4 March 2005",
          "31 January 2001",
          "11 August 2017",
          "25 September 2019",
          "9 February 2019",
          "16 September 2016",
          "4 January 2018",
          "11 February 2019",
          "14 September 2005",
          "27 July 2018",
          "11 December 2008",
          "9 October 2018",
          "6 April 2014",
          "8 February 2007",
          "2 March 2012",
          "8 May 2019",
          "17 March 2016",
          "26 July 2000",
          "31 March 1999",
          "10 November 2013",
          "10 January 2007",
          "15 March 2010",
          "3 February 2010",
          "18 January 2018",
          "12 July 2019",
          "25 May 2009",
          "20 June 2017",
          "12 January 2019",
          "12 July 2008",
          "21 June 2014",
          "13 March 2004",
          "9 September 2017",
          "11 December 2019",
          "25 December 2019",
          "26 September 2012",
          "17 May 2009",
          "6 June 2003",
          "4 January 2016",
          "11 February 2004",
          "24 December 1999",
          "12 April 1999",
          "18 December 2018",
          "21 August 2007",
          "16 February 2020",
          "18 December 2011",
          "30 March 2018",
          "7 August 2017",
          "6 August 2017",
          "24 June 2010",
          "4 December 2013",
          "20 November 2011",
          "28 December 2019",
          "20 June 2020",
          "11 June 2020",
          "1 October 2018",
          "20 October 2019",
          "10 March 2019",
          "15 June 2020",
          "22 April 2015",
          "24 November 2003",
          "22 April 2019",
          "27 November 2020",
          "28 June 2020",
          "25 January 2001",
          "22 January 2003",
          "16 June 2003",
          "20 April 2016",
          "7 February 2019",
          "25 November 2015",
          "2 January 2007",
          "9 September 2012",
          "11 April 2017",
          "17 September 2007",
          "7 February 2019",
          "7 April 2019",
          "3 January 2012",
          "16 February 2018",
          "13 December 2004",
          "11 February 2005",
          "19 June 2005",
          "28 February 2021",
          "20 March 2005",
          "22 November 2007",
          "3 January 2006",
          "12 November 2009",
          "20 July 2018",
          "20 June 2001",
          "24 November 2019",
          "19 March 2019",
          "2 April 2020",
          "27 August 2017",
          "5 January 2018",
          "11 October 2018",
          "22 May 2016",
          "6 April 2020",
          "23 December 2020",
          "29 November 2004",
          "9 March 2015",
          "6 May 2016",
          "16 September 2006",
          "2 November 2020",
          "16 July 2015",
          "29 December 2015",
          "29 April 2015",
          "19 July 2015",
          "16 March 2017",
          "24 November 2017",
          "14 January 2007",
          "4 November 2020",
          "18 May 2019",
          "31 January 2016",
          "6 April 2008",
          "16 January 2020",
          "6 March 1999",
          "10 April 2012",
          "21 November 2003",
          "9 August 2000",
          "31 October 2018",
          "4 February 2015",
          "20 August 2010",
          "3 December 2005",
          "27 January 2016",
          "15 January 2015",
          "29 July 2010",
          "25 February 2017",
          "19 March 2008",
          "1 April 2020",
          "26 May 2019",
          "24 January 2007",
          "12 July 2018",
          "20 December 2018",
          "17 August 2015",
          "3 April 2019",
          "24 May 2010",
          "26 August 2017",
          "9 September 2018",
          "15 March 2021",
          "22 March 2021",
          "7 August 2018",
          "31 May 2018",
          "4 September 2020",
          "30 September 2003",
          "21 November 2003",
          "8 February 2019",
          "7 December 2020",
          "7 September 2015",
          "26 March 2012",
          "23 December 2014",
          "28 September 2004",
          "8 May 2006",
          "19 November 2003",
          "23 May 2019",
          "2 December 2011",
          "28 January 2010",
          "25 November 2000",
          "22 November 2019",
          "3 May 2019",
          "30 January 2003",
          "15 June 2014",
          "22 April 2021",
          "8 January 2008",
          "15 October 2015",
          "24 November 2003",
          "1 December 2017",
          "15 June 2020",
          "22 April 2020",
          "29 September 2019",
          "18 February 2020",
          "28 January 2017",
          "22 April 2017",
          "7 July 2005",
          "21 May 2017",
          "28 November 2003",
          "26 January 2019",
          "5 December 2017",
          "6 May 2018",
          "10 May 2019",
          "11 September 1998",
          "12 February 2019",
          "23 December 2020",
          "3 August 2006",
          "24 April 2009",
          "11 March 2009",
          "22 June 2007",
          "30 November 2003",
          "11 January 2017",
          "7 April 2011",
          "21 April 2013",
          "5 January 2019",
          "21 October 2018",
          "16 August 2010",
          "11 March 2018",
          "5 December 2015",
          "2 December 2005",
          "3 February 2011",
          "5 July 2002",
          "20 December 2011",
          "23 May 2020",
          "29 September 2020",
          "20 July 2014",
          "6 July 2005",
          "22 April 2018",
          "31 July 2019",
          "29 December 2016",
          "24 March 2017",
          "17 March 2021",
          "28 May 2017",
          "2 August 2006",
          "5 September 2019",
          "1 November 2016",
          "4 August 2006",
          "7 August 2018",
          "21 November 2003",
          "17 August 2020",
          "12 May 2013",
          "15 December 2002",
          "7 October 2008",
          "5 October 2011",
          "13 July 2011",
          "6 March 2020",
          "11 May 2003",
          "23 October 2015",
          "17 January 2006",
          "15 March 2004",
          "25 January 2020",
          "22 June 2013",
          "17 October 2015",
          "6 April 2004",
          "11 March 2004",
          "28 October 2011",
          "20 November 2003",
          "15 June 2002",
          "2 May 2004",
          "5 January 2005",
          "10 March 2009",
          "23 April 2002",
          "18 March 2004",
          "7 April 2004",
          "12 March 2001",
          "4 August 2010",
          "18 June 1999",
          "29 October 2003",
          "12 July 2013",
          "10 November 2014",
          "19 February 2017",
          "9 December 2017",
          "18 February 2004",
          "19 November 2010",
          "5 April 2004",
          "29 January 2019",
          "26 May 2003",
          "23 February 2018",
          "11 January 2004",
          "23 September 2020",
          "18 February 2003",
          "8 May 2015",
          "28 April 2003",
          "15 March 2004",
          "9 July 2004",
          "19 February 2018",
          "4 September 2018",
          "7 August 2002",
          "2 December 2002",
          "31 July 2009",
          "16 September 2007",
          "27 August 2018",
          "9 February 2019",
          "4 October 2011",
          "9 July 2004",
          "25 January 2003",
          "16 February 2020",
          "1 October 2010",
          "2 August 2011",
          "23 November 2019",
          "4 January 2018",
          "16 June 2018",
          "24 December 2017",
          "19 May 2017",
          "10 November 2020",
          "8 December 2018",
          "10 November 2018",
          "9 September 2007",
          "29 May 2016",
          "5 April 2004",
          "27 September 2011",
          "17 February 2004",
          "6 April 2004",
          "18 January 2009",
          "27 January 2020"
         ],
         "xaxis": "x",
         "y": [
          -0.454,
          -0.9203,
          -0.6249,
          -0.5267,
          -0.8894,
          -0.9899,
          0.7096,
          -0.9795,
          -0.5727,
          -0.34,
          -0.966,
          0.8505,
          -0.3213,
          -0.9131,
          -0.6948,
          -0.9673,
          -0.9755,
          -0.6898,
          0.5499,
          0.212,
          -0.2717,
          -0.8555,
          -0.4404,
          -0.2243,
          0.9759,
          0.9658,
          -0.7096,
          -0.5994,
          0.3612,
          0.2143,
          -0.2037,
          0.935,
          -0.891,
          -0.7402,
          -0.9439,
          0.3674,
          -0.4359,
          -0.998,
          -0.5267,
          -0.814,
          0.9792,
          -0.7623,
          -0.9559,
          -0.9415,
          -0.9634,
          0.1779,
          -0.5839,
          -0.4926,
          0.4404,
          0.3262,
          -0.0772,
          0,
          -0.7003,
          -0.1897,
          -0.3818,
          -0.8522,
          -0.949,
          -0.9379,
          0.6188,
          -0.0772,
          -0.9806,
          0.8365,
          0.6369,
          -0.2023,
          -0.046,
          -0.926,
          -0.9071,
          -0.9746,
          0.7867,
          -0.9712,
          -0.4497,
          -0.6705,
          -0.7981,
          -0.9823,
          0.8958,
          -0.0396,
          0.1779,
          -0.9339,
          -0.9791,
          0.3539,
          -0.907,
          0.8941,
          0.992,
          0.2263,
          -0.4767,
          0.5265,
          0.9235,
          -0.4522,
          0,
          0.5994,
          -0.9934,
          -0.9418,
          -0.6808,
          0.9413,
          -0.9807,
          -0.1689,
          0.8331,
          -0.8118,
          0.8985,
          -0.6249,
          -0.6556,
          -0.8338,
          0.8402,
          -0.1219,
          0.7003,
          0.588,
          -0.34,
          0,
          0.128,
          0.7976,
          0.6449,
          -0.3933,
          0.9427,
          0.6524,
          -0.9578,
          -0.1263,
          -0.5659,
          -0.24,
          0.9723,
          0.9701,
          0.4754,
          -0.8696,
          0.9325,
          0.4121,
          0.9384,
          0.4921,
          0.9279,
          -0.0737,
          -0.0258,
          -0.6956,
          -0.4982,
          -0.427,
          -0.1263,
          -0.9569,
          0.9293,
          0.2064,
          0.7493,
          0.2462,
          0.683,
          0.971,
          -0.3071,
          -0.9835,
          0.6486,
          0.9954,
          0.95,
          -0.578,
          0.9014,
          -0.9441,
          0.8115,
          -0.9017,
          0.9193,
          -0.6486,
          0.7269,
          -0.7238,
          -0.9033,
          0.2263,
          -0.9432,
          0.9174,
          -0.9192,
          0.9828,
          -0.743,
          0.5383,
          -0.5664,
          -0.8471,
          0.9903,
          0.4404,
          0.7269,
          0.9666,
          0.929,
          -0.9413,
          0.5719,
          -0.9305,
          -0.9159,
          -0.1638,
          0.8142,
          0.9944,
          0.3182,
          0.9854,
          -0.8271,
          -0.739,
          0.9957,
          0.8294,
          -0.4388,
          0.9982,
          0.7748,
          0.9959,
          -0.9878,
          -0.9902,
          0.9022,
          0.991,
          0.9966,
          0.943,
          0.9272,
          -0.8526,
          -0.5909,
          0.966,
          0.9472,
          0.9353,
          0.9837,
          -0.9814,
          -0.2732,
          0.9688,
          -0.1787,
          0.2724,
          0.9985,
          0.9383,
          0.9787,
          0.9788,
          0.9919,
          0.9489,
          0.7845,
          0.8281,
          0.9875,
          0.9972,
          -0.9749,
          0.4927,
          0.7719,
          0.9091,
          0.9753,
          -0.9954,
          -0.3818,
          -0.8932,
          -0.9327,
          0.7154,
          0.2563,
          -0.9468,
          0.0757,
          -0.9909,
          -0.2023,
          0.9888,
          0.9941,
          -0.9691,
          0.9904,
          0.9909,
          0.843,
          0.8897,
          -0.9394,
          0.9849,
          0.852,
          0.768,
          0.9932,
          0.6862,
          -0.6574,
          0.9913,
          0.5403,
          0.9958,
          0.9885,
          0.8389,
          0.9963,
          -0.9553,
          0.9598,
          0.9599,
          -0.971,
          -0.3536,
          0.9842,
          0.9699,
          0.9084,
          0.9963,
          -0.3506,
          0.9872,
          0.4497,
          0.9813,
          0.9538,
          0.9537,
          0.4971,
          0.9672,
          0.9908,
          0.982,
          0.984,
          0.9814,
          -0.4588,
          0.9919,
          0.9143,
          0.7193,
          0.9855,
          0.7996,
          0.9455,
          0.811,
          0.9253,
          0.9978,
          0.9379,
          0.914,
          0.9598,
          0.8419,
          0.3071,
          0.4473,
          -0.765,
          0.9859,
          -0.4872,
          -0.9178,
          0.7103,
          0.7986,
          0.9736,
          0.9274,
          0.9861,
          0.416,
          0.7351,
          -0.9239,
          0.9639,
          0.5267,
          0.9866,
          0.982,
          0.8844,
          0.7782,
          0.9956,
          0.6476,
          0.9952,
          -0.6801,
          0.9912,
          0.8625,
          0.9689,
          0.9907,
          0.9153,
          0.8689,
          0.9934,
          0.9956,
          0.9937,
          0.9833,
          -0.8638,
          0.9515,
          0.9977,
          -0.6575,
          0.987,
          0.9765,
          0.9853,
          0.1779,
          0.9933,
          0.9948,
          0.9938,
          -0.2247,
          0.6098,
          0.9873,
          0.9989,
          -0.9838,
          0.9458,
          0.9442,
          0.8228,
          0.9556,
          0.2238,
          0.9906,
          0.4588,
          0.9397,
          -0.3029,
          0.992,
          0.9569,
          0.9644,
          0.9989,
          0.9132,
          0.6003,
          0.9952,
          0.939,
          0.4404,
          0.7788,
          0.9923,
          0.8705,
          -0.1035,
          0.8675,
          0.9647,
          -0.1027,
          -0.9301,
          0.9936,
          0.9658,
          0.9947,
          0.3248,
          0.9519,
          0.0115,
          0.9828,
          0.9147,
          0.8883,
          0.2732,
          0.9815,
          0.964,
          0.9423,
          0.9913,
          -0.4623,
          -0.8316,
          0.9841,
          0.9943,
          0.9567,
          0.9586,
          0.9951,
          0.9855,
          0.2415,
          0.979,
          -0.5266,
          -0.8537,
          0.9718,
          0.9933,
          0.8799,
          0.9945,
          0.9331,
          -0.7906,
          0.5868,
          -0.9667,
          -0.6427,
          0.9217,
          0.9873,
          0.9654,
          -0.2144,
          0.9939,
          -0.2541,
          0.555,
          -0.9197,
          0.8949,
          0.9802,
          0.9964,
          0.1869,
          0.9201,
          0.9605,
          0.9876,
          0.6369,
          0.2691,
          0.0892,
          0.6115,
          0.9891,
          0.952,
          0.5642,
          0.9825,
          0.991,
          0.9927,
          0.9904,
          0.8074,
          0.9186,
          -0.868,
          0.9846,
          -0.0516,
          0.9603,
          0.9933,
          0.9985,
          0.9981,
          -0.3818,
          0.99,
          0.9829,
          0.9935,
          0.9518,
          0.9965,
          0.1541,
          -0.9682,
          -0.8381,
          -0.734,
          0.9598,
          0.5106,
          0.6808,
          0.648,
          0.995,
          0.8092,
          0.8423,
          0.9987,
          0.5481,
          0.9607,
          0.9989,
          0.9894,
          -0.9822,
          -0.1855,
          0.9802,
          0.8448,
          0.9737,
          0.9846,
          -0.5789,
          0.8643,
          0.9785,
          -0.3919,
          0.9617,
          0.9944,
          0.9973,
          -0.7501,
          0.8925,
          0.9952,
          -0.5719,
          0.9715,
          0.8989,
          0.7837,
          0.945,
          0.9944,
          0.8071,
          0.9442,
          0.9993,
          0.6212,
          0.9872,
          0.9938,
          0.9961,
          0.9974,
          -0.3818,
          0.9827,
          0.9901,
          -0.9825,
          -0.962,
          0.981,
          0.8811,
          0.9542,
          0.9985,
          0.9772,
          -0.9953,
          0.9956,
          0.8471,
          0.9286,
          -0.8362,
          0.9341,
          0.9483,
          0.4931,
          0.974,
          0.9661,
          0.9319,
          0.9356,
          0.5645,
          -0.2908,
          0.9957,
          0.8591,
          -0.7717,
          0.128,
          0.8591,
          0.9953,
          0.9877,
          0.9849,
          0.9674,
          0.8011,
          0.9769,
          -0.9636,
          0.4404,
          0.9952,
          0.6621,
          0.9987,
          0.9916,
          -0.844,
          0.9783,
          0.9457,
          0.7664,
          0.9828,
          0.936,
          -0.25,
          0.9997,
          0.8821,
          0.9623,
          0.3182,
          0.9712,
          0.4927,
          0.9596,
          0.8891,
          0.6461,
          0.9667,
          0.9953,
          0.9506,
          0.9976,
          0.9802,
          -0.9556,
          0.4588,
          0.9061,
          0.9823,
          0.9797,
          0.5806,
          0.8591,
          0.9894,
          0.9696,
          0.9601,
          0.6239,
          0.9909,
          -0.8991,
          0.9294,
          0.9956,
          0.9894,
          0.926,
          -0.4026,
          0.8883,
          0.1505,
          0.7351,
          0.9803,
          0.9814,
          0.9001,
          0.7115,
          -0.9455,
          0.4588,
          0.5823,
          0.3514,
          0.8389,
          0.7712,
          0.9965,
          0.8999,
          0.638,
          0.8179,
          -0.3797,
          0.9968,
          0.9735,
          0.9135,
          0.9328,
          -0.9227,
          0.9617,
          0.9767,
          0.9986,
          -0.9324,
          0.9621,
          0.9089,
          0.9054,
          0.9562,
          -0.1813,
          0.9979,
          -0.9555,
          0.9971,
          0.7383,
          0.9509,
          0.9397,
          -0.3612,
          0.9966,
          0.9778,
          0.9261,
          0.9709,
          0.6987,
          0.5253,
          -0.8667,
          -0.0446,
          0.9607,
          0.9509,
          0.6169,
          0.9509,
          0.9728,
          0.9894,
          0.9972,
          0.9531,
          0.3535,
          -0.9965,
          0.7134,
          0.9403,
          -0.3701,
          0.991,
          0.9984,
          0.4404,
          0.8245,
          -0.5994,
          -0.6705,
          0.4927,
          0.9967,
          0.9714,
          0.9763,
          -0.7159,
          0.9868,
          0.9963,
          0.8064,
          0.6896,
          0.9651,
          0.8905,
          0.9942,
          -0.831,
          0.9523,
          0.9964,
          0.9702,
          0.9421,
          0.1388,
          0.5822,
          0.8979,
          0.975,
          0.8962,
          0.9093,
          0.854,
          0.9167,
          0.1154,
          0.8707,
          0.8979,
          0.7339,
          -0.9676,
          0.6597,
          -0.7976,
          0.9944,
          0.511,
          0.9517,
          0.9885,
          0.893,
          0.9747,
          0.9914,
          0.967,
          -0.2888,
          0.9896,
          -0.5267,
          0.9571,
          0.9716,
          0.0772,
          -0.0917,
          0.85,
          0.9881,
          0.891,
          0.9985,
          0.9836,
          0.9948,
          0.993,
          0.9831,
          -0.1759,
          0.7906,
          -0.1144,
          0.1406,
          0.5826,
          0.3716,
          0.9876,
          0.5719,
          0.7026,
          0.96,
          0.8995,
          -0.5606,
          -0.6436,
          0.8869,
          -0.7239,
          0.9923,
          0.9313,
          0,
          0.9954,
          0.9731,
          0.9961,
          0.815,
          0.9957,
          0.9945,
          0.9922,
          0.7096,
          0.9092,
          0.8074,
          0.9915,
          0.8439,
          0.4707,
          0.9822,
          0.9411,
          0.7096,
          0.9303,
          0.995,
          0.807,
          -0.8941,
          0.9922,
          0.8751,
          -0.4588,
          0.9042,
          -0.9967,
          0.9642,
          0.4572,
          -0.8904,
          -0.7595,
          -0.4867,
          0.9742,
          0.993,
          0.9919,
          0.8924,
          -0.4854,
          -0.8537,
          0.9696,
          -0.9531,
          -0.9641,
          -0.9922,
          -0.7935,
          0.9969,
          0.9957,
          0.9033,
          0.9924,
          0.9507,
          -0.5893,
          0.2748,
          0.9273,
          -0.9817,
          -0.9589,
          0.5666,
          0.909,
          -0.4444,
          0.7155,
          0.9521,
          -0.7893,
          0.8625,
          0.9417,
          0.0891,
          -0.9925,
          -0.8454,
          0.9064,
          0.8115,
          0.9527,
          0.827,
          -0.0516,
          0.9533,
          -0.319,
          0.7601,
          -0.1306,
          0.9882,
          0.9707,
          -0.9741,
          0.9844,
          -0.6801,
          0.024,
          0.9802,
          0.8794,
          0.9977,
          0.7255,
          0.9993,
          0.2023,
          0.5789,
          0.9841,
          -0.3839,
          0.9761,
          -0.7687,
          -0.9842,
          -0.8581,
          -0.8674,
          -0.4697,
          -0.9929,
          -0.9099,
          0.9978,
          -0.9713,
          0.9756,
          0.9986,
          -0.9965
         ],
         "yaxis": "y"
        }
       ],
       "layout": {
        "legend": {
         "tracegroupgap": 0
        },
        "margin": {
         "t": 60
        },
        "template": {
         "data": {
          "bar": [
           {
            "error_x": {
             "color": "#2a3f5f"
            },
            "error_y": {
             "color": "#2a3f5f"
            },
            "marker": {
             "line": {
              "color": "#E5ECF6",
              "width": 0.5
             }
            },
            "type": "bar"
           }
          ],
          "barpolar": [
           {
            "marker": {
             "line": {
              "color": "#E5ECF6",
              "width": 0.5
             }
            },
            "type": "barpolar"
           }
          ],
          "carpet": [
           {
            "aaxis": {
             "endlinecolor": "#2a3f5f",
             "gridcolor": "white",
             "linecolor": "white",
             "minorgridcolor": "white",
             "startlinecolor": "#2a3f5f"
            },
            "baxis": {
             "endlinecolor": "#2a3f5f",
             "gridcolor": "white",
             "linecolor": "white",
             "minorgridcolor": "white",
             "startlinecolor": "#2a3f5f"
            },
            "type": "carpet"
           }
          ],
          "choropleth": [
           {
            "colorbar": {
             "outlinewidth": 0,
             "ticks": ""
            },
            "type": "choropleth"
           }
          ],
          "contour": [
           {
            "colorbar": {
             "outlinewidth": 0,
             "ticks": ""
            },
            "colorscale": [
             [
              0,
              "#0d0887"
             ],
             [
              0.1111111111111111,
              "#46039f"
             ],
             [
              0.2222222222222222,
              "#7201a8"
             ],
             [
              0.3333333333333333,
              "#9c179e"
             ],
             [
              0.4444444444444444,
              "#bd3786"
             ],
             [
              0.5555555555555556,
              "#d8576b"
             ],
             [
              0.6666666666666666,
              "#ed7953"
             ],
             [
              0.7777777777777778,
              "#fb9f3a"
             ],
             [
              0.8888888888888888,
              "#fdca26"
             ],
             [
              1,
              "#f0f921"
             ]
            ],
            "type": "contour"
           }
          ],
          "contourcarpet": [
           {
            "colorbar": {
             "outlinewidth": 0,
             "ticks": ""
            },
            "type": "contourcarpet"
           }
          ],
          "heatmap": [
           {
            "colorbar": {
             "outlinewidth": 0,
             "ticks": ""
            },
            "colorscale": [
             [
              0,
              "#0d0887"
             ],
             [
              0.1111111111111111,
              "#46039f"
             ],
             [
              0.2222222222222222,
              "#7201a8"
             ],
             [
              0.3333333333333333,
              "#9c179e"
             ],
             [
              0.4444444444444444,
              "#bd3786"
             ],
             [
              0.5555555555555556,
              "#d8576b"
             ],
             [
              0.6666666666666666,
              "#ed7953"
             ],
             [
              0.7777777777777778,
              "#fb9f3a"
             ],
             [
              0.8888888888888888,
              "#fdca26"
             ],
             [
              1,
              "#f0f921"
             ]
            ],
            "type": "heatmap"
           }
          ],
          "heatmapgl": [
           {
            "colorbar": {
             "outlinewidth": 0,
             "ticks": ""
            },
            "colorscale": [
             [
              0,
              "#0d0887"
             ],
             [
              0.1111111111111111,
              "#46039f"
             ],
             [
              0.2222222222222222,
              "#7201a8"
             ],
             [
              0.3333333333333333,
              "#9c179e"
             ],
             [
              0.4444444444444444,
              "#bd3786"
             ],
             [
              0.5555555555555556,
              "#d8576b"
             ],
             [
              0.6666666666666666,
              "#ed7953"
             ],
             [
              0.7777777777777778,
              "#fb9f3a"
             ],
             [
              0.8888888888888888,
              "#fdca26"
             ],
             [
              1,
              "#f0f921"
             ]
            ],
            "type": "heatmapgl"
           }
          ],
          "histogram": [
           {
            "marker": {
             "colorbar": {
              "outlinewidth": 0,
              "ticks": ""
             }
            },
            "type": "histogram"
           }
          ],
          "histogram2d": [
           {
            "colorbar": {
             "outlinewidth": 0,
             "ticks": ""
            },
            "colorscale": [
             [
              0,
              "#0d0887"
             ],
             [
              0.1111111111111111,
              "#46039f"
             ],
             [
              0.2222222222222222,
              "#7201a8"
             ],
             [
              0.3333333333333333,
              "#9c179e"
             ],
             [
              0.4444444444444444,
              "#bd3786"
             ],
             [
              0.5555555555555556,
              "#d8576b"
             ],
             [
              0.6666666666666666,
              "#ed7953"
             ],
             [
              0.7777777777777778,
              "#fb9f3a"
             ],
             [
              0.8888888888888888,
              "#fdca26"
             ],
             [
              1,
              "#f0f921"
             ]
            ],
            "type": "histogram2d"
           }
          ],
          "histogram2dcontour": [
           {
            "colorbar": {
             "outlinewidth": 0,
             "ticks": ""
            },
            "colorscale": [
             [
              0,
              "#0d0887"
             ],
             [
              0.1111111111111111,
              "#46039f"
             ],
             [
              0.2222222222222222,
              "#7201a8"
             ],
             [
              0.3333333333333333,
              "#9c179e"
             ],
             [
              0.4444444444444444,
              "#bd3786"
             ],
             [
              0.5555555555555556,
              "#d8576b"
             ],
             [
              0.6666666666666666,
              "#ed7953"
             ],
             [
              0.7777777777777778,
              "#fb9f3a"
             ],
             [
              0.8888888888888888,
              "#fdca26"
             ],
             [
              1,
              "#f0f921"
             ]
            ],
            "type": "histogram2dcontour"
           }
          ],
          "mesh3d": [
           {
            "colorbar": {
             "outlinewidth": 0,
             "ticks": ""
            },
            "type": "mesh3d"
           }
          ],
          "parcoords": [
           {
            "line": {
             "colorbar": {
              "outlinewidth": 0,
              "ticks": ""
             }
            },
            "type": "parcoords"
           }
          ],
          "pie": [
           {
            "automargin": true,
            "type": "pie"
           }
          ],
          "scatter": [
           {
            "marker": {
             "colorbar": {
              "outlinewidth": 0,
              "ticks": ""
             }
            },
            "type": "scatter"
           }
          ],
          "scatter3d": [
           {
            "line": {
             "colorbar": {
              "outlinewidth": 0,
              "ticks": ""
             }
            },
            "marker": {
             "colorbar": {
              "outlinewidth": 0,
              "ticks": ""
             }
            },
            "type": "scatter3d"
           }
          ],
          "scattercarpet": [
           {
            "marker": {
             "colorbar": {
              "outlinewidth": 0,
              "ticks": ""
             }
            },
            "type": "scattercarpet"
           }
          ],
          "scattergeo": [
           {
            "marker": {
             "colorbar": {
              "outlinewidth": 0,
              "ticks": ""
             }
            },
            "type": "scattergeo"
           }
          ],
          "scattergl": [
           {
            "marker": {
             "colorbar": {
              "outlinewidth": 0,
              "ticks": ""
             }
            },
            "type": "scattergl"
           }
          ],
          "scattermapbox": [
           {
            "marker": {
             "colorbar": {
              "outlinewidth": 0,
              "ticks": ""
             }
            },
            "type": "scattermapbox"
           }
          ],
          "scatterpolar": [
           {
            "marker": {
             "colorbar": {
              "outlinewidth": 0,
              "ticks": ""
             }
            },
            "type": "scatterpolar"
           }
          ],
          "scatterpolargl": [
           {
            "marker": {
             "colorbar": {
              "outlinewidth": 0,
              "ticks": ""
             }
            },
            "type": "scatterpolargl"
           }
          ],
          "scatterternary": [
           {
            "marker": {
             "colorbar": {
              "outlinewidth": 0,
              "ticks": ""
             }
            },
            "type": "scatterternary"
           }
          ],
          "surface": [
           {
            "colorbar": {
             "outlinewidth": 0,
             "ticks": ""
            },
            "colorscale": [
             [
              0,
              "#0d0887"
             ],
             [
              0.1111111111111111,
              "#46039f"
             ],
             [
              0.2222222222222222,
              "#7201a8"
             ],
             [
              0.3333333333333333,
              "#9c179e"
             ],
             [
              0.4444444444444444,
              "#bd3786"
             ],
             [
              0.5555555555555556,
              "#d8576b"
             ],
             [
              0.6666666666666666,
              "#ed7953"
             ],
             [
              0.7777777777777778,
              "#fb9f3a"
             ],
             [
              0.8888888888888888,
              "#fdca26"
             ],
             [
              1,
              "#f0f921"
             ]
            ],
            "type": "surface"
           }
          ],
          "table": [
           {
            "cells": {
             "fill": {
              "color": "#EBF0F8"
             },
             "line": {
              "color": "white"
             }
            },
            "header": {
             "fill": {
              "color": "#C8D4E3"
             },
             "line": {
              "color": "white"
             }
            },
            "type": "table"
           }
          ]
         },
         "layout": {
          "annotationdefaults": {
           "arrowcolor": "#2a3f5f",
           "arrowhead": 0,
           "arrowwidth": 1
          },
          "autotypenumbers": "strict",
          "coloraxis": {
           "colorbar": {
            "outlinewidth": 0,
            "ticks": ""
           }
          },
          "colorscale": {
           "diverging": [
            [
             0,
             "#8e0152"
            ],
            [
             0.1,
             "#c51b7d"
            ],
            [
             0.2,
             "#de77ae"
            ],
            [
             0.3,
             "#f1b6da"
            ],
            [
             0.4,
             "#fde0ef"
            ],
            [
             0.5,
             "#f7f7f7"
            ],
            [
             0.6,
             "#e6f5d0"
            ],
            [
             0.7,
             "#b8e186"
            ],
            [
             0.8,
             "#7fbc41"
            ],
            [
             0.9,
             "#4d9221"
            ],
            [
             1,
             "#276419"
            ]
           ],
           "sequential": [
            [
             0,
             "#0d0887"
            ],
            [
             0.1111111111111111,
             "#46039f"
            ],
            [
             0.2222222222222222,
             "#7201a8"
            ],
            [
             0.3333333333333333,
             "#9c179e"
            ],
            [
             0.4444444444444444,
             "#bd3786"
            ],
            [
             0.5555555555555556,
             "#d8576b"
            ],
            [
             0.6666666666666666,
             "#ed7953"
            ],
            [
             0.7777777777777778,
             "#fb9f3a"
            ],
            [
             0.8888888888888888,
             "#fdca26"
            ],
            [
             1,
             "#f0f921"
            ]
           ],
           "sequentialminus": [
            [
             0,
             "#0d0887"
            ],
            [
             0.1111111111111111,
             "#46039f"
            ],
            [
             0.2222222222222222,
             "#7201a8"
            ],
            [
             0.3333333333333333,
             "#9c179e"
            ],
            [
             0.4444444444444444,
             "#bd3786"
            ],
            [
             0.5555555555555556,
             "#d8576b"
            ],
            [
             0.6666666666666666,
             "#ed7953"
            ],
            [
             0.7777777777777778,
             "#fb9f3a"
            ],
            [
             0.8888888888888888,
             "#fdca26"
            ],
            [
             1,
             "#f0f921"
            ]
           ]
          },
          "colorway": [
           "#636efa",
           "#EF553B",
           "#00cc96",
           "#ab63fa",
           "#FFA15A",
           "#19d3f3",
           "#FF6692",
           "#B6E880",
           "#FF97FF",
           "#FECB52"
          ],
          "font": {
           "color": "#2a3f5f"
          },
          "geo": {
           "bgcolor": "white",
           "lakecolor": "white",
           "landcolor": "#E5ECF6",
           "showlakes": true,
           "showland": true,
           "subunitcolor": "white"
          },
          "hoverlabel": {
           "align": "left"
          },
          "hovermode": "closest",
          "mapbox": {
           "style": "light"
          },
          "paper_bgcolor": "white",
          "plot_bgcolor": "#E5ECF6",
          "polar": {
           "angularaxis": {
            "gridcolor": "white",
            "linecolor": "white",
            "ticks": ""
           },
           "bgcolor": "#E5ECF6",
           "radialaxis": {
            "gridcolor": "white",
            "linecolor": "white",
            "ticks": ""
           }
          },
          "scene": {
           "xaxis": {
            "backgroundcolor": "#E5ECF6",
            "gridcolor": "white",
            "gridwidth": 2,
            "linecolor": "white",
            "showbackground": true,
            "ticks": "",
            "zerolinecolor": "white"
           },
           "yaxis": {
            "backgroundcolor": "#E5ECF6",
            "gridcolor": "white",
            "gridwidth": 2,
            "linecolor": "white",
            "showbackground": true,
            "ticks": "",
            "zerolinecolor": "white"
           },
           "zaxis": {
            "backgroundcolor": "#E5ECF6",
            "gridcolor": "white",
            "gridwidth": 2,
            "linecolor": "white",
            "showbackground": true,
            "ticks": "",
            "zerolinecolor": "white"
           }
          },
          "shapedefaults": {
           "line": {
            "color": "#2a3f5f"
           }
          },
          "ternary": {
           "aaxis": {
            "gridcolor": "white",
            "linecolor": "white",
            "ticks": ""
           },
           "baxis": {
            "gridcolor": "white",
            "linecolor": "white",
            "ticks": ""
           },
           "bgcolor": "#E5ECF6",
           "caxis": {
            "gridcolor": "white",
            "linecolor": "white",
            "ticks": ""
           }
          },
          "title": {
           "x": 0.05
          },
          "xaxis": {
           "automargin": true,
           "gridcolor": "white",
           "linecolor": "white",
           "ticks": "",
           "title": {
            "standoff": 15
           },
           "zerolinecolor": "white",
           "zerolinewidth": 2
          },
          "yaxis": {
           "automargin": true,
           "gridcolor": "white",
           "linecolor": "white",
           "ticks": "",
           "title": {
            "standoff": 15
           },
           "zerolinecolor": "white",
           "zerolinewidth": 2
          }
         }
        },
        "xaxis": {
         "anchor": "y",
         "domain": [
          0,
          1
         ],
         "title": {
          "text": "Date Posted"
         }
        },
        "yaxis": {
         "anchor": "x",
         "domain": [
          0,
          1
         ],
         "title": {
          "text": "Compound_Score"
         }
        }
       }
      },
      "text/html": [
       "<div>                            <div id=\"548cb8da-fe96-4f49-b6be-a2b4a593db6b\" class=\"plotly-graph-div\" style=\"height:525px; width:100%;\"></div>            <script type=\"text/javascript\">                require([\"plotly\"], function(Plotly) {                    window.PLOTLYENV=window.PLOTLYENV || {};                                    if (document.getElementById(\"548cb8da-fe96-4f49-b6be-a2b4a593db6b\")) {                    Plotly.newPlot(                        \"548cb8da-fe96-4f49-b6be-a2b4a593db6b\",                        [{\"hovertemplate\": \"Date Posted=%{x}<br>Compound_Score=%{y}<extra></extra>\", \"legendgroup\": \"\", \"marker\": {\"color\": \"#636efa\", \"symbol\": \"circle\"}, \"mode\": \"markers\", \"name\": \"\", \"orientation\": \"v\", \"showlegend\": false, \"type\": \"scatter\", \"x\": [\"22 July 2013\", \"8 September 2018\", \"12 April 2021\", \"30 December 2017\", \"23 April 2018\", \"10 April 2014\", \"29 May 2010\", \"4 April 2015\", \"12 February 2017\", \"23 March 2020\", \"15 June 2018\", \"9 April 2014\", \"9 August 2018\", \"16 June 2018\", \"26 July 2013\", \"25 January 2017\", \"15 December 2006\", \"27 October 2020\", \"2 December 2018\", \"12 May 2020\", \"21 February 2021\", \"3 July 2015\", \"21 December 2020\", \"16 April 2018\", \"4 April 2011\", \"19 January 2017\", \"27 April 2018\", \"20 September 2020\", \"22 November 2018\", \"7 October 2018\", \"11 November 2020\", \"6 May 2017\", \"17 June 2020\", \"9 February 2016\", \"9 April 2011\", \"29 October 2014\", \"18 September 2016\", \"16 January 2005\", \"30 December 2017\", \"10 December 2015\", \"25 April 2017\", \"29 March 2020\", \"29 March 2020\", \"9 December 2015\", \"21 September 2016\", \"16 June 2018\", \"4 April 2004\", \"14 June 2003\", \"31 October 2020\", \"7 October 2016\", \"10 October 2020\", \"13 March 2020\", \"14 March 2017\", \"1 September 2017\", \"26 January 2021\", \"16 February 2017\", \"6 December 2020\", \"19 November 2020\", \"6 April 2018\", \"24 March 2019\", \"9 December 2020\", \"4 October 2012\", \"21 September 2019\", \"10 March 2018\", \"21 December 2018\", \"23 March 2019\", \"30 July 2006\", \"22 June 2014\", \"3 April 2018\", \"5 September 2015\", \"19 December 2017\", \"16 December 2016\", \"1 August 2019\", \"18 February 2007\", \"8 November 2018\", \"10 April 2021\", \"16 February 2021\", \"2 May 2021\", \"30 July 2017\", \"2 January 2016\", \"16 September 2015\", \"21 March 2019\", \"2 November 2019\", \"26 June 2011\", \"2 February 2021\", \"16 February 2016\", \"31 July 2014\", \"18 February 2019\", \"7 November 2020\", \"21 September 2020\", \"8 March 2014\", \"18 August 2013\", \"3 November 2018\", \"14 March 2020\", \"31 December 2015\", \"17 November 2020\", \"24 November 2019\", \"10 May 2019\", \"8 September 2018\", \"15 September 2018\", \"17 March 2014\", \"25 May 2018\", \"3 October 2018\", \"15 November 2019\", \"9 November 2019\", \"14 July 2019\", \"24 February 2018\", \"19 February 2019\", \"12 May 2020\", \"1 April 2014\", \"10 March 2007\", \"2 December 2017\", \"21 May 2007\", \"15 October 2000\", \"15 January 2016\", \"6 March 2018\", \"10 May 2018\", \"20 April 2005\", \"28 February 2017\", \"7 January 2020\", \"9 December 2011\", \"20 September 2019\", \"14 September 2003\", \"10 January 2016\", \"17 December 2008\", \"7 February 2014\", \"24 April 2017\", \"17 August 2015\", \"22 October 2018\", \"19 February 2019\", \"31 March 2016\", \"19 March 2011\", \"5 February 1999\", \"6 March 2021\", \"26 January 2018\", \"28 August 2010\", \"7 October 2017\", \"10 March 2021\", \"30 January 2020\", \"9 November 2016\", \"5 January 2004\", \"27 January 2014\", \"9 January 2020\", \"31 July 2019\", \"29 April 2012\", \"20 January 2019\", \"27 February 2019\", \"26 September 2008\", \"10 May 2006\", \"19 February 2019\", \"30 June 2014\", \"1 December 2009\", \"1 December 2017\", \"12 February 2018\", \"17 September 2017\", \"29 September 2018\", \"13 November 2013\", \"31 December 2016\", \"29 April 2019\", \"1 July 2014\", \"2 December 2003\", \"7 February 2010\", \"9 January 2015\", \"21 December 2011\", \"23 July 2009\", \"14 August 2018\", \"31 March 2020\", \"10 December 2014\", \"11 October 2018\", \"13 June 2009\", \"11 March 2018\", \"18 February 2019\", \"14 November 2014\", \"24 September 2018\", \"17 February 2021\", \"26 February 2016\", \"4 April 2020\", \"31 December 2006\", \"2 January 2004\", \"18 January 2020\", \"11 August 2017\", \"2 August 2020\", \"18 February 2019\", \"23 November 2019\", \"3 September 2017\", \"25 August 2013\", \"5 February 2018\", \"29 May 2009\", \"15 March 2001\", \"4 June 2015\", \"7 May 2018\", \"17 December 2020\", \"14 January 2014\", \"30 December 2014\", \"2 October 2010\", \"17 July 2020\", \"22 August 2020\", \"18 August 2016\", \"31 March 2011\", \"17 February 2014\", \"26 November 2020\", \"15 September 2015\", \"19 February 2019\", \"19 February 2019\", \"29 March 2014\", \"14 June 2009\", \"13 January 2017\", \"22 January 2016\", \"20 December 2011\", \"13 May 2019\", \"4 May 2021\", \"11 March 2009\", \"18 December 2016\", \"24 December 2015\", \"12 February 2012\", \"10 April 2020\", \"27 November 2019\", \"25 November 2019\", \"23 September 2015\", \"16 February 2017\", \"4 May 2020\", \"17 November 2012\", \"11 February 2013\", \"18 February 2019\", \"8 January 2010\", \"7 June 2013\", \"2 November 2019\", \"7 June 2017\", \"1 June 2019\", \"18 September 2006\", \"4 October 2016\", \"18 November 2013\", \"1 October 2011\", \"11 September 2007\", \"26 February 2007\", \"1 January 2019\", \"29 November 2018\", \"26 January 2008\", \"15 March 2018\", \"17 March 2016\", \"25 June 2020\", \"22 November 2011\", \"8 March 2013\", \"15 February 2016\", \"20 November 2018\", \"6 January 2019\", \"7 October 2014\", \"26 January 2012\", \"15 January 2015\", \"12 February 2003\", \"17 February 2016\", \"6 May 2017\", \"17 September 2012\", \"18 February 2019\", \"24 February 2019\", \"3 April 2020\", \"16 June 2008\", \"14 October 2017\", \"23 December 2001\", \"22 October 2016\", \"15 December 2020\", \"12 February 2016\", \"13 April 2014\", \"13 October 2014\", \"19 June 2003\", \"14 February 2014\", \"21 September 2016\", \"15 September 2008\", \"8 January 2019\", \"2 December 2006\", \"10 June 2020\", \"11 February 2017\", \"10 February 2016\", \"1 December 2019\", \"7 March 2020\", \"16 November 2009\", \"29 August 2009\", \"19 December 2020\", \"4 March 2018\", \"13 January 2016\", \"16 September 2014\", \"14 May 2018\", \"27 November 2019\", \"17 February 2016\", \"20 October 2019\", \"4 March 2004\", \"11 January 2004\", \"9 December 2012\", \"16 September 2016\", \"7 May 2018\", \"29 February 2016\", \"6 June 2014\", \"17 December 2008\", \"4 September 2018\", \"7 June 2018\", \"3 August 2008\", \"28 June 2015\", \"5 January 2007\", \"5 October 2013\", \"7 March 2018\", \"24 May 2016\", \"21 December 2006\", \"24 June 2011\", \"20 October 2006\", \"25 June 2014\", \"10 August 2020\", \"31 August 2020\", \"29 February 2020\", \"8 March 2015\", \"2 July 2018\", \"28 January 2017\", \"17 July 2010\", \"7 July 2016\", \"4 September 2018\", \"16 May 2015\", \"16 May 2013\", \"7 January 2010\", \"13 August 2008\", \"12 May 2019\", \"27 May 2017\", \"29 July 2008\", \"21 October 2017\", \"25 July 2015\", \"15 December 2013\", \"28 December 2014\", \"7 June 2018\", \"21 December 2019\", \"29 November 2018\", \"23 May 2020\", \"18 November 2019\", \"2 August 2014\", \"25 October 2020\", \"5 November 2005\", \"13 February 2015\", \"15 June 2019\", \"13 December 2015\", \"21 October 2018\", \"16 September 2020\", \"12 October 2019\", \"15 May 2006\", \"12 July 2008\", \"16 September 2018\", \"5 February 2021\", \"9 March 2013\", \"11 August 2018\", \"11 August 2019\", \"30 October 2011\", \"10 May 2019\", \"10 January 2021\", \"27 April 2010\", \"27 November 2018\", \"7 February 2020\", \"3 September 2010\", \"22 March 2016\", \"24 July 2010\", \"18 August 2017\", \"11 December 2017\", \"14 August 2012\", \"14 October 2018\", \"13 November 2012\", \"30 July 2020\", \"9 April 2015\", \"5 December 2005\", \"18 May 2020\", \"3 January 2016\", \"5 March 2019\", \"8 May 2006\", \"12 January 2020\", \"11 March 2020\", \"30 August 2019\", \"12 October 2012\", \"4 January 2015\", \"30 November 2018\", \"3 June 2019\", \"12 June 2013\", \"17 January 2011\", \"19 January 2019\", \"22 August 2012\", \"6 September 2019\", \"28 December 2015\", \"16 November 2011\", \"3 October 2017\", \"14 December 2004\", \"30 June 2008\", \"28 April 2014\", \"9 May 2009\", \"11 July 2018\", \"24 December 2004\", \"29 September 2017\", \"10 May 2020\", \"3 May 2019\", \"29 November 2020\", \"12 January 2016\", \"24 January 2018\", \"5 August 2020\", \"10 December 2017\", \"4 February 2006\", \"17 March 2008\", \"25 June 2017\", \"28 August 2005\", \"26 June 2002\", \"4 May 2021\", \"28 February 2016\", \"27 August 2018\", \"7 October 2017\", \"20 October 2009\", \"4 October 2017\", \"31 July 2018\", \"25 November 2020\", \"13 January 2016\", \"27 July 2020\", \"10 June 2020\", \"26 March 2019\", \"12 May 2019\", \"23 September 2008\", \"20 April 2013\", \"14 February 2018\", \"2 January 2019\", \"27 February 2017\", \"12 March 2010\", \"20 August 2017\", \"1 December 2019\", \"8 July 2006\", \"22 August 2013\", \"29 April 2018\", \"13 March 2001\", \"25 February 2013\", \"18 December 2010\", \"28 March 2012\", \"16 April 2015\", \"27 June 2017\", \"12 June 2018\", \"29 November 2013\", \"16 July 2014\", \"7 October 2017\", \"6 July 2017\", \"13 January 2011\", \"11 April 2008\", \"27 June 2017\", \"9 January 2012\", \"3 March 2018\", \"16 April 2020\", \"5 April 2021\", \"24 February 2007\", \"14 September 2007\", \"18 August 1999\", \"9 February 2019\", \"3 December 2018\", \"28 May 2002\", \"30 March 2005\", \"3 July 2016\", \"28 March 2018\", \"8 February 2012\", \"6 November 2006\", \"19 March 2012\", \"8 December 2018\", \"23 June 2005\", \"17 November 2015\", \"16 July 2012\", \"7 August 2020\", \"4 March 2018\", \"6 July 2015\", \"30 March 2020\", \"25 November 2005\", \"21 May 2016\", \"2 December 2019\", \"20 April 2013\", \"20 November 2017\", \"7 August 2006\", \"15 March 2012\", \"8 June 2019\", \"1 March 2017\", \"28 July 2018\", \"21 August 2013\", \"18 February 2012\", \"20 October 2019\", \"23 November 2017\", \"10 February 2016\", \"7 March 2013\", \"2 February 2005\", \"18 February 2008\", \"20 June 2010\", \"24 May 1999\", \"16 January 2013\", \"6 June 2020\", \"9 May 2012\", \"21 October 2002\", \"20 April 2018\", \"3 October 2003\", \"18 October 2019\", \"7 January 2007\", \"9 August 2019\", \"23 March 2020\", \"28 March 2001\", \"14 October 2007\", \"24 February 2008\", \"25 July 2013\", \"23 April 2011\", \"19 December 2018\", \"12 June 2017\", \"10 September 2013\", \"5 October 2013\", \"2 February 2018\", \"19 August 2006\", \"28 October 2008\", \"27 April 2013\", \"21 November 2011\", \"10 October 2008\", \"11 January 2019\", \"20 September 2000\", \"25 March 2020\", \"4 March 2005\", \"31 January 2001\", \"11 August 2017\", \"25 September 2019\", \"9 February 2019\", \"16 September 2016\", \"4 January 2018\", \"11 February 2019\", \"14 September 2005\", \"27 July 2018\", \"11 December 2008\", \"9 October 2018\", \"6 April 2014\", \"8 February 2007\", \"2 March 2012\", \"8 May 2019\", \"17 March 2016\", \"26 July 2000\", \"31 March 1999\", \"10 November 2013\", \"10 January 2007\", \"15 March 2010\", \"3 February 2010\", \"18 January 2018\", \"12 July 2019\", \"25 May 2009\", \"20 June 2017\", \"12 January 2019\", \"12 July 2008\", \"21 June 2014\", \"13 March 2004\", \"9 September 2017\", \"11 December 2019\", \"25 December 2019\", \"26 September 2012\", \"17 May 2009\", \"6 June 2003\", \"4 January 2016\", \"11 February 2004\", \"24 December 1999\", \"12 April 1999\", \"18 December 2018\", \"21 August 2007\", \"16 February 2020\", \"18 December 2011\", \"30 March 2018\", \"7 August 2017\", \"6 August 2017\", \"24 June 2010\", \"4 December 2013\", \"20 November 2011\", \"28 December 2019\", \"20 June 2020\", \"11 June 2020\", \"1 October 2018\", \"20 October 2019\", \"10 March 2019\", \"15 June 2020\", \"22 April 2015\", \"24 November 2003\", \"22 April 2019\", \"27 November 2020\", \"28 June 2020\", \"25 January 2001\", \"22 January 2003\", \"16 June 2003\", \"20 April 2016\", \"7 February 2019\", \"25 November 2015\", \"2 January 2007\", \"9 September 2012\", \"11 April 2017\", \"17 September 2007\", \"7 February 2019\", \"7 April 2019\", \"3 January 2012\", \"16 February 2018\", \"13 December 2004\", \"11 February 2005\", \"19 June 2005\", \"28 February 2021\", \"20 March 2005\", \"22 November 2007\", \"3 January 2006\", \"12 November 2009\", \"20 July 2018\", \"20 June 2001\", \"24 November 2019\", \"19 March 2019\", \"2 April 2020\", \"27 August 2017\", \"5 January 2018\", \"11 October 2018\", \"22 May 2016\", \"6 April 2020\", \"23 December 2020\", \"29 November 2004\", \"9 March 2015\", \"6 May 2016\", \"16 September 2006\", \"2 November 2020\", \"16 July 2015\", \"29 December 2015\", \"29 April 2015\", \"19 July 2015\", \"16 March 2017\", \"24 November 2017\", \"14 January 2007\", \"4 November 2020\", \"18 May 2019\", \"31 January 2016\", \"6 April 2008\", \"16 January 2020\", \"6 March 1999\", \"10 April 2012\", \"21 November 2003\", \"9 August 2000\", \"31 October 2018\", \"4 February 2015\", \"20 August 2010\", \"3 December 2005\", \"27 January 2016\", \"15 January 2015\", \"29 July 2010\", \"25 February 2017\", \"19 March 2008\", \"1 April 2020\", \"26 May 2019\", \"24 January 2007\", \"12 July 2018\", \"20 December 2018\", \"17 August 2015\", \"3 April 2019\", \"24 May 2010\", \"26 August 2017\", \"9 September 2018\", \"15 March 2021\", \"22 March 2021\", \"7 August 2018\", \"31 May 2018\", \"4 September 2020\", \"30 September 2003\", \"21 November 2003\", \"8 February 2019\", \"7 December 2020\", \"7 September 2015\", \"26 March 2012\", \"23 December 2014\", \"28 September 2004\", \"8 May 2006\", \"19 November 2003\", \"23 May 2019\", \"2 December 2011\", \"28 January 2010\", \"25 November 2000\", \"22 November 2019\", \"3 May 2019\", \"30 January 2003\", \"15 June 2014\", \"22 April 2021\", \"8 January 2008\", \"15 October 2015\", \"24 November 2003\", \"1 December 2017\", \"15 June 2020\", \"22 April 2020\", \"29 September 2019\", \"18 February 2020\", \"28 January 2017\", \"22 April 2017\", \"7 July 2005\", \"21 May 2017\", \"28 November 2003\", \"26 January 2019\", \"5 December 2017\", \"6 May 2018\", \"10 May 2019\", \"11 September 1998\", \"12 February 2019\", \"23 December 2020\", \"3 August 2006\", \"24 April 2009\", \"11 March 2009\", \"22 June 2007\", \"30 November 2003\", \"11 January 2017\", \"7 April 2011\", \"21 April 2013\", \"5 January 2019\", \"21 October 2018\", \"16 August 2010\", \"11 March 2018\", \"5 December 2015\", \"2 December 2005\", \"3 February 2011\", \"5 July 2002\", \"20 December 2011\", \"23 May 2020\", \"29 September 2020\", \"20 July 2014\", \"6 July 2005\", \"22 April 2018\", \"31 July 2019\", \"29 December 2016\", \"24 March 2017\", \"17 March 2021\", \"28 May 2017\", \"2 August 2006\", \"5 September 2019\", \"1 November 2016\", \"4 August 2006\", \"7 August 2018\", \"21 November 2003\", \"17 August 2020\", \"12 May 2013\", \"15 December 2002\", \"7 October 2008\", \"5 October 2011\", \"13 July 2011\", \"6 March 2020\", \"11 May 2003\", \"23 October 2015\", \"17 January 2006\", \"15 March 2004\", \"25 January 2020\", \"22 June 2013\", \"17 October 2015\", \"6 April 2004\", \"11 March 2004\", \"28 October 2011\", \"20 November 2003\", \"15 June 2002\", \"2 May 2004\", \"5 January 2005\", \"10 March 2009\", \"23 April 2002\", \"18 March 2004\", \"7 April 2004\", \"12 March 2001\", \"4 August 2010\", \"18 June 1999\", \"29 October 2003\", \"12 July 2013\", \"10 November 2014\", \"19 February 2017\", \"9 December 2017\", \"18 February 2004\", \"19 November 2010\", \"5 April 2004\", \"29 January 2019\", \"26 May 2003\", \"23 February 2018\", \"11 January 2004\", \"23 September 2020\", \"18 February 2003\", \"8 May 2015\", \"28 April 2003\", \"15 March 2004\", \"9 July 2004\", \"19 February 2018\", \"4 September 2018\", \"7 August 2002\", \"2 December 2002\", \"31 July 2009\", \"16 September 2007\", \"27 August 2018\", \"9 February 2019\", \"4 October 2011\", \"9 July 2004\", \"25 January 2003\", \"16 February 2020\", \"1 October 2010\", \"2 August 2011\", \"23 November 2019\", \"4 January 2018\", \"16 June 2018\", \"24 December 2017\", \"19 May 2017\", \"10 November 2020\", \"8 December 2018\", \"10 November 2018\", \"9 September 2007\", \"29 May 2016\", \"5 April 2004\", \"27 September 2011\", \"17 February 2004\", \"6 April 2004\", \"18 January 2009\", \"27 January 2020\"], \"xaxis\": \"x\", \"y\": [-0.454, -0.9203, -0.6249, -0.5267, -0.8894, -0.9899, 0.7096, -0.9795, -0.5727, -0.34, -0.966, 0.8505, -0.3213, -0.9131, -0.6948, -0.9673, -0.9755, -0.6898, 0.5499, 0.212, -0.2717, -0.8555, -0.4404, -0.2243, 0.9759, 0.9658, -0.7096, -0.5994, 0.3612, 0.2143, -0.2037, 0.935, -0.891, -0.7402, -0.9439, 0.3674, -0.4359, -0.998, -0.5267, -0.814, 0.9792, -0.7623, -0.9559, -0.9415, -0.9634, 0.1779, -0.5839, -0.4926, 0.4404, 0.3262, -0.0772, 0.0, -0.7003, -0.1897, -0.3818, -0.8522, -0.949, -0.9379, 0.6188, -0.0772, -0.9806, 0.8365, 0.6369, -0.2023, -0.046, -0.926, -0.9071, -0.9746, 0.7867, -0.9712, -0.4497, -0.6705, -0.7981, -0.9823, 0.8958, -0.0396, 0.1779, -0.9339, -0.9791, 0.3539, -0.907, 0.8941, 0.992, 0.2263, -0.4767, 0.5265, 0.9235, -0.4522, 0.0, 0.5994, -0.9934, -0.9418, -0.6808, 0.9413, -0.9807, -0.1689, 0.8331, -0.8118, 0.8985, -0.6249, -0.6556, -0.8338, 0.8402, -0.1219, 0.7003, 0.588, -0.34, 0.0, 0.128, 0.7976, 0.6449, -0.3933, 0.9427, 0.6524, -0.9578, -0.1263, -0.5659, -0.24, 0.9723, 0.9701, 0.4754, -0.8696, 0.9325, 0.4121, 0.9384, 0.4921, 0.9279, -0.0737, -0.0258, -0.6956, -0.4982, -0.427, -0.1263, -0.9569, 0.9293, 0.2064, 0.7493, 0.2462, 0.683, 0.971, -0.3071, -0.9835, 0.6486, 0.9954, 0.95, -0.578, 0.9014, -0.9441, 0.8115, -0.9017, 0.9193, -0.6486, 0.7269, -0.7238, -0.9033, 0.2263, -0.9432, 0.9174, -0.9192, 0.9828, -0.743, 0.5383, -0.5664, -0.8471, 0.9903, 0.4404, 0.7269, 0.9666, 0.929, -0.9413, 0.5719, -0.9305, -0.9159, -0.1638, 0.8142, 0.9944, 0.3182, 0.9854, -0.8271, -0.739, 0.9957, 0.8294, -0.4388, 0.9982, 0.7748, 0.9959, -0.9878, -0.9902, 0.9022, 0.991, 0.9966, 0.943, 0.9272, -0.8526, -0.5909, 0.966, 0.9472, 0.9353, 0.9837, -0.9814, -0.2732, 0.9688, -0.1787, 0.2724, 0.9985, 0.9383, 0.9787, 0.9788, 0.9919, 0.9489, 0.7845, 0.8281, 0.9875, 0.9972, -0.9749, 0.4927, 0.7719, 0.9091, 0.9753, -0.9954, -0.3818, -0.8932, -0.9327, 0.7154, 0.2563, -0.9468, 0.0757, -0.9909, -0.2023, 0.9888, 0.9941, -0.9691, 0.9904, 0.9909, 0.843, 0.8897, -0.9394, 0.9849, 0.852, 0.768, 0.9932, 0.6862, -0.6574, 0.9913, 0.5403, 0.9958, 0.9885, 0.8389, 0.9963, -0.9553, 0.9598, 0.9599, -0.971, -0.3536, 0.9842, 0.9699, 0.9084, 0.9963, -0.3506, 0.9872, 0.4497, 0.9813, 0.9538, 0.9537, 0.4971, 0.9672, 0.9908, 0.982, 0.984, 0.9814, -0.4588, 0.9919, 0.9143, 0.7193, 0.9855, 0.7996, 0.9455, 0.811, 0.9253, 0.9978, 0.9379, 0.914, 0.9598, 0.8419, 0.3071, 0.4473, -0.765, 0.9859, -0.4872, -0.9178, 0.7103, 0.7986, 0.9736, 0.9274, 0.9861, 0.416, 0.7351, -0.9239, 0.9639, 0.5267, 0.9866, 0.982, 0.8844, 0.7782, 0.9956, 0.6476, 0.9952, -0.6801, 0.9912, 0.8625, 0.9689, 0.9907, 0.9153, 0.8689, 0.9934, 0.9956, 0.9937, 0.9833, -0.8638, 0.9515, 0.9977, -0.6575, 0.987, 0.9765, 0.9853, 0.1779, 0.9933, 0.9948, 0.9938, -0.2247, 0.6098, 0.9873, 0.9989, -0.9838, 0.9458, 0.9442, 0.8228, 0.9556, 0.2238, 0.9906, 0.4588, 0.9397, -0.3029, 0.992, 0.9569, 0.9644, 0.9989, 0.9132, 0.6003, 0.9952, 0.939, 0.4404, 0.7788, 0.9923, 0.8705, -0.1035, 0.8675, 0.9647, -0.1027, -0.9301, 0.9936, 0.9658, 0.9947, 0.3248, 0.9519, 0.0115, 0.9828, 0.9147, 0.8883, 0.2732, 0.9815, 0.964, 0.9423, 0.9913, -0.4623, -0.8316, 0.9841, 0.9943, 0.9567, 0.9586, 0.9951, 0.9855, 0.2415, 0.979, -0.5266, -0.8537, 0.9718, 0.9933, 0.8799, 0.9945, 0.9331, -0.7906, 0.5868, -0.9667, -0.6427, 0.9217, 0.9873, 0.9654, -0.2144, 0.9939, -0.2541, 0.555, -0.9197, 0.8949, 0.9802, 0.9964, 0.1869, 0.9201, 0.9605, 0.9876, 0.6369, 0.2691, 0.0892, 0.6115, 0.9891, 0.952, 0.5642, 0.9825, 0.991, 0.9927, 0.9904, 0.8074, 0.9186, -0.868, 0.9846, -0.0516, 0.9603, 0.9933, 0.9985, 0.9981, -0.3818, 0.99, 0.9829, 0.9935, 0.9518, 0.9965, 0.1541, -0.9682, -0.8381, -0.734, 0.9598, 0.5106, 0.6808, 0.648, 0.995, 0.8092, 0.8423, 0.9987, 0.5481, 0.9607, 0.9989, 0.9894, -0.9822, -0.1855, 0.9802, 0.8448, 0.9737, 0.9846, -0.5789, 0.8643, 0.9785, -0.3919, 0.9617, 0.9944, 0.9973, -0.7501, 0.8925, 0.9952, -0.5719, 0.9715, 0.8989, 0.7837, 0.945, 0.9944, 0.8071, 0.9442, 0.9993, 0.6212, 0.9872, 0.9938, 0.9961, 0.9974, -0.3818, 0.9827, 0.9901, -0.9825, -0.962, 0.981, 0.8811, 0.9542, 0.9985, 0.9772, -0.9953, 0.9956, 0.8471, 0.9286, -0.8362, 0.9341, 0.9483, 0.4931, 0.974, 0.9661, 0.9319, 0.9356, 0.5645, -0.2908, 0.9957, 0.8591, -0.7717, 0.128, 0.8591, 0.9953, 0.9877, 0.9849, 0.9674, 0.8011, 0.9769, -0.9636, 0.4404, 0.9952, 0.6621, 0.9987, 0.9916, -0.844, 0.9783, 0.9457, 0.7664, 0.9828, 0.936, -0.25, 0.9997, 0.8821, 0.9623, 0.3182, 0.9712, 0.4927, 0.9596, 0.8891, 0.6461, 0.9667, 0.9953, 0.9506, 0.9976, 0.9802, -0.9556, 0.4588, 0.9061, 0.9823, 0.9797, 0.5806, 0.8591, 0.9894, 0.9696, 0.9601, 0.6239, 0.9909, -0.8991, 0.9294, 0.9956, 0.9894, 0.926, -0.4026, 0.8883, 0.1505, 0.7351, 0.9803, 0.9814, 0.9001, 0.7115, -0.9455, 0.4588, 0.5823, 0.3514, 0.8389, 0.7712, 0.9965, 0.8999, 0.638, 0.8179, -0.3797, 0.9968, 0.9735, 0.9135, 0.9328, -0.9227, 0.9617, 0.9767, 0.9986, -0.9324, 0.9621, 0.9089, 0.9054, 0.9562, -0.1813, 0.9979, -0.9555, 0.9971, 0.7383, 0.9509, 0.9397, -0.3612, 0.9966, 0.9778, 0.9261, 0.9709, 0.6987, 0.5253, -0.8667, -0.0446, 0.9607, 0.9509, 0.6169, 0.9509, 0.9728, 0.9894, 0.9972, 0.9531, 0.3535, -0.9965, 0.7134, 0.9403, -0.3701, 0.991, 0.9984, 0.4404, 0.8245, -0.5994, -0.6705, 0.4927, 0.9967, 0.9714, 0.9763, -0.7159, 0.9868, 0.9963, 0.8064, 0.6896, 0.9651, 0.8905, 0.9942, -0.831, 0.9523, 0.9964, 0.9702, 0.9421, 0.1388, 0.5822, 0.8979, 0.975, 0.8962, 0.9093, 0.854, 0.9167, 0.1154, 0.8707, 0.8979, 0.7339, -0.9676, 0.6597, -0.7976, 0.9944, 0.511, 0.9517, 0.9885, 0.893, 0.9747, 0.9914, 0.967, -0.2888, 0.9896, -0.5267, 0.9571, 0.9716, 0.0772, -0.0917, 0.85, 0.9881, 0.891, 0.9985, 0.9836, 0.9948, 0.993, 0.9831, -0.1759, 0.7906, -0.1144, 0.1406, 0.5826, 0.3716, 0.9876, 0.5719, 0.7026, 0.96, 0.8995, -0.5606, -0.6436, 0.8869, -0.7239, 0.9923, 0.9313, 0.0, 0.9954, 0.9731, 0.9961, 0.815, 0.9957, 0.9945, 0.9922, 0.7096, 0.9092, 0.8074, 0.9915, 0.8439, 0.4707, 0.9822, 0.9411, 0.7096, 0.9303, 0.995, 0.807, -0.8941, 0.9922, 0.8751, -0.4588, 0.9042, -0.9967, 0.9642, 0.4572, -0.8904, -0.7595, -0.4867, 0.9742, 0.993, 0.9919, 0.8924, -0.4854, -0.8537, 0.9696, -0.9531, -0.9641, -0.9922, -0.7935, 0.9969, 0.9957, 0.9033, 0.9924, 0.9507, -0.5893, 0.2748, 0.9273, -0.9817, -0.9589, 0.5666, 0.909, -0.4444, 0.7155, 0.9521, -0.7893, 0.8625, 0.9417, 0.0891, -0.9925, -0.8454, 0.9064, 0.8115, 0.9527, 0.827, -0.0516, 0.9533, -0.319, 0.7601, -0.1306, 0.9882, 0.9707, -0.9741, 0.9844, -0.6801, 0.024, 0.9802, 0.8794, 0.9977, 0.7255, 0.9993, 0.2023, 0.5789, 0.9841, -0.3839, 0.9761, -0.7687, -0.9842, -0.8581, -0.8674, -0.4697, -0.9929, -0.9099, 0.9978, -0.9713, 0.9756, 0.9986, -0.9965], \"yaxis\": \"y\"}],                        {\"legend\": {\"tracegroupgap\": 0}, \"margin\": {\"t\": 60}, \"template\": {\"data\": {\"bar\": [{\"error_x\": {\"color\": \"#2a3f5f\"}, \"error_y\": {\"color\": \"#2a3f5f\"}, \"marker\": {\"line\": {\"color\": \"#E5ECF6\", \"width\": 0.5}}, \"type\": \"bar\"}], \"barpolar\": [{\"marker\": {\"line\": {\"color\": \"#E5ECF6\", \"width\": 0.5}}, \"type\": \"barpolar\"}], \"carpet\": [{\"aaxis\": {\"endlinecolor\": \"#2a3f5f\", \"gridcolor\": \"white\", \"linecolor\": \"white\", \"minorgridcolor\": \"white\", \"startlinecolor\": \"#2a3f5f\"}, \"baxis\": {\"endlinecolor\": \"#2a3f5f\", \"gridcolor\": \"white\", \"linecolor\": \"white\", \"minorgridcolor\": \"white\", \"startlinecolor\": \"#2a3f5f\"}, \"type\": \"carpet\"}], \"choropleth\": [{\"colorbar\": {\"outlinewidth\": 0, \"ticks\": \"\"}, \"type\": \"choropleth\"}], \"contour\": [{\"colorbar\": {\"outlinewidth\": 0, \"ticks\": \"\"}, \"colorscale\": [[0.0, \"#0d0887\"], [0.1111111111111111, \"#46039f\"], [0.2222222222222222, \"#7201a8\"], [0.3333333333333333, \"#9c179e\"], [0.4444444444444444, \"#bd3786\"], [0.5555555555555556, \"#d8576b\"], [0.6666666666666666, \"#ed7953\"], [0.7777777777777778, \"#fb9f3a\"], [0.8888888888888888, \"#fdca26\"], [1.0, \"#f0f921\"]], \"type\": \"contour\"}], \"contourcarpet\": [{\"colorbar\": {\"outlinewidth\": 0, \"ticks\": \"\"}, \"type\": \"contourcarpet\"}], \"heatmap\": [{\"colorbar\": {\"outlinewidth\": 0, \"ticks\": \"\"}, \"colorscale\": [[0.0, \"#0d0887\"], [0.1111111111111111, \"#46039f\"], [0.2222222222222222, \"#7201a8\"], [0.3333333333333333, \"#9c179e\"], [0.4444444444444444, \"#bd3786\"], [0.5555555555555556, \"#d8576b\"], [0.6666666666666666, \"#ed7953\"], [0.7777777777777778, \"#fb9f3a\"], [0.8888888888888888, \"#fdca26\"], [1.0, \"#f0f921\"]], \"type\": \"heatmap\"}], \"heatmapgl\": [{\"colorbar\": {\"outlinewidth\": 0, \"ticks\": \"\"}, \"colorscale\": [[0.0, \"#0d0887\"], [0.1111111111111111, \"#46039f\"], [0.2222222222222222, \"#7201a8\"], [0.3333333333333333, \"#9c179e\"], [0.4444444444444444, \"#bd3786\"], [0.5555555555555556, \"#d8576b\"], [0.6666666666666666, \"#ed7953\"], [0.7777777777777778, \"#fb9f3a\"], [0.8888888888888888, \"#fdca26\"], [1.0, \"#f0f921\"]], \"type\": \"heatmapgl\"}], \"histogram\": [{\"marker\": {\"colorbar\": {\"outlinewidth\": 0, \"ticks\": \"\"}}, \"type\": \"histogram\"}], \"histogram2d\": [{\"colorbar\": {\"outlinewidth\": 0, \"ticks\": \"\"}, \"colorscale\": [[0.0, \"#0d0887\"], [0.1111111111111111, \"#46039f\"], [0.2222222222222222, \"#7201a8\"], [0.3333333333333333, \"#9c179e\"], [0.4444444444444444, \"#bd3786\"], [0.5555555555555556, \"#d8576b\"], [0.6666666666666666, \"#ed7953\"], [0.7777777777777778, \"#fb9f3a\"], [0.8888888888888888, \"#fdca26\"], [1.0, \"#f0f921\"]], \"type\": \"histogram2d\"}], \"histogram2dcontour\": [{\"colorbar\": {\"outlinewidth\": 0, \"ticks\": \"\"}, \"colorscale\": [[0.0, \"#0d0887\"], [0.1111111111111111, \"#46039f\"], [0.2222222222222222, \"#7201a8\"], [0.3333333333333333, \"#9c179e\"], [0.4444444444444444, \"#bd3786\"], [0.5555555555555556, \"#d8576b\"], [0.6666666666666666, \"#ed7953\"], [0.7777777777777778, \"#fb9f3a\"], [0.8888888888888888, \"#fdca26\"], [1.0, \"#f0f921\"]], \"type\": \"histogram2dcontour\"}], \"mesh3d\": [{\"colorbar\": {\"outlinewidth\": 0, \"ticks\": \"\"}, \"type\": \"mesh3d\"}], \"parcoords\": [{\"line\": {\"colorbar\": {\"outlinewidth\": 0, \"ticks\": \"\"}}, \"type\": \"parcoords\"}], \"pie\": [{\"automargin\": true, \"type\": \"pie\"}], \"scatter\": [{\"marker\": {\"colorbar\": {\"outlinewidth\": 0, \"ticks\": \"\"}}, \"type\": \"scatter\"}], \"scatter3d\": [{\"line\": {\"colorbar\": {\"outlinewidth\": 0, \"ticks\": \"\"}}, \"marker\": {\"colorbar\": {\"outlinewidth\": 0, \"ticks\": \"\"}}, \"type\": \"scatter3d\"}], \"scattercarpet\": [{\"marker\": {\"colorbar\": {\"outlinewidth\": 0, \"ticks\": \"\"}}, \"type\": \"scattercarpet\"}], \"scattergeo\": [{\"marker\": {\"colorbar\": {\"outlinewidth\": 0, \"ticks\": \"\"}}, \"type\": \"scattergeo\"}], \"scattergl\": [{\"marker\": {\"colorbar\": {\"outlinewidth\": 0, \"ticks\": \"\"}}, \"type\": \"scattergl\"}], \"scattermapbox\": [{\"marker\": {\"colorbar\": {\"outlinewidth\": 0, \"ticks\": \"\"}}, \"type\": \"scattermapbox\"}], \"scatterpolar\": [{\"marker\": {\"colorbar\": {\"outlinewidth\": 0, \"ticks\": \"\"}}, \"type\": \"scatterpolar\"}], \"scatterpolargl\": [{\"marker\": {\"colorbar\": {\"outlinewidth\": 0, \"ticks\": \"\"}}, \"type\": \"scatterpolargl\"}], \"scatterternary\": [{\"marker\": {\"colorbar\": {\"outlinewidth\": 0, \"ticks\": \"\"}}, \"type\": \"scatterternary\"}], \"surface\": [{\"colorbar\": {\"outlinewidth\": 0, \"ticks\": \"\"}, \"colorscale\": [[0.0, \"#0d0887\"], [0.1111111111111111, \"#46039f\"], [0.2222222222222222, \"#7201a8\"], [0.3333333333333333, \"#9c179e\"], [0.4444444444444444, \"#bd3786\"], [0.5555555555555556, \"#d8576b\"], [0.6666666666666666, \"#ed7953\"], [0.7777777777777778, \"#fb9f3a\"], [0.8888888888888888, \"#fdca26\"], [1.0, \"#f0f921\"]], \"type\": \"surface\"}], \"table\": [{\"cells\": {\"fill\": {\"color\": \"#EBF0F8\"}, \"line\": {\"color\": \"white\"}}, \"header\": {\"fill\": {\"color\": \"#C8D4E3\"}, \"line\": {\"color\": \"white\"}}, \"type\": \"table\"}]}, \"layout\": {\"annotationdefaults\": {\"arrowcolor\": \"#2a3f5f\", \"arrowhead\": 0, \"arrowwidth\": 1}, \"autotypenumbers\": \"strict\", \"coloraxis\": {\"colorbar\": {\"outlinewidth\": 0, \"ticks\": \"\"}}, \"colorscale\": {\"diverging\": [[0, \"#8e0152\"], [0.1, \"#c51b7d\"], [0.2, \"#de77ae\"], [0.3, \"#f1b6da\"], [0.4, \"#fde0ef\"], [0.5, \"#f7f7f7\"], [0.6, \"#e6f5d0\"], [0.7, \"#b8e186\"], [0.8, \"#7fbc41\"], [0.9, \"#4d9221\"], [1, \"#276419\"]], \"sequential\": [[0.0, \"#0d0887\"], [0.1111111111111111, \"#46039f\"], [0.2222222222222222, \"#7201a8\"], [0.3333333333333333, \"#9c179e\"], [0.4444444444444444, \"#bd3786\"], [0.5555555555555556, \"#d8576b\"], [0.6666666666666666, \"#ed7953\"], [0.7777777777777778, \"#fb9f3a\"], [0.8888888888888888, \"#fdca26\"], [1.0, \"#f0f921\"]], \"sequentialminus\": [[0.0, \"#0d0887\"], [0.1111111111111111, \"#46039f\"], [0.2222222222222222, \"#7201a8\"], [0.3333333333333333, \"#9c179e\"], [0.4444444444444444, \"#bd3786\"], [0.5555555555555556, \"#d8576b\"], [0.6666666666666666, \"#ed7953\"], [0.7777777777777778, \"#fb9f3a\"], [0.8888888888888888, \"#fdca26\"], [1.0, \"#f0f921\"]]}, \"colorway\": [\"#636efa\", \"#EF553B\", \"#00cc96\", \"#ab63fa\", \"#FFA15A\", \"#19d3f3\", \"#FF6692\", \"#B6E880\", \"#FF97FF\", \"#FECB52\"], \"font\": {\"color\": \"#2a3f5f\"}, \"geo\": {\"bgcolor\": \"white\", \"lakecolor\": \"white\", \"landcolor\": \"#E5ECF6\", \"showlakes\": true, \"showland\": true, \"subunitcolor\": \"white\"}, \"hoverlabel\": {\"align\": \"left\"}, \"hovermode\": \"closest\", \"mapbox\": {\"style\": \"light\"}, \"paper_bgcolor\": \"white\", \"plot_bgcolor\": \"#E5ECF6\", \"polar\": {\"angularaxis\": {\"gridcolor\": \"white\", \"linecolor\": \"white\", \"ticks\": \"\"}, \"bgcolor\": \"#E5ECF6\", \"radialaxis\": {\"gridcolor\": \"white\", \"linecolor\": \"white\", \"ticks\": \"\"}}, \"scene\": {\"xaxis\": {\"backgroundcolor\": \"#E5ECF6\", \"gridcolor\": \"white\", \"gridwidth\": 2, \"linecolor\": \"white\", \"showbackground\": true, \"ticks\": \"\", \"zerolinecolor\": \"white\"}, \"yaxis\": {\"backgroundcolor\": \"#E5ECF6\", \"gridcolor\": \"white\", \"gridwidth\": 2, \"linecolor\": \"white\", \"showbackground\": true, \"ticks\": \"\", \"zerolinecolor\": \"white\"}, \"zaxis\": {\"backgroundcolor\": \"#E5ECF6\", \"gridcolor\": \"white\", \"gridwidth\": 2, \"linecolor\": \"white\", \"showbackground\": true, \"ticks\": \"\", \"zerolinecolor\": \"white\"}}, \"shapedefaults\": {\"line\": {\"color\": \"#2a3f5f\"}}, \"ternary\": {\"aaxis\": {\"gridcolor\": \"white\", \"linecolor\": \"white\", \"ticks\": \"\"}, \"baxis\": {\"gridcolor\": \"white\", \"linecolor\": \"white\", \"ticks\": \"\"}, \"bgcolor\": \"#E5ECF6\", \"caxis\": {\"gridcolor\": \"white\", \"linecolor\": \"white\", \"ticks\": \"\"}}, \"title\": {\"x\": 0.05}, \"xaxis\": {\"automargin\": true, \"gridcolor\": \"white\", \"linecolor\": \"white\", \"ticks\": \"\", \"title\": {\"standoff\": 15}, \"zerolinecolor\": \"white\", \"zerolinewidth\": 2}, \"yaxis\": {\"automargin\": true, \"gridcolor\": \"white\", \"linecolor\": \"white\", \"ticks\": \"\", \"title\": {\"standoff\": 15}, \"zerolinecolor\": \"white\", \"zerolinewidth\": 2}}}, \"xaxis\": {\"anchor\": \"y\", \"domain\": [0.0, 1.0], \"title\": {\"text\": \"Date Posted\"}}, \"yaxis\": {\"anchor\": \"x\", \"domain\": [0.0, 1.0], \"title\": {\"text\": \"Compound_Score\"}}},                        {\"responsive\": true}                    ).then(function(){\n",
       "                            \n",
       "var gd = document.getElementById('548cb8da-fe96-4f49-b6be-a2b4a593db6b');\n",
       "var x = new MutationObserver(function (mutations, observer) {{\n",
       "        var display = window.getComputedStyle(gd).display;\n",
       "        if (!display || display === 'none') {{\n",
       "            console.log([gd, 'removed!']);\n",
       "            Plotly.purge(gd);\n",
       "            observer.disconnect();\n",
       "        }}\n",
       "}});\n",
       "\n",
       "// Listen for the removal of the full notebook cells\n",
       "var notebookContainer = gd.closest('#notebook-container');\n",
       "if (notebookContainer) {{\n",
       "    x.observe(notebookContainer, {childList: true});\n",
       "}}\n",
       "\n",
       "// Listen for the clearing of the current output cell\n",
       "var outputEl = gd.closest('.output');\n",
       "if (outputEl) {{\n",
       "    x.observe(outputEl, {childList: true});\n",
       "}}\n",
       "\n",
       "                        })                };                });            </script>        </div>"
      ]
     },
     "metadata": {},
     "output_type": "display_data"
    }
   ],
   "source": []
  },
  {
   "cell_type": "code",
   "execution_count": null,
   "metadata": {},
   "outputs": [],
   "source": []
  },
  {
   "cell_type": "code",
   "execution_count": null,
   "metadata": {},
   "outputs": [],
   "source": []
  },
  {
   "cell_type": "code",
   "execution_count": 66,
   "metadata": {},
   "outputs": [],
   "source": []
  },
  {
   "cell_type": "code",
   "execution_count": null,
   "metadata": {},
   "outputs": [],
   "source": []
  },
  {
   "cell_type": "code",
   "execution_count": 138,
   "metadata": {},
   "outputs": [],
   "source": [
    "Score_sample = User_ratings_df.sample(800,axis='index',random_state=1)\n",
    "Score_sample.to_csv('Sample_user_ratings_df_with_SA_scores.txt')"
   ]
  },
  {
   "cell_type": "code",
   "execution_count": 139,
   "metadata": {},
   "outputs": [],
   "source": [
    "dates_formatted = []\n",
    "for i in Score_sample.index:\n",
    "    date_form = pd.to_datetime(Score_sample.at[i,'Date Posted']).date().strftime('%Y/%m/%d')\n",
    "    dates_formatted.append(date_form)\n",
    "Score_sample.insert(10,'Date Formatted',dates_formatted)\n",
    "#https://www.programiz.com/python-programming/datetime/strftime"
   ]
  },
  {
   "cell_type": "code",
   "execution_count": null,
   "metadata": {},
   "outputs": [],
   "source": []
  },
  {
   "cell_type": "code",
   "execution_count": null,
   "metadata": {},
   "outputs": [],
   "source": []
  },
  {
   "cell_type": "code",
   "execution_count": null,
   "metadata": {},
   "outputs": [],
   "source": []
  },
  {
   "cell_type": "code",
   "execution_count": null,
   "metadata": {},
   "outputs": [],
   "source": []
  },
  {
   "cell_type": "code",
   "execution_count": null,
   "metadata": {},
   "outputs": [],
   "source": []
  },
  {
   "cell_type": "code",
   "execution_count": null,
   "metadata": {},
   "outputs": [],
   "source": []
  },
  {
   "cell_type": "code",
   "execution_count": 140,
   "metadata": {},
   "outputs": [],
   "source": [
    "Dist_df = Score_sample.sort_values(by=['Date Formatted'])"
   ]
  },
  {
   "cell_type": "code",
   "execution_count": 176,
   "metadata": {},
   "outputs": [
    {
     "data": {
      "application/vnd.plotly.v1+json": {
       "config": {
        "plotlyServerURL": "https://plotly.com"
       },
       "data": [
        {
         "hovertemplate": "<b>%{hovertext}</b><br><br>Date Formatted=%{x}<br>Compound_Score=%{y}<extra></extra>",
         "hovertext": [
          "tt0087301_1",
          "tt0091190_2",
          "tt0107158_1",
          "tt0192272_0",
          "tt0108608_0",
          "tt0144020_4",
          "tt0106771_2",
          "tt0140700_0",
          "tt0162866_5",
          "tt0101440_4",
          "tt0215369_12",
          "tt0115669_12",
          "tt0236598_9",
          "tt0105197_2",
          "tt0189219_2",
          "tt0162866_1",
          "tt0115669_5",
          "tt0238588_3",
          "tt0084363_2",
          "tt0115669_18",
          "tt0111786_9",
          "tt0093844_1",
          "tt0162866_21",
          "tt0258885_4",
          "tt0110081_1",
          "tt0091190_0",
          "tt0235060_5",
          "tt0303243_9",
          "tt0120538_0",
          "tt0107358_0",
          "tt0059855_2",
          "tt0299977_4",
          "tt0110081_10",
          "tt0162866_0",
          "tt0317763_0",
          "tt0101640_19",
          "tt0351299_13",
          "tt0244709_17",
          "tt0087433_2",
          "tt0332639_16",
          "tt0363290_21",
          "tt0086878_2",
          "tt0318025_7",
          "tt0332831_17",
          "tt0260987_3",
          "tt0287934_0",
          "tt0374330_21",
          "tt0123450_2",
          "tt0081553_1",
          "tt0312535_1",
          "tt0098717_0",
          "tt0260898_0",
          "tt0183576_0",
          "tt0355037_0",
          "tt0199354_6",
          "tt0343566_0",
          "tt0352337_0",
          "tt0340628_0",
          "tt0184464_0",
          "tt0123329_3",
          "tt0343105_2",
          "tt0333088_0",
          "tt0082662_0",
          "tt0357867_0",
          "tt0298238_12",
          "tt0097985_0",
          "tt0093133_1",
          "tt0340925_0",
          "tt0339932_0",
          "tt0354878_0",
          "tt0390649_4",
          "tt0340396_0",
          "tt0340400_1",
          "tt0118199_0",
          "tt0367247_2",
          "tt0089335_0",
          "tt0351299_1",
          "tt0297928_3",
          "tt0318025_16",
          "tt0106332_22",
          "tt0101640_2",
          "tt0351299_2",
          "tt0374330_2",
          "tt0299977_5",
          "tt0439884_18",
          "tt0385004_13",
          "tt0424273_1",
          "tt0374330_3",
          "tt0398388_0",
          "tt0445506_7",
          "tt0423176_9",
          "tt0332831_14",
          "tt0303243_5",
          "tt0439630_0",
          "tt0299977_24",
          "tt0332639_3",
          "tt0439630_3",
          "tt0210916_10",
          "tt0483957_1",
          "tt0209189_10",
          "tt0450099_1",
          "tt0454914_8",
          "tt0454914_11",
          "tt0454914_2",
          "tt0110081_12",
          "tt0374330_6",
          "tt0483957_6",
          "tt0417976_0",
          "tt0417976_11",
          "tt0439630_11",
          "tt0454914_9",
          "tt0431940_0",
          "tt0115669_22",
          "tt0456658_2",
          "tt0461804_0",
          "tt0417976_2",
          "tt0843270_2",
          "tt0859765_5",
          "tt0459399_0",
          "tt0367602_4",
          "tt0417976_9",
          "tt0450099_3",
          "tt0258885_14",
          "tt0473444_10",
          "tt0473444_11",
          "tt0924003_0",
          "tt0485863_8",
          "tt0446755_10",
          "tt0417976_3",
          "tt0473444_0",
          "tt0446755_14",
          "tt0470302_0",
          "tt0794374_20",
          "tt0859765_9",
          "tt0485863_11",
          "tt0924003_2",
          "tt0765120_8",
          "tt0798841_1",
          "tt0423176_12",
          "tt0099902_6",
          "tt0367602_2",
          "tt0206442_0",
          "tt0769507_2",
          "tt0318025_10",
          "tt0209189_22",
          "tt0258885_6",
          "tt0859765_7",
          "tt0424234_4",
          "tt0794374_6",
          "tt0485863_12",
          "tt0102917_3",
          "tt0342778_7",
          "tt0424273_9",
          "tt0881200_6",
          "tt0882978_5",
          "tt0477890_0",
          "tt0425637_17",
          "tt0425637_12",
          "tt0425637_2",
          "tt0859765_12",
          "tt0236598_4",
          "tt0461804_7",
          "tt0122805_0",
          "tt0332831_18",
          "tt0859765_17",
          "tt0446755_17",
          "tt0482051_2",
          "tt1156506_8",
          "tt0851532_11",
          "tt0390649_3",
          "tt1326972_15",
          "tt1299370_1",
          "tt0363290_2",
          "tt1392743_0",
          "tt1018102_1",
          "tt1124052_11",
          "tt1258623_0",
          "tt0424234_0",
          "tt1020972_13",
          "tt0829114_0",
          "tt1124052_16",
          "tt0949489_11",
          "tt1156506_14",
          "tt0379587_2",
          "tt1483811_0",
          "tt0386651_9",
          "tt1434423_7",
          "tt0370969_1",
          "tt0374330_20",
          "tt1020972_15",
          "tt0144020_3",
          "tt0099902_9",
          "tt1308138_23",
          "tt0210916_14",
          "tt1103963_4",
          "tt0303243_11",
          "tt1425257_3",
          "tt0298238_11",
          "tt1319718_8",
          "tt0298238_8",
          "tt1613084_0",
          "tt1666661_0",
          "tt1393746_0",
          "tt0816250_1",
          "tt1487861_2",
          "tt1087834_0",
          "tt0293660_20",
          "tt1393746_17",
          "tt1460743_5",
          "tt1123373_14",
          "tt1554523_11",
          "tt1533117_5",
          "tt1092634_11",
          "tt0087433_9",
          "tt0332639_24",
          "tt1777620_0",
          "tt1533117_13",
          "tt1641398_0",
          "tt1123373_4",
          "tt1754743_0",
          "tt1308138_8",
          "tt1123373_3",
          "tt1699513_10",
          "tt1124052_23",
          "tt0210916_11",
          "tt1772230_17",
          "tt1772230_6",
          "tt1730720_4",
          "tt0882978_9",
          "tt1393746_21",
          "tt1425257_8",
          "tt1541995_17",
          "tt0258885_9",
          "tt0454914_16",
          "tt1857913_16",
          "tt0106332_19",
          "tt1772230_10",
          "tt1686784_10",
          "tt2102472_0",
          "tt1410063_0",
          "tt1123373_13",
          "tt1410063_22",
          "tt1533117_22",
          "tt1541995_21",
          "tt1519635_0",
          "tt2111407_0",
          "tt1514426_1",
          "tt1356735_0",
          "tt1686784_22",
          "tt0332831_10",
          "tt0461804_5",
          "tt1410063_23",
          "tt1686784_11",
          "tt1857913_17",
          "tt0099902_23",
          "tt1326972_3",
          "tt1032763_2",
          "tt2106741_5",
          "tt1981080_5",
          "tt1124052_17",
          "tt0465676_15",
          "tt1980198_0",
          "tt2106741_2",
          "tt1745713_6",
          "tt2369127_0",
          "tt1460743_9",
          "tt0189219_4",
          "tt1847713_5",
          "tt2385138_0",
          "tt2106741_0",
          "tt2071441_5",
          "tt2150394_0",
          "tt2044077_0",
          "tt0215369_23",
          "tt1124052_10",
          "tt2047732_0",
          "tt2113822_8",
          "tt2169322_3",
          "tt2113822_11",
          "tt0848538_1",
          "tt2165735_24",
          "tt1020972_6",
          "tt1876517_2",
          "tt0087433_13",
          "tt3043630_0",
          "tt2644714_17",
          "tt2102472_6",
          "tt3003668_1",
          "tt2296404_7",
          "tt2296404_2",
          "tt2992146_7",
          "tt0851515_3",
          "tt2992146_2",
          "tt2354196_7",
          "tt2852400_6",
          "tt2193269_0",
          "tt2165735_8",
          "tt2259360_0",
          "tt1856038_2",
          "tt2106514_9",
          "tt2118727_0",
          "tt3505950_1",
          "tt2957774_9",
          "tt2599716_13",
          "tt2347782_0",
          "tt3505950_0",
          "tt1726738_5",
          "tt1498858_12",
          "tt2599716_16",
          "tt3581276_0",
          "tt2957680_1",
          "tt1686784_9",
          "tt1981080_7",
          "tt1498858_11",
          "tt1726738_3",
          "tt2557256_1",
          "tt1723118_5",
          "tt2557256_17",
          "tt1717715_24",
          "tt1857913_6",
          "tt0470532_1",
          "tt1667150_4",
          "tt1772230_22",
          "tt3175936_3",
          "tt2770484_0",
          "tt1861421_7",
          "tt1648093_13",
          "tt2557256_10",
          "tt3202890_19",
          "tt2557256_4",
          "tt3950078_6",
          "tt3950078_1",
          "tt3511164_0",
          "tt2644714_6",
          "tt3793116_0",
          "tt2557256_18",
          "tt1055300_6",
          "tt2371411_16",
          "tt3752930_2",
          "tt2909116_10",
          "tt3672840_4",
          "tt2952602_17",
          "tt1425257_20",
          "tt2909116_2",
          "tt2089720_0",
          "tt2911342_1",
          "tt0297928_2",
          "tt3720058_1",
          "tt1527823_10",
          "tt3540136_9",
          "tt4162910_3",
          "tt0195256_10",
          "tt4644382_4",
          "tt4644382_9",
          "tt2461124_1",
          "tt2911342_13",
          "tt2911342_9",
          "tt2080418_0",
          "tt0499224_1",
          "tt2461124_0",
          "tt4818250_2",
          "tt2909116_14",
          "tt4613272_6",
          "tt0162866_18",
          "tt0105197_10",
          "tt4076856_0",
          "tt2071628_2",
          "tt1541995_13",
          "tt2058673_7",
          "tt2058673_14",
          "tt1362045_1",
          "tt3431598_0",
          "tt1554523_10",
          "tt4701702_0",
          "tt3729818_0",
          "tt4819498_11",
          "tt4701702_2",
          "tt4701702_9",
          "tt2271555_2",
          "tt4701702_8",
          "tt3950078_3",
          "tt3781476_11",
          "tt2909116_12",
          "tt5290882_3",
          "tt2071628_5",
          "tt4273106_0",
          "tt5237980_2",
          "tt4276752_10",
          "tt4701660_7",
          "tt0236598_5",
          "tt1308138_12",
          "tt5290882_15",
          "tt4079152_2",
          "tt3197766_14",
          "tt2063013_15",
          "tt2952602_2",
          "tt2992146_23",
          "tt2888046_4",
          "tt4851640_1",
          "tt3744264_18",
          "tt0882978_13",
          "tt3744264_11",
          "tt3744264_15",
          "tt0803096_9",
          "tt0803096_4",
          "tt3197766_12",
          "tt4310356_1",
          "tt5243900_2",
          "tt4591310_11",
          "tt2238032_20",
          "tt0851532_7",
          "tt4242158_2",
          "tt2720826_0",
          "tt3720058_11",
          "tt2720826_5",
          "tt2557256_6",
          "tt4819576_2",
          "tt0882978_23",
          "tt4819576_8",
          "tt6177592_1",
          "tt2909116_15",
          "tt2271555_1",
          "tt1487861_5",
          "tt1981080_15",
          "tt4613272_5",
          "tt4613272_3",
          "tt1293847_11",
          "tt3672840_23",
          "tt5273624_5",
          "tt1293847_22",
          "tt4217392_6",
          "tt6450660_0",
          "tt3752930_15",
          "tt1876517_14",
          "tt5275314_0",
          "tt2822672_8",
          "tt2118727_1",
          "tt5273624_2",
          "tt2017561_19",
          "tt4623812_3",
          "tt0093206_12",
          "tt6152908_4",
          "tt6167014_3",
          "tt2106514_11",
          "tt4862468_0",
          "tt4630562_20",
          "tt1293847_2",
          "tt6413312_0",
          "tt5823524_0",
          "tt2822672_3",
          "tt5918090_1",
          "tt5665040_5",
          "tt4630562_18",
          "tt4623812_1",
          "tt4851640_23",
          "tt5823524_1",
          "tt2369127_1",
          "tt2852400_23",
          "tt1920885_21",
          "tt1717715_17",
          "tt6138688_13",
          "tt5759434_4",
          "tt6138688_12",
          "tt5866930_1",
          "tt0105842_2",
          "tt7245176_0",
          "tt1460743_17",
          "tt2720826_22",
          "tt7131870_23",
          "tt5269396_5",
          "tt5987992_1",
          "tt3540136_14",
          "tt1686784_24",
          "tt0803096_18",
          "tt5974624_4",
          "tt5934728_0",
          "tt7339584_1",
          "tt4209788_11",
          "tt6148782_1",
          "tt2043878_2",
          "tt2976864_3",
          "tt7479718_1",
          "tt0245929_15",
          "tt7075594_1",
          "tt0195256_6",
          "tt5866930_4",
          "tt6908536_11",
          "tt6814080_0",
          "tt4591310_14",
          "tt6772874_5",
          "tt7131870_20",
          "tt7205208_2",
          "tt4814354_0",
          "tt4819576_13",
          "tt0299977_9",
          "tt7509586_1",
          "tt2911342_23",
          "tt4209788_3",
          "tt5846644_3",
          "tt0105842_3",
          "tt0318025_13",
          "tt2599716_20",
          "tt5342650_2",
          "tt7223050_0",
          "tt4209788_16",
          "tt6186248_0",
          "tt6015706_9",
          "tt5813366_4",
          "tt6908536_18",
          "tt7013194_3",
          "tt6690310_0",
          "tt8090914_1",
          "tt0881200_21",
          "tt4915672_14",
          "tt6604536_2",
          "tt6083388_10",
          "tt5974624_3",
          "tt7787418_0",
          "tt6083388_15",
          "tt4940416_19",
          "tt5775194_2",
          "tt5775194_0",
          "tt6791096_2",
          "tt6791096_12",
          "tt6878882_19",
          "tt6015706_3",
          "tt6157626_15",
          "tt2401825_2",
          "tt2720826_24",
          "tt4209788_7",
          "tt4537986_5",
          "tt7055592_0",
          "tt3744264_0",
          "tt6157626_6",
          "tt4940416_0",
          "tt8033592_24",
          "tt6389316_0",
          "tt6513656_6",
          "tt6513656_16",
          "tt6513656_14",
          "tt6513656_15",
          "tt4687848_14",
          "tt2779050_0",
          "tt7362036_2",
          "tt1920885_8",
          "tt7362036_9",
          "tt8529186_3",
          "tt6814080_1",
          "tt6513406_12",
          "tt4903518_0",
          "tt4986830_10",
          "tt3781476_5",
          "tt2371411_13",
          "tt5813366_13",
          "tt8774260_6",
          "tt3285802_11",
          "tt3285802_21",
          "tt3285802_7",
          "tt7133686_14",
          "tt7133686_20",
          "tt7133686_22",
          "tt7133686_21",
          "tt4155534_4",
          "tt4076934_11",
          "tt8529186_1",
          "tt2017561_13",
          "tt5648036_8",
          "tt4788934_6",
          "tt5648036_7",
          "tt7298400_7",
          "tt1293847_5",
          "tt5813366_7",
          "tt8161726_0",
          "tt8185182_13",
          "tt8366766_1",
          "tt8893870_1",
          "tt2993848_7",
          "tt0293660_17",
          "tt4743226_3",
          "tt7407350_0",
          "tt4788934_2",
          "tt9036926_6",
          "tt1270797_24",
          "tt9282616_0",
          "tt6869538_1",
          "tt2993848_5",
          "tt6869538_0",
          "tt6878882_1",
          "tt6864046_15",
          "tt4242158_1",
          "tt4701182_14",
          "tt7345928_1",
          "tt3585004_9",
          "tt3428458_1",
          "tt7853798_0",
          "tt7473036_0",
          "tt4701182_2",
          "tt9490414_3",
          "tt0303260_4",
          "tt7616798_19",
          "tt4701182_0",
          "tt4701182_22",
          "tt7183578_17",
          "tt1981080_19",
          "tt4079902_2",
          "tt7605074_3",
          "tt7362036_12",
          "tt9368628_2",
          "tt3401962_2",
          "tt6660238_1",
          "tt9368628_9",
          "tt5769516_3",
          "tt6654316_17",
          "tt8845432_1",
          "tt6044910_17",
          "tt6448192_2",
          "tt6869538_13",
          "tt5896962_1",
          "tt3197766_22",
          "tt4242158_4",
          "tt1000775_0",
          "tt5955834_0",
          "tt7245176_18",
          "tt7649320_7",
          "tt4819560_4",
          "tt5662906_3",
          "tt8774260_4",
          "tt7867360_21",
          "tt7867360_14",
          "tt1458902_1",
          "tt9282616_1",
          "tt8033592_7",
          "tt3204696_4",
          "tt9597190_7",
          "tt7605074_17",
          "tt1946502_16",
          "tt1946502_5",
          "tt5328352_1",
          "tt4644382_22",
          "tt4217392_15",
          "tt4701182_15",
          "tt4613272_9",
          "tt7298400_4",
          "tt1946502_0",
          "tt8385474_7",
          "tt8385474_2",
          "tt8385474_1",
          "tt9408490_1",
          "tt8185182_6",
          "tt6864046_21",
          "tt7013194_5",
          "tt8239806_9",
          "tt7245176_22",
          "tt9647768_3",
          "tt4074958_9",
          "tt8028526_0",
          "tt6074202_3",
          "tt5636668_15",
          "tt7937440_0",
          "tt2283336_12",
          "tt4537986_10",
          "tt6628322_16",
          "tt1704161_15",
          "tt2935510_23",
          "tt8161726_1",
          "tt0457472_5",
          "tt3224458_11",
          "tt5269396_7",
          "tt6461514_4",
          "tt4701702_18",
          "tt7183578_3",
          "tt6864046_6",
          "tt6015706_10",
          "tt1919137_7",
          "tt9586294_21",
          "tt3224458_1",
          "tt9635616_10",
          "tt3224458_4",
          "tt6288650_8",
          "tt7183578_18",
          "tt3224458_22",
          "tt7587984_8",
          "tt7773340_0",
          "tt4819498_17",
          "tt6466464_10",
          "tt1025100_22",
          "tt1698654_0",
          "tt1772230_20",
          "tt8020896_11",
          "tt8319694_0",
          "tt5648036_1",
          "tt4915672_5",
          "tt8033592_20",
          "tt4630562_4",
          "tt8185182_14",
          "tt3086582_1",
          "tt3856504_1",
          "tt5759434_24",
          "tt0059855_8",
          "tt3897080_9",
          "tt1097256_10",
          "tt6054290_1",
          "tt0803096_0",
          "tt0457472_6",
          "tt4392726_4",
          "tt2957774_10",
          "tt7957314_10",
          "tt6475918_0",
          "tt1438461_13",
          "tt8020896_21",
          "tt4644382_17",
          "tt4217392_2",
          "tt7587984_22",
          "tt4209788_4",
          "tt8028842_22",
          "tt4310356_2",
          "tt2283336_21",
          "tt5866930_17",
          "tt7867360_3",
          "tt6157626_8",
          "tt8755316_9",
          "tt5093098_0",
          "tt7787418_6",
          "tt4644382_10",
          "tt2115388_1",
          "tt7886614_8",
          "tt1981080_14",
          "tt3541704_0",
          "tt0123329_0",
          "tt2644714_12",
          "tt6044910_9",
          "tt5929654_1",
          "tt8755316_6",
          "tt0105197_14",
          "tt2071628_13",
          "tt2071628_9",
          "tt7886614_11",
          "tt5929654_22",
          "tt7180392_2",
          "tt8688634_11",
          "tt4263056_0",
          "tt5662906_7",
          "tt4155534_16",
          "tt4648786_12",
          "tt8028842_9",
          "tt7946836_22",
          "tt4074114_0",
          "tt4819576_15",
          "tt6264928_1",
          "tt6513406_3",
          "tt9099176_4",
          "tt6869538_15",
          "tt5665040_6",
          "tt5057982_2",
          "tt0099902_14",
          "tt2118775_14",
          "tt9695722_22",
          "tt7488208_13",
          "tt5813366_22",
          "tt4060544_9",
          "tt9695722_19",
          "tt5425264_18",
          "tt3197766_20",
          "tt2543698_3",
          "tt7957314_11",
          "tt5648036_10",
          "tt9695722_10",
          "tt6903084_1",
          "tt0457472_3",
          "tt0332831_9",
          "tt8959680_1",
          "tt7886614_20",
          "tt1123373_24",
          "tt1876517_12",
          "tt0881200_16",
          "tt7867360_24",
          "tt1646214_4",
          "tt5896962_6",
          "tt2993848_14",
          "tt2888046_14",
          "tt2952602_19",
          "tt4363250_17",
          "tt7294150_23",
          "tt2909116_19",
          "tt9685342_8",
          "tt4819560_7",
          "tt9567112_3",
          "tt7752454_2",
          "tt4155534_23",
          "tt4788934_9",
          "tt9288776_21",
          "tt5665040_3",
          "tt9586294_24",
          "tt8028842_15",
          "tt9203190_10",
          "tt9203190_23",
          "tt8517640_0",
          "tt9685342_7",
          "tt4537986_16",
          "tt5290882_9"
         ],
         "legendgroup": "",
         "marker": {
          "color": "#636efa",
          "symbol": "circle"
         },
         "mode": "markers",
         "name": "",
         "orientation": "v",
         "showlegend": false,
         "type": "scatter",
         "x": [
          "1998/09/11",
          "1999/02/05",
          "1999/03/06",
          "1999/03/31",
          "1999/04/12",
          "1999/05/24",
          "1999/06/18",
          "1999/08/18",
          "1999/12/24",
          "2000/07/26",
          "2000/08/09",
          "2000/09/20",
          "2000/10/15",
          "2000/11/25",
          "2001/01/25",
          "2001/01/31",
          "2001/03/12",
          "2001/03/13",
          "2001/03/15",
          "2001/03/28",
          "2001/06/20",
          "2001/12/23",
          "2002/04/23",
          "2002/05/28",
          "2002/06/15",
          "2002/06/26",
          "2002/07/05",
          "2002/08/07",
          "2002/10/21",
          "2002/12/02",
          "2002/12/15",
          "2003/01/22",
          "2003/01/25",
          "2003/01/30",
          "2003/02/12",
          "2003/02/18",
          "2003/04/28",
          "2003/05/11",
          "2003/05/26",
          "2003/06/06",
          "2003/06/14",
          "2003/06/16",
          "2003/06/19",
          "2003/09/14",
          "2003/09/30",
          "2003/10/03",
          "2003/10/29",
          "2003/11/19",
          "2003/11/20",
          "2003/11/21",
          "2003/11/21",
          "2003/11/21",
          "2003/11/24",
          "2003/11/24",
          "2003/11/28",
          "2003/11/30",
          "2003/12/02",
          "2004/01/02",
          "2004/01/05",
          "2004/01/11",
          "2004/01/11",
          "2004/02/11",
          "2004/02/17",
          "2004/02/18",
          "2004/03/04",
          "2004/03/11",
          "2004/03/13",
          "2004/03/15",
          "2004/03/15",
          "2004/03/18",
          "2004/04/04",
          "2004/04/05",
          "2004/04/05",
          "2004/04/06",
          "2004/04/06",
          "2004/04/07",
          "2004/05/02",
          "2004/07/09",
          "2004/07/09",
          "2004/09/28",
          "2004/11/29",
          "2004/12/13",
          "2004/12/14",
          "2004/12/24",
          "2005/01/05",
          "2005/01/16",
          "2005/02/02",
          "2005/02/11",
          "2005/03/04",
          "2005/03/20",
          "2005/03/30",
          "2005/04/20",
          "2005/06/19",
          "2005/06/23",
          "2005/07/06",
          "2005/07/07",
          "2005/08/28",
          "2005/09/14",
          "2005/11/05",
          "2005/11/25",
          "2005/12/02",
          "2005/12/03",
          "2005/12/05",
          "2006/01/03",
          "2006/01/17",
          "2006/02/04",
          "2006/05/08",
          "2006/05/08",
          "2006/05/10",
          "2006/05/15",
          "2006/07/08",
          "2006/07/30",
          "2006/08/02",
          "2006/08/03",
          "2006/08/04",
          "2006/08/07",
          "2006/08/19",
          "2006/09/16",
          "2006/09/18",
          "2006/10/20",
          "2006/11/06",
          "2006/12/02",
          "2006/12/15",
          "2006/12/21",
          "2006/12/31",
          "2007/01/02",
          "2007/01/05",
          "2007/01/07",
          "2007/01/10",
          "2007/01/14",
          "2007/01/24",
          "2007/02/08",
          "2007/02/18",
          "2007/02/24",
          "2007/02/26",
          "2007/03/10",
          "2007/05/21",
          "2007/06/22",
          "2007/08/21",
          "2007/09/09",
          "2007/09/11",
          "2007/09/14",
          "2007/09/16",
          "2007/09/17",
          "2007/10/14",
          "2007/11/22",
          "2008/01/08",
          "2008/01/26",
          "2008/02/18",
          "2008/02/24",
          "2008/03/17",
          "2008/03/19",
          "2008/04/06",
          "2008/04/11",
          "2008/06/16",
          "2008/06/30",
          "2008/07/12",
          "2008/07/12",
          "2008/07/29",
          "2008/08/03",
          "2008/08/13",
          "2008/09/15",
          "2008/09/23",
          "2008/09/26",
          "2008/10/07",
          "2008/10/10",
          "2008/10/28",
          "2008/12/11",
          "2008/12/17",
          "2008/12/17",
          "2009/01/18",
          "2009/03/10",
          "2009/03/11",
          "2009/03/11",
          "2009/04/24",
          "2009/05/09",
          "2009/05/17",
          "2009/05/25",
          "2009/05/29",
          "2009/06/13",
          "2009/06/14",
          "2009/07/23",
          "2009/07/31",
          "2009/08/29",
          "2009/10/20",
          "2009/11/12",
          "2009/11/16",
          "2009/12/01",
          "2010/01/07",
          "2010/01/08",
          "2010/01/28",
          "2010/02/03",
          "2010/02/07",
          "2010/03/12",
          "2010/03/15",
          "2010/04/27",
          "2010/05/24",
          "2010/05/29",
          "2010/06/20",
          "2010/06/24",
          "2010/07/17",
          "2010/07/24",
          "2010/07/29",
          "2010/08/04",
          "2010/08/16",
          "2010/08/20",
          "2010/08/28",
          "2010/09/03",
          "2010/10/01",
          "2010/10/02",
          "2010/11/19",
          "2010/12/18",
          "2011/01/13",
          "2011/01/17",
          "2011/02/03",
          "2011/03/19",
          "2011/03/31",
          "2011/04/04",
          "2011/04/07",
          "2011/04/09",
          "2011/04/23",
          "2011/06/24",
          "2011/06/26",
          "2011/07/13",
          "2011/08/02",
          "2011/09/27",
          "2011/10/01",
          "2011/10/04",
          "2011/10/05",
          "2011/10/28",
          "2011/10/30",
          "2011/11/16",
          "2011/11/20",
          "2011/11/21",
          "2011/11/22",
          "2011/12/02",
          "2011/12/09",
          "2011/12/18",
          "2011/12/20",
          "2011/12/20",
          "2011/12/21",
          "2012/01/03",
          "2012/01/09",
          "2012/01/26",
          "2012/02/08",
          "2012/02/12",
          "2012/02/18",
          "2012/03/02",
          "2012/03/15",
          "2012/03/19",
          "2012/03/26",
          "2012/03/28",
          "2012/04/10",
          "2012/04/29",
          "2012/05/09",
          "2012/07/16",
          "2012/08/14",
          "2012/08/22",
          "2012/09/09",
          "2012/09/17",
          "2012/09/26",
          "2012/10/04",
          "2012/10/12",
          "2012/11/13",
          "2012/11/17",
          "2012/12/09",
          "2013/01/16",
          "2013/02/11",
          "2013/02/25",
          "2013/03/07",
          "2013/03/08",
          "2013/03/09",
          "2013/04/20",
          "2013/04/20",
          "2013/04/21",
          "2013/04/27",
          "2013/05/12",
          "2013/05/16",
          "2013/06/07",
          "2013/06/12",
          "2013/06/22",
          "2013/07/12",
          "2013/07/22",
          "2013/07/25",
          "2013/07/26",
          "2013/08/18",
          "2013/08/21",
          "2013/08/22",
          "2013/08/25",
          "2013/09/10",
          "2013/10/05",
          "2013/10/05",
          "2013/11/10",
          "2013/11/13",
          "2013/11/18",
          "2013/11/29",
          "2013/12/04",
          "2013/12/15",
          "2014/01/14",
          "2014/01/27",
          "2014/02/07",
          "2014/02/14",
          "2014/02/17",
          "2014/03/08",
          "2014/03/17",
          "2014/03/29",
          "2014/04/01",
          "2014/04/06",
          "2014/04/09",
          "2014/04/10",
          "2014/04/13",
          "2014/04/28",
          "2014/06/06",
          "2014/06/15",
          "2014/06/21",
          "2014/06/22",
          "2014/06/25",
          "2014/06/30",
          "2014/07/01",
          "2014/07/16",
          "2014/07/20",
          "2014/07/31",
          "2014/08/02",
          "2014/09/16",
          "2014/10/07",
          "2014/10/13",
          "2014/10/29",
          "2014/11/10",
          "2014/11/14",
          "2014/12/10",
          "2014/12/23",
          "2014/12/28",
          "2014/12/30",
          "2015/01/04",
          "2015/01/09",
          "2015/01/15",
          "2015/01/15",
          "2015/02/04",
          "2015/02/13",
          "2015/03/08",
          "2015/03/09",
          "2015/04/04",
          "2015/04/09",
          "2015/04/16",
          "2015/04/22",
          "2015/04/29",
          "2015/05/08",
          "2015/05/16",
          "2015/06/04",
          "2015/06/28",
          "2015/07/03",
          "2015/07/06",
          "2015/07/16",
          "2015/07/19",
          "2015/07/25",
          "2015/08/17",
          "2015/08/17",
          "2015/09/05",
          "2015/09/07",
          "2015/09/15",
          "2015/09/16",
          "2015/09/23",
          "2015/10/15",
          "2015/10/17",
          "2015/10/23",
          "2015/11/17",
          "2015/11/25",
          "2015/12/05",
          "2015/12/09",
          "2015/12/10",
          "2015/12/13",
          "2015/12/24",
          "2015/12/28",
          "2015/12/29",
          "2015/12/31",
          "2016/01/02",
          "2016/01/03",
          "2016/01/04",
          "2016/01/10",
          "2016/01/12",
          "2016/01/13",
          "2016/01/13",
          "2016/01/15",
          "2016/01/22",
          "2016/01/27",
          "2016/01/31",
          "2016/02/09",
          "2016/02/10",
          "2016/02/10",
          "2016/02/12",
          "2016/02/15",
          "2016/02/16",
          "2016/02/17",
          "2016/02/17",
          "2016/02/26",
          "2016/02/28",
          "2016/02/29",
          "2016/03/17",
          "2016/03/17",
          "2016/03/22",
          "2016/03/31",
          "2016/04/20",
          "2016/05/06",
          "2016/05/21",
          "2016/05/22",
          "2016/05/24",
          "2016/05/29",
          "2016/07/03",
          "2016/07/07",
          "2016/08/18",
          "2016/09/16",
          "2016/09/16",
          "2016/09/18",
          "2016/09/21",
          "2016/09/21",
          "2016/10/04",
          "2016/10/07",
          "2016/10/22",
          "2016/11/01",
          "2016/11/09",
          "2016/12/16",
          "2016/12/18",
          "2016/12/29",
          "2016/12/31",
          "2017/01/11",
          "2017/01/13",
          "2017/01/19",
          "2017/01/25",
          "2017/01/28",
          "2017/01/28",
          "2017/02/11",
          "2017/02/12",
          "2017/02/16",
          "2017/02/16",
          "2017/02/19",
          "2017/02/25",
          "2017/02/27",
          "2017/02/28",
          "2017/03/01",
          "2017/03/14",
          "2017/03/16",
          "2017/03/24",
          "2017/04/11",
          "2017/04/22",
          "2017/04/24",
          "2017/04/25",
          "2017/05/06",
          "2017/05/06",
          "2017/05/19",
          "2017/05/21",
          "2017/05/27",
          "2017/05/28",
          "2017/06/07",
          "2017/06/12",
          "2017/06/20",
          "2017/06/25",
          "2017/06/27",
          "2017/06/27",
          "2017/07/06",
          "2017/07/30",
          "2017/08/06",
          "2017/08/07",
          "2017/08/11",
          "2017/08/11",
          "2017/08/18",
          "2017/08/20",
          "2017/08/26",
          "2017/08/27",
          "2017/09/01",
          "2017/09/03",
          "2017/09/09",
          "2017/09/17",
          "2017/09/29",
          "2017/10/03",
          "2017/10/04",
          "2017/10/07",
          "2017/10/07",
          "2017/10/07",
          "2017/10/14",
          "2017/10/21",
          "2017/11/20",
          "2017/11/23",
          "2017/11/24",
          "2017/12/01",
          "2017/12/01",
          "2017/12/02",
          "2017/12/05",
          "2017/12/09",
          "2017/12/10",
          "2017/12/11",
          "2017/12/19",
          "2017/12/24",
          "2017/12/30",
          "2017/12/30",
          "2018/01/04",
          "2018/01/04",
          "2018/01/05",
          "2018/01/18",
          "2018/01/24",
          "2018/01/26",
          "2018/02/02",
          "2018/02/05",
          "2018/02/12",
          "2018/02/14",
          "2018/02/16",
          "2018/02/19",
          "2018/02/23",
          "2018/02/24",
          "2018/03/03",
          "2018/03/04",
          "2018/03/04",
          "2018/03/06",
          "2018/03/07",
          "2018/03/10",
          "2018/03/11",
          "2018/03/11",
          "2018/03/15",
          "2018/03/28",
          "2018/03/30",
          "2018/04/03",
          "2018/04/06",
          "2018/04/16",
          "2018/04/20",
          "2018/04/22",
          "2018/04/23",
          "2018/04/27",
          "2018/04/29",
          "2018/05/06",
          "2018/05/07",
          "2018/05/07",
          "2018/05/10",
          "2018/05/14",
          "2018/05/25",
          "2018/05/31",
          "2018/06/07",
          "2018/06/07",
          "2018/06/12",
          "2018/06/15",
          "2018/06/16",
          "2018/06/16",
          "2018/06/16",
          "2018/07/02",
          "2018/07/11",
          "2018/07/12",
          "2018/07/20",
          "2018/07/27",
          "2018/07/28",
          "2018/07/31",
          "2018/08/07",
          "2018/08/07",
          "2018/08/09",
          "2018/08/11",
          "2018/08/14",
          "2018/08/27",
          "2018/08/27",
          "2018/09/04",
          "2018/09/04",
          "2018/09/04",
          "2018/09/08",
          "2018/09/08",
          "2018/09/09",
          "2018/09/15",
          "2018/09/16",
          "2018/09/24",
          "2018/09/29",
          "2018/10/01",
          "2018/10/03",
          "2018/10/07",
          "2018/10/09",
          "2018/10/11",
          "2018/10/11",
          "2018/10/14",
          "2018/10/21",
          "2018/10/21",
          "2018/10/22",
          "2018/10/31",
          "2018/11/03",
          "2018/11/08",
          "2018/11/10",
          "2018/11/20",
          "2018/11/22",
          "2018/11/27",
          "2018/11/29",
          "2018/11/29",
          "2018/11/30",
          "2018/12/02",
          "2018/12/03",
          "2018/12/08",
          "2018/12/08",
          "2018/12/18",
          "2018/12/19",
          "2018/12/20",
          "2018/12/21",
          "2019/01/01",
          "2019/01/02",
          "2019/01/05",
          "2019/01/06",
          "2019/01/08",
          "2019/01/11",
          "2019/01/12",
          "2019/01/19",
          "2019/01/20",
          "2019/01/26",
          "2019/01/29",
          "2019/02/07",
          "2019/02/07",
          "2019/02/08",
          "2019/02/09",
          "2019/02/09",
          "2019/02/09",
          "2019/02/11",
          "2019/02/12",
          "2019/02/18",
          "2019/02/18",
          "2019/02/18",
          "2019/02/18",
          "2019/02/18",
          "2019/02/19",
          "2019/02/19",
          "2019/02/19",
          "2019/02/19",
          "2019/02/19",
          "2019/02/24",
          "2019/02/27",
          "2019/03/05",
          "2019/03/10",
          "2019/03/19",
          "2019/03/21",
          "2019/03/23",
          "2019/03/24",
          "2019/03/26",
          "2019/04/03",
          "2019/04/07",
          "2019/04/22",
          "2019/04/29",
          "2019/05/03",
          "2019/05/03",
          "2019/05/08",
          "2019/05/10",
          "2019/05/10",
          "2019/05/10",
          "2019/05/12",
          "2019/05/12",
          "2019/05/13",
          "2019/05/18",
          "2019/05/23",
          "2019/05/26",
          "2019/06/01",
          "2019/06/03",
          "2019/06/08",
          "2019/06/15",
          "2019/07/12",
          "2019/07/14",
          "2019/07/31",
          "2019/07/31",
          "2019/08/01",
          "2019/08/09",
          "2019/08/11",
          "2019/08/30",
          "2019/09/05",
          "2019/09/06",
          "2019/09/20",
          "2019/09/21",
          "2019/09/25",
          "2019/09/29",
          "2019/10/12",
          "2019/10/18",
          "2019/10/20",
          "2019/10/20",
          "2019/10/20",
          "2019/11/02",
          "2019/11/02",
          "2019/11/09",
          "2019/11/15",
          "2019/11/18",
          "2019/11/22",
          "2019/11/23",
          "2019/11/23",
          "2019/11/24",
          "2019/11/24",
          "2019/11/25",
          "2019/11/27",
          "2019/11/27",
          "2019/12/01",
          "2019/12/01",
          "2019/12/02",
          "2019/12/11",
          "2019/12/21",
          "2019/12/25",
          "2019/12/28",
          "2020/01/07",
          "2020/01/09",
          "2020/01/12",
          "2020/01/16",
          "2020/01/18",
          "2020/01/25",
          "2020/01/27",
          "2020/01/30",
          "2020/02/07",
          "2020/02/16",
          "2020/02/16",
          "2020/02/18",
          "2020/02/29",
          "2020/03/06",
          "2020/03/07",
          "2020/03/11",
          "2020/03/13",
          "2020/03/14",
          "2020/03/23",
          "2020/03/23",
          "2020/03/25",
          "2020/03/29",
          "2020/03/29",
          "2020/03/30",
          "2020/03/31",
          "2020/04/01",
          "2020/04/02",
          "2020/04/03",
          "2020/04/04",
          "2020/04/06",
          "2020/04/10",
          "2020/04/16",
          "2020/04/22",
          "2020/05/04",
          "2020/05/10",
          "2020/05/12",
          "2020/05/12",
          "2020/05/18",
          "2020/05/23",
          "2020/05/23",
          "2020/06/06",
          "2020/06/10",
          "2020/06/10",
          "2020/06/11",
          "2020/06/15",
          "2020/06/15",
          "2020/06/17",
          "2020/06/20",
          "2020/06/25",
          "2020/06/28",
          "2020/07/17",
          "2020/07/27",
          "2020/07/30",
          "2020/08/02",
          "2020/08/05",
          "2020/08/07",
          "2020/08/10",
          "2020/08/17",
          "2020/08/22",
          "2020/08/31",
          "2020/09/04",
          "2020/09/16",
          "2020/09/20",
          "2020/09/21",
          "2020/09/23",
          "2020/09/29",
          "2020/10/10",
          "2020/10/25",
          "2020/10/27",
          "2020/10/31",
          "2020/11/02",
          "2020/11/04",
          "2020/11/07",
          "2020/11/10",
          "2020/11/11",
          "2020/11/17",
          "2020/11/19",
          "2020/11/25",
          "2020/11/26",
          "2020/11/27",
          "2020/11/29",
          "2020/12/06",
          "2020/12/07",
          "2020/12/09",
          "2020/12/15",
          "2020/12/17",
          "2020/12/19",
          "2020/12/21",
          "2020/12/23",
          "2020/12/23",
          "2021/01/10",
          "2021/01/26",
          "2021/02/02",
          "2021/02/05",
          "2021/02/16",
          "2021/02/17",
          "2021/02/21",
          "2021/02/28",
          "2021/03/06",
          "2021/03/10",
          "2021/03/15",
          "2021/03/17",
          "2021/03/22",
          "2021/04/05",
          "2021/04/10",
          "2021/04/12",
          "2021/04/22",
          "2021/05/02",
          "2021/05/04",
          "2021/05/04"
         ],
         "xaxis": "x",
         "y": [
          0.3716,
          -0.1263,
          0.4404,
          -0.25,
          0.9894,
          -0.3818,
          -0.9589,
          0.8092,
          0.8591,
          0.936,
          -0.6705,
          0.128,
          0.6524,
          0.9747,
          0.7712,
          0.9877,
          0.9273,
          -0.0516,
          0.9022,
          0.9956,
          0.7383,
          -0.3506,
          0.9507,
          0.5481,
          0.9969,
          -0.2541,
          0.9945,
          0.9882,
          -0.962,
          0.9707,
          0.9642,
          0.9965,
          0.9977,
          -0.2888,
          -0.9553,
          0.9527,
          -0.0516,
          0.9742,
          -0.9925,
          0.9823,
          -0.4926,
          0.8999,
          0.4971,
          0.9325,
          0.9167,
          0.8811,
          0.5666,
          0.511,
          -0.7935,
          -0.5994,
          0.1154,
          -0.4588,
          0.4588,
          0.0772,
          -0.1759,
          -0.6436,
          -0.743,
          -0.8271,
          -0.3071,
          0.9064,
          -0.765,
          0.5806,
          -0.9713,
          -0.7893,
          0.4473,
          -0.9641,
          0.9506,
          0.8924,
          0.9533,
          -0.5893,
          -0.5839,
          0.9417,
          -0.9099,
          -0.9531,
          0.9756,
          0.2748,
          0.9957,
          -0.319,
          0.8794,
          -0.7976,
          -0.8667,
          -0.9324,
          0.2415,
          0.9933,
          0.9033,
          -0.998,
          0.9938,
          0.9621,
          0.9953,
          0.9562,
          0.9607,
          -0.24,
          0.9089,
          0.9737,
          0.9915,
          0.993,
          0.9939,
          0.9952,
          0.9989,
          0.9944,
          0.815,
          0.9763,
          0.9947,
          0.9979,
          0.9919,
          0.9873,
          0.9828,
          0.9944,
          0.8115,
          0.9906,
          0.9186,
          -0.9071,
          0.995,
          0.7026,
          0.9922,
          -0.5719,
          0.9356,
          0.9509,
          0.9888,
          0.7782,
          -0.1855,
          0.9814,
          -0.9755,
          0.982,
          0.9854,
          0.9968,
          -0.9239,
          0.9985,
          0.8821,
          -0.9965,
          0.9942,
          0.9783,
          -0.9823,
          0.648,
          0.843,
          0.6449,
          0.9427,
          -0.5606,
          0.9601,
          -0.4697,
          0.9909,
          0.995,
          0.9844,
          0.9328,
          0.8471,
          -0.1813,
          0.9571,
          0.9849,
          0.9961,
          0.9286,
          0.9654,
          0.6896,
          0.991,
          -0.9682,
          0.9084,
          0.979,
          0.4588,
          0.9667,
          0.9977,
          0.416,
          0.9833,
          0.982,
          0.9891,
          -0.9441,
          0.4572,
          0.8591,
          0.5645,
          0.9987,
          0.9384,
          0.9736,
          0.9986,
          0.9924,
          0.8281,
          0.8995,
          0.96,
          -0.8537,
          0.9061,
          0.9596,
          -0.9902,
          -0.9413,
          0.9383,
          0.9903,
          -0.9741,
          0.9455,
          0.9964,
          -0.9555,
          0.7996,
          -0.6486,
          0.9937,
          0.2563,
          0.893,
          0.3182,
          0.5383,
          0.9927,
          0.9623,
          0.9952,
          0.9421,
          0.7096,
          0.9974,
          0.9894,
          0.9907,
          0.8705,
          0.9963,
          -0.9817,
          0.9954,
          0.9714,
          0.2064,
          0.7788,
          0.9993,
          -0.5909,
          0.8625,
          0.9933,
          0.1541,
          -0.8316,
          0.9957,
          -0.427,
          0.9837,
          0.9759,
          -0.7239,
          -0.9439,
          0.9341,
          0.8844,
          0.2263,
          -0.7595,
          0.2023,
          0.9978,
          0.9904,
          0.9802,
          -0.8904,
          -0.9922,
          0.9989,
          0.9951,
          -0.4026,
          0.9957,
          0.6862,
          0.9885,
          0.4754,
          0.9909,
          0.9919,
          0.9922,
          -0.8471,
          0.9767,
          -0.734,
          0.8389,
          -0.9822,
          -0.9749,
          0.8071,
          0.9457,
          0.9715,
          0.9802,
          -0.9676,
          0.9985,
          0.8245,
          0.95,
          -0.9825,
          -0.5789,
          0.9647,
          0.9943,
          0.9735,
          -0.971,
          0.4588,
          0.8365,
          0.9815,
          -0.9301,
          -0.8932,
          0.9859,
          0.9827,
          -0.9327,
          0.9603,
          0.9872,
          -0.6574,
          0.992,
          0.8925,
          0.952,
          0.9923,
          -0.2908,
          -0.9967,
          0.9956,
          -0.9468,
          -0.4623,
          -0.8537,
          0.909,
          -0.454,
          -0.8362,
          -0.6948,
          -0.9418,
          0.9944,
          -0.868,
          0.9959,
          0.974,
          0.9639,
          0.9661,
          0.9997,
          -0.9432,
          -0.9691,
          0.9829,
          0.926,
          0.9765,
          0.9272,
          -0.9835,
          0.4921,
          0.9672,
          -0.9814,
          -0.9934,
          -0.6556,
          0.9985,
          0.7976,
          -0.844,
          0.8505,
          -0.9899,
          0.9538,
          -0.5266,
          0.7986,
          0.9896,
          0.9953,
          -0.9746,
          0.9956,
          0.9193,
          0.9828,
          0.9935,
          0.8074,
          0.9235,
          0.6098,
          0.9379,
          0.9885,
          0.9537,
          0.3674,
          -0.4444,
          -0.9159,
          0.9666,
          0.6597,
          0.9853,
          -0.8526,
          0.964,
          -0.5664,
          0.9963,
          0.9868,
          0.9967,
          -0.9838,
          0.9912,
          -0.0446,
          -0.9795,
          0.9658,
          0.9981,
          -0.9455,
          0.9894,
          0.827,
          0.9934,
          0.991,
          0.7351,
          -0.8555,
          -0.3919,
          0.9509,
          0.9972,
          0.987,
          0.9964,
          -0.0737,
          -0.9712,
          0.7339,
          0.9688,
          -0.907,
          0.9753,
          0.9716,
          0.9696,
          0.993,
          0.9846,
          -0.3797,
          0.9961,
          -0.9415,
          -0.814,
          0.9442,
          0.9972,
          0.9586,
          0.9728,
          -0.9807,
          0.3539,
          0.9519,
          0.9797,
          0.4121,
          0.5868,
          0.9978,
          0.9876,
          -0.9578,
          0.9788,
          -0.7159,
          -0.3701,
          -0.7402,
          0.9143,
          0.6212,
          0.9813,
          0.9913,
          0.5265,
          0.8419,
          0.9598,
          0.9944,
          -0.9197,
          0.7103,
          0.768,
          0.9828,
          0.9923,
          -0.4982,
          0.638,
          0.9607,
          0.9973,
          0.9709,
          0.9866,
          -0.9929,
          0.9989,
          0.9153,
          0.9353,
          0.9769,
          -0.4872,
          -0.4359,
          0.9908,
          -0.9634,
          0.9941,
          0.3262,
          0.9872,
          -0.8941,
          0.971,
          -0.6705,
          0.9875,
          0.9822,
          0.9174,
          0.8869,
          0.9787,
          0.9658,
          -0.9673,
          0.9836,
          0.9689,
          0.9919,
          -0.5727,
          -0.9954,
          -0.8522,
          0.7155,
          0.8064,
          0.991,
          0.9723,
          0.7837,
          -0.7003,
          0.9531,
          0.9411,
          0.9135,
          0.9948,
          0.9279,
          0.9792,
          0.935,
          0.9599,
          -0.7687,
          0.9831,
          0.9515,
          0.9303,
          -0.9909,
          0.4931,
          0.8891,
          -0.2144,
          -0.3818,
          -0.8381,
          0.9965,
          -0.9791,
          0.9956,
          0.9294,
          0.9849,
          0.9957,
          -0.1035,
          0.9904,
          0.1388,
          0.9966,
          -0.1897,
          0.7748,
          0.9976,
          -0.9033,
          0.8799,
          0.9855,
          0.1869,
          0.7493,
          0.9518,
          0.9802,
          0.9963,
          -0.6575,
          0.9952,
          0.9993,
          0.3535,
          0.7269,
          -0.0917,
          -0.3933,
          -0.1144,
          0.9521,
          0.9217,
          0.8675,
          -0.4497,
          0.9761,
          -0.5267,
          -0.5267,
          -0.9636,
          0.9841,
          0.9778,
          0.9712,
          -0.9667,
          0.9293,
          0.9319,
          -0.9878,
          -0.7238,
          0.5642,
          0.9986,
          0.7601,
          -0.8454,
          -0.34,
          0.9598,
          0.9253,
          0.9785,
          -0.1263,
          0.5267,
          -0.2023,
          0.9731,
          0.5719,
          0.852,
          0.9894,
          -0.8991,
          0.7867,
          0.6188,
          -0.2243,
          0.981,
          0.8439,
          -0.8894,
          -0.7096,
          0.9846,
          0.1406,
          -0.9178,
          0.9966,
          -0.5659,
          0.914,
          -0.8338,
          0.9093,
          0.9861,
          0.1779,
          0.99,
          -0.966,
          0.1779,
          -0.9131,
          -0.3839,
          0.8625,
          0.9718,
          -0.831,
          0.9971,
          0.6621,
          0.945,
          0.9201,
          0.8962,
          0.8751,
          -0.3213,
          0.9569,
          0.4404,
          0.8949,
          -0.6801,
          0.9274,
          0.8689,
          -0.1306,
          -0.9203,
          0.8985,
          0.5822,
          -0.6249,
          0.9397,
          -0.1638,
          0.2263,
          0.9803,
          0.8402,
          0.2143,
          0.9916,
          0.9261,
          0.929,
          -0.1027,
          0,
          0.8228,
          -0.0258,
          0.4927,
          -0.6808,
          0.8958,
          -0.8674,
          0.5403,
          0.3612,
          0.939,
          -0.9394,
          0.9948,
          0.9423,
          0.5499,
          0.9987,
          0.8448,
          -0.8581,
          0.9696,
          0.9483,
          0.9523,
          -0.046,
          0.8897,
          0.9825,
          0.9313,
          0.9958,
          0.984,
          -0.7717,
          0.6461,
          0.9841,
          -0.578,
          0.7906,
          0.0891,
          -0.9227,
          0.8179,
          0.8707,
          0.8011,
          0.8423,
          0.024,
          0.4404,
          0.9876,
          -0.4388,
          -0.4522,
          0.7154,
          -0.3536,
          -0.9305,
          -0.6956,
          0.2724,
          -0.9017,
          -0.1787,
          0,
          0.9842,
          0.9014,
          0.0115,
          0.9001,
          0.9397,
          0.8941,
          -0.926,
          -0.0772,
          0.0892,
          0.9702,
          0.9617,
          0.5823,
          -0.9192,
          0.9331,
          0.967,
          0.7664,
          0.5826,
          0.9132,
          -0.8118,
          0.6115,
          -0.8638,
          0.9489,
          0.9403,
          0.9517,
          0.8905,
          -0.2023,
          0.9913,
          0.8989,
          0.9458,
          0.4927,
          0.588,
          0.4707,
          0.9954,
          -0.7981,
          0.9772,
          0.9644,
          0.2732,
          0.807,
          0.9567,
          -0.8696,
          0.6369,
          0.9674,
          0.891,
          0.2238,
          0.9542,
          0.9814,
          0.3071,
          0.9442,
          0.992,
          0.0757,
          0.7003,
          -0.1219,
          -0.2247,
          0.9914,
          0.9982,
          0.5789,
          0.9509,
          0.8331,
          0.9091,
          0.7719,
          0.9598,
          0.7193,
          0.8074,
          -0.7501,
          0.9802,
          0.9933,
          -0.9556,
          0.8883,
          0.9701,
          0.6486,
          0.9147,
          0.9984,
          -0.739,
          -0.4854,
          -0.9965,
          0.683,
          0.4404,
          0.7255,
          0.6239,
          0.9985,
          -0.6801,
          -0.4867,
          0.9855,
          0.8883,
          0,
          0.9413,
          -0.34,
          -0.9953,
          0.8591,
          -0.9559,
          -0.7623,
          0.9617,
          0.7269,
          0.9651,
          -0.3612,
          0.9699,
          0.3182,
          0.6987,
          0.4927,
          0.5106,
          0.9881,
          -0.3818,
          0.9945,
          0.212,
          0.128,
          0.3248,
          0.7096,
          0.9938,
          0.9901,
          -0.4588,
          0.2691,
          0.7351,
          0.85,
          0.7115,
          -0.891,
          0.1505,
          0.9932,
          0.8389,
          0.966,
          0.6369,
          0.9936,
          0.8294,
          -0.6427,
          0.8643,
          0.6476,
          0.9042,
          0.9472,
          0.9952,
          0.854,
          0.9556,
          -0.5994,
          0.5994,
          0.8115,
          0.9092,
          -0.0772,
          0.9873,
          -0.6898,
          0.4404,
          0.6169,
          0.7134,
          0,
          -0.9842,
          -0.2037,
          -0.1689,
          -0.9379,
          0.9605,
          -0.2732,
          0.3514,
          -0.7906,
          -0.949,
          0.8979,
          -0.9806,
          0.4497,
          0.943,
          0.811,
          -0.4404,
          0.5719,
          0.5253,
          0.6003,
          -0.3818,
          -0.4767,
          -0.3029,
          0.1779,
          0.8142,
          -0.2717,
          0.9054,
          -0.9569,
          0.2462,
          0.8979,
          0.7096,
          0.975,
          0.6808,
          -0.0396,
          -0.6249,
          -0.5267,
          -0.9339,
          0.7845,
          0.555
         ],
         "yaxis": "y"
        }
       ],
       "layout": {
        "legend": {
         "tracegroupgap": 0
        },
        "template": {
         "data": {
          "bar": [
           {
            "error_x": {
             "color": "#2a3f5f"
            },
            "error_y": {
             "color": "#2a3f5f"
            },
            "marker": {
             "line": {
              "color": "#E5ECF6",
              "width": 0.5
             }
            },
            "type": "bar"
           }
          ],
          "barpolar": [
           {
            "marker": {
             "line": {
              "color": "#E5ECF6",
              "width": 0.5
             }
            },
            "type": "barpolar"
           }
          ],
          "carpet": [
           {
            "aaxis": {
             "endlinecolor": "#2a3f5f",
             "gridcolor": "white",
             "linecolor": "white",
             "minorgridcolor": "white",
             "startlinecolor": "#2a3f5f"
            },
            "baxis": {
             "endlinecolor": "#2a3f5f",
             "gridcolor": "white",
             "linecolor": "white",
             "minorgridcolor": "white",
             "startlinecolor": "#2a3f5f"
            },
            "type": "carpet"
           }
          ],
          "choropleth": [
           {
            "colorbar": {
             "outlinewidth": 0,
             "ticks": ""
            },
            "type": "choropleth"
           }
          ],
          "contour": [
           {
            "colorbar": {
             "outlinewidth": 0,
             "ticks": ""
            },
            "colorscale": [
             [
              0,
              "#0d0887"
             ],
             [
              0.1111111111111111,
              "#46039f"
             ],
             [
              0.2222222222222222,
              "#7201a8"
             ],
             [
              0.3333333333333333,
              "#9c179e"
             ],
             [
              0.4444444444444444,
              "#bd3786"
             ],
             [
              0.5555555555555556,
              "#d8576b"
             ],
             [
              0.6666666666666666,
              "#ed7953"
             ],
             [
              0.7777777777777778,
              "#fb9f3a"
             ],
             [
              0.8888888888888888,
              "#fdca26"
             ],
             [
              1,
              "#f0f921"
             ]
            ],
            "type": "contour"
           }
          ],
          "contourcarpet": [
           {
            "colorbar": {
             "outlinewidth": 0,
             "ticks": ""
            },
            "type": "contourcarpet"
           }
          ],
          "heatmap": [
           {
            "colorbar": {
             "outlinewidth": 0,
             "ticks": ""
            },
            "colorscale": [
             [
              0,
              "#0d0887"
             ],
             [
              0.1111111111111111,
              "#46039f"
             ],
             [
              0.2222222222222222,
              "#7201a8"
             ],
             [
              0.3333333333333333,
              "#9c179e"
             ],
             [
              0.4444444444444444,
              "#bd3786"
             ],
             [
              0.5555555555555556,
              "#d8576b"
             ],
             [
              0.6666666666666666,
              "#ed7953"
             ],
             [
              0.7777777777777778,
              "#fb9f3a"
             ],
             [
              0.8888888888888888,
              "#fdca26"
             ],
             [
              1,
              "#f0f921"
             ]
            ],
            "type": "heatmap"
           }
          ],
          "heatmapgl": [
           {
            "colorbar": {
             "outlinewidth": 0,
             "ticks": ""
            },
            "colorscale": [
             [
              0,
              "#0d0887"
             ],
             [
              0.1111111111111111,
              "#46039f"
             ],
             [
              0.2222222222222222,
              "#7201a8"
             ],
             [
              0.3333333333333333,
              "#9c179e"
             ],
             [
              0.4444444444444444,
              "#bd3786"
             ],
             [
              0.5555555555555556,
              "#d8576b"
             ],
             [
              0.6666666666666666,
              "#ed7953"
             ],
             [
              0.7777777777777778,
              "#fb9f3a"
             ],
             [
              0.8888888888888888,
              "#fdca26"
             ],
             [
              1,
              "#f0f921"
             ]
            ],
            "type": "heatmapgl"
           }
          ],
          "histogram": [
           {
            "marker": {
             "colorbar": {
              "outlinewidth": 0,
              "ticks": ""
             }
            },
            "type": "histogram"
           }
          ],
          "histogram2d": [
           {
            "colorbar": {
             "outlinewidth": 0,
             "ticks": ""
            },
            "colorscale": [
             [
              0,
              "#0d0887"
             ],
             [
              0.1111111111111111,
              "#46039f"
             ],
             [
              0.2222222222222222,
              "#7201a8"
             ],
             [
              0.3333333333333333,
              "#9c179e"
             ],
             [
              0.4444444444444444,
              "#bd3786"
             ],
             [
              0.5555555555555556,
              "#d8576b"
             ],
             [
              0.6666666666666666,
              "#ed7953"
             ],
             [
              0.7777777777777778,
              "#fb9f3a"
             ],
             [
              0.8888888888888888,
              "#fdca26"
             ],
             [
              1,
              "#f0f921"
             ]
            ],
            "type": "histogram2d"
           }
          ],
          "histogram2dcontour": [
           {
            "colorbar": {
             "outlinewidth": 0,
             "ticks": ""
            },
            "colorscale": [
             [
              0,
              "#0d0887"
             ],
             [
              0.1111111111111111,
              "#46039f"
             ],
             [
              0.2222222222222222,
              "#7201a8"
             ],
             [
              0.3333333333333333,
              "#9c179e"
             ],
             [
              0.4444444444444444,
              "#bd3786"
             ],
             [
              0.5555555555555556,
              "#d8576b"
             ],
             [
              0.6666666666666666,
              "#ed7953"
             ],
             [
              0.7777777777777778,
              "#fb9f3a"
             ],
             [
              0.8888888888888888,
              "#fdca26"
             ],
             [
              1,
              "#f0f921"
             ]
            ],
            "type": "histogram2dcontour"
           }
          ],
          "mesh3d": [
           {
            "colorbar": {
             "outlinewidth": 0,
             "ticks": ""
            },
            "type": "mesh3d"
           }
          ],
          "parcoords": [
           {
            "line": {
             "colorbar": {
              "outlinewidth": 0,
              "ticks": ""
             }
            },
            "type": "parcoords"
           }
          ],
          "pie": [
           {
            "automargin": true,
            "type": "pie"
           }
          ],
          "scatter": [
           {
            "marker": {
             "colorbar": {
              "outlinewidth": 0,
              "ticks": ""
             }
            },
            "type": "scatter"
           }
          ],
          "scatter3d": [
           {
            "line": {
             "colorbar": {
              "outlinewidth": 0,
              "ticks": ""
             }
            },
            "marker": {
             "colorbar": {
              "outlinewidth": 0,
              "ticks": ""
             }
            },
            "type": "scatter3d"
           }
          ],
          "scattercarpet": [
           {
            "marker": {
             "colorbar": {
              "outlinewidth": 0,
              "ticks": ""
             }
            },
            "type": "scattercarpet"
           }
          ],
          "scattergeo": [
           {
            "marker": {
             "colorbar": {
              "outlinewidth": 0,
              "ticks": ""
             }
            },
            "type": "scattergeo"
           }
          ],
          "scattergl": [
           {
            "marker": {
             "colorbar": {
              "outlinewidth": 0,
              "ticks": ""
             }
            },
            "type": "scattergl"
           }
          ],
          "scattermapbox": [
           {
            "marker": {
             "colorbar": {
              "outlinewidth": 0,
              "ticks": ""
             }
            },
            "type": "scattermapbox"
           }
          ],
          "scatterpolar": [
           {
            "marker": {
             "colorbar": {
              "outlinewidth": 0,
              "ticks": ""
             }
            },
            "type": "scatterpolar"
           }
          ],
          "scatterpolargl": [
           {
            "marker": {
             "colorbar": {
              "outlinewidth": 0,
              "ticks": ""
             }
            },
            "type": "scatterpolargl"
           }
          ],
          "scatterternary": [
           {
            "marker": {
             "colorbar": {
              "outlinewidth": 0,
              "ticks": ""
             }
            },
            "type": "scatterternary"
           }
          ],
          "surface": [
           {
            "colorbar": {
             "outlinewidth": 0,
             "ticks": ""
            },
            "colorscale": [
             [
              0,
              "#0d0887"
             ],
             [
              0.1111111111111111,
              "#46039f"
             ],
             [
              0.2222222222222222,
              "#7201a8"
             ],
             [
              0.3333333333333333,
              "#9c179e"
             ],
             [
              0.4444444444444444,
              "#bd3786"
             ],
             [
              0.5555555555555556,
              "#d8576b"
             ],
             [
              0.6666666666666666,
              "#ed7953"
             ],
             [
              0.7777777777777778,
              "#fb9f3a"
             ],
             [
              0.8888888888888888,
              "#fdca26"
             ],
             [
              1,
              "#f0f921"
             ]
            ],
            "type": "surface"
           }
          ],
          "table": [
           {
            "cells": {
             "fill": {
              "color": "#EBF0F8"
             },
             "line": {
              "color": "white"
             }
            },
            "header": {
             "fill": {
              "color": "#C8D4E3"
             },
             "line": {
              "color": "white"
             }
            },
            "type": "table"
           }
          ]
         },
         "layout": {
          "annotationdefaults": {
           "arrowcolor": "#2a3f5f",
           "arrowhead": 0,
           "arrowwidth": 1
          },
          "autotypenumbers": "strict",
          "coloraxis": {
           "colorbar": {
            "outlinewidth": 0,
            "ticks": ""
           }
          },
          "colorscale": {
           "diverging": [
            [
             0,
             "#8e0152"
            ],
            [
             0.1,
             "#c51b7d"
            ],
            [
             0.2,
             "#de77ae"
            ],
            [
             0.3,
             "#f1b6da"
            ],
            [
             0.4,
             "#fde0ef"
            ],
            [
             0.5,
             "#f7f7f7"
            ],
            [
             0.6,
             "#e6f5d0"
            ],
            [
             0.7,
             "#b8e186"
            ],
            [
             0.8,
             "#7fbc41"
            ],
            [
             0.9,
             "#4d9221"
            ],
            [
             1,
             "#276419"
            ]
           ],
           "sequential": [
            [
             0,
             "#0d0887"
            ],
            [
             0.1111111111111111,
             "#46039f"
            ],
            [
             0.2222222222222222,
             "#7201a8"
            ],
            [
             0.3333333333333333,
             "#9c179e"
            ],
            [
             0.4444444444444444,
             "#bd3786"
            ],
            [
             0.5555555555555556,
             "#d8576b"
            ],
            [
             0.6666666666666666,
             "#ed7953"
            ],
            [
             0.7777777777777778,
             "#fb9f3a"
            ],
            [
             0.8888888888888888,
             "#fdca26"
            ],
            [
             1,
             "#f0f921"
            ]
           ],
           "sequentialminus": [
            [
             0,
             "#0d0887"
            ],
            [
             0.1111111111111111,
             "#46039f"
            ],
            [
             0.2222222222222222,
             "#7201a8"
            ],
            [
             0.3333333333333333,
             "#9c179e"
            ],
            [
             0.4444444444444444,
             "#bd3786"
            ],
            [
             0.5555555555555556,
             "#d8576b"
            ],
            [
             0.6666666666666666,
             "#ed7953"
            ],
            [
             0.7777777777777778,
             "#fb9f3a"
            ],
            [
             0.8888888888888888,
             "#fdca26"
            ],
            [
             1,
             "#f0f921"
            ]
           ]
          },
          "colorway": [
           "#636efa",
           "#EF553B",
           "#00cc96",
           "#ab63fa",
           "#FFA15A",
           "#19d3f3",
           "#FF6692",
           "#B6E880",
           "#FF97FF",
           "#FECB52"
          ],
          "font": {
           "color": "#2a3f5f"
          },
          "geo": {
           "bgcolor": "white",
           "lakecolor": "white",
           "landcolor": "#E5ECF6",
           "showlakes": true,
           "showland": true,
           "subunitcolor": "white"
          },
          "hoverlabel": {
           "align": "left"
          },
          "hovermode": "closest",
          "mapbox": {
           "style": "light"
          },
          "paper_bgcolor": "white",
          "plot_bgcolor": "#E5ECF6",
          "polar": {
           "angularaxis": {
            "gridcolor": "white",
            "linecolor": "white",
            "ticks": ""
           },
           "bgcolor": "#E5ECF6",
           "radialaxis": {
            "gridcolor": "white",
            "linecolor": "white",
            "ticks": ""
           }
          },
          "scene": {
           "xaxis": {
            "backgroundcolor": "#E5ECF6",
            "gridcolor": "white",
            "gridwidth": 2,
            "linecolor": "white",
            "showbackground": true,
            "ticks": "",
            "zerolinecolor": "white"
           },
           "yaxis": {
            "backgroundcolor": "#E5ECF6",
            "gridcolor": "white",
            "gridwidth": 2,
            "linecolor": "white",
            "showbackground": true,
            "ticks": "",
            "zerolinecolor": "white"
           },
           "zaxis": {
            "backgroundcolor": "#E5ECF6",
            "gridcolor": "white",
            "gridwidth": 2,
            "linecolor": "white",
            "showbackground": true,
            "ticks": "",
            "zerolinecolor": "white"
           }
          },
          "shapedefaults": {
           "line": {
            "color": "#2a3f5f"
           }
          },
          "ternary": {
           "aaxis": {
            "gridcolor": "white",
            "linecolor": "white",
            "ticks": ""
           },
           "baxis": {
            "gridcolor": "white",
            "linecolor": "white",
            "ticks": ""
           },
           "bgcolor": "#E5ECF6",
           "caxis": {
            "gridcolor": "white",
            "linecolor": "white",
            "ticks": ""
           }
          },
          "title": {
           "x": 0.05
          },
          "xaxis": {
           "automargin": true,
           "gridcolor": "white",
           "linecolor": "white",
           "ticks": "",
           "title": {
            "standoff": 15
           },
           "zerolinecolor": "white",
           "zerolinewidth": 2
          },
          "yaxis": {
           "automargin": true,
           "gridcolor": "white",
           "linecolor": "white",
           "ticks": "",
           "title": {
            "standoff": 15
           },
           "zerolinecolor": "white",
           "zerolinewidth": 2
          }
         }
        },
        "title": {
         "text": "Distribution of Sample Compound SA Scores"
        },
        "xaxis": {
         "anchor": "y",
         "domain": [
          0,
          1
         ],
         "showticklabels": false,
         "title": {
          "text": "Date Formatted"
         },
         "visible": false
        },
        "yaxis": {
         "anchor": "x",
         "domain": [
          0,
          1
         ],
         "linecolor": "black",
         "nticks": 12,
         "showgrid": true,
         "showline": true,
         "showticklabels": true,
         "ticks": "inside",
         "title": {
          "text": "Compound SA Score"
         },
         "zeroline": true,
         "zerolinecolor": "black",
         "zerolinewidth": 0.1
        }
       }
      },
      "text/html": [
       "<div>                            <div id=\"93ca5fa0-8e48-494d-af8d-104665b7d249\" class=\"plotly-graph-div\" style=\"height:525px; width:100%;\"></div>            <script type=\"text/javascript\">                require([\"plotly\"], function(Plotly) {                    window.PLOTLYENV=window.PLOTLYENV || {};                                    if (document.getElementById(\"93ca5fa0-8e48-494d-af8d-104665b7d249\")) {                    Plotly.newPlot(                        \"93ca5fa0-8e48-494d-af8d-104665b7d249\",                        [{\"hovertemplate\": \"<b>%{hovertext}</b><br><br>Date Formatted=%{x}<br>Compound_Score=%{y}<extra></extra>\", \"hovertext\": [\"tt0087301_1\", \"tt0091190_2\", \"tt0107158_1\", \"tt0192272_0\", \"tt0108608_0\", \"tt0144020_4\", \"tt0106771_2\", \"tt0140700_0\", \"tt0162866_5\", \"tt0101440_4\", \"tt0215369_12\", \"tt0115669_12\", \"tt0236598_9\", \"tt0105197_2\", \"tt0189219_2\", \"tt0162866_1\", \"tt0115669_5\", \"tt0238588_3\", \"tt0084363_2\", \"tt0115669_18\", \"tt0111786_9\", \"tt0093844_1\", \"tt0162866_21\", \"tt0258885_4\", \"tt0110081_1\", \"tt0091190_0\", \"tt0235060_5\", \"tt0303243_9\", \"tt0120538_0\", \"tt0107358_0\", \"tt0059855_2\", \"tt0299977_4\", \"tt0110081_10\", \"tt0162866_0\", \"tt0317763_0\", \"tt0101640_19\", \"tt0351299_13\", \"tt0244709_17\", \"tt0087433_2\", \"tt0332639_16\", \"tt0363290_21\", \"tt0086878_2\", \"tt0318025_7\", \"tt0332831_17\", \"tt0260987_3\", \"tt0287934_0\", \"tt0374330_21\", \"tt0123450_2\", \"tt0081553_1\", \"tt0312535_1\", \"tt0098717_0\", \"tt0260898_0\", \"tt0183576_0\", \"tt0355037_0\", \"tt0199354_6\", \"tt0343566_0\", \"tt0352337_0\", \"tt0340628_0\", \"tt0184464_0\", \"tt0123329_3\", \"tt0343105_2\", \"tt0333088_0\", \"tt0082662_0\", \"tt0357867_0\", \"tt0298238_12\", \"tt0097985_0\", \"tt0093133_1\", \"tt0340925_0\", \"tt0339932_0\", \"tt0354878_0\", \"tt0390649_4\", \"tt0340396_0\", \"tt0340400_1\", \"tt0118199_0\", \"tt0367247_2\", \"tt0089335_0\", \"tt0351299_1\", \"tt0297928_3\", \"tt0318025_16\", \"tt0106332_22\", \"tt0101640_2\", \"tt0351299_2\", \"tt0374330_2\", \"tt0299977_5\", \"tt0439884_18\", \"tt0385004_13\", \"tt0424273_1\", \"tt0374330_3\", \"tt0398388_0\", \"tt0445506_7\", \"tt0423176_9\", \"tt0332831_14\", \"tt0303243_5\", \"tt0439630_0\", \"tt0299977_24\", \"tt0332639_3\", \"tt0439630_3\", \"tt0210916_10\", \"tt0483957_1\", \"tt0209189_10\", \"tt0450099_1\", \"tt0454914_8\", \"tt0454914_11\", \"tt0454914_2\", \"tt0110081_12\", \"tt0374330_6\", \"tt0483957_6\", \"tt0417976_0\", \"tt0417976_11\", \"tt0439630_11\", \"tt0454914_9\", \"tt0431940_0\", \"tt0115669_22\", \"tt0456658_2\", \"tt0461804_0\", \"tt0417976_2\", \"tt0843270_2\", \"tt0859765_5\", \"tt0459399_0\", \"tt0367602_4\", \"tt0417976_9\", \"tt0450099_3\", \"tt0258885_14\", \"tt0473444_10\", \"tt0473444_11\", \"tt0924003_0\", \"tt0485863_8\", \"tt0446755_10\", \"tt0417976_3\", \"tt0473444_0\", \"tt0446755_14\", \"tt0470302_0\", \"tt0794374_20\", \"tt0859765_9\", \"tt0485863_11\", \"tt0924003_2\", \"tt0765120_8\", \"tt0798841_1\", \"tt0423176_12\", \"tt0099902_6\", \"tt0367602_2\", \"tt0206442_0\", \"tt0769507_2\", \"tt0318025_10\", \"tt0209189_22\", \"tt0258885_6\", \"tt0859765_7\", \"tt0424234_4\", \"tt0794374_6\", \"tt0485863_12\", \"tt0102917_3\", \"tt0342778_7\", \"tt0424273_9\", \"tt0881200_6\", \"tt0882978_5\", \"tt0477890_0\", \"tt0425637_17\", \"tt0425637_12\", \"tt0425637_2\", \"tt0859765_12\", \"tt0236598_4\", \"tt0461804_7\", \"tt0122805_0\", \"tt0332831_18\", \"tt0859765_17\", \"tt0446755_17\", \"tt0482051_2\", \"tt1156506_8\", \"tt0851532_11\", \"tt0390649_3\", \"tt1326972_15\", \"tt1299370_1\", \"tt0363290_2\", \"tt1392743_0\", \"tt1018102_1\", \"tt1124052_11\", \"tt1258623_0\", \"tt0424234_0\", \"tt1020972_13\", \"tt0829114_0\", \"tt1124052_16\", \"tt0949489_11\", \"tt1156506_14\", \"tt0379587_2\", \"tt1483811_0\", \"tt0386651_9\", \"tt1434423_7\", \"tt0370969_1\", \"tt0374330_20\", \"tt1020972_15\", \"tt0144020_3\", \"tt0099902_9\", \"tt1308138_23\", \"tt0210916_14\", \"tt1103963_4\", \"tt0303243_11\", \"tt1425257_3\", \"tt0298238_11\", \"tt1319718_8\", \"tt0298238_8\", \"tt1613084_0\", \"tt1666661_0\", \"tt1393746_0\", \"tt0816250_1\", \"tt1487861_2\", \"tt1087834_0\", \"tt0293660_20\", \"tt1393746_17\", \"tt1460743_5\", \"tt1123373_14\", \"tt1554523_11\", \"tt1533117_5\", \"tt1092634_11\", \"tt0087433_9\", \"tt0332639_24\", \"tt1777620_0\", \"tt1533117_13\", \"tt1641398_0\", \"tt1123373_4\", \"tt1754743_0\", \"tt1308138_8\", \"tt1123373_3\", \"tt1699513_10\", \"tt1124052_23\", \"tt0210916_11\", \"tt1772230_17\", \"tt1772230_6\", \"tt1730720_4\", \"tt0882978_9\", \"tt1393746_21\", \"tt1425257_8\", \"tt1541995_17\", \"tt0258885_9\", \"tt0454914_16\", \"tt1857913_16\", \"tt0106332_19\", \"tt1772230_10\", \"tt1686784_10\", \"tt2102472_0\", \"tt1410063_0\", \"tt1123373_13\", \"tt1410063_22\", \"tt1533117_22\", \"tt1541995_21\", \"tt1519635_0\", \"tt2111407_0\", \"tt1514426_1\", \"tt1356735_0\", \"tt1686784_22\", \"tt0332831_10\", \"tt0461804_5\", \"tt1410063_23\", \"tt1686784_11\", \"tt1857913_17\", \"tt0099902_23\", \"tt1326972_3\", \"tt1032763_2\", \"tt2106741_5\", \"tt1981080_5\", \"tt1124052_17\", \"tt0465676_15\", \"tt1980198_0\", \"tt2106741_2\", \"tt1745713_6\", \"tt2369127_0\", \"tt1460743_9\", \"tt0189219_4\", \"tt1847713_5\", \"tt2385138_0\", \"tt2106741_0\", \"tt2071441_5\", \"tt2150394_0\", \"tt2044077_0\", \"tt0215369_23\", \"tt1124052_10\", \"tt2047732_0\", \"tt2113822_8\", \"tt2169322_3\", \"tt2113822_11\", \"tt0848538_1\", \"tt2165735_24\", \"tt1020972_6\", \"tt1876517_2\", \"tt0087433_13\", \"tt3043630_0\", \"tt2644714_17\", \"tt2102472_6\", \"tt3003668_1\", \"tt2296404_7\", \"tt2296404_2\", \"tt2992146_7\", \"tt0851515_3\", \"tt2992146_2\", \"tt2354196_7\", \"tt2852400_6\", \"tt2193269_0\", \"tt2165735_8\", \"tt2259360_0\", \"tt1856038_2\", \"tt2106514_9\", \"tt2118727_0\", \"tt3505950_1\", \"tt2957774_9\", \"tt2599716_13\", \"tt2347782_0\", \"tt3505950_0\", \"tt1726738_5\", \"tt1498858_12\", \"tt2599716_16\", \"tt3581276_0\", \"tt2957680_1\", \"tt1686784_9\", \"tt1981080_7\", \"tt1498858_11\", \"tt1726738_3\", \"tt2557256_1\", \"tt1723118_5\", \"tt2557256_17\", \"tt1717715_24\", \"tt1857913_6\", \"tt0470532_1\", \"tt1667150_4\", \"tt1772230_22\", \"tt3175936_3\", \"tt2770484_0\", \"tt1861421_7\", \"tt1648093_13\", \"tt2557256_10\", \"tt3202890_19\", \"tt2557256_4\", \"tt3950078_6\", \"tt3950078_1\", \"tt3511164_0\", \"tt2644714_6\", \"tt3793116_0\", \"tt2557256_18\", \"tt1055300_6\", \"tt2371411_16\", \"tt3752930_2\", \"tt2909116_10\", \"tt3672840_4\", \"tt2952602_17\", \"tt1425257_20\", \"tt2909116_2\", \"tt2089720_0\", \"tt2911342_1\", \"tt0297928_2\", \"tt3720058_1\", \"tt1527823_10\", \"tt3540136_9\", \"tt4162910_3\", \"tt0195256_10\", \"tt4644382_4\", \"tt4644382_9\", \"tt2461124_1\", \"tt2911342_13\", \"tt2911342_9\", \"tt2080418_0\", \"tt0499224_1\", \"tt2461124_0\", \"tt4818250_2\", \"tt2909116_14\", \"tt4613272_6\", \"tt0162866_18\", \"tt0105197_10\", \"tt4076856_0\", \"tt2071628_2\", \"tt1541995_13\", \"tt2058673_7\", \"tt2058673_14\", \"tt1362045_1\", \"tt3431598_0\", \"tt1554523_10\", \"tt4701702_0\", \"tt3729818_0\", \"tt4819498_11\", \"tt4701702_2\", \"tt4701702_9\", \"tt2271555_2\", \"tt4701702_8\", \"tt3950078_3\", \"tt3781476_11\", \"tt2909116_12\", \"tt5290882_3\", \"tt2071628_5\", \"tt4273106_0\", \"tt5237980_2\", \"tt4276752_10\", \"tt4701660_7\", \"tt0236598_5\", \"tt1308138_12\", \"tt5290882_15\", \"tt4079152_2\", \"tt3197766_14\", \"tt2063013_15\", \"tt2952602_2\", \"tt2992146_23\", \"tt2888046_4\", \"tt4851640_1\", \"tt3744264_18\", \"tt0882978_13\", \"tt3744264_11\", \"tt3744264_15\", \"tt0803096_9\", \"tt0803096_4\", \"tt3197766_12\", \"tt4310356_1\", \"tt5243900_2\", \"tt4591310_11\", \"tt2238032_20\", \"tt0851532_7\", \"tt4242158_2\", \"tt2720826_0\", \"tt3720058_11\", \"tt2720826_5\", \"tt2557256_6\", \"tt4819576_2\", \"tt0882978_23\", \"tt4819576_8\", \"tt6177592_1\", \"tt2909116_15\", \"tt2271555_1\", \"tt1487861_5\", \"tt1981080_15\", \"tt4613272_5\", \"tt4613272_3\", \"tt1293847_11\", \"tt3672840_23\", \"tt5273624_5\", \"tt1293847_22\", \"tt4217392_6\", \"tt6450660_0\", \"tt3752930_15\", \"tt1876517_14\", \"tt5275314_0\", \"tt2822672_8\", \"tt2118727_1\", \"tt5273624_2\", \"tt2017561_19\", \"tt4623812_3\", \"tt0093206_12\", \"tt6152908_4\", \"tt6167014_3\", \"tt2106514_11\", \"tt4862468_0\", \"tt4630562_20\", \"tt1293847_2\", \"tt6413312_0\", \"tt5823524_0\", \"tt2822672_3\", \"tt5918090_1\", \"tt5665040_5\", \"tt4630562_18\", \"tt4623812_1\", \"tt4851640_23\", \"tt5823524_1\", \"tt2369127_1\", \"tt2852400_23\", \"tt1920885_21\", \"tt1717715_17\", \"tt6138688_13\", \"tt5759434_4\", \"tt6138688_12\", \"tt5866930_1\", \"tt0105842_2\", \"tt7245176_0\", \"tt1460743_17\", \"tt2720826_22\", \"tt7131870_23\", \"tt5269396_5\", \"tt5987992_1\", \"tt3540136_14\", \"tt1686784_24\", \"tt0803096_18\", \"tt5974624_4\", \"tt5934728_0\", \"tt7339584_1\", \"tt4209788_11\", \"tt6148782_1\", \"tt2043878_2\", \"tt2976864_3\", \"tt7479718_1\", \"tt0245929_15\", \"tt7075594_1\", \"tt0195256_6\", \"tt5866930_4\", \"tt6908536_11\", \"tt6814080_0\", \"tt4591310_14\", \"tt6772874_5\", \"tt7131870_20\", \"tt7205208_2\", \"tt4814354_0\", \"tt4819576_13\", \"tt0299977_9\", \"tt7509586_1\", \"tt2911342_23\", \"tt4209788_3\", \"tt5846644_3\", \"tt0105842_3\", \"tt0318025_13\", \"tt2599716_20\", \"tt5342650_2\", \"tt7223050_0\", \"tt4209788_16\", \"tt6186248_0\", \"tt6015706_9\", \"tt5813366_4\", \"tt6908536_18\", \"tt7013194_3\", \"tt6690310_0\", \"tt8090914_1\", \"tt0881200_21\", \"tt4915672_14\", \"tt6604536_2\", \"tt6083388_10\", \"tt5974624_3\", \"tt7787418_0\", \"tt6083388_15\", \"tt4940416_19\", \"tt5775194_2\", \"tt5775194_0\", \"tt6791096_2\", \"tt6791096_12\", \"tt6878882_19\", \"tt6015706_3\", \"tt6157626_15\", \"tt2401825_2\", \"tt2720826_24\", \"tt4209788_7\", \"tt4537986_5\", \"tt7055592_0\", \"tt3744264_0\", \"tt6157626_6\", \"tt4940416_0\", \"tt8033592_24\", \"tt6389316_0\", \"tt6513656_6\", \"tt6513656_16\", \"tt6513656_14\", \"tt6513656_15\", \"tt4687848_14\", \"tt2779050_0\", \"tt7362036_2\", \"tt1920885_8\", \"tt7362036_9\", \"tt8529186_3\", \"tt6814080_1\", \"tt6513406_12\", \"tt4903518_0\", \"tt4986830_10\", \"tt3781476_5\", \"tt2371411_13\", \"tt5813366_13\", \"tt8774260_6\", \"tt3285802_11\", \"tt3285802_21\", \"tt3285802_7\", \"tt7133686_14\", \"tt7133686_20\", \"tt7133686_22\", \"tt7133686_21\", \"tt4155534_4\", \"tt4076934_11\", \"tt8529186_1\", \"tt2017561_13\", \"tt5648036_8\", \"tt4788934_6\", \"tt5648036_7\", \"tt7298400_7\", \"tt1293847_5\", \"tt5813366_7\", \"tt8161726_0\", \"tt8185182_13\", \"tt8366766_1\", \"tt8893870_1\", \"tt2993848_7\", \"tt0293660_17\", \"tt4743226_3\", \"tt7407350_0\", \"tt4788934_2\", \"tt9036926_6\", \"tt1270797_24\", \"tt9282616_0\", \"tt6869538_1\", \"tt2993848_5\", \"tt6869538_0\", \"tt6878882_1\", \"tt6864046_15\", \"tt4242158_1\", \"tt4701182_14\", \"tt7345928_1\", \"tt3585004_9\", \"tt3428458_1\", \"tt7853798_0\", \"tt7473036_0\", \"tt4701182_2\", \"tt9490414_3\", \"tt0303260_4\", \"tt7616798_19\", \"tt4701182_0\", \"tt4701182_22\", \"tt7183578_17\", \"tt1981080_19\", \"tt4079902_2\", \"tt7605074_3\", \"tt7362036_12\", \"tt9368628_2\", \"tt3401962_2\", \"tt6660238_1\", \"tt9368628_9\", \"tt5769516_3\", \"tt6654316_17\", \"tt8845432_1\", \"tt6044910_17\", \"tt6448192_2\", \"tt6869538_13\", \"tt5896962_1\", \"tt3197766_22\", \"tt4242158_4\", \"tt1000775_0\", \"tt5955834_0\", \"tt7245176_18\", \"tt7649320_7\", \"tt4819560_4\", \"tt5662906_3\", \"tt8774260_4\", \"tt7867360_21\", \"tt7867360_14\", \"tt1458902_1\", \"tt9282616_1\", \"tt8033592_7\", \"tt3204696_4\", \"tt9597190_7\", \"tt7605074_17\", \"tt1946502_16\", \"tt1946502_5\", \"tt5328352_1\", \"tt4644382_22\", \"tt4217392_15\", \"tt4701182_15\", \"tt4613272_9\", \"tt7298400_4\", \"tt1946502_0\", \"tt8385474_7\", \"tt8385474_2\", \"tt8385474_1\", \"tt9408490_1\", \"tt8185182_6\", \"tt6864046_21\", \"tt7013194_5\", \"tt8239806_9\", \"tt7245176_22\", \"tt9647768_3\", \"tt4074958_9\", \"tt8028526_0\", \"tt6074202_3\", \"tt5636668_15\", \"tt7937440_0\", \"tt2283336_12\", \"tt4537986_10\", \"tt6628322_16\", \"tt1704161_15\", \"tt2935510_23\", \"tt8161726_1\", \"tt0457472_5\", \"tt3224458_11\", \"tt5269396_7\", \"tt6461514_4\", \"tt4701702_18\", \"tt7183578_3\", \"tt6864046_6\", \"tt6015706_10\", \"tt1919137_7\", \"tt9586294_21\", \"tt3224458_1\", \"tt9635616_10\", \"tt3224458_4\", \"tt6288650_8\", \"tt7183578_18\", \"tt3224458_22\", \"tt7587984_8\", \"tt7773340_0\", \"tt4819498_17\", \"tt6466464_10\", \"tt1025100_22\", \"tt1698654_0\", \"tt1772230_20\", \"tt8020896_11\", \"tt8319694_0\", \"tt5648036_1\", \"tt4915672_5\", \"tt8033592_20\", \"tt4630562_4\", \"tt8185182_14\", \"tt3086582_1\", \"tt3856504_1\", \"tt5759434_24\", \"tt0059855_8\", \"tt3897080_9\", \"tt1097256_10\", \"tt6054290_1\", \"tt0803096_0\", \"tt0457472_6\", \"tt4392726_4\", \"tt2957774_10\", \"tt7957314_10\", \"tt6475918_0\", \"tt1438461_13\", \"tt8020896_21\", \"tt4644382_17\", \"tt4217392_2\", \"tt7587984_22\", \"tt4209788_4\", \"tt8028842_22\", \"tt4310356_2\", \"tt2283336_21\", \"tt5866930_17\", \"tt7867360_3\", \"tt6157626_8\", \"tt8755316_9\", \"tt5093098_0\", \"tt7787418_6\", \"tt4644382_10\", \"tt2115388_1\", \"tt7886614_8\", \"tt1981080_14\", \"tt3541704_0\", \"tt0123329_0\", \"tt2644714_12\", \"tt6044910_9\", \"tt5929654_1\", \"tt8755316_6\", \"tt0105197_14\", \"tt2071628_13\", \"tt2071628_9\", \"tt7886614_11\", \"tt5929654_22\", \"tt7180392_2\", \"tt8688634_11\", \"tt4263056_0\", \"tt5662906_7\", \"tt4155534_16\", \"tt4648786_12\", \"tt8028842_9\", \"tt7946836_22\", \"tt4074114_0\", \"tt4819576_15\", \"tt6264928_1\", \"tt6513406_3\", \"tt9099176_4\", \"tt6869538_15\", \"tt5665040_6\", \"tt5057982_2\", \"tt0099902_14\", \"tt2118775_14\", \"tt9695722_22\", \"tt7488208_13\", \"tt5813366_22\", \"tt4060544_9\", \"tt9695722_19\", \"tt5425264_18\", \"tt3197766_20\", \"tt2543698_3\", \"tt7957314_11\", \"tt5648036_10\", \"tt9695722_10\", \"tt6903084_1\", \"tt0457472_3\", \"tt0332831_9\", \"tt8959680_1\", \"tt7886614_20\", \"tt1123373_24\", \"tt1876517_12\", \"tt0881200_16\", \"tt7867360_24\", \"tt1646214_4\", \"tt5896962_6\", \"tt2993848_14\", \"tt2888046_14\", \"tt2952602_19\", \"tt4363250_17\", \"tt7294150_23\", \"tt2909116_19\", \"tt9685342_8\", \"tt4819560_7\", \"tt9567112_3\", \"tt7752454_2\", \"tt4155534_23\", \"tt4788934_9\", \"tt9288776_21\", \"tt5665040_3\", \"tt9586294_24\", \"tt8028842_15\", \"tt9203190_10\", \"tt9203190_23\", \"tt8517640_0\", \"tt9685342_7\", \"tt4537986_16\", \"tt5290882_9\"], \"legendgroup\": \"\", \"marker\": {\"color\": \"#636efa\", \"symbol\": \"circle\"}, \"mode\": \"markers\", \"name\": \"\", \"orientation\": \"v\", \"showlegend\": false, \"type\": \"scatter\", \"x\": [\"1998/09/11\", \"1999/02/05\", \"1999/03/06\", \"1999/03/31\", \"1999/04/12\", \"1999/05/24\", \"1999/06/18\", \"1999/08/18\", \"1999/12/24\", \"2000/07/26\", \"2000/08/09\", \"2000/09/20\", \"2000/10/15\", \"2000/11/25\", \"2001/01/25\", \"2001/01/31\", \"2001/03/12\", \"2001/03/13\", \"2001/03/15\", \"2001/03/28\", \"2001/06/20\", \"2001/12/23\", \"2002/04/23\", \"2002/05/28\", \"2002/06/15\", \"2002/06/26\", \"2002/07/05\", \"2002/08/07\", \"2002/10/21\", \"2002/12/02\", \"2002/12/15\", \"2003/01/22\", \"2003/01/25\", \"2003/01/30\", \"2003/02/12\", \"2003/02/18\", \"2003/04/28\", \"2003/05/11\", \"2003/05/26\", \"2003/06/06\", \"2003/06/14\", \"2003/06/16\", \"2003/06/19\", \"2003/09/14\", \"2003/09/30\", \"2003/10/03\", \"2003/10/29\", \"2003/11/19\", \"2003/11/20\", \"2003/11/21\", \"2003/11/21\", \"2003/11/21\", \"2003/11/24\", \"2003/11/24\", \"2003/11/28\", \"2003/11/30\", \"2003/12/02\", \"2004/01/02\", \"2004/01/05\", \"2004/01/11\", \"2004/01/11\", \"2004/02/11\", \"2004/02/17\", \"2004/02/18\", \"2004/03/04\", \"2004/03/11\", \"2004/03/13\", \"2004/03/15\", \"2004/03/15\", \"2004/03/18\", \"2004/04/04\", \"2004/04/05\", \"2004/04/05\", \"2004/04/06\", \"2004/04/06\", \"2004/04/07\", \"2004/05/02\", \"2004/07/09\", \"2004/07/09\", \"2004/09/28\", \"2004/11/29\", \"2004/12/13\", \"2004/12/14\", \"2004/12/24\", \"2005/01/05\", \"2005/01/16\", \"2005/02/02\", \"2005/02/11\", \"2005/03/04\", \"2005/03/20\", \"2005/03/30\", \"2005/04/20\", \"2005/06/19\", \"2005/06/23\", \"2005/07/06\", \"2005/07/07\", \"2005/08/28\", \"2005/09/14\", \"2005/11/05\", \"2005/11/25\", \"2005/12/02\", \"2005/12/03\", \"2005/12/05\", \"2006/01/03\", \"2006/01/17\", \"2006/02/04\", \"2006/05/08\", \"2006/05/08\", \"2006/05/10\", \"2006/05/15\", \"2006/07/08\", \"2006/07/30\", \"2006/08/02\", \"2006/08/03\", \"2006/08/04\", \"2006/08/07\", \"2006/08/19\", \"2006/09/16\", \"2006/09/18\", \"2006/10/20\", \"2006/11/06\", \"2006/12/02\", \"2006/12/15\", \"2006/12/21\", \"2006/12/31\", \"2007/01/02\", \"2007/01/05\", \"2007/01/07\", \"2007/01/10\", \"2007/01/14\", \"2007/01/24\", \"2007/02/08\", \"2007/02/18\", \"2007/02/24\", \"2007/02/26\", \"2007/03/10\", \"2007/05/21\", \"2007/06/22\", \"2007/08/21\", \"2007/09/09\", \"2007/09/11\", \"2007/09/14\", \"2007/09/16\", \"2007/09/17\", \"2007/10/14\", \"2007/11/22\", \"2008/01/08\", \"2008/01/26\", \"2008/02/18\", \"2008/02/24\", \"2008/03/17\", \"2008/03/19\", \"2008/04/06\", \"2008/04/11\", \"2008/06/16\", \"2008/06/30\", \"2008/07/12\", \"2008/07/12\", \"2008/07/29\", \"2008/08/03\", \"2008/08/13\", \"2008/09/15\", \"2008/09/23\", \"2008/09/26\", \"2008/10/07\", \"2008/10/10\", \"2008/10/28\", \"2008/12/11\", \"2008/12/17\", \"2008/12/17\", \"2009/01/18\", \"2009/03/10\", \"2009/03/11\", \"2009/03/11\", \"2009/04/24\", \"2009/05/09\", \"2009/05/17\", \"2009/05/25\", \"2009/05/29\", \"2009/06/13\", \"2009/06/14\", \"2009/07/23\", \"2009/07/31\", \"2009/08/29\", \"2009/10/20\", \"2009/11/12\", \"2009/11/16\", \"2009/12/01\", \"2010/01/07\", \"2010/01/08\", \"2010/01/28\", \"2010/02/03\", \"2010/02/07\", \"2010/03/12\", \"2010/03/15\", \"2010/04/27\", \"2010/05/24\", \"2010/05/29\", \"2010/06/20\", \"2010/06/24\", \"2010/07/17\", \"2010/07/24\", \"2010/07/29\", \"2010/08/04\", \"2010/08/16\", \"2010/08/20\", \"2010/08/28\", \"2010/09/03\", \"2010/10/01\", \"2010/10/02\", \"2010/11/19\", \"2010/12/18\", \"2011/01/13\", \"2011/01/17\", \"2011/02/03\", \"2011/03/19\", \"2011/03/31\", \"2011/04/04\", \"2011/04/07\", \"2011/04/09\", \"2011/04/23\", \"2011/06/24\", \"2011/06/26\", \"2011/07/13\", \"2011/08/02\", \"2011/09/27\", \"2011/10/01\", \"2011/10/04\", \"2011/10/05\", \"2011/10/28\", \"2011/10/30\", \"2011/11/16\", \"2011/11/20\", \"2011/11/21\", \"2011/11/22\", \"2011/12/02\", \"2011/12/09\", \"2011/12/18\", \"2011/12/20\", \"2011/12/20\", \"2011/12/21\", \"2012/01/03\", \"2012/01/09\", \"2012/01/26\", \"2012/02/08\", \"2012/02/12\", \"2012/02/18\", \"2012/03/02\", \"2012/03/15\", \"2012/03/19\", \"2012/03/26\", \"2012/03/28\", \"2012/04/10\", \"2012/04/29\", \"2012/05/09\", \"2012/07/16\", \"2012/08/14\", \"2012/08/22\", \"2012/09/09\", \"2012/09/17\", \"2012/09/26\", \"2012/10/04\", \"2012/10/12\", \"2012/11/13\", \"2012/11/17\", \"2012/12/09\", \"2013/01/16\", \"2013/02/11\", \"2013/02/25\", \"2013/03/07\", \"2013/03/08\", \"2013/03/09\", \"2013/04/20\", \"2013/04/20\", \"2013/04/21\", \"2013/04/27\", \"2013/05/12\", \"2013/05/16\", \"2013/06/07\", \"2013/06/12\", \"2013/06/22\", \"2013/07/12\", \"2013/07/22\", \"2013/07/25\", \"2013/07/26\", \"2013/08/18\", \"2013/08/21\", \"2013/08/22\", \"2013/08/25\", \"2013/09/10\", \"2013/10/05\", \"2013/10/05\", \"2013/11/10\", \"2013/11/13\", \"2013/11/18\", \"2013/11/29\", \"2013/12/04\", \"2013/12/15\", \"2014/01/14\", \"2014/01/27\", \"2014/02/07\", \"2014/02/14\", \"2014/02/17\", \"2014/03/08\", \"2014/03/17\", \"2014/03/29\", \"2014/04/01\", \"2014/04/06\", \"2014/04/09\", \"2014/04/10\", \"2014/04/13\", \"2014/04/28\", \"2014/06/06\", \"2014/06/15\", \"2014/06/21\", \"2014/06/22\", \"2014/06/25\", \"2014/06/30\", \"2014/07/01\", \"2014/07/16\", \"2014/07/20\", \"2014/07/31\", \"2014/08/02\", \"2014/09/16\", \"2014/10/07\", \"2014/10/13\", \"2014/10/29\", \"2014/11/10\", \"2014/11/14\", \"2014/12/10\", \"2014/12/23\", \"2014/12/28\", \"2014/12/30\", \"2015/01/04\", \"2015/01/09\", \"2015/01/15\", \"2015/01/15\", \"2015/02/04\", \"2015/02/13\", \"2015/03/08\", \"2015/03/09\", \"2015/04/04\", \"2015/04/09\", \"2015/04/16\", \"2015/04/22\", \"2015/04/29\", \"2015/05/08\", \"2015/05/16\", \"2015/06/04\", \"2015/06/28\", \"2015/07/03\", \"2015/07/06\", \"2015/07/16\", \"2015/07/19\", \"2015/07/25\", \"2015/08/17\", \"2015/08/17\", \"2015/09/05\", \"2015/09/07\", \"2015/09/15\", \"2015/09/16\", \"2015/09/23\", \"2015/10/15\", \"2015/10/17\", \"2015/10/23\", \"2015/11/17\", \"2015/11/25\", \"2015/12/05\", \"2015/12/09\", \"2015/12/10\", \"2015/12/13\", \"2015/12/24\", \"2015/12/28\", \"2015/12/29\", \"2015/12/31\", \"2016/01/02\", \"2016/01/03\", \"2016/01/04\", \"2016/01/10\", \"2016/01/12\", \"2016/01/13\", \"2016/01/13\", \"2016/01/15\", \"2016/01/22\", \"2016/01/27\", \"2016/01/31\", \"2016/02/09\", \"2016/02/10\", \"2016/02/10\", \"2016/02/12\", \"2016/02/15\", \"2016/02/16\", \"2016/02/17\", \"2016/02/17\", \"2016/02/26\", \"2016/02/28\", \"2016/02/29\", \"2016/03/17\", \"2016/03/17\", \"2016/03/22\", \"2016/03/31\", \"2016/04/20\", \"2016/05/06\", \"2016/05/21\", \"2016/05/22\", \"2016/05/24\", \"2016/05/29\", \"2016/07/03\", \"2016/07/07\", \"2016/08/18\", \"2016/09/16\", \"2016/09/16\", \"2016/09/18\", \"2016/09/21\", \"2016/09/21\", \"2016/10/04\", \"2016/10/07\", \"2016/10/22\", \"2016/11/01\", \"2016/11/09\", \"2016/12/16\", \"2016/12/18\", \"2016/12/29\", \"2016/12/31\", \"2017/01/11\", \"2017/01/13\", \"2017/01/19\", \"2017/01/25\", \"2017/01/28\", \"2017/01/28\", \"2017/02/11\", \"2017/02/12\", \"2017/02/16\", \"2017/02/16\", \"2017/02/19\", \"2017/02/25\", \"2017/02/27\", \"2017/02/28\", \"2017/03/01\", \"2017/03/14\", \"2017/03/16\", \"2017/03/24\", \"2017/04/11\", \"2017/04/22\", \"2017/04/24\", \"2017/04/25\", \"2017/05/06\", \"2017/05/06\", \"2017/05/19\", \"2017/05/21\", \"2017/05/27\", \"2017/05/28\", \"2017/06/07\", \"2017/06/12\", \"2017/06/20\", \"2017/06/25\", \"2017/06/27\", \"2017/06/27\", \"2017/07/06\", \"2017/07/30\", \"2017/08/06\", \"2017/08/07\", \"2017/08/11\", \"2017/08/11\", \"2017/08/18\", \"2017/08/20\", \"2017/08/26\", \"2017/08/27\", \"2017/09/01\", \"2017/09/03\", \"2017/09/09\", \"2017/09/17\", \"2017/09/29\", \"2017/10/03\", \"2017/10/04\", \"2017/10/07\", \"2017/10/07\", \"2017/10/07\", \"2017/10/14\", \"2017/10/21\", \"2017/11/20\", \"2017/11/23\", \"2017/11/24\", \"2017/12/01\", \"2017/12/01\", \"2017/12/02\", \"2017/12/05\", \"2017/12/09\", \"2017/12/10\", \"2017/12/11\", \"2017/12/19\", \"2017/12/24\", \"2017/12/30\", \"2017/12/30\", \"2018/01/04\", \"2018/01/04\", \"2018/01/05\", \"2018/01/18\", \"2018/01/24\", \"2018/01/26\", \"2018/02/02\", \"2018/02/05\", \"2018/02/12\", \"2018/02/14\", \"2018/02/16\", \"2018/02/19\", \"2018/02/23\", \"2018/02/24\", \"2018/03/03\", \"2018/03/04\", \"2018/03/04\", \"2018/03/06\", \"2018/03/07\", \"2018/03/10\", \"2018/03/11\", \"2018/03/11\", \"2018/03/15\", \"2018/03/28\", \"2018/03/30\", \"2018/04/03\", \"2018/04/06\", \"2018/04/16\", \"2018/04/20\", \"2018/04/22\", \"2018/04/23\", \"2018/04/27\", \"2018/04/29\", \"2018/05/06\", \"2018/05/07\", \"2018/05/07\", \"2018/05/10\", \"2018/05/14\", \"2018/05/25\", \"2018/05/31\", \"2018/06/07\", \"2018/06/07\", \"2018/06/12\", \"2018/06/15\", \"2018/06/16\", \"2018/06/16\", \"2018/06/16\", \"2018/07/02\", \"2018/07/11\", \"2018/07/12\", \"2018/07/20\", \"2018/07/27\", \"2018/07/28\", \"2018/07/31\", \"2018/08/07\", \"2018/08/07\", \"2018/08/09\", \"2018/08/11\", \"2018/08/14\", \"2018/08/27\", \"2018/08/27\", \"2018/09/04\", \"2018/09/04\", \"2018/09/04\", \"2018/09/08\", \"2018/09/08\", \"2018/09/09\", \"2018/09/15\", \"2018/09/16\", \"2018/09/24\", \"2018/09/29\", \"2018/10/01\", \"2018/10/03\", \"2018/10/07\", \"2018/10/09\", \"2018/10/11\", \"2018/10/11\", \"2018/10/14\", \"2018/10/21\", \"2018/10/21\", \"2018/10/22\", \"2018/10/31\", \"2018/11/03\", \"2018/11/08\", \"2018/11/10\", \"2018/11/20\", \"2018/11/22\", \"2018/11/27\", \"2018/11/29\", \"2018/11/29\", \"2018/11/30\", \"2018/12/02\", \"2018/12/03\", \"2018/12/08\", \"2018/12/08\", \"2018/12/18\", \"2018/12/19\", \"2018/12/20\", \"2018/12/21\", \"2019/01/01\", \"2019/01/02\", \"2019/01/05\", \"2019/01/06\", \"2019/01/08\", \"2019/01/11\", \"2019/01/12\", \"2019/01/19\", \"2019/01/20\", \"2019/01/26\", \"2019/01/29\", \"2019/02/07\", \"2019/02/07\", \"2019/02/08\", \"2019/02/09\", \"2019/02/09\", \"2019/02/09\", \"2019/02/11\", \"2019/02/12\", \"2019/02/18\", \"2019/02/18\", \"2019/02/18\", \"2019/02/18\", \"2019/02/18\", \"2019/02/19\", \"2019/02/19\", \"2019/02/19\", \"2019/02/19\", \"2019/02/19\", \"2019/02/24\", \"2019/02/27\", \"2019/03/05\", \"2019/03/10\", \"2019/03/19\", \"2019/03/21\", \"2019/03/23\", \"2019/03/24\", \"2019/03/26\", \"2019/04/03\", \"2019/04/07\", \"2019/04/22\", \"2019/04/29\", \"2019/05/03\", \"2019/05/03\", \"2019/05/08\", \"2019/05/10\", \"2019/05/10\", \"2019/05/10\", \"2019/05/12\", \"2019/05/12\", \"2019/05/13\", \"2019/05/18\", \"2019/05/23\", \"2019/05/26\", \"2019/06/01\", \"2019/06/03\", \"2019/06/08\", \"2019/06/15\", \"2019/07/12\", \"2019/07/14\", \"2019/07/31\", \"2019/07/31\", \"2019/08/01\", \"2019/08/09\", \"2019/08/11\", \"2019/08/30\", \"2019/09/05\", \"2019/09/06\", \"2019/09/20\", \"2019/09/21\", \"2019/09/25\", \"2019/09/29\", \"2019/10/12\", \"2019/10/18\", \"2019/10/20\", \"2019/10/20\", \"2019/10/20\", \"2019/11/02\", \"2019/11/02\", \"2019/11/09\", \"2019/11/15\", \"2019/11/18\", \"2019/11/22\", \"2019/11/23\", \"2019/11/23\", \"2019/11/24\", \"2019/11/24\", \"2019/11/25\", \"2019/11/27\", \"2019/11/27\", \"2019/12/01\", \"2019/12/01\", \"2019/12/02\", \"2019/12/11\", \"2019/12/21\", \"2019/12/25\", \"2019/12/28\", \"2020/01/07\", \"2020/01/09\", \"2020/01/12\", \"2020/01/16\", \"2020/01/18\", \"2020/01/25\", \"2020/01/27\", \"2020/01/30\", \"2020/02/07\", \"2020/02/16\", \"2020/02/16\", \"2020/02/18\", \"2020/02/29\", \"2020/03/06\", \"2020/03/07\", \"2020/03/11\", \"2020/03/13\", \"2020/03/14\", \"2020/03/23\", \"2020/03/23\", \"2020/03/25\", \"2020/03/29\", \"2020/03/29\", \"2020/03/30\", \"2020/03/31\", \"2020/04/01\", \"2020/04/02\", \"2020/04/03\", \"2020/04/04\", \"2020/04/06\", \"2020/04/10\", \"2020/04/16\", \"2020/04/22\", \"2020/05/04\", \"2020/05/10\", \"2020/05/12\", \"2020/05/12\", \"2020/05/18\", \"2020/05/23\", \"2020/05/23\", \"2020/06/06\", \"2020/06/10\", \"2020/06/10\", \"2020/06/11\", \"2020/06/15\", \"2020/06/15\", \"2020/06/17\", \"2020/06/20\", \"2020/06/25\", \"2020/06/28\", \"2020/07/17\", \"2020/07/27\", \"2020/07/30\", \"2020/08/02\", \"2020/08/05\", \"2020/08/07\", \"2020/08/10\", \"2020/08/17\", \"2020/08/22\", \"2020/08/31\", \"2020/09/04\", \"2020/09/16\", \"2020/09/20\", \"2020/09/21\", \"2020/09/23\", \"2020/09/29\", \"2020/10/10\", \"2020/10/25\", \"2020/10/27\", \"2020/10/31\", \"2020/11/02\", \"2020/11/04\", \"2020/11/07\", \"2020/11/10\", \"2020/11/11\", \"2020/11/17\", \"2020/11/19\", \"2020/11/25\", \"2020/11/26\", \"2020/11/27\", \"2020/11/29\", \"2020/12/06\", \"2020/12/07\", \"2020/12/09\", \"2020/12/15\", \"2020/12/17\", \"2020/12/19\", \"2020/12/21\", \"2020/12/23\", \"2020/12/23\", \"2021/01/10\", \"2021/01/26\", \"2021/02/02\", \"2021/02/05\", \"2021/02/16\", \"2021/02/17\", \"2021/02/21\", \"2021/02/28\", \"2021/03/06\", \"2021/03/10\", \"2021/03/15\", \"2021/03/17\", \"2021/03/22\", \"2021/04/05\", \"2021/04/10\", \"2021/04/12\", \"2021/04/22\", \"2021/05/02\", \"2021/05/04\", \"2021/05/04\"], \"xaxis\": \"x\", \"y\": [0.3716, -0.1263, 0.4404, -0.25, 0.9894, -0.3818, -0.9589, 0.8092, 0.8591, 0.936, -0.6705, 0.128, 0.6524, 0.9747, 0.7712, 0.9877, 0.9273, -0.0516, 0.9022, 0.9956, 0.7383, -0.3506, 0.9507, 0.5481, 0.9969, -0.2541, 0.9945, 0.9882, -0.962, 0.9707, 0.9642, 0.9965, 0.9977, -0.2888, -0.9553, 0.9527, -0.0516, 0.9742, -0.9925, 0.9823, -0.4926, 0.8999, 0.4971, 0.9325, 0.9167, 0.8811, 0.5666, 0.511, -0.7935, -0.5994, 0.1154, -0.4588, 0.4588, 0.0772, -0.1759, -0.6436, -0.743, -0.8271, -0.3071, 0.9064, -0.765, 0.5806, -0.9713, -0.7893, 0.4473, -0.9641, 0.9506, 0.8924, 0.9533, -0.5893, -0.5839, 0.9417, -0.9099, -0.9531, 0.9756, 0.2748, 0.9957, -0.319, 0.8794, -0.7976, -0.8667, -0.9324, 0.2415, 0.9933, 0.9033, -0.998, 0.9938, 0.9621, 0.9953, 0.9562, 0.9607, -0.24, 0.9089, 0.9737, 0.9915, 0.993, 0.9939, 0.9952, 0.9989, 0.9944, 0.815, 0.9763, 0.9947, 0.9979, 0.9919, 0.9873, 0.9828, 0.9944, 0.8115, 0.9906, 0.9186, -0.9071, 0.995, 0.7026, 0.9922, -0.5719, 0.9356, 0.9509, 0.9888, 0.7782, -0.1855, 0.9814, -0.9755, 0.982, 0.9854, 0.9968, -0.9239, 0.9985, 0.8821, -0.9965, 0.9942, 0.9783, -0.9823, 0.648, 0.843, 0.6449, 0.9427, -0.5606, 0.9601, -0.4697, 0.9909, 0.995, 0.9844, 0.9328, 0.8471, -0.1813, 0.9571, 0.9849, 0.9961, 0.9286, 0.9654, 0.6896, 0.991, -0.9682, 0.9084, 0.979, 0.4588, 0.9667, 0.9977, 0.416, 0.9833, 0.982, 0.9891, -0.9441, 0.4572, 0.8591, 0.5645, 0.9987, 0.9384, 0.9736, 0.9986, 0.9924, 0.8281, 0.8995, 0.96, -0.8537, 0.9061, 0.9596, -0.9902, -0.9413, 0.9383, 0.9903, -0.9741, 0.9455, 0.9964, -0.9555, 0.7996, -0.6486, 0.9937, 0.2563, 0.893, 0.3182, 0.5383, 0.9927, 0.9623, 0.9952, 0.9421, 0.7096, 0.9974, 0.9894, 0.9907, 0.8705, 0.9963, -0.9817, 0.9954, 0.9714, 0.2064, 0.7788, 0.9993, -0.5909, 0.8625, 0.9933, 0.1541, -0.8316, 0.9957, -0.427, 0.9837, 0.9759, -0.7239, -0.9439, 0.9341, 0.8844, 0.2263, -0.7595, 0.2023, 0.9978, 0.9904, 0.9802, -0.8904, -0.9922, 0.9989, 0.9951, -0.4026, 0.9957, 0.6862, 0.9885, 0.4754, 0.9909, 0.9919, 0.9922, -0.8471, 0.9767, -0.734, 0.8389, -0.9822, -0.9749, 0.8071, 0.9457, 0.9715, 0.9802, -0.9676, 0.9985, 0.8245, 0.95, -0.9825, -0.5789, 0.9647, 0.9943, 0.9735, -0.971, 0.4588, 0.8365, 0.9815, -0.9301, -0.8932, 0.9859, 0.9827, -0.9327, 0.9603, 0.9872, -0.6574, 0.992, 0.8925, 0.952, 0.9923, -0.2908, -0.9967, 0.9956, -0.9468, -0.4623, -0.8537, 0.909, -0.454, -0.8362, -0.6948, -0.9418, 0.9944, -0.868, 0.9959, 0.974, 0.9639, 0.9661, 0.9997, -0.9432, -0.9691, 0.9829, 0.926, 0.9765, 0.9272, -0.9835, 0.4921, 0.9672, -0.9814, -0.9934, -0.6556, 0.9985, 0.7976, -0.844, 0.8505, -0.9899, 0.9538, -0.5266, 0.7986, 0.9896, 0.9953, -0.9746, 0.9956, 0.9193, 0.9828, 0.9935, 0.8074, 0.9235, 0.6098, 0.9379, 0.9885, 0.9537, 0.3674, -0.4444, -0.9159, 0.9666, 0.6597, 0.9853, -0.8526, 0.964, -0.5664, 0.9963, 0.9868, 0.9967, -0.9838, 0.9912, -0.0446, -0.9795, 0.9658, 0.9981, -0.9455, 0.9894, 0.827, 0.9934, 0.991, 0.7351, -0.8555, -0.3919, 0.9509, 0.9972, 0.987, 0.9964, -0.0737, -0.9712, 0.7339, 0.9688, -0.907, 0.9753, 0.9716, 0.9696, 0.993, 0.9846, -0.3797, 0.9961, -0.9415, -0.814, 0.9442, 0.9972, 0.9586, 0.9728, -0.9807, 0.3539, 0.9519, 0.9797, 0.4121, 0.5868, 0.9978, 0.9876, -0.9578, 0.9788, -0.7159, -0.3701, -0.7402, 0.9143, 0.6212, 0.9813, 0.9913, 0.5265, 0.8419, 0.9598, 0.9944, -0.9197, 0.7103, 0.768, 0.9828, 0.9923, -0.4982, 0.638, 0.9607, 0.9973, 0.9709, 0.9866, -0.9929, 0.9989, 0.9153, 0.9353, 0.9769, -0.4872, -0.4359, 0.9908, -0.9634, 0.9941, 0.3262, 0.9872, -0.8941, 0.971, -0.6705, 0.9875, 0.9822, 0.9174, 0.8869, 0.9787, 0.9658, -0.9673, 0.9836, 0.9689, 0.9919, -0.5727, -0.9954, -0.8522, 0.7155, 0.8064, 0.991, 0.9723, 0.7837, -0.7003, 0.9531, 0.9411, 0.9135, 0.9948, 0.9279, 0.9792, 0.935, 0.9599, -0.7687, 0.9831, 0.9515, 0.9303, -0.9909, 0.4931, 0.8891, -0.2144, -0.3818, -0.8381, 0.9965, -0.9791, 0.9956, 0.9294, 0.9849, 0.9957, -0.1035, 0.9904, 0.1388, 0.9966, -0.1897, 0.7748, 0.9976, -0.9033, 0.8799, 0.9855, 0.1869, 0.7493, 0.9518, 0.9802, 0.9963, -0.6575, 0.9952, 0.9993, 0.3535, 0.7269, -0.0917, -0.3933, -0.1144, 0.9521, 0.9217, 0.8675, -0.4497, 0.9761, -0.5267, -0.5267, -0.9636, 0.9841, 0.9778, 0.9712, -0.9667, 0.9293, 0.9319, -0.9878, -0.7238, 0.5642, 0.9986, 0.7601, -0.8454, -0.34, 0.9598, 0.9253, 0.9785, -0.1263, 0.5267, -0.2023, 0.9731, 0.5719, 0.852, 0.9894, -0.8991, 0.7867, 0.6188, -0.2243, 0.981, 0.8439, -0.8894, -0.7096, 0.9846, 0.1406, -0.9178, 0.9966, -0.5659, 0.914, -0.8338, 0.9093, 0.9861, 0.1779, 0.99, -0.966, 0.1779, -0.9131, -0.3839, 0.8625, 0.9718, -0.831, 0.9971, 0.6621, 0.945, 0.9201, 0.8962, 0.8751, -0.3213, 0.9569, 0.4404, 0.8949, -0.6801, 0.9274, 0.8689, -0.1306, -0.9203, 0.8985, 0.5822, -0.6249, 0.9397, -0.1638, 0.2263, 0.9803, 0.8402, 0.2143, 0.9916, 0.9261, 0.929, -0.1027, 0.0, 0.8228, -0.0258, 0.4927, -0.6808, 0.8958, -0.8674, 0.5403, 0.3612, 0.939, -0.9394, 0.9948, 0.9423, 0.5499, 0.9987, 0.8448, -0.8581, 0.9696, 0.9483, 0.9523, -0.046, 0.8897, 0.9825, 0.9313, 0.9958, 0.984, -0.7717, 0.6461, 0.9841, -0.578, 0.7906, 0.0891, -0.9227, 0.8179, 0.8707, 0.8011, 0.8423, 0.024, 0.4404, 0.9876, -0.4388, -0.4522, 0.7154, -0.3536, -0.9305, -0.6956, 0.2724, -0.9017, -0.1787, 0.0, 0.9842, 0.9014, 0.0115, 0.9001, 0.9397, 0.8941, -0.926, -0.0772, 0.0892, 0.9702, 0.9617, 0.5823, -0.9192, 0.9331, 0.967, 0.7664, 0.5826, 0.9132, -0.8118, 0.6115, -0.8638, 0.9489, 0.9403, 0.9517, 0.8905, -0.2023, 0.9913, 0.8989, 0.9458, 0.4927, 0.588, 0.4707, 0.9954, -0.7981, 0.9772, 0.9644, 0.2732, 0.807, 0.9567, -0.8696, 0.6369, 0.9674, 0.891, 0.2238, 0.9542, 0.9814, 0.3071, 0.9442, 0.992, 0.0757, 0.7003, -0.1219, -0.2247, 0.9914, 0.9982, 0.5789, 0.9509, 0.8331, 0.9091, 0.7719, 0.9598, 0.7193, 0.8074, -0.7501, 0.9802, 0.9933, -0.9556, 0.8883, 0.9701, 0.6486, 0.9147, 0.9984, -0.739, -0.4854, -0.9965, 0.683, 0.4404, 0.7255, 0.6239, 0.9985, -0.6801, -0.4867, 0.9855, 0.8883, 0.0, 0.9413, -0.34, -0.9953, 0.8591, -0.9559, -0.7623, 0.9617, 0.7269, 0.9651, -0.3612, 0.9699, 0.3182, 0.6987, 0.4927, 0.5106, 0.9881, -0.3818, 0.9945, 0.212, 0.128, 0.3248, 0.7096, 0.9938, 0.9901, -0.4588, 0.2691, 0.7351, 0.85, 0.7115, -0.891, 0.1505, 0.9932, 0.8389, 0.966, 0.6369, 0.9936, 0.8294, -0.6427, 0.8643, 0.6476, 0.9042, 0.9472, 0.9952, 0.854, 0.9556, -0.5994, 0.5994, 0.8115, 0.9092, -0.0772, 0.9873, -0.6898, 0.4404, 0.6169, 0.7134, 0.0, -0.9842, -0.2037, -0.1689, -0.9379, 0.9605, -0.2732, 0.3514, -0.7906, -0.949, 0.8979, -0.9806, 0.4497, 0.943, 0.811, -0.4404, 0.5719, 0.5253, 0.6003, -0.3818, -0.4767, -0.3029, 0.1779, 0.8142, -0.2717, 0.9054, -0.9569, 0.2462, 0.8979, 0.7096, 0.975, 0.6808, -0.0396, -0.6249, -0.5267, -0.9339, 0.7845, 0.555], \"yaxis\": \"y\"}],                        {\"legend\": {\"tracegroupgap\": 0}, \"template\": {\"data\": {\"bar\": [{\"error_x\": {\"color\": \"#2a3f5f\"}, \"error_y\": {\"color\": \"#2a3f5f\"}, \"marker\": {\"line\": {\"color\": \"#E5ECF6\", \"width\": 0.5}}, \"type\": \"bar\"}], \"barpolar\": [{\"marker\": {\"line\": {\"color\": \"#E5ECF6\", \"width\": 0.5}}, \"type\": \"barpolar\"}], \"carpet\": [{\"aaxis\": {\"endlinecolor\": \"#2a3f5f\", \"gridcolor\": \"white\", \"linecolor\": \"white\", \"minorgridcolor\": \"white\", \"startlinecolor\": \"#2a3f5f\"}, \"baxis\": {\"endlinecolor\": \"#2a3f5f\", \"gridcolor\": \"white\", \"linecolor\": \"white\", \"minorgridcolor\": \"white\", \"startlinecolor\": \"#2a3f5f\"}, \"type\": \"carpet\"}], \"choropleth\": [{\"colorbar\": {\"outlinewidth\": 0, \"ticks\": \"\"}, \"type\": \"choropleth\"}], \"contour\": [{\"colorbar\": {\"outlinewidth\": 0, \"ticks\": \"\"}, \"colorscale\": [[0.0, \"#0d0887\"], [0.1111111111111111, \"#46039f\"], [0.2222222222222222, \"#7201a8\"], [0.3333333333333333, \"#9c179e\"], [0.4444444444444444, \"#bd3786\"], [0.5555555555555556, \"#d8576b\"], [0.6666666666666666, \"#ed7953\"], [0.7777777777777778, \"#fb9f3a\"], [0.8888888888888888, \"#fdca26\"], [1.0, \"#f0f921\"]], \"type\": \"contour\"}], \"contourcarpet\": [{\"colorbar\": {\"outlinewidth\": 0, \"ticks\": \"\"}, \"type\": \"contourcarpet\"}], \"heatmap\": [{\"colorbar\": {\"outlinewidth\": 0, \"ticks\": \"\"}, \"colorscale\": [[0.0, \"#0d0887\"], [0.1111111111111111, \"#46039f\"], [0.2222222222222222, \"#7201a8\"], [0.3333333333333333, \"#9c179e\"], [0.4444444444444444, \"#bd3786\"], [0.5555555555555556, \"#d8576b\"], [0.6666666666666666, \"#ed7953\"], [0.7777777777777778, \"#fb9f3a\"], [0.8888888888888888, \"#fdca26\"], [1.0, \"#f0f921\"]], \"type\": \"heatmap\"}], \"heatmapgl\": [{\"colorbar\": {\"outlinewidth\": 0, \"ticks\": \"\"}, \"colorscale\": [[0.0, \"#0d0887\"], [0.1111111111111111, \"#46039f\"], [0.2222222222222222, \"#7201a8\"], [0.3333333333333333, \"#9c179e\"], [0.4444444444444444, \"#bd3786\"], [0.5555555555555556, \"#d8576b\"], [0.6666666666666666, \"#ed7953\"], [0.7777777777777778, \"#fb9f3a\"], [0.8888888888888888, \"#fdca26\"], [1.0, \"#f0f921\"]], \"type\": \"heatmapgl\"}], \"histogram\": [{\"marker\": {\"colorbar\": {\"outlinewidth\": 0, \"ticks\": \"\"}}, \"type\": \"histogram\"}], \"histogram2d\": [{\"colorbar\": {\"outlinewidth\": 0, \"ticks\": \"\"}, \"colorscale\": [[0.0, \"#0d0887\"], [0.1111111111111111, \"#46039f\"], [0.2222222222222222, \"#7201a8\"], [0.3333333333333333, \"#9c179e\"], [0.4444444444444444, \"#bd3786\"], [0.5555555555555556, \"#d8576b\"], [0.6666666666666666, \"#ed7953\"], [0.7777777777777778, \"#fb9f3a\"], [0.8888888888888888, \"#fdca26\"], [1.0, \"#f0f921\"]], \"type\": \"histogram2d\"}], \"histogram2dcontour\": [{\"colorbar\": {\"outlinewidth\": 0, \"ticks\": \"\"}, \"colorscale\": [[0.0, \"#0d0887\"], [0.1111111111111111, \"#46039f\"], [0.2222222222222222, \"#7201a8\"], [0.3333333333333333, \"#9c179e\"], [0.4444444444444444, \"#bd3786\"], [0.5555555555555556, \"#d8576b\"], [0.6666666666666666, \"#ed7953\"], [0.7777777777777778, \"#fb9f3a\"], [0.8888888888888888, \"#fdca26\"], [1.0, \"#f0f921\"]], \"type\": \"histogram2dcontour\"}], \"mesh3d\": [{\"colorbar\": {\"outlinewidth\": 0, \"ticks\": \"\"}, \"type\": \"mesh3d\"}], \"parcoords\": [{\"line\": {\"colorbar\": {\"outlinewidth\": 0, \"ticks\": \"\"}}, \"type\": \"parcoords\"}], \"pie\": [{\"automargin\": true, \"type\": \"pie\"}], \"scatter\": [{\"marker\": {\"colorbar\": {\"outlinewidth\": 0, \"ticks\": \"\"}}, \"type\": \"scatter\"}], \"scatter3d\": [{\"line\": {\"colorbar\": {\"outlinewidth\": 0, \"ticks\": \"\"}}, \"marker\": {\"colorbar\": {\"outlinewidth\": 0, \"ticks\": \"\"}}, \"type\": \"scatter3d\"}], \"scattercarpet\": [{\"marker\": {\"colorbar\": {\"outlinewidth\": 0, \"ticks\": \"\"}}, \"type\": \"scattercarpet\"}], \"scattergeo\": [{\"marker\": {\"colorbar\": {\"outlinewidth\": 0, \"ticks\": \"\"}}, \"type\": \"scattergeo\"}], \"scattergl\": [{\"marker\": {\"colorbar\": {\"outlinewidth\": 0, \"ticks\": \"\"}}, \"type\": \"scattergl\"}], \"scattermapbox\": [{\"marker\": {\"colorbar\": {\"outlinewidth\": 0, \"ticks\": \"\"}}, \"type\": \"scattermapbox\"}], \"scatterpolar\": [{\"marker\": {\"colorbar\": {\"outlinewidth\": 0, \"ticks\": \"\"}}, \"type\": \"scatterpolar\"}], \"scatterpolargl\": [{\"marker\": {\"colorbar\": {\"outlinewidth\": 0, \"ticks\": \"\"}}, \"type\": \"scatterpolargl\"}], \"scatterternary\": [{\"marker\": {\"colorbar\": {\"outlinewidth\": 0, \"ticks\": \"\"}}, \"type\": \"scatterternary\"}], \"surface\": [{\"colorbar\": {\"outlinewidth\": 0, \"ticks\": \"\"}, \"colorscale\": [[0.0, \"#0d0887\"], [0.1111111111111111, \"#46039f\"], [0.2222222222222222, \"#7201a8\"], [0.3333333333333333, \"#9c179e\"], [0.4444444444444444, \"#bd3786\"], [0.5555555555555556, \"#d8576b\"], [0.6666666666666666, \"#ed7953\"], [0.7777777777777778, \"#fb9f3a\"], [0.8888888888888888, \"#fdca26\"], [1.0, \"#f0f921\"]], \"type\": \"surface\"}], \"table\": [{\"cells\": {\"fill\": {\"color\": \"#EBF0F8\"}, \"line\": {\"color\": \"white\"}}, \"header\": {\"fill\": {\"color\": \"#C8D4E3\"}, \"line\": {\"color\": \"white\"}}, \"type\": \"table\"}]}, \"layout\": {\"annotationdefaults\": {\"arrowcolor\": \"#2a3f5f\", \"arrowhead\": 0, \"arrowwidth\": 1}, \"autotypenumbers\": \"strict\", \"coloraxis\": {\"colorbar\": {\"outlinewidth\": 0, \"ticks\": \"\"}}, \"colorscale\": {\"diverging\": [[0, \"#8e0152\"], [0.1, \"#c51b7d\"], [0.2, \"#de77ae\"], [0.3, \"#f1b6da\"], [0.4, \"#fde0ef\"], [0.5, \"#f7f7f7\"], [0.6, \"#e6f5d0\"], [0.7, \"#b8e186\"], [0.8, \"#7fbc41\"], [0.9, \"#4d9221\"], [1, \"#276419\"]], \"sequential\": [[0.0, \"#0d0887\"], [0.1111111111111111, \"#46039f\"], [0.2222222222222222, \"#7201a8\"], [0.3333333333333333, \"#9c179e\"], [0.4444444444444444, \"#bd3786\"], [0.5555555555555556, \"#d8576b\"], [0.6666666666666666, \"#ed7953\"], [0.7777777777777778, \"#fb9f3a\"], [0.8888888888888888, \"#fdca26\"], [1.0, \"#f0f921\"]], \"sequentialminus\": [[0.0, \"#0d0887\"], [0.1111111111111111, \"#46039f\"], [0.2222222222222222, \"#7201a8\"], [0.3333333333333333, \"#9c179e\"], [0.4444444444444444, \"#bd3786\"], [0.5555555555555556, \"#d8576b\"], [0.6666666666666666, \"#ed7953\"], [0.7777777777777778, \"#fb9f3a\"], [0.8888888888888888, \"#fdca26\"], [1.0, \"#f0f921\"]]}, \"colorway\": [\"#636efa\", \"#EF553B\", \"#00cc96\", \"#ab63fa\", \"#FFA15A\", \"#19d3f3\", \"#FF6692\", \"#B6E880\", \"#FF97FF\", \"#FECB52\"], \"font\": {\"color\": \"#2a3f5f\"}, \"geo\": {\"bgcolor\": \"white\", \"lakecolor\": \"white\", \"landcolor\": \"#E5ECF6\", \"showlakes\": true, \"showland\": true, \"subunitcolor\": \"white\"}, \"hoverlabel\": {\"align\": \"left\"}, \"hovermode\": \"closest\", \"mapbox\": {\"style\": \"light\"}, \"paper_bgcolor\": \"white\", \"plot_bgcolor\": \"#E5ECF6\", \"polar\": {\"angularaxis\": {\"gridcolor\": \"white\", \"linecolor\": \"white\", \"ticks\": \"\"}, \"bgcolor\": \"#E5ECF6\", \"radialaxis\": {\"gridcolor\": \"white\", \"linecolor\": \"white\", \"ticks\": \"\"}}, \"scene\": {\"xaxis\": {\"backgroundcolor\": \"#E5ECF6\", \"gridcolor\": \"white\", \"gridwidth\": 2, \"linecolor\": \"white\", \"showbackground\": true, \"ticks\": \"\", \"zerolinecolor\": \"white\"}, \"yaxis\": {\"backgroundcolor\": \"#E5ECF6\", \"gridcolor\": \"white\", \"gridwidth\": 2, \"linecolor\": \"white\", \"showbackground\": true, \"ticks\": \"\", \"zerolinecolor\": \"white\"}, \"zaxis\": {\"backgroundcolor\": \"#E5ECF6\", \"gridcolor\": \"white\", \"gridwidth\": 2, \"linecolor\": \"white\", \"showbackground\": true, \"ticks\": \"\", \"zerolinecolor\": \"white\"}}, \"shapedefaults\": {\"line\": {\"color\": \"#2a3f5f\"}}, \"ternary\": {\"aaxis\": {\"gridcolor\": \"white\", \"linecolor\": \"white\", \"ticks\": \"\"}, \"baxis\": {\"gridcolor\": \"white\", \"linecolor\": \"white\", \"ticks\": \"\"}, \"bgcolor\": \"#E5ECF6\", \"caxis\": {\"gridcolor\": \"white\", \"linecolor\": \"white\", \"ticks\": \"\"}}, \"title\": {\"x\": 0.05}, \"xaxis\": {\"automargin\": true, \"gridcolor\": \"white\", \"linecolor\": \"white\", \"ticks\": \"\", \"title\": {\"standoff\": 15}, \"zerolinecolor\": \"white\", \"zerolinewidth\": 2}, \"yaxis\": {\"automargin\": true, \"gridcolor\": \"white\", \"linecolor\": \"white\", \"ticks\": \"\", \"title\": {\"standoff\": 15}, \"zerolinecolor\": \"white\", \"zerolinewidth\": 2}}}, \"title\": {\"text\": \"Distribution of Sample Compound SA Scores\"}, \"xaxis\": {\"anchor\": \"y\", \"domain\": [0.0, 1.0], \"showticklabels\": false, \"title\": {\"text\": \"Date Formatted\"}, \"visible\": false}, \"yaxis\": {\"anchor\": \"x\", \"domain\": [0.0, 1.0], \"linecolor\": \"black\", \"nticks\": 12, \"showgrid\": true, \"showline\": true, \"showticklabels\": true, \"ticks\": \"inside\", \"title\": {\"text\": \"Compound SA Score\"}, \"zeroline\": true, \"zerolinecolor\": \"black\", \"zerolinewidth\": 0.1}},                        {\"responsive\": true}                    ).then(function(){\n",
       "                            \n",
       "var gd = document.getElementById('93ca5fa0-8e48-494d-af8d-104665b7d249');\n",
       "var x = new MutationObserver(function (mutations, observer) {{\n",
       "        var display = window.getComputedStyle(gd).display;\n",
       "        if (!display || display === 'none') {{\n",
       "            console.log([gd, 'removed!']);\n",
       "            Plotly.purge(gd);\n",
       "            observer.disconnect();\n",
       "        }}\n",
       "}});\n",
       "\n",
       "// Listen for the removal of the full notebook cells\n",
       "var notebookContainer = gd.closest('#notebook-container');\n",
       "if (notebookContainer) {{\n",
       "    x.observe(notebookContainer, {childList: true});\n",
       "}}\n",
       "\n",
       "// Listen for the clearing of the current output cell\n",
       "var outputEl = gd.closest('.output');\n",
       "if (outputEl) {{\n",
       "    x.observe(outputEl, {childList: true});\n",
       "}}\n",
       "\n",
       "                        })                };                });            </script>        </div>"
      ]
     },
     "metadata": {},
     "output_type": "display_data"
    }
   ],
   "source": [
    "fig2 = px.scatter(Dist_df,x='Date Formatted',y='Compound_Score',hover_name=\"Id\",title='Distribution of Sample Compound SA Scores')\n",
    "fig2.update_xaxes(showticklabels=False,visible = False)\n",
    "fig2.update_yaxes(showticklabels=True,nticks=12,ticks='inside',\n",
    "                  showline=True, linecolor='black',\n",
    "                  showgrid=True,title_text= 'Compound SA Score',\n",
    "                  zeroline=True, zerolinecolor='black', zerolinewidth=.1)\n",
    "fig2.show()"
   ]
  },
  {
   "cell_type": "code",
   "execution_count": 177,
   "metadata": {},
   "outputs": [
    {
     "data": {
      "text/plain": [
       "'https://plotly.com/~StephCPalmer/11/'"
      ]
     },
     "execution_count": 177,
     "metadata": {},
     "output_type": "execute_result"
    }
   ],
   "source": [
    "py.plot(fig2, filename = 'Distribution of Sample Compound SA Scores', auto_open=True)"
   ]
  },
  {
   "cell_type": "code",
   "execution_count": 178,
   "metadata": {},
   "outputs": [
    {
     "data": {
      "text/plain": [
       "Index(['Id', 'User', 'Rating', 'Date Posted', 'Negativity_Score',\n",
       "       'Neutrality_Score', 'Positivity_Score', 'Compound_Score', 'Error',\n",
       "       'Evaluated_User_Rating', 'Date Formatted'],\n",
       "      dtype='object')"
      ]
     },
     "execution_count": 178,
     "metadata": {},
     "output_type": "execute_result"
    }
   ],
   "source": [
    "Score_sample.keys()"
   ]
  },
  {
   "cell_type": "code",
   "execution_count": 187,
   "metadata": {},
   "outputs": [
    {
     "data": {
      "application/vnd.plotly.v1+json": {
       "config": {
        "plotlyServerURL": "https://plotly.com"
       },
       "data": [
        {
         "alignmentgroup": "True",
         "hovertemplate": "Evaluated_User_Rating=%{x}<br>Compound_Score=%{y}<extra></extra>",
         "legendgroup": "",
         "marker": {
          "color": "#636efa"
         },
         "name": "",
         "notched": false,
         "offsetgroup": "",
         "orientation": "v",
         "showlegend": false,
         "type": "box",
         "x": [
          0.9,
          null,
          0.7,
          0.6,
          0.3,
          null,
          0.7,
          0.4,
          0.1,
          0.7,
          1,
          null,
          null,
          0.1,
          1,
          0.9,
          0.1,
          0.6,
          0.2,
          0.4,
          0.1,
          0.6,
          null,
          0.9,
          null,
          1,
          1,
          1,
          0.6,
          0.5,
          1,
          0.8,
          0.3,
          1,
          1,
          0.9,
          1,
          0.8,
          0.9,
          0.1,
          0.7,
          null,
          null,
          null,
          0.8,
          1,
          0.1,
          0.6,
          0.6,
          0.7,
          0.8,
          0.9,
          null,
          1,
          0.7,
          null,
          0.8,
          0.5,
          0.7,
          0.6,
          0.5,
          0.4,
          0.9,
          1,
          null,
          0.4,
          1,
          0.7,
          0.7,
          0.7,
          0.8,
          0.5,
          1,
          0.7,
          0.6,
          0.1,
          0.5,
          0.5,
          1,
          0.3,
          0.8,
          0.8,
          0.8,
          1,
          null,
          0.8,
          null,
          0.3,
          0.6,
          1,
          0.1,
          0.9,
          0.6,
          null,
          0.9,
          1,
          0.6,
          1,
          null,
          0.3,
          0.7,
          0.7,
          0.8,
          0.9,
          1,
          1,
          0.4,
          0.6,
          0.9,
          0.8,
          0.2,
          0.3,
          0.8,
          0.7,
          null,
          0.1,
          null,
          1,
          0.8,
          0.9,
          null,
          0.5,
          0.7,
          0.9,
          0.1,
          0.5,
          0.6,
          0.1,
          0.5,
          0.6,
          0.5,
          0.7,
          0.7,
          0.6,
          1,
          0.7,
          0.3,
          0.8,
          0.7,
          0.4,
          0.7,
          null,
          0.1,
          0.2,
          0.9,
          1,
          0.8,
          0.2,
          null,
          0.9,
          0.6,
          0.1,
          1,
          0.2,
          0.6,
          0.7,
          0.9,
          0.8,
          null,
          null,
          0.9,
          0.2,
          0.7,
          0.5,
          0.1,
          0.9,
          1,
          0.6,
          0.9,
          0.7,
          0.1,
          0.9,
          null,
          0.1,
          1,
          0.3,
          0.8,
          0.7,
          1,
          0.9,
          0.1,
          0.4,
          null,
          0.7,
          0.7,
          0.7,
          null,
          0.3,
          null,
          0.7,
          0.8,
          0.9,
          0.2,
          1,
          0.7,
          0.7,
          0.1,
          0.6,
          0.5,
          0.8,
          1,
          0.5,
          0.7,
          1,
          1,
          0.8,
          0.8,
          0.8,
          0.9,
          0.7,
          0.7,
          1,
          0.9,
          0.9,
          1,
          0.8,
          0.8,
          0.8,
          0.2,
          0.9,
          0.8,
          0.3,
          0.7,
          0.3,
          1,
          1,
          0.7,
          null,
          0.7,
          0.9,
          0.7,
          0.9,
          null,
          0.3,
          0.3,
          0.7,
          1,
          0.2,
          0.8,
          1,
          0.6,
          0.6,
          null,
          1,
          1,
          0.5,
          0.9,
          0.1,
          0.7,
          0.8,
          1,
          0.9,
          0.8,
          0.7,
          0.6,
          null,
          1,
          1,
          0.6,
          null,
          0.1,
          0.7,
          0.6,
          0.8,
          1,
          0.5,
          0.4,
          0.8,
          0.6,
          1,
          0.9,
          0.3,
          null,
          0.8,
          0.2,
          0.7,
          0.1,
          0.1,
          1,
          0.7,
          0.8,
          null,
          0.9,
          0.5,
          0.6,
          0.7,
          0.8,
          0.9,
          0.5,
          null,
          0.8,
          0.3,
          1,
          0.5,
          0.6,
          1,
          1,
          1,
          0.5,
          0.6,
          0.5,
          0.7,
          0.7,
          0.7,
          0.8,
          1,
          0.9,
          0.1,
          0.5,
          0.6,
          0.6,
          0.7,
          1,
          1,
          1,
          0.8,
          1,
          0.7,
          0.8,
          1,
          0.8,
          0.8,
          1,
          0.9,
          0.7,
          0.2,
          0.1,
          0.8,
          0.3,
          0.8,
          null,
          0.6,
          0.3,
          0.2,
          0.1,
          0.5,
          0.6,
          0.5,
          0.8,
          null,
          0.5,
          0.9,
          null,
          0.5,
          0.7,
          1,
          0.4,
          1,
          0.7,
          0.4,
          0.7,
          1,
          0.9,
          1,
          0.7,
          0.9,
          0.1,
          0.1,
          0.7,
          0.8,
          1,
          1,
          0.7,
          0.5,
          0.6,
          0.9,
          0.5,
          1,
          0.3,
          0.8,
          0.7,
          0.9,
          0.7,
          0.7,
          0.8,
          0.6,
          null,
          0.8,
          1,
          0.8,
          0.5,
          0.5,
          0.9,
          0.3,
          0.9,
          0.8,
          0.9,
          null,
          0.8,
          null,
          1,
          0.4,
          0.7,
          0.8,
          0.2,
          1,
          0.8,
          0.9,
          0.9,
          0.8,
          null,
          0.1,
          1,
          0.7,
          1,
          0.5,
          1,
          0.8,
          null,
          0.1,
          0.9,
          0.7,
          0.6,
          1,
          0.8,
          0.6,
          0.8,
          0.8,
          1,
          1,
          0.7,
          0.8,
          1,
          0.8,
          0.8,
          0.8,
          0.7,
          null,
          0.6,
          0.1,
          0.6,
          0.1,
          0.8,
          0.7,
          0.6,
          0.4,
          0.9,
          0.5,
          0.9,
          0.7,
          0.3,
          0.6,
          0.5,
          null,
          0.4,
          0.7,
          0.9,
          null,
          0.9,
          0.1,
          0.2,
          0.8,
          null,
          0.9,
          0.9,
          null,
          0.9,
          0.6,
          null,
          0.1,
          1,
          0.6,
          0.4,
          0.2,
          0.8,
          0.8,
          0.7,
          0.7,
          1,
          0.8,
          0.5,
          0.5,
          0.8,
          0.7,
          0.4,
          0.1,
          0.3,
          0.7,
          0.7,
          1,
          0.4,
          0.4,
          0.1,
          null,
          0.9,
          1,
          null,
          null,
          1,
          0.4,
          0.1,
          0.6,
          0.1,
          0.2,
          1,
          0.8,
          1,
          null,
          0.7,
          0.8,
          0.8,
          0.7,
          0.7,
          null,
          0.8,
          0.9,
          0.6,
          0.9,
          1,
          0.5,
          0.4,
          1,
          0.7,
          0.8,
          0.6,
          1,
          0.7,
          0.8,
          0.8,
          0.7,
          0.8,
          0.8,
          0.3,
          0.9,
          0.6,
          0.6,
          0.7,
          0.5,
          0.6,
          0.7,
          1,
          1,
          0.9,
          0.7,
          0.1,
          0.9,
          1,
          0.5,
          0.9,
          0.1,
          0.1,
          null,
          0.8,
          null,
          0.8,
          1,
          0.7,
          0.7,
          0.8,
          0.8,
          0.6,
          1,
          0.3,
          null,
          0.9,
          0.9,
          0.7,
          0.6,
          0.8,
          0.9,
          0.6,
          0.5,
          0.8,
          0.1,
          1,
          0.5,
          0.5,
          1,
          0.9,
          1,
          0.1,
          0.6,
          0.6,
          0.4,
          0.3,
          0.5,
          0.6,
          0.9,
          0.7,
          0.7,
          0.6,
          1,
          0.5,
          1,
          0.5,
          1,
          0.6,
          0.7,
          null,
          0.8,
          0.9,
          0.8,
          0.3,
          null,
          0.1,
          0.1,
          null,
          0.3,
          0.7,
          0.3,
          0.7,
          0.7,
          1,
          0.7,
          0.6,
          0.7,
          0.8,
          0.9,
          null,
          1,
          0.6,
          null,
          0.8,
          0.8,
          0.8,
          0.9,
          0.9,
          1,
          0.9,
          1,
          1,
          null,
          0.2,
          0.1,
          0.9,
          0.1,
          0.6,
          0.8,
          0.6,
          0.8,
          0.8,
          0.9,
          0.9,
          0.2,
          0.9,
          0.5,
          0.7,
          0.1,
          0.9,
          0.9,
          null,
          0.1,
          0.4,
          0.5,
          0.1,
          0.9,
          1,
          1,
          0.3,
          0.8,
          0.6,
          0.8,
          0.5,
          0.4,
          0.7,
          0.7,
          0.9,
          0.4,
          0.7,
          0.8,
          0.5,
          0.1,
          0.6,
          0.8,
          1,
          0.9,
          null,
          0.4,
          1,
          0.4,
          0.1,
          0.8,
          null,
          0.9,
          0.6,
          null,
          0.6,
          0.6,
          0.1,
          0.8,
          0.6,
          0.7,
          0.7,
          0.1,
          0.1,
          0.9,
          0.9,
          0.7,
          0.7,
          0.1,
          0.7,
          null,
          0.7,
          1,
          1,
          0.9,
          1,
          0.4,
          0.3,
          0.2,
          0.4,
          0.2,
          null,
          1,
          0.1,
          1,
          0.5,
          0.7,
          1,
          0.9,
          null,
          0.1,
          null,
          0.2,
          0.6,
          1,
          0.6,
          1,
          0.9,
          null,
          1,
          0.6,
          1,
          0.1,
          0.9,
          null,
          0.3,
          0.8,
          0.6,
          1,
          0.8,
          0.3,
          0.1,
          0.8,
          0.7,
          0.9,
          1,
          1,
          1,
          0.5,
          0.8,
          0.7,
          0.1,
          1,
          1,
          0.4,
          0.4,
          0.3,
          1,
          1,
          0.6,
          0.7,
          0.9,
          0.8,
          0.4,
          1,
          null,
          0.5,
          1,
          0.8,
          0.6,
          0.4,
          0.4,
          1,
          1,
          1,
          0.7,
          1,
          0.6,
          0.8,
          0.9,
          0.9,
          0.3,
          1,
          0.4,
          0.9,
          1,
          1,
          1,
          0.7,
          0.8,
          null,
          0.7,
          0.9,
          1,
          0.9,
          0.6,
          0.1,
          0.5,
          0.1,
          0.7,
          0.8,
          1,
          0.1,
          0.1,
          0.9,
          0.9,
          0.7,
          0.6,
          0.1
         ],
         "x0": " ",
         "xaxis": "x",
         "y": [
          0.7351,
          -0.9967,
          0.9948,
          0.9872,
          -0.6808,
          0.9642,
          0.5267,
          0.9954,
          -0.8522,
          -0.9178,
          0.9979,
          0.4572,
          -0.8904,
          0.6369,
          -0.9555,
          0.9802,
          -0.0772,
          0.8897,
          -0.907,
          -0.1263,
          -0.9806,
          0.9904,
          -0.7595,
          0.9894,
          -0.4867,
          0.9523,
          0.9562,
          0.7383,
          0.9672,
          -0.8471,
          0.9054,
          -0.5789,
          -0.9807,
          0.6169,
          0.9964,
          0.638,
          0.511,
          0.8949,
          -0.4026,
          -0.1897,
          0.9423,
          0.9742,
          0.993,
          0.9919,
          0.8092,
          -0.7159,
          -0.046,
          0.7193,
          -0.3536,
          -0.1035,
          0.9938,
          0.4588,
          0.8924,
          0.9714,
          0.9923,
          -0.4854,
          0.9217,
          -0.9902,
          0.9644,
          0.9842,
          -0.8526,
          0.9279,
          0.9328,
          0.8905,
          -0.8537,
          0.4921,
          0.9894,
          0.9556,
          0.9912,
          0.9442,
          0.8074,
          -0.1638,
          0.9984,
          0.982,
          -0.971,
          -0.949,
          0.9837,
          0.9353,
          -0.3701,
          -0.8338,
          0.5106,
          0.9598,
          0.5642,
          0.9709,
          0.9696,
          -0.6427,
          -0.9531,
          -0.4522,
          0.4971,
          0.6987,
          -0.814,
          0.9712,
          0.9489,
          -0.9641,
          0.4404,
          0.9421,
          0.9599,
          0.9763,
          -0.9922,
          -0.9418,
          0.9937,
          -0.6575,
          0.9961,
          0.9987,
          0.975,
          0.3716,
          0.9014,
          -0.9327,
          0.9997,
          0.9956,
          0.7867,
          0.128,
          0.9993,
          -0.6801,
          -0.7935,
          0.5499,
          0.9969,
          0.991,
          0.945,
          -0.8991,
          0.9957,
          -0.9814,
          0.4473,
          0.9617,
          -0.5994,
          0.9959,
          0.0757,
          0.2143,
          0.9272,
          0.9985,
          0.9966,
          -0.8638,
          0.7351,
          0.9455,
          0.9509,
          0.9253,
          0.8985,
          0.952,
          -0.4872,
          0.9293,
          0.9859,
          0.9033,
          -0.2717,
          -0.9339,
          0.9823,
          0.9702,
          0.9846,
          -0.9823,
          0.9924,
          0.9797,
          0.9143,
          -0.8555,
          0.5253,
          0.8958,
          0.9598,
          0.9586,
          0.9696,
          0.5481,
          0.9507,
          -0.5893,
          0.9294,
          -0.9746,
          0.2732,
          -0.2732,
          -0.6898,
          -0.9455,
          -0.1813,
          0.9084,
          0.5823,
          0.7782,
          -0.2037,
          0.9894,
          0.2748,
          -0.6948,
          -0.8667,
          -0.3933,
          -0.7501,
          0.8675,
          -0.0446,
          0.9909,
          -0.9131,
          0.95,
          0.9273,
          0.9132,
          0.9815,
          0.9569,
          -0.9817,
          -0.9578,
          -0.9589,
          0.4588,
          0.9542,
          0.9061,
          -0.0396,
          -0.831,
          0.8228,
          0.9658,
          -0.3213,
          0.9908,
          0.8294,
          0.9654,
          0.9397,
          0.9982,
          0.9989,
          0.9971,
          0.9966,
          -0.3818,
          0.9985,
          0.9603,
          0.7115,
          0.9567,
          0.9943,
          0.9963,
          0.5806,
          0.8591,
          0.9954,
          0.9605,
          0.9987,
          0.6115,
          -0.4767,
          -0.9324,
          0.9825,
          0.9235,
          0.939,
          -0.6249,
          0,
          0.5719,
          0.9397,
          0.5666,
          0.9906,
          0.4588,
          0.9866,
          0.9803,
          0.909,
          0.6524,
          -0.1263,
          0.8844,
          0.9961,
          -0.9712,
          0.99,
          -0.6436,
          0.9963,
          0.5403,
          -0.4444,
          0.8995,
          0.8074,
          0.9174,
          0.8389,
          -0.5727,
          0.9947,
          0.9518,
          0.9517,
          0.9001,
          0.9901,
          0.0115,
          0.4497,
          0.7155,
          0.5826,
          -0.5606,
          0.9538,
          0.9521,
          0.7096,
          0.9913,
          0.7996,
          -0.8381,
          0.9957,
          0.7269,
          0.2064,
          0.9973,
          0.982,
          0.9822,
          0.9956,
          0.9723,
          -0.7893,
          -0.9667,
          0.8941,
          0.8705,
          -0.9899,
          -0.8894,
          0.9915,
          -0.1027,
          0.9964,
          0.8625,
          0.9601,
          0.9944,
          0.9875,
          -0.3029,
          0.648,
          0.9986,
          -0.9192,
          0.9417,
          0.981,
          0,
          0.8751,
          0.4404,
          0.4927,
          0.9922,
          -0.8941,
          0.807,
          0.7748,
          0.7845,
          0.8142,
          0.6003,
          0.4404,
          0.9647,
          -0.9953,
          0.995,
          0.9814,
          -0.9203,
          0.9022,
          0.852,
          0.843,
          -0.9301,
          0.9303,
          0.7096,
          0.9531,
          0.9989,
          0.9411,
          0.7788,
          -0.9822,
          0.4707,
          0.9785,
          0.9944,
          0.7134,
          0.6239,
          0.9458,
          -0.6705,
          0.9658,
          0.9944,
          -0.5659,
          0.9617,
          0.0891,
          -0.9909,
          0,
          0.1779,
          -0.7096,
          0.3182,
          0.9699,
          -0.9159,
          0.8448,
          -0.9925,
          -0.5664,
          0.4931,
          -0.8454,
          -0.7238,
          0.8883,
          0.9922,
          -0.0737,
          0.8439,
          0.9147,
          -0.6956,
          -0.5266,
          0.3535,
          0.9483,
          0.7906,
          -0.8537,
          0.9341,
          -0.9439,
          0.6188,
          0.2415,
          0.9939,
          0.993,
          0.891,
          0.9951,
          0.9472,
          0.2724,
          0.8821,
          0.9903,
          0.9945,
          0.7976,
          0.991,
          0.9933,
          0.9623,
          0.9639,
          0.987,
          0.9927,
          0.9932,
          0.9064,
          0.9904,
          0.7026,
          -0.868,
          -0.743,
          0.5719,
          0.1505,
          0.5994,
          0.3182,
          -0.9682,
          0.8891,
          0.8115,
          0.555,
          0.9527,
          0.9885,
          0.9701,
          0.9833,
          -0.7906,
          0.2263,
          0.9923,
          -0.734,
          0.4927,
          0.9976,
          0.2691,
          0.827,
          0.4404,
          0.9313,
          0.9598,
          0.9042,
          0.9688,
          0.8979,
          -0.962,
          -0.0516,
          -0.5839,
          0.8591,
          0.9952,
          0.768,
          0.8962,
          0.6808,
          0.9091,
          0.8925,
          -0.5719,
          0.8707,
          0.1154,
          0.9978,
          0.9442,
          0.9167,
          0.8071,
          0.9933,
          0.9737,
          0.3071,
          0.9533,
          0.7719,
          -0.9634,
          -0.9394,
          -0.9415,
          0.9952,
          0.9873,
          0.9849,
          0.7493,
          -0.9556,
          0.9957,
          0.9767,
          0.9977,
          0.8402,
          0.7154,
          -0.1787,
          -0.319,
          0.4754,
          0.9934,
          0.7712,
          0.7601,
          0.8999,
          -0.9559,
          -0.9071,
          0.9802,
          -0.1306,
          0.9965,
          0.9135,
          0.9882,
          0.926,
          0.2563,
          0.9707,
          -0.7623,
          0.854,
          0.9888,
          -0.9017,
          -0.926,
          0.6212,
          0.9974,
          0.1779,
          0.9956,
          0.9093,
          0.9286,
          -0.9033,
          -0.9432,
          0.8471,
          0.9853,
          -0.3071,
          0.9792,
          0.9413,
          0.9765,
          0.9515,
          0.7339,
          0.6486,
          0.4121,
          -0.5267,
          -0.9741,
          0.5645,
          0.8979,
          0.9844,
          -0.6801,
          0.9747,
          -0.6486,
          -0.4359,
          0.9753,
          0.3674,
          -0.4497,
          0.1406,
          0.9985,
          0.9985,
          0.024,
          -0.2247,
          0.9894,
          0.8423,
          0.6098,
          0.6476,
          0.9802,
          0.6369,
          0.9089,
          0.9972,
          0.9621,
          0.9948,
          0.9828,
          0.9193,
          0.85,
          0.9936,
          -0.9197,
          0.9788,
          0.9836,
          0.9989,
          -0.2541,
          0.9873,
          0.9153,
          0.9891,
          0.9331,
          -0.9934,
          0.3514,
          -0.6574,
          0.9814,
          0.8689,
          0.9854,
          0.9813,
          0.9689,
          0.9881,
          -0.1759,
          -0.3797,
          -0.765,
          -0.9379,
          0.8179,
          0.0772,
          -0.9305,
          0.8883,
          -0.7402,
          -0.2243,
          0.8794,
          0.8989,
          0.9977,
          0.0892,
          0.9716,
          -0.9239,
          0.9861,
          0.1541,
          0.9965,
          0.6862,
          0.9571,
          0.8331,
          0.7255,
          -0.8362,
          0.9968,
          0.416,
          0.984,
          0.9829,
          0.9769,
          0.8389,
          0.5383,
          0.9981,
          -0.891,
          -0.5267,
          -0.739,
          0.966,
          0.9896,
          0.9735,
          -0.2888,
          0.3612,
          0.9913,
          0.9537,
          0.683,
          0.9427,
          0.7269,
          0.9919,
          -0.9227,
          0.9907,
          0.9933,
          0.811,
          0.1388,
          0.943,
          0.7096,
          -0.4388,
          0.967,
          -0.9553,
          0.7103,
          0.9993,
          -0.0516,
          0.9356,
          -0.3919,
          -0.34,
          0.2023,
          -0.4404,
          0.935,
          0.5789,
          -0.8118,
          0.9274,
          -0.1689,
          0.9736,
          0.7986,
          -0.1144,
          0.9379,
          0.9855,
          0.9956,
          -0.2144,
          0.936,
          0.9841,
          0.9831,
          0.8281,
          -0.3839,
          0.1869,
          0.9201,
          0.9945,
          0.9319,
          -0.7717,
          0.9914,
          0.9953,
          0.893,
          0.96,
          0.9761,
          -0.7981,
          -0.998,
          0.7664,
          -0.7003,
          -0.8932,
          0.9872,
          -0.3818,
          -0.1855,
          0.9827,
          -0.9636,
          0.9828,
          0.5265,
          0.6461,
          -0.5909,
          0.914,
          0.1779,
          -0.2908,
          0.9952,
          -0.7687,
          -0.4926,
          -0.9441,
          0.929,
          0.3262,
          0.6621,
          -0.0917,
          0.9876,
          -0.6556,
          0.9935,
          0.9963,
          0.9186,
          -0.9878,
          0.9384,
          0.9855,
          0.8799,
          -0.844,
          -0.4982,
          0.979,
          -0.3818,
          -0.9413,
          0.9759,
          0.9787,
          0.9876,
          -0.4588,
          0.9674,
          -0.9842,
          -0.8696,
          -0.9965,
          -0.0258,
          -0.9755,
          0.9607,
          -0.8581,
          0.8591,
          0.9909,
          -0.8674,
          0.9941,
          -0.9691,
          -0.3818,
          0.995,
          -0.9954,
          0.992,
          0.2238,
          -0.6249,
          -0.5267,
          0.9849,
          0.9877,
          -0.4623,
          0.9828,
          -0.9795,
          0.9519,
          -0.4697,
          0.3248,
          0.5822,
          0.6597,
          0.9457,
          0.9092,
          0.2462,
          0.588,
          -0.9791,
          0.9325,
          0.3539,
          -0.9929,
          0.8869,
          -0.34,
          -0.7239,
          0.2263,
          0.9952,
          -0.9676,
          0.9916,
          -0.9099,
          -0.966,
          0.9978,
          0.992,
          0.9958,
          0.9731,
          -0.3506,
          0.815,
          0.9506,
          -0.9713,
          -0.5994,
          0.9885,
          0.9509,
          0.8505,
          0.974,
          0.9756,
          -0.24,
          0.8811,
          -0.9468,
          0.9607,
          0.9846,
          0.6449,
          -0.9673,
          0.7837,
          0.964,
          -0.25,
          0.9261,
          0.9509,
          -0.3612,
          0.991,
          0.9802,
          0.9718,
          0.212,
          0.4927,
          0.9728,
          -0.578,
          0.8115,
          0.7003,
          0.6896,
          0.8064,
          -0.4588,
          0.8625,
          0.9783,
          0.9772,
          -0.9835,
          -0.7976,
          0.9986,
          0.9666,
          0.9868,
          0.5868,
          -0.9749,
          0.971,
          -0.9569,
          0.4404,
          0.9651,
          0.9944,
          -0.9838,
          0.9972,
          0.9383,
          0.9715,
          0.9667,
          0.128,
          -0.1219,
          0.9403,
          -0.427,
          0.9953,
          0.8245,
          -0.6705,
          0.9967,
          0.9841,
          0.8643,
          -0.9965,
          -0.8316,
          0.9957,
          0.9942,
          0.9596,
          -0.2023,
          0,
          -0.8271,
          0.8365,
          0.8419,
          -0.9825,
          0.9778,
          -0.2023,
          -0.0772,
          0.8011,
          0.9661,
          0.9938,
          0.9919,
          -0.454
         ],
         "y0": " ",
         "yaxis": "y"
        }
       ],
       "layout": {
        "boxmode": "group",
        "legend": {
         "tracegroupgap": 0
        },
        "template": {
         "data": {
          "bar": [
           {
            "error_x": {
             "color": "#2a3f5f"
            },
            "error_y": {
             "color": "#2a3f5f"
            },
            "marker": {
             "line": {
              "color": "#E5ECF6",
              "width": 0.5
             }
            },
            "type": "bar"
           }
          ],
          "barpolar": [
           {
            "marker": {
             "line": {
              "color": "#E5ECF6",
              "width": 0.5
             }
            },
            "type": "barpolar"
           }
          ],
          "carpet": [
           {
            "aaxis": {
             "endlinecolor": "#2a3f5f",
             "gridcolor": "white",
             "linecolor": "white",
             "minorgridcolor": "white",
             "startlinecolor": "#2a3f5f"
            },
            "baxis": {
             "endlinecolor": "#2a3f5f",
             "gridcolor": "white",
             "linecolor": "white",
             "minorgridcolor": "white",
             "startlinecolor": "#2a3f5f"
            },
            "type": "carpet"
           }
          ],
          "choropleth": [
           {
            "colorbar": {
             "outlinewidth": 0,
             "ticks": ""
            },
            "type": "choropleth"
           }
          ],
          "contour": [
           {
            "colorbar": {
             "outlinewidth": 0,
             "ticks": ""
            },
            "colorscale": [
             [
              0,
              "#0d0887"
             ],
             [
              0.1111111111111111,
              "#46039f"
             ],
             [
              0.2222222222222222,
              "#7201a8"
             ],
             [
              0.3333333333333333,
              "#9c179e"
             ],
             [
              0.4444444444444444,
              "#bd3786"
             ],
             [
              0.5555555555555556,
              "#d8576b"
             ],
             [
              0.6666666666666666,
              "#ed7953"
             ],
             [
              0.7777777777777778,
              "#fb9f3a"
             ],
             [
              0.8888888888888888,
              "#fdca26"
             ],
             [
              1,
              "#f0f921"
             ]
            ],
            "type": "contour"
           }
          ],
          "contourcarpet": [
           {
            "colorbar": {
             "outlinewidth": 0,
             "ticks": ""
            },
            "type": "contourcarpet"
           }
          ],
          "heatmap": [
           {
            "colorbar": {
             "outlinewidth": 0,
             "ticks": ""
            },
            "colorscale": [
             [
              0,
              "#0d0887"
             ],
             [
              0.1111111111111111,
              "#46039f"
             ],
             [
              0.2222222222222222,
              "#7201a8"
             ],
             [
              0.3333333333333333,
              "#9c179e"
             ],
             [
              0.4444444444444444,
              "#bd3786"
             ],
             [
              0.5555555555555556,
              "#d8576b"
             ],
             [
              0.6666666666666666,
              "#ed7953"
             ],
             [
              0.7777777777777778,
              "#fb9f3a"
             ],
             [
              0.8888888888888888,
              "#fdca26"
             ],
             [
              1,
              "#f0f921"
             ]
            ],
            "type": "heatmap"
           }
          ],
          "heatmapgl": [
           {
            "colorbar": {
             "outlinewidth": 0,
             "ticks": ""
            },
            "colorscale": [
             [
              0,
              "#0d0887"
             ],
             [
              0.1111111111111111,
              "#46039f"
             ],
             [
              0.2222222222222222,
              "#7201a8"
             ],
             [
              0.3333333333333333,
              "#9c179e"
             ],
             [
              0.4444444444444444,
              "#bd3786"
             ],
             [
              0.5555555555555556,
              "#d8576b"
             ],
             [
              0.6666666666666666,
              "#ed7953"
             ],
             [
              0.7777777777777778,
              "#fb9f3a"
             ],
             [
              0.8888888888888888,
              "#fdca26"
             ],
             [
              1,
              "#f0f921"
             ]
            ],
            "type": "heatmapgl"
           }
          ],
          "histogram": [
           {
            "marker": {
             "colorbar": {
              "outlinewidth": 0,
              "ticks": ""
             }
            },
            "type": "histogram"
           }
          ],
          "histogram2d": [
           {
            "colorbar": {
             "outlinewidth": 0,
             "ticks": ""
            },
            "colorscale": [
             [
              0,
              "#0d0887"
             ],
             [
              0.1111111111111111,
              "#46039f"
             ],
             [
              0.2222222222222222,
              "#7201a8"
             ],
             [
              0.3333333333333333,
              "#9c179e"
             ],
             [
              0.4444444444444444,
              "#bd3786"
             ],
             [
              0.5555555555555556,
              "#d8576b"
             ],
             [
              0.6666666666666666,
              "#ed7953"
             ],
             [
              0.7777777777777778,
              "#fb9f3a"
             ],
             [
              0.8888888888888888,
              "#fdca26"
             ],
             [
              1,
              "#f0f921"
             ]
            ],
            "type": "histogram2d"
           }
          ],
          "histogram2dcontour": [
           {
            "colorbar": {
             "outlinewidth": 0,
             "ticks": ""
            },
            "colorscale": [
             [
              0,
              "#0d0887"
             ],
             [
              0.1111111111111111,
              "#46039f"
             ],
             [
              0.2222222222222222,
              "#7201a8"
             ],
             [
              0.3333333333333333,
              "#9c179e"
             ],
             [
              0.4444444444444444,
              "#bd3786"
             ],
             [
              0.5555555555555556,
              "#d8576b"
             ],
             [
              0.6666666666666666,
              "#ed7953"
             ],
             [
              0.7777777777777778,
              "#fb9f3a"
             ],
             [
              0.8888888888888888,
              "#fdca26"
             ],
             [
              1,
              "#f0f921"
             ]
            ],
            "type": "histogram2dcontour"
           }
          ],
          "mesh3d": [
           {
            "colorbar": {
             "outlinewidth": 0,
             "ticks": ""
            },
            "type": "mesh3d"
           }
          ],
          "parcoords": [
           {
            "line": {
             "colorbar": {
              "outlinewidth": 0,
              "ticks": ""
             }
            },
            "type": "parcoords"
           }
          ],
          "pie": [
           {
            "automargin": true,
            "type": "pie"
           }
          ],
          "scatter": [
           {
            "marker": {
             "colorbar": {
              "outlinewidth": 0,
              "ticks": ""
             }
            },
            "type": "scatter"
           }
          ],
          "scatter3d": [
           {
            "line": {
             "colorbar": {
              "outlinewidth": 0,
              "ticks": ""
             }
            },
            "marker": {
             "colorbar": {
              "outlinewidth": 0,
              "ticks": ""
             }
            },
            "type": "scatter3d"
           }
          ],
          "scattercarpet": [
           {
            "marker": {
             "colorbar": {
              "outlinewidth": 0,
              "ticks": ""
             }
            },
            "type": "scattercarpet"
           }
          ],
          "scattergeo": [
           {
            "marker": {
             "colorbar": {
              "outlinewidth": 0,
              "ticks": ""
             }
            },
            "type": "scattergeo"
           }
          ],
          "scattergl": [
           {
            "marker": {
             "colorbar": {
              "outlinewidth": 0,
              "ticks": ""
             }
            },
            "type": "scattergl"
           }
          ],
          "scattermapbox": [
           {
            "marker": {
             "colorbar": {
              "outlinewidth": 0,
              "ticks": ""
             }
            },
            "type": "scattermapbox"
           }
          ],
          "scatterpolar": [
           {
            "marker": {
             "colorbar": {
              "outlinewidth": 0,
              "ticks": ""
             }
            },
            "type": "scatterpolar"
           }
          ],
          "scatterpolargl": [
           {
            "marker": {
             "colorbar": {
              "outlinewidth": 0,
              "ticks": ""
             }
            },
            "type": "scatterpolargl"
           }
          ],
          "scatterternary": [
           {
            "marker": {
             "colorbar": {
              "outlinewidth": 0,
              "ticks": ""
             }
            },
            "type": "scatterternary"
           }
          ],
          "surface": [
           {
            "colorbar": {
             "outlinewidth": 0,
             "ticks": ""
            },
            "colorscale": [
             [
              0,
              "#0d0887"
             ],
             [
              0.1111111111111111,
              "#46039f"
             ],
             [
              0.2222222222222222,
              "#7201a8"
             ],
             [
              0.3333333333333333,
              "#9c179e"
             ],
             [
              0.4444444444444444,
              "#bd3786"
             ],
             [
              0.5555555555555556,
              "#d8576b"
             ],
             [
              0.6666666666666666,
              "#ed7953"
             ],
             [
              0.7777777777777778,
              "#fb9f3a"
             ],
             [
              0.8888888888888888,
              "#fdca26"
             ],
             [
              1,
              "#f0f921"
             ]
            ],
            "type": "surface"
           }
          ],
          "table": [
           {
            "cells": {
             "fill": {
              "color": "#EBF0F8"
             },
             "line": {
              "color": "white"
             }
            },
            "header": {
             "fill": {
              "color": "#C8D4E3"
             },
             "line": {
              "color": "white"
             }
            },
            "type": "table"
           }
          ]
         },
         "layout": {
          "annotationdefaults": {
           "arrowcolor": "#2a3f5f",
           "arrowhead": 0,
           "arrowwidth": 1
          },
          "autotypenumbers": "strict",
          "coloraxis": {
           "colorbar": {
            "outlinewidth": 0,
            "ticks": ""
           }
          },
          "colorscale": {
           "diverging": [
            [
             0,
             "#8e0152"
            ],
            [
             0.1,
             "#c51b7d"
            ],
            [
             0.2,
             "#de77ae"
            ],
            [
             0.3,
             "#f1b6da"
            ],
            [
             0.4,
             "#fde0ef"
            ],
            [
             0.5,
             "#f7f7f7"
            ],
            [
             0.6,
             "#e6f5d0"
            ],
            [
             0.7,
             "#b8e186"
            ],
            [
             0.8,
             "#7fbc41"
            ],
            [
             0.9,
             "#4d9221"
            ],
            [
             1,
             "#276419"
            ]
           ],
           "sequential": [
            [
             0,
             "#0d0887"
            ],
            [
             0.1111111111111111,
             "#46039f"
            ],
            [
             0.2222222222222222,
             "#7201a8"
            ],
            [
             0.3333333333333333,
             "#9c179e"
            ],
            [
             0.4444444444444444,
             "#bd3786"
            ],
            [
             0.5555555555555556,
             "#d8576b"
            ],
            [
             0.6666666666666666,
             "#ed7953"
            ],
            [
             0.7777777777777778,
             "#fb9f3a"
            ],
            [
             0.8888888888888888,
             "#fdca26"
            ],
            [
             1,
             "#f0f921"
            ]
           ],
           "sequentialminus": [
            [
             0,
             "#0d0887"
            ],
            [
             0.1111111111111111,
             "#46039f"
            ],
            [
             0.2222222222222222,
             "#7201a8"
            ],
            [
             0.3333333333333333,
             "#9c179e"
            ],
            [
             0.4444444444444444,
             "#bd3786"
            ],
            [
             0.5555555555555556,
             "#d8576b"
            ],
            [
             0.6666666666666666,
             "#ed7953"
            ],
            [
             0.7777777777777778,
             "#fb9f3a"
            ],
            [
             0.8888888888888888,
             "#fdca26"
            ],
            [
             1,
             "#f0f921"
            ]
           ]
          },
          "colorway": [
           "#636efa",
           "#EF553B",
           "#00cc96",
           "#ab63fa",
           "#FFA15A",
           "#19d3f3",
           "#FF6692",
           "#B6E880",
           "#FF97FF",
           "#FECB52"
          ],
          "font": {
           "color": "#2a3f5f"
          },
          "geo": {
           "bgcolor": "white",
           "lakecolor": "white",
           "landcolor": "#E5ECF6",
           "showlakes": true,
           "showland": true,
           "subunitcolor": "white"
          },
          "hoverlabel": {
           "align": "left"
          },
          "hovermode": "closest",
          "mapbox": {
           "style": "light"
          },
          "paper_bgcolor": "white",
          "plot_bgcolor": "#E5ECF6",
          "polar": {
           "angularaxis": {
            "gridcolor": "white",
            "linecolor": "white",
            "ticks": ""
           },
           "bgcolor": "#E5ECF6",
           "radialaxis": {
            "gridcolor": "white",
            "linecolor": "white",
            "ticks": ""
           }
          },
          "scene": {
           "xaxis": {
            "backgroundcolor": "#E5ECF6",
            "gridcolor": "white",
            "gridwidth": 2,
            "linecolor": "white",
            "showbackground": true,
            "ticks": "",
            "zerolinecolor": "white"
           },
           "yaxis": {
            "backgroundcolor": "#E5ECF6",
            "gridcolor": "white",
            "gridwidth": 2,
            "linecolor": "white",
            "showbackground": true,
            "ticks": "",
            "zerolinecolor": "white"
           },
           "zaxis": {
            "backgroundcolor": "#E5ECF6",
            "gridcolor": "white",
            "gridwidth": 2,
            "linecolor": "white",
            "showbackground": true,
            "ticks": "",
            "zerolinecolor": "white"
           }
          },
          "shapedefaults": {
           "line": {
            "color": "#2a3f5f"
           }
          },
          "ternary": {
           "aaxis": {
            "gridcolor": "white",
            "linecolor": "white",
            "ticks": ""
           },
           "baxis": {
            "gridcolor": "white",
            "linecolor": "white",
            "ticks": ""
           },
           "bgcolor": "#E5ECF6",
           "caxis": {
            "gridcolor": "white",
            "linecolor": "white",
            "ticks": ""
           }
          },
          "title": {
           "x": 0.05
          },
          "xaxis": {
           "automargin": true,
           "gridcolor": "white",
           "linecolor": "white",
           "ticks": "",
           "title": {
            "standoff": 15
           },
           "zerolinecolor": "white",
           "zerolinewidth": 2
          },
          "yaxis": {
           "automargin": true,
           "gridcolor": "white",
           "linecolor": "white",
           "ticks": "",
           "title": {
            "standoff": 15
           },
           "zerolinecolor": "white",
           "zerolinewidth": 2
          }
         }
        },
        "title": {
         "text": "Distribution of Compound Sentiment Analysis Score for User Ratings"
        },
        "xaxis": {
         "anchor": "y",
         "domain": [
          0,
          1
         ],
         "nticks": 11,
         "showticklabels": true,
         "title": {
          "text": "User Rating"
         }
        },
        "yaxis": {
         "anchor": "x",
         "domain": [
          0,
          1
         ],
         "linecolor": "black",
         "nticks": 12,
         "showgrid": true,
         "showline": true,
         "showticklabels": true,
         "ticks": "inside",
         "title": {
          "text": "Compound SA Score"
         }
        }
       }
      },
      "text/html": [
       "<div>                            <div id=\"dbc14a25-8b21-4994-b1fb-1695aa352da9\" class=\"plotly-graph-div\" style=\"height:525px; width:100%;\"></div>            <script type=\"text/javascript\">                require([\"plotly\"], function(Plotly) {                    window.PLOTLYENV=window.PLOTLYENV || {};                                    if (document.getElementById(\"dbc14a25-8b21-4994-b1fb-1695aa352da9\")) {                    Plotly.newPlot(                        \"dbc14a25-8b21-4994-b1fb-1695aa352da9\",                        [{\"alignmentgroup\": \"True\", \"hovertemplate\": \"Evaluated_User_Rating=%{x}<br>Compound_Score=%{y}<extra></extra>\", \"legendgroup\": \"\", \"marker\": {\"color\": \"#636efa\"}, \"name\": \"\", \"notched\": false, \"offsetgroup\": \"\", \"orientation\": \"v\", \"showlegend\": false, \"type\": \"box\", \"x\": [0.9, null, 0.7, 0.6, 0.3, null, 0.7, 0.4, 0.1, 0.7, 1.0, null, null, 0.1, 1.0, 0.9, 0.1, 0.6, 0.2, 0.4, 0.1, 0.6, null, 0.9, null, 1.0, 1.0, 1.0, 0.6, 0.5, 1.0, 0.8, 0.3, 1.0, 1.0, 0.9, 1.0, 0.8, 0.9, 0.1, 0.7, null, null, null, 0.8, 1.0, 0.1, 0.6, 0.6, 0.7, 0.8, 0.9, null, 1.0, 0.7, null, 0.8, 0.5, 0.7, 0.6, 0.5, 0.4, 0.9, 1.0, null, 0.4, 1.0, 0.7, 0.7, 0.7, 0.8, 0.5, 1.0, 0.7, 0.6, 0.1, 0.5, 0.5, 1.0, 0.3, 0.8, 0.8, 0.8, 1.0, null, 0.8, null, 0.3, 0.6, 1.0, 0.1, 0.9, 0.6, null, 0.9, 1.0, 0.6, 1.0, null, 0.3, 0.7, 0.7, 0.8, 0.9, 1.0, 1.0, 0.4, 0.6, 0.9, 0.8, 0.2, 0.3, 0.8, 0.7, null, 0.1, null, 1.0, 0.8, 0.9, null, 0.5, 0.7, 0.9, 0.1, 0.5, 0.6, 0.1, 0.5, 0.6, 0.5, 0.7, 0.7, 0.6, 1.0, 0.7, 0.3, 0.8, 0.7, 0.4, 0.7, null, 0.1, 0.2, 0.9, 1.0, 0.8, 0.2, null, 0.9, 0.6, 0.1, 1.0, 0.2, 0.6, 0.7, 0.9, 0.8, null, null, 0.9, 0.2, 0.7, 0.5, 0.1, 0.9, 1.0, 0.6, 0.9, 0.7, 0.1, 0.9, null, 0.1, 1.0, 0.3, 0.8, 0.7, 1.0, 0.9, 0.1, 0.4, null, 0.7, 0.7, 0.7, null, 0.3, null, 0.7, 0.8, 0.9, 0.2, 1.0, 0.7, 0.7, 0.1, 0.6, 0.5, 0.8, 1.0, 0.5, 0.7, 1.0, 1.0, 0.8, 0.8, 0.8, 0.9, 0.7, 0.7, 1.0, 0.9, 0.9, 1.0, 0.8, 0.8, 0.8, 0.2, 0.9, 0.8, 0.3, 0.7, 0.3, 1.0, 1.0, 0.7, null, 0.7, 0.9, 0.7, 0.9, null, 0.3, 0.3, 0.7, 1.0, 0.2, 0.8, 1.0, 0.6, 0.6, null, 1.0, 1.0, 0.5, 0.9, 0.1, 0.7, 0.8, 1.0, 0.9, 0.8, 0.7, 0.6, null, 1.0, 1.0, 0.6, null, 0.1, 0.7, 0.6, 0.8, 1.0, 0.5, 0.4, 0.8, 0.6, 1.0, 0.9, 0.3, null, 0.8, 0.2, 0.7, 0.1, 0.1, 1.0, 0.7, 0.8, null, 0.9, 0.5, 0.6, 0.7, 0.8, 0.9, 0.5, null, 0.8, 0.3, 1.0, 0.5, 0.6, 1.0, 1.0, 1.0, 0.5, 0.6, 0.5, 0.7, 0.7, 0.7, 0.8, 1.0, 0.9, 0.1, 0.5, 0.6, 0.6, 0.7, 1.0, 1.0, 1.0, 0.8, 1.0, 0.7, 0.8, 1.0, 0.8, 0.8, 1.0, 0.9, 0.7, 0.2, 0.1, 0.8, 0.3, 0.8, null, 0.6, 0.3, 0.2, 0.1, 0.5, 0.6, 0.5, 0.8, null, 0.5, 0.9, null, 0.5, 0.7, 1.0, 0.4, 1.0, 0.7, 0.4, 0.7, 1.0, 0.9, 1.0, 0.7, 0.9, 0.1, 0.1, 0.7, 0.8, 1.0, 1.0, 0.7, 0.5, 0.6, 0.9, 0.5, 1.0, 0.3, 0.8, 0.7, 0.9, 0.7, 0.7, 0.8, 0.6, null, 0.8, 1.0, 0.8, 0.5, 0.5, 0.9, 0.3, 0.9, 0.8, 0.9, null, 0.8, null, 1.0, 0.4, 0.7, 0.8, 0.2, 1.0, 0.8, 0.9, 0.9, 0.8, null, 0.1, 1.0, 0.7, 1.0, 0.5, 1.0, 0.8, null, 0.1, 0.9, 0.7, 0.6, 1.0, 0.8, 0.6, 0.8, 0.8, 1.0, 1.0, 0.7, 0.8, 1.0, 0.8, 0.8, 0.8, 0.7, null, 0.6, 0.1, 0.6, 0.1, 0.8, 0.7, 0.6, 0.4, 0.9, 0.5, 0.9, 0.7, 0.3, 0.6, 0.5, null, 0.4, 0.7, 0.9, null, 0.9, 0.1, 0.2, 0.8, null, 0.9, 0.9, null, 0.9, 0.6, null, 0.1, 1.0, 0.6, 0.4, 0.2, 0.8, 0.8, 0.7, 0.7, 1.0, 0.8, 0.5, 0.5, 0.8, 0.7, 0.4, 0.1, 0.3, 0.7, 0.7, 1.0, 0.4, 0.4, 0.1, null, 0.9, 1.0, null, null, 1.0, 0.4, 0.1, 0.6, 0.1, 0.2, 1.0, 0.8, 1.0, null, 0.7, 0.8, 0.8, 0.7, 0.7, null, 0.8, 0.9, 0.6, 0.9, 1.0, 0.5, 0.4, 1.0, 0.7, 0.8, 0.6, 1.0, 0.7, 0.8, 0.8, 0.7, 0.8, 0.8, 0.3, 0.9, 0.6, 0.6, 0.7, 0.5, 0.6, 0.7, 1.0, 1.0, 0.9, 0.7, 0.1, 0.9, 1.0, 0.5, 0.9, 0.1, 0.1, null, 0.8, null, 0.8, 1.0, 0.7, 0.7, 0.8, 0.8, 0.6, 1.0, 0.3, null, 0.9, 0.9, 0.7, 0.6, 0.8, 0.9, 0.6, 0.5, 0.8, 0.1, 1.0, 0.5, 0.5, 1.0, 0.9, 1.0, 0.1, 0.6, 0.6, 0.4, 0.3, 0.5, 0.6, 0.9, 0.7, 0.7, 0.6, 1.0, 0.5, 1.0, 0.5, 1.0, 0.6, 0.7, null, 0.8, 0.9, 0.8, 0.3, null, 0.1, 0.1, null, 0.3, 0.7, 0.3, 0.7, 0.7, 1.0, 0.7, 0.6, 0.7, 0.8, 0.9, null, 1.0, 0.6, null, 0.8, 0.8, 0.8, 0.9, 0.9, 1.0, 0.9, 1.0, 1.0, null, 0.2, 0.1, 0.9, 0.1, 0.6, 0.8, 0.6, 0.8, 0.8, 0.9, 0.9, 0.2, 0.9, 0.5, 0.7, 0.1, 0.9, 0.9, null, 0.1, 0.4, 0.5, 0.1, 0.9, 1.0, 1.0, 0.3, 0.8, 0.6, 0.8, 0.5, 0.4, 0.7, 0.7, 0.9, 0.4, 0.7, 0.8, 0.5, 0.1, 0.6, 0.8, 1.0, 0.9, null, 0.4, 1.0, 0.4, 0.1, 0.8, null, 0.9, 0.6, null, 0.6, 0.6, 0.1, 0.8, 0.6, 0.7, 0.7, 0.1, 0.1, 0.9, 0.9, 0.7, 0.7, 0.1, 0.7, null, 0.7, 1.0, 1.0, 0.9, 1.0, 0.4, 0.3, 0.2, 0.4, 0.2, null, 1.0, 0.1, 1.0, 0.5, 0.7, 1.0, 0.9, null, 0.1, null, 0.2, 0.6, 1.0, 0.6, 1.0, 0.9, null, 1.0, 0.6, 1.0, 0.1, 0.9, null, 0.3, 0.8, 0.6, 1.0, 0.8, 0.3, 0.1, 0.8, 0.7, 0.9, 1.0, 1.0, 1.0, 0.5, 0.8, 0.7, 0.1, 1.0, 1.0, 0.4, 0.4, 0.3, 1.0, 1.0, 0.6, 0.7, 0.9, 0.8, 0.4, 1.0, null, 0.5, 1.0, 0.8, 0.6, 0.4, 0.4, 1.0, 1.0, 1.0, 0.7, 1.0, 0.6, 0.8, 0.9, 0.9, 0.3, 1.0, 0.4, 0.9, 1.0, 1.0, 1.0, 0.7, 0.8, null, 0.7, 0.9, 1.0, 0.9, 0.6, 0.1, 0.5, 0.1, 0.7, 0.8, 1.0, 0.1, 0.1, 0.9, 0.9, 0.7, 0.6, 0.1], \"x0\": \" \", \"xaxis\": \"x\", \"y\": [0.7351, -0.9967, 0.9948, 0.9872, -0.6808, 0.9642, 0.5267, 0.9954, -0.8522, -0.9178, 0.9979, 0.4572, -0.8904, 0.6369, -0.9555, 0.9802, -0.0772, 0.8897, -0.907, -0.1263, -0.9806, 0.9904, -0.7595, 0.9894, -0.4867, 0.9523, 0.9562, 0.7383, 0.9672, -0.8471, 0.9054, -0.5789, -0.9807, 0.6169, 0.9964, 0.638, 0.511, 0.8949, -0.4026, -0.1897, 0.9423, 0.9742, 0.993, 0.9919, 0.8092, -0.7159, -0.046, 0.7193, -0.3536, -0.1035, 0.9938, 0.4588, 0.8924, 0.9714, 0.9923, -0.4854, 0.9217, -0.9902, 0.9644, 0.9842, -0.8526, 0.9279, 0.9328, 0.8905, -0.8537, 0.4921, 0.9894, 0.9556, 0.9912, 0.9442, 0.8074, -0.1638, 0.9984, 0.982, -0.971, -0.949, 0.9837, 0.9353, -0.3701, -0.8338, 0.5106, 0.9598, 0.5642, 0.9709, 0.9696, -0.6427, -0.9531, -0.4522, 0.4971, 0.6987, -0.814, 0.9712, 0.9489, -0.9641, 0.4404, 0.9421, 0.9599, 0.9763, -0.9922, -0.9418, 0.9937, -0.6575, 0.9961, 0.9987, 0.975, 0.3716, 0.9014, -0.9327, 0.9997, 0.9956, 0.7867, 0.128, 0.9993, -0.6801, -0.7935, 0.5499, 0.9969, 0.991, 0.945, -0.8991, 0.9957, -0.9814, 0.4473, 0.9617, -0.5994, 0.9959, 0.0757, 0.2143, 0.9272, 0.9985, 0.9966, -0.8638, 0.7351, 0.9455, 0.9509, 0.9253, 0.8985, 0.952, -0.4872, 0.9293, 0.9859, 0.9033, -0.2717, -0.9339, 0.9823, 0.9702, 0.9846, -0.9823, 0.9924, 0.9797, 0.9143, -0.8555, 0.5253, 0.8958, 0.9598, 0.9586, 0.9696, 0.5481, 0.9507, -0.5893, 0.9294, -0.9746, 0.2732, -0.2732, -0.6898, -0.9455, -0.1813, 0.9084, 0.5823, 0.7782, -0.2037, 0.9894, 0.2748, -0.6948, -0.8667, -0.3933, -0.7501, 0.8675, -0.0446, 0.9909, -0.9131, 0.95, 0.9273, 0.9132, 0.9815, 0.9569, -0.9817, -0.9578, -0.9589, 0.4588, 0.9542, 0.9061, -0.0396, -0.831, 0.8228, 0.9658, -0.3213, 0.9908, 0.8294, 0.9654, 0.9397, 0.9982, 0.9989, 0.9971, 0.9966, -0.3818, 0.9985, 0.9603, 0.7115, 0.9567, 0.9943, 0.9963, 0.5806, 0.8591, 0.9954, 0.9605, 0.9987, 0.6115, -0.4767, -0.9324, 0.9825, 0.9235, 0.939, -0.6249, 0.0, 0.5719, 0.9397, 0.5666, 0.9906, 0.4588, 0.9866, 0.9803, 0.909, 0.6524, -0.1263, 0.8844, 0.9961, -0.9712, 0.99, -0.6436, 0.9963, 0.5403, -0.4444, 0.8995, 0.8074, 0.9174, 0.8389, -0.5727, 0.9947, 0.9518, 0.9517, 0.9001, 0.9901, 0.0115, 0.4497, 0.7155, 0.5826, -0.5606, 0.9538, 0.9521, 0.7096, 0.9913, 0.7996, -0.8381, 0.9957, 0.7269, 0.2064, 0.9973, 0.982, 0.9822, 0.9956, 0.9723, -0.7893, -0.9667, 0.8941, 0.8705, -0.9899, -0.8894, 0.9915, -0.1027, 0.9964, 0.8625, 0.9601, 0.9944, 0.9875, -0.3029, 0.648, 0.9986, -0.9192, 0.9417, 0.981, 0.0, 0.8751, 0.4404, 0.4927, 0.9922, -0.8941, 0.807, 0.7748, 0.7845, 0.8142, 0.6003, 0.4404, 0.9647, -0.9953, 0.995, 0.9814, -0.9203, 0.9022, 0.852, 0.843, -0.9301, 0.9303, 0.7096, 0.9531, 0.9989, 0.9411, 0.7788, -0.9822, 0.4707, 0.9785, 0.9944, 0.7134, 0.6239, 0.9458, -0.6705, 0.9658, 0.9944, -0.5659, 0.9617, 0.0891, -0.9909, 0.0, 0.1779, -0.7096, 0.3182, 0.9699, -0.9159, 0.8448, -0.9925, -0.5664, 0.4931, -0.8454, -0.7238, 0.8883, 0.9922, -0.0737, 0.8439, 0.9147, -0.6956, -0.5266, 0.3535, 0.9483, 0.7906, -0.8537, 0.9341, -0.9439, 0.6188, 0.2415, 0.9939, 0.993, 0.891, 0.9951, 0.9472, 0.2724, 0.8821, 0.9903, 0.9945, 0.7976, 0.991, 0.9933, 0.9623, 0.9639, 0.987, 0.9927, 0.9932, 0.9064, 0.9904, 0.7026, -0.868, -0.743, 0.5719, 0.1505, 0.5994, 0.3182, -0.9682, 0.8891, 0.8115, 0.555, 0.9527, 0.9885, 0.9701, 0.9833, -0.7906, 0.2263, 0.9923, -0.734, 0.4927, 0.9976, 0.2691, 0.827, 0.4404, 0.9313, 0.9598, 0.9042, 0.9688, 0.8979, -0.962, -0.0516, -0.5839, 0.8591, 0.9952, 0.768, 0.8962, 0.6808, 0.9091, 0.8925, -0.5719, 0.8707, 0.1154, 0.9978, 0.9442, 0.9167, 0.8071, 0.9933, 0.9737, 0.3071, 0.9533, 0.7719, -0.9634, -0.9394, -0.9415, 0.9952, 0.9873, 0.9849, 0.7493, -0.9556, 0.9957, 0.9767, 0.9977, 0.8402, 0.7154, -0.1787, -0.319, 0.4754, 0.9934, 0.7712, 0.7601, 0.8999, -0.9559, -0.9071, 0.9802, -0.1306, 0.9965, 0.9135, 0.9882, 0.926, 0.2563, 0.9707, -0.7623, 0.854, 0.9888, -0.9017, -0.926, 0.6212, 0.9974, 0.1779, 0.9956, 0.9093, 0.9286, -0.9033, -0.9432, 0.8471, 0.9853, -0.3071, 0.9792, 0.9413, 0.9765, 0.9515, 0.7339, 0.6486, 0.4121, -0.5267, -0.9741, 0.5645, 0.8979, 0.9844, -0.6801, 0.9747, -0.6486, -0.4359, 0.9753, 0.3674, -0.4497, 0.1406, 0.9985, 0.9985, 0.024, -0.2247, 0.9894, 0.8423, 0.6098, 0.6476, 0.9802, 0.6369, 0.9089, 0.9972, 0.9621, 0.9948, 0.9828, 0.9193, 0.85, 0.9936, -0.9197, 0.9788, 0.9836, 0.9989, -0.2541, 0.9873, 0.9153, 0.9891, 0.9331, -0.9934, 0.3514, -0.6574, 0.9814, 0.8689, 0.9854, 0.9813, 0.9689, 0.9881, -0.1759, -0.3797, -0.765, -0.9379, 0.8179, 0.0772, -0.9305, 0.8883, -0.7402, -0.2243, 0.8794, 0.8989, 0.9977, 0.0892, 0.9716, -0.9239, 0.9861, 0.1541, 0.9965, 0.6862, 0.9571, 0.8331, 0.7255, -0.8362, 0.9968, 0.416, 0.984, 0.9829, 0.9769, 0.8389, 0.5383, 0.9981, -0.891, -0.5267, -0.739, 0.966, 0.9896, 0.9735, -0.2888, 0.3612, 0.9913, 0.9537, 0.683, 0.9427, 0.7269, 0.9919, -0.9227, 0.9907, 0.9933, 0.811, 0.1388, 0.943, 0.7096, -0.4388, 0.967, -0.9553, 0.7103, 0.9993, -0.0516, 0.9356, -0.3919, -0.34, 0.2023, -0.4404, 0.935, 0.5789, -0.8118, 0.9274, -0.1689, 0.9736, 0.7986, -0.1144, 0.9379, 0.9855, 0.9956, -0.2144, 0.936, 0.9841, 0.9831, 0.8281, -0.3839, 0.1869, 0.9201, 0.9945, 0.9319, -0.7717, 0.9914, 0.9953, 0.893, 0.96, 0.9761, -0.7981, -0.998, 0.7664, -0.7003, -0.8932, 0.9872, -0.3818, -0.1855, 0.9827, -0.9636, 0.9828, 0.5265, 0.6461, -0.5909, 0.914, 0.1779, -0.2908, 0.9952, -0.7687, -0.4926, -0.9441, 0.929, 0.3262, 0.6621, -0.0917, 0.9876, -0.6556, 0.9935, 0.9963, 0.9186, -0.9878, 0.9384, 0.9855, 0.8799, -0.844, -0.4982, 0.979, -0.3818, -0.9413, 0.9759, 0.9787, 0.9876, -0.4588, 0.9674, -0.9842, -0.8696, -0.9965, -0.0258, -0.9755, 0.9607, -0.8581, 0.8591, 0.9909, -0.8674, 0.9941, -0.9691, -0.3818, 0.995, -0.9954, 0.992, 0.2238, -0.6249, -0.5267, 0.9849, 0.9877, -0.4623, 0.9828, -0.9795, 0.9519, -0.4697, 0.3248, 0.5822, 0.6597, 0.9457, 0.9092, 0.2462, 0.588, -0.9791, 0.9325, 0.3539, -0.9929, 0.8869, -0.34, -0.7239, 0.2263, 0.9952, -0.9676, 0.9916, -0.9099, -0.966, 0.9978, 0.992, 0.9958, 0.9731, -0.3506, 0.815, 0.9506, -0.9713, -0.5994, 0.9885, 0.9509, 0.8505, 0.974, 0.9756, -0.24, 0.8811, -0.9468, 0.9607, 0.9846, 0.6449, -0.9673, 0.7837, 0.964, -0.25, 0.9261, 0.9509, -0.3612, 0.991, 0.9802, 0.9718, 0.212, 0.4927, 0.9728, -0.578, 0.8115, 0.7003, 0.6896, 0.8064, -0.4588, 0.8625, 0.9783, 0.9772, -0.9835, -0.7976, 0.9986, 0.9666, 0.9868, 0.5868, -0.9749, 0.971, -0.9569, 0.4404, 0.9651, 0.9944, -0.9838, 0.9972, 0.9383, 0.9715, 0.9667, 0.128, -0.1219, 0.9403, -0.427, 0.9953, 0.8245, -0.6705, 0.9967, 0.9841, 0.8643, -0.9965, -0.8316, 0.9957, 0.9942, 0.9596, -0.2023, 0.0, -0.8271, 0.8365, 0.8419, -0.9825, 0.9778, -0.2023, -0.0772, 0.8011, 0.9661, 0.9938, 0.9919, -0.454], \"y0\": \" \", \"yaxis\": \"y\"}],                        {\"boxmode\": \"group\", \"legend\": {\"tracegroupgap\": 0}, \"template\": {\"data\": {\"bar\": [{\"error_x\": {\"color\": \"#2a3f5f\"}, \"error_y\": {\"color\": \"#2a3f5f\"}, \"marker\": {\"line\": {\"color\": \"#E5ECF6\", \"width\": 0.5}}, \"type\": \"bar\"}], \"barpolar\": [{\"marker\": {\"line\": {\"color\": \"#E5ECF6\", \"width\": 0.5}}, \"type\": \"barpolar\"}], \"carpet\": [{\"aaxis\": {\"endlinecolor\": \"#2a3f5f\", \"gridcolor\": \"white\", \"linecolor\": \"white\", \"minorgridcolor\": \"white\", \"startlinecolor\": \"#2a3f5f\"}, \"baxis\": {\"endlinecolor\": \"#2a3f5f\", \"gridcolor\": \"white\", \"linecolor\": \"white\", \"minorgridcolor\": \"white\", \"startlinecolor\": \"#2a3f5f\"}, \"type\": \"carpet\"}], \"choropleth\": [{\"colorbar\": {\"outlinewidth\": 0, \"ticks\": \"\"}, \"type\": \"choropleth\"}], \"contour\": [{\"colorbar\": {\"outlinewidth\": 0, \"ticks\": \"\"}, \"colorscale\": [[0.0, \"#0d0887\"], [0.1111111111111111, \"#46039f\"], [0.2222222222222222, \"#7201a8\"], [0.3333333333333333, \"#9c179e\"], [0.4444444444444444, \"#bd3786\"], [0.5555555555555556, \"#d8576b\"], [0.6666666666666666, \"#ed7953\"], [0.7777777777777778, \"#fb9f3a\"], [0.8888888888888888, \"#fdca26\"], [1.0, \"#f0f921\"]], \"type\": \"contour\"}], \"contourcarpet\": [{\"colorbar\": {\"outlinewidth\": 0, \"ticks\": \"\"}, \"type\": \"contourcarpet\"}], \"heatmap\": [{\"colorbar\": {\"outlinewidth\": 0, \"ticks\": \"\"}, \"colorscale\": [[0.0, \"#0d0887\"], [0.1111111111111111, \"#46039f\"], [0.2222222222222222, \"#7201a8\"], [0.3333333333333333, \"#9c179e\"], [0.4444444444444444, \"#bd3786\"], [0.5555555555555556, \"#d8576b\"], [0.6666666666666666, \"#ed7953\"], [0.7777777777777778, \"#fb9f3a\"], [0.8888888888888888, \"#fdca26\"], [1.0, \"#f0f921\"]], \"type\": \"heatmap\"}], \"heatmapgl\": [{\"colorbar\": {\"outlinewidth\": 0, \"ticks\": \"\"}, \"colorscale\": [[0.0, \"#0d0887\"], [0.1111111111111111, \"#46039f\"], [0.2222222222222222, \"#7201a8\"], [0.3333333333333333, \"#9c179e\"], [0.4444444444444444, \"#bd3786\"], [0.5555555555555556, \"#d8576b\"], [0.6666666666666666, \"#ed7953\"], [0.7777777777777778, \"#fb9f3a\"], [0.8888888888888888, \"#fdca26\"], [1.0, \"#f0f921\"]], \"type\": \"heatmapgl\"}], \"histogram\": [{\"marker\": {\"colorbar\": {\"outlinewidth\": 0, \"ticks\": \"\"}}, \"type\": \"histogram\"}], \"histogram2d\": [{\"colorbar\": {\"outlinewidth\": 0, \"ticks\": \"\"}, \"colorscale\": [[0.0, \"#0d0887\"], [0.1111111111111111, \"#46039f\"], [0.2222222222222222, \"#7201a8\"], [0.3333333333333333, \"#9c179e\"], [0.4444444444444444, \"#bd3786\"], [0.5555555555555556, \"#d8576b\"], [0.6666666666666666, \"#ed7953\"], [0.7777777777777778, \"#fb9f3a\"], [0.8888888888888888, \"#fdca26\"], [1.0, \"#f0f921\"]], \"type\": \"histogram2d\"}], \"histogram2dcontour\": [{\"colorbar\": {\"outlinewidth\": 0, \"ticks\": \"\"}, \"colorscale\": [[0.0, \"#0d0887\"], [0.1111111111111111, \"#46039f\"], [0.2222222222222222, \"#7201a8\"], [0.3333333333333333, \"#9c179e\"], [0.4444444444444444, \"#bd3786\"], [0.5555555555555556, \"#d8576b\"], [0.6666666666666666, \"#ed7953\"], [0.7777777777777778, \"#fb9f3a\"], [0.8888888888888888, \"#fdca26\"], [1.0, \"#f0f921\"]], \"type\": \"histogram2dcontour\"}], \"mesh3d\": [{\"colorbar\": {\"outlinewidth\": 0, \"ticks\": \"\"}, \"type\": \"mesh3d\"}], \"parcoords\": [{\"line\": {\"colorbar\": {\"outlinewidth\": 0, \"ticks\": \"\"}}, \"type\": \"parcoords\"}], \"pie\": [{\"automargin\": true, \"type\": \"pie\"}], \"scatter\": [{\"marker\": {\"colorbar\": {\"outlinewidth\": 0, \"ticks\": \"\"}}, \"type\": \"scatter\"}], \"scatter3d\": [{\"line\": {\"colorbar\": {\"outlinewidth\": 0, \"ticks\": \"\"}}, \"marker\": {\"colorbar\": {\"outlinewidth\": 0, \"ticks\": \"\"}}, \"type\": \"scatter3d\"}], \"scattercarpet\": [{\"marker\": {\"colorbar\": {\"outlinewidth\": 0, \"ticks\": \"\"}}, \"type\": \"scattercarpet\"}], \"scattergeo\": [{\"marker\": {\"colorbar\": {\"outlinewidth\": 0, \"ticks\": \"\"}}, \"type\": \"scattergeo\"}], \"scattergl\": [{\"marker\": {\"colorbar\": {\"outlinewidth\": 0, \"ticks\": \"\"}}, \"type\": \"scattergl\"}], \"scattermapbox\": [{\"marker\": {\"colorbar\": {\"outlinewidth\": 0, \"ticks\": \"\"}}, \"type\": \"scattermapbox\"}], \"scatterpolar\": [{\"marker\": {\"colorbar\": {\"outlinewidth\": 0, \"ticks\": \"\"}}, \"type\": \"scatterpolar\"}], \"scatterpolargl\": [{\"marker\": {\"colorbar\": {\"outlinewidth\": 0, \"ticks\": \"\"}}, \"type\": \"scatterpolargl\"}], \"scatterternary\": [{\"marker\": {\"colorbar\": {\"outlinewidth\": 0, \"ticks\": \"\"}}, \"type\": \"scatterternary\"}], \"surface\": [{\"colorbar\": {\"outlinewidth\": 0, \"ticks\": \"\"}, \"colorscale\": [[0.0, \"#0d0887\"], [0.1111111111111111, \"#46039f\"], [0.2222222222222222, \"#7201a8\"], [0.3333333333333333, \"#9c179e\"], [0.4444444444444444, \"#bd3786\"], [0.5555555555555556, \"#d8576b\"], [0.6666666666666666, \"#ed7953\"], [0.7777777777777778, \"#fb9f3a\"], [0.8888888888888888, \"#fdca26\"], [1.0, \"#f0f921\"]], \"type\": \"surface\"}], \"table\": [{\"cells\": {\"fill\": {\"color\": \"#EBF0F8\"}, \"line\": {\"color\": \"white\"}}, \"header\": {\"fill\": {\"color\": \"#C8D4E3\"}, \"line\": {\"color\": \"white\"}}, \"type\": \"table\"}]}, \"layout\": {\"annotationdefaults\": {\"arrowcolor\": \"#2a3f5f\", \"arrowhead\": 0, \"arrowwidth\": 1}, \"autotypenumbers\": \"strict\", \"coloraxis\": {\"colorbar\": {\"outlinewidth\": 0, \"ticks\": \"\"}}, \"colorscale\": {\"diverging\": [[0, \"#8e0152\"], [0.1, \"#c51b7d\"], [0.2, \"#de77ae\"], [0.3, \"#f1b6da\"], [0.4, \"#fde0ef\"], [0.5, \"#f7f7f7\"], [0.6, \"#e6f5d0\"], [0.7, \"#b8e186\"], [0.8, \"#7fbc41\"], [0.9, \"#4d9221\"], [1, \"#276419\"]], \"sequential\": [[0.0, \"#0d0887\"], [0.1111111111111111, \"#46039f\"], [0.2222222222222222, \"#7201a8\"], [0.3333333333333333, \"#9c179e\"], [0.4444444444444444, \"#bd3786\"], [0.5555555555555556, \"#d8576b\"], [0.6666666666666666, \"#ed7953\"], [0.7777777777777778, \"#fb9f3a\"], [0.8888888888888888, \"#fdca26\"], [1.0, \"#f0f921\"]], \"sequentialminus\": [[0.0, \"#0d0887\"], [0.1111111111111111, \"#46039f\"], [0.2222222222222222, \"#7201a8\"], [0.3333333333333333, \"#9c179e\"], [0.4444444444444444, \"#bd3786\"], [0.5555555555555556, \"#d8576b\"], [0.6666666666666666, \"#ed7953\"], [0.7777777777777778, \"#fb9f3a\"], [0.8888888888888888, \"#fdca26\"], [1.0, \"#f0f921\"]]}, \"colorway\": [\"#636efa\", \"#EF553B\", \"#00cc96\", \"#ab63fa\", \"#FFA15A\", \"#19d3f3\", \"#FF6692\", \"#B6E880\", \"#FF97FF\", \"#FECB52\"], \"font\": {\"color\": \"#2a3f5f\"}, \"geo\": {\"bgcolor\": \"white\", \"lakecolor\": \"white\", \"landcolor\": \"#E5ECF6\", \"showlakes\": true, \"showland\": true, \"subunitcolor\": \"white\"}, \"hoverlabel\": {\"align\": \"left\"}, \"hovermode\": \"closest\", \"mapbox\": {\"style\": \"light\"}, \"paper_bgcolor\": \"white\", \"plot_bgcolor\": \"#E5ECF6\", \"polar\": {\"angularaxis\": {\"gridcolor\": \"white\", \"linecolor\": \"white\", \"ticks\": \"\"}, \"bgcolor\": \"#E5ECF6\", \"radialaxis\": {\"gridcolor\": \"white\", \"linecolor\": \"white\", \"ticks\": \"\"}}, \"scene\": {\"xaxis\": {\"backgroundcolor\": \"#E5ECF6\", \"gridcolor\": \"white\", \"gridwidth\": 2, \"linecolor\": \"white\", \"showbackground\": true, \"ticks\": \"\", \"zerolinecolor\": \"white\"}, \"yaxis\": {\"backgroundcolor\": \"#E5ECF6\", \"gridcolor\": \"white\", \"gridwidth\": 2, \"linecolor\": \"white\", \"showbackground\": true, \"ticks\": \"\", \"zerolinecolor\": \"white\"}, \"zaxis\": {\"backgroundcolor\": \"#E5ECF6\", \"gridcolor\": \"white\", \"gridwidth\": 2, \"linecolor\": \"white\", \"showbackground\": true, \"ticks\": \"\", \"zerolinecolor\": \"white\"}}, \"shapedefaults\": {\"line\": {\"color\": \"#2a3f5f\"}}, \"ternary\": {\"aaxis\": {\"gridcolor\": \"white\", \"linecolor\": \"white\", \"ticks\": \"\"}, \"baxis\": {\"gridcolor\": \"white\", \"linecolor\": \"white\", \"ticks\": \"\"}, \"bgcolor\": \"#E5ECF6\", \"caxis\": {\"gridcolor\": \"white\", \"linecolor\": \"white\", \"ticks\": \"\"}}, \"title\": {\"x\": 0.05}, \"xaxis\": {\"automargin\": true, \"gridcolor\": \"white\", \"linecolor\": \"white\", \"ticks\": \"\", \"title\": {\"standoff\": 15}, \"zerolinecolor\": \"white\", \"zerolinewidth\": 2}, \"yaxis\": {\"automargin\": true, \"gridcolor\": \"white\", \"linecolor\": \"white\", \"ticks\": \"\", \"title\": {\"standoff\": 15}, \"zerolinecolor\": \"white\", \"zerolinewidth\": 2}}}, \"title\": {\"text\": \"Distribution of Compound Sentiment Analysis Score for User Ratings\"}, \"xaxis\": {\"anchor\": \"y\", \"domain\": [0.0, 1.0], \"nticks\": 11, \"showticklabels\": true, \"title\": {\"text\": \"User Rating\"}}, \"yaxis\": {\"anchor\": \"x\", \"domain\": [0.0, 1.0], \"linecolor\": \"black\", \"nticks\": 12, \"showgrid\": true, \"showline\": true, \"showticklabels\": true, \"ticks\": \"inside\", \"title\": {\"text\": \"Compound SA Score\"}}},                        {\"responsive\": true}                    ).then(function(){\n",
       "                            \n",
       "var gd = document.getElementById('dbc14a25-8b21-4994-b1fb-1695aa352da9');\n",
       "var x = new MutationObserver(function (mutations, observer) {{\n",
       "        var display = window.getComputedStyle(gd).display;\n",
       "        if (!display || display === 'none') {{\n",
       "            console.log([gd, 'removed!']);\n",
       "            Plotly.purge(gd);\n",
       "            observer.disconnect();\n",
       "        }}\n",
       "}});\n",
       "\n",
       "// Listen for the removal of the full notebook cells\n",
       "var notebookContainer = gd.closest('#notebook-container');\n",
       "if (notebookContainer) {{\n",
       "    x.observe(notebookContainer, {childList: true});\n",
       "}}\n",
       "\n",
       "// Listen for the clearing of the current output cell\n",
       "var outputEl = gd.closest('.output');\n",
       "if (outputEl) {{\n",
       "    x.observe(outputEl, {childList: true});\n",
       "}}\n",
       "\n",
       "                        })                };                });            </script>        </div>"
      ]
     },
     "metadata": {},
     "output_type": "display_data"
    },
    {
     "data": {
      "text/plain": [
       "'https://plotly.com/~StephCPalmer/15/'"
      ]
     },
     "execution_count": 187,
     "metadata": {},
     "output_type": "execute_result"
    }
   ],
   "source": [
    "fig3 = px.box(Score_sample,x='Evaluated_User_Rating',y='Compound_Score',\n",
    "              title='Distribution of Compound Sentiment Analysis Score for User Ratings')\n",
    "fig3.update_xaxes(showticklabels=True,nticks=11,title_text='User Rating')\n",
    "fig3.update_yaxes(showticklabels=True,nticks=12,ticks='inside',\n",
    "                  showline=True, linecolor='black',\n",
    "                  showgrid=True,title_text= 'Compound SA Score')\n",
    "fig3.show()\n",
    "py.plot(fig3, filename = 'Box dist of SA score per User ratings', auto_open=True)"
   ]
  },
  {
   "cell_type": "code",
   "execution_count": null,
   "metadata": {},
   "outputs": [],
   "source": []
  }
 ],
 "metadata": {
  "kernelspec": {
   "display_name": "Python 3",
   "language": "python",
   "name": "python3"
  },
  "language_info": {
   "codemirror_mode": {
    "name": "ipython",
    "version": 3
   },
   "file_extension": ".py",
   "mimetype": "text/x-python",
   "name": "python",
   "nbconvert_exporter": "python",
   "pygments_lexer": "ipython3",
   "version": "3.8.3"
  }
 },
 "nbformat": 4,
 "nbformat_minor": 4
}
